{
 "cells": [
  {
   "cell_type": "markdown",
   "metadata": {},
   "source": [
    "## CRF BIBM"
   ]
  },
  {
   "cell_type": "code",
   "execution_count": 1,
   "metadata": {
    "collapsed": false
   },
   "outputs": [
    {
     "name": "stderr",
     "output_type": "stream",
     "text": [
      "//anaconda/lib/python2.7/site-packages/sklearn/cross_validation.py:44: DeprecationWarning: This module was deprecated in version 0.18 in favor of the model_selection module into which all the refactored classes and functions are moved. Also note that the interface of the new CV iterators are different from that of this module. This module will be removed in 0.20.\n",
      "  \"This module will be removed in 0.20.\", DeprecationWarning)\n",
      "//anaconda/lib/python2.7/site-packages/gensim/utils.py:1015: UserWarning: Pattern library is not installed, lemmatization won't be available.\n",
      "  warnings.warn(\"Pattern library is not installed, lemmatization won't be available.\")\n"
     ]
    }
   ],
   "source": [
    "from crf import *\n",
    "from crf_support import compare_tags, filter_phrase\n",
    "\n",
    "from preproccess_data_bibm2011 import get_all_data, get_all_data_train, get_all_data_dev, get_all_data_test\n",
    "\n",
    "import os, time\n",
    "\n",
    "from features_generator import abstracts2features, sanity_check\n",
    "\n",
    "from gensim.models import Word2Vec"
   ]
  },
  {
   "cell_type": "code",
   "execution_count": 2,
   "metadata": {
    "collapsed": true
   },
   "outputs": [],
   "source": [
    "tag = 'P'\n",
    "eval_tags = [tag]"
   ]
  },
  {
   "cell_type": "markdown",
   "metadata": {},
   "source": [
    "Get data"
   ]
  },
  {
   "cell_type": "code",
   "execution_count": 3,
   "metadata": {
    "collapsed": true
   },
   "outputs": [],
   "source": [
    "def get_genia_tags(data_set):\n",
    "    switcher = {\n",
    "        'train': (0, 95),\n",
    "        'dev': (95, 122),\n",
    "        'test': (122, 135),\n",
    "        'all': (0, 135)\n",
    "    }\n",
    "    start, end = switcher[data_set]\n",
    "    \n",
    "    f = open('./bibm2011corpus-master/abstracts_2.txt', 'r')\n",
    "    abstract_list = f.readlines()\n",
    "    f.close()\n",
    "    abstract_list = [x.strip() for x in abstract_list]\n",
    "    final_list = abstract_list[start:end]\n",
    "    \n",
    "    genia_tags = []\n",
    "    \n",
    "    for abstract_path in final_list:\n",
    "        pickle_path = abstract_path[:-4] + '_genia.tag'\n",
    "        pickle_file = open(pickle_path, 'rb')\n",
    "        abstract_genia_tags = pickle.load(pickle_file)\n",
    "        \n",
    "        genia_tags.append(abstract_genia_tags)\n",
    "    return genia_tags"
   ]
  },
  {
   "cell_type": "code",
   "execution_count": 4,
   "metadata": {
    "collapsed": false
   },
   "outputs": [
    {
     "name": "stderr",
     "output_type": "stream",
     "text": [
      "//anaconda/lib/python2.7/site-packages/bs4/__init__.py:166: UserWarning: No parser was explicitly specified, so I'm using the best available HTML parser for this system (\"lxml\"). This usually isn't a problem, but if you run this code on another system, or in a different virtual environment, it may use a different parser and behave differently.\n",
      "\n",
      "To get rid of this warning, change this:\n",
      "\n",
      " BeautifulSoup([your markup])\n",
      "\n",
      "to this:\n",
      "\n",
      " BeautifulSoup([your markup], \"lxml\")\n",
      "\n",
      "  markup_type=markup_type))\n"
     ]
    }
   ],
   "source": [
    "# Get all data\n",
    "all_tokens, all_tags = get_all_data()\n",
    "all_genia_tags = get_genia_tags('all')"
   ]
  },
  {
   "cell_type": "markdown",
   "metadata": {},
   "source": [
    "Compute features"
   ]
  },
  {
   "cell_type": "code",
   "execution_count": null,
   "metadata": {
    "collapsed": false
   },
   "outputs": [],
   "source": [
    "pubmed_w2v_name = 'PubMed-w2v.bin'\n",
    "pubmed_w2v = Word2Vec.load_word2vec_format(pubmed_w2v_name, binary=True)"
   ]
  },
  {
   "cell_type": "code",
   "execution_count": 5,
   "metadata": {
    "collapsed": false
   },
   "outputs": [],
   "source": [
    "pubmed_wiki_w2v_name = 'wikipedia-pubmed-and-PMC-w2v.bin'\n",
    "pubmed_wiki_w2v = Word2Vec.load_word2vec_format(pubmed_wiki_w2v_name, binary=True)"
   ]
  },
  {
   "cell_type": "code",
   "execution_count": 6,
   "metadata": {
    "collapsed": false
   },
   "outputs": [],
   "source": [
    "# Set options\n",
    "big_options_string = 'left_neighbors=3 right_neighbors=3 inside_paren pos chunk iob named_entity \\\n",
    "inside_paren_neighbors pos_neighbors chunk_neighbors iob_neighbors named_entity_neighbors \\\n",
    "chunk_end chunk_end_neighbors same_chunk_neighbors \\\n",
    "one_hot one_hot_neighbors w2v_model=pubmed w2v w2v_neighbors w2v_size=10 cosine_simil cosine_simil_neighbors \\\n",
    "isupper isupper_neighbors istitle istitle_neighbors'\n",
    "\n",
    "options_string = 'left_neighbors=3 right_neighbors=3 one_hot one_hot_neighbors \\\n",
    "inside_paren pos chunk iob named_entity \\\n",
    "inside_paren_neighbors pos_neighbors chunk_neighbors iob_neighbors named_entity_neighbors \\\n",
    "chunk_end chunk_end_neighbors same_chunk_neighbors \\\n",
    "w2v_model=pubmed_wiki w2v w2v_neighbors w2v_size=30 \\\n",
    "cosine_simil cosine_simil_neighbors \\\n",
    "isupper isupper_neighbors istitle istitle_neighbors'\n",
    "\n",
    "w2v=pubmed_wiki_w2v\n",
    "\n",
    "features_name = 'P8'"
   ]
  },
  {
   "cell_type": "code",
   "execution_count": 7,
   "metadata": {
    "collapsed": false
   },
   "outputs": [
    {
     "name": "stdout",
     "output_type": "stream",
     "text": [
      "134: ['OBJECTIVE', ':', 'To']\n"
     ]
    }
   ],
   "source": [
    "# Compute features for all\n",
    "all_features = abstracts2features(all_tokens, all_genia_tags, w2v=w2v, options_string=options_string)"
   ]
  },
  {
   "cell_type": "code",
   "execution_count": 8,
   "metadata": {
    "collapsed": false
   },
   "outputs": [
    {
     "name": "stdout",
     "output_type": "stream",
     "text": [
      "Number of abstracts: 135\n",
      "Number of tokens:    45133\n",
      "Number of features:  12839548 \n",
      "\n",
      "Avg tokens per abstract: 334\n",
      "Avg features per token:  284 \n",
      "\n",
      "Max features per token:  286\n",
      "Min features per token:  161\n"
     ]
    }
   ],
   "source": [
    "# For debug\n",
    "sanity_check(all_features)"
   ]
  },
  {
   "cell_type": "markdown",
   "metadata": {},
   "source": [
    "Grid search"
   ]
  },
  {
   "cell_type": "markdown",
   "metadata": {},
   "source": [
    "Run CRF"
   ]
  },
  {
   "cell_type": "code",
   "execution_count": 9,
   "metadata": {
    "collapsed": false
   },
   "outputs": [],
   "source": [
    "# Set options\n",
    "num_iters = 200\n",
    "l1 = 1\n",
    "l2 = 0.01\n",
    "file_name = 'crf_results/{}'.format(features_name)"
   ]
  },
  {
   "cell_type": "markdown",
   "metadata": {},
   "source": [
    "Get model"
   ]
  },
  {
   "cell_type": "code",
   "execution_count": 10,
   "metadata": {
    "collapsed": false
   },
   "outputs": [],
   "source": [
    "# Get model from file\n",
    "tagger = get_tagger(file_name)"
   ]
  },
  {
   "cell_type": "code",
   "execution_count": 11,
   "metadata": {
    "collapsed": false,
    "scrolled": true
   },
   "outputs": [
    {
     "name": "stdout",
     "output_type": "stream",
     "text": [
      "Top likely transitions:\n",
      "None   -> None    2.526950\n",
      "P      -> P       2.104650\n",
      "None   -> P       -1.951732\n",
      "P      -> None    -3.203641\n",
      "\n",
      "Top positive:\n",
      "5.959447 None   word[0]:DESIGN\n",
      "5.786099 None   word[0]:BACKGROUND\n",
      "4.432196 P      word[0]:nonsmokers.\n",
      "4.417129 None   word[0]:PARTICIPANTS\n",
      "4.292859 P      word[-1]:PBSCT.\n",
      "4.074433 P      word[-1]:rowers\n",
      "4.040106 None   word[0]:INTERVENTIONS\n",
      "3.606371 None   word[1]:Eleven\n",
      "3.551399 None   word[1]:Young\n",
      "3.496381 None   word[0]:PURPOSE\n",
      "3.492651 P      word[0]:Norway\n",
      "3.345511 None   word[0]:SUBJECTS\n",
      "3.087589 P      word[-2]:Guillian-Barre\n",
      "3.016858 None   word[1]:Men\n",
      "2.871961 P      word[1]:Sprague-Dawley\n",
      "2.752129 None   word[-1]:osteoporosis.\n",
      "2.682785 P      word[0]:Third-\n",
      "2.673258 P      word[1]:alpacas\n",
      "2.671603 None   word[0]:AIM\n",
      "2.592882 P      word[0]:evaluable.\n",
      "\n",
      "Top negative:\n",
      "-1.678454 None   word[-1]:Girls\n",
      "-1.703361 None   word[-3]:Medicaid\n",
      "-1.714073 None   word[0]:students\n",
      "-1.726519 None   word[-2]:supervisor\n",
      "-1.748018 P      word[0]:The\n",
      "-1.752349 None   word[-3]:hens\n",
      "-1.758342 P      word[0]:treating\n",
      "-1.825593 None   word[-1]:African-Americans\n",
      "-1.830325 P      word[0]:]\n",
      "-1.870329 P      word[2]:hundred\n",
      "-1.888000 P      word[0]:OBJECTIVE\n",
      "-1.909799 None   word[0]:rats\n",
      "-1.993468 None   word[-2]:Italian\n",
      "-2.003803 P      word[-1]:volunteers.\n",
      "-2.019970 None   word[0]:Thailand\n",
      "-2.055028 P      word[0]:PATIENTS\n",
      "-2.055223 None   word[-1]:brucellosis\n",
      "-2.253040 P      word[0]:METHODS\n",
      "-2.333943 None   word[1]:AIM\n",
      "-2.499877 None   word[1]:hundred\n"
     ]
    }
   ],
   "source": [
    "# For debug\n",
    "print_model_info(tagger)"
   ]
  },
  {
   "cell_type": "markdown",
   "metadata": {},
   "source": [
    "Predict tags"
   ]
  },
  {
   "cell_type": "code",
   "execution_count": 13,
   "metadata": {
    "collapsed": false,
    "scrolled": true
   },
   "outputs": [
    {
     "name": "stdout",
     "output_type": "stream",
     "text": [
      "all:\n",
      "P: (0.48249170659786217, 0.3821897810218978, 0.4265232974910395)\n"
     ]
    }
   ],
   "source": [
    "# Predict all tags\n",
    "pred_all_tags = predict_tags(tagger, all_features)\n",
    "\n",
    "# Evaluate all tags\n",
    "all_result = evaluate_prediction(pred_all_tags, all_tags, eval_tags)\n",
    "print 'all:'\n",
    "print_result(all_result)\n",
    "sys.stdout.flush()"
   ]
  },
  {
   "cell_type": "markdown",
   "metadata": {},
   "source": [
    "Print a sample prediction for an abstract"
   ]
  },
  {
   "cell_type": "code",
   "execution_count": null,
   "metadata": {
    "collapsed": true
   },
   "outputs": [],
   "source": [
    "def print_with_spaces(l, spaces):\n",
    "    # This pads strings to be of space length and aligned left\n",
    "    formatter = lambda space: '{:' + str(space) + '}'\n",
    "    \n",
    "    for sublist in l:\n",
    "        print ''.join([formatter(space).format(string) for string, space in zip(sublist, spaces)])"
   ]
  },
  {
   "cell_type": "code",
   "execution_count": null,
   "metadata": {
    "collapsed": false
   },
   "outputs": [],
   "source": [
    "i = 300\n",
    "print_with_spaces(zip(dev_tokens[i], dev_tags[i], pred_dev_tags[i]), [25, 5, 5])"
   ]
  },
  {
   "cell_type": "markdown",
   "metadata": {},
   "source": [
    "Analyze intervals"
   ]
  },
  {
   "cell_type": "code",
   "execution_count": 15,
   "metadata": {
    "collapsed": false
   },
   "outputs": [
    {
     "name": "stdout",
     "output_type": "stream",
     "text": [
      "There are 209 predicted intervals:\n",
      "Number of type Identical      : 39\n",
      "Number of type Subinterval    : 22\n",
      "Number of type Superinterval  : 25\n",
      "Number of type Overlapping    : 8\n",
      "Number of type Non-overlapping: 115\n",
      "\n",
      "There are 2713 predicted tokens:\n",
      "Number of type Identical      : 626\n",
      "Number of type Subinterval    : 287\n",
      "Number of type Superinterval  : 518\n",
      "Number of type Overlapping    : 166\n",
      "Number of type Non-overlapping: 1116\n",
      "\n",
      "There are 111 gold intervals:\n",
      "Number of type Identical      : 39\n",
      "Number of type Subinterval    : 25\n",
      "Number of type Superinterval  : 20\n",
      "Number of type Overlapping    : 7\n",
      "Number of type Non-overlapping: 20\n",
      "\n",
      "There are 3425 gold tokens:\n",
      "Number of type Identical      : 626\n",
      "Number of type Subinterval    : 287\n",
      "Number of type Superinterval  : 1023\n",
      "Number of type Overlapping    : 897\n",
      "Number of type Non-overlapping: 592\n",
      "\n"
     ]
    }
   ],
   "source": [
    "compare_tags(pred_all_tags, all_tags, tag)"
   ]
  },
  {
   "cell_type": "markdown",
   "metadata": {},
   "source": [
    "Restrict evaluation to noun phrase"
   ]
  },
  {
   "cell_type": "code",
   "execution_count": 16,
   "metadata": {
    "collapsed": false
   },
   "outputs": [
    {
     "name": "stdout",
     "output_type": "stream",
     "text": [
      "all:\n",
      "P: (0.4624800425758382, 0.40064545873674506, 0.42934782608695654)\n"
     ]
    }
   ],
   "source": [
    "# Evaluate all tags\n",
    "all_result = evaluate_prediction(filter_phrase(pred_all_tags, all_genia_tags),\\\n",
    "                                 filter_phrase(all_tags, all_genia_tags),\\\n",
    "                                 eval_tags)\n",
    "print 'all:'\n",
    "print_result(all_result)\n",
    "sys.stdout.flush()"
   ]
  },
  {
   "cell_type": "code",
   "execution_count": null,
   "metadata": {
    "collapsed": true
   },
   "outputs": [],
   "source": []
  }
 ],
 "metadata": {
  "kernelspec": {
   "display_name": "Python 2",
   "language": "python",
   "name": "python2"
  },
  "language_info": {
   "codemirror_mode": {
    "name": "ipython",
    "version": 2
   },
   "file_extension": ".py",
   "mimetype": "text/x-python",
   "name": "python",
   "nbconvert_exporter": "python",
   "pygments_lexer": "ipython2",
   "version": "2.7.11"
  }
 },
 "nbformat": 4,
 "nbformat_minor": 0
}
