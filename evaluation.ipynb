{
 "cells": [
  {
   "cell_type": "code",
   "execution_count": 127,
   "metadata": {
    "collapsed": true
   },
   "outputs": [],
   "source": [
    "import numpy as np\n"
   ]
  },
  {
   "cell_type": "code",
   "execution_count": 128,
   "metadata": {
    "collapsed": true
   },
   "outputs": [],
   "source": [
    "from preprocess_data import get_all_data_train"
   ]
  },
  {
   "cell_type": "code",
   "execution_count": 129,
   "metadata": {
    "collapsed": true
   },
   "outputs": [],
   "source": [
    "Null_TAG = 'None'\n",
    "P_TAG_b = 'Pb'  # beginning of participant phrase\n",
    "P_TAG_m = 'Pm'  # middle/end of participant phrase\n",
    "P_TAG = 'P'"
   ]
  },
  {
   "cell_type": "code",
   "execution_count": 130,
   "metadata": {
    "collapsed": true
   },
   "outputs": [],
   "source": [
    "'''\n",
    "Eval abstract to get \n",
    "# tokens extracted\n",
    "# tokens extracted correctly\n",
    "# true tokens\n",
    "\n",
    "for this abstract and return\n",
    "'''\n",
    "def evaluate_abstract_token_counts(gold_tags, pred_tags):\n",
    "    gold_tags = np.array(gold_tags)\n",
    "    pred_tags = np.array(pred_tags)\n",
    "\n",
    "    unique, counts = np.unique(pred_tags, return_counts=True)\n",
    "    pred_tag_dict = dict(zip(unique, counts))\n",
    "    p_tokens_extracted = pred_tag_dict[P_TAG]\n",
    "\n",
    "    intersection = (gold_tags == pred_tags)\n",
    "    p_tokens = (gold_tags == P_TAG) \n",
    "    p_tokens_correct = (((intersection*1)+(p_tokens*1)))== 2\n",
    "\n",
    "    unique, counts = np.unique(p_tokens_correct, return_counts=True)\n",
    "    p_tokens_correct_tag_dict = dict(zip(unique, counts))\n",
    "    p_tokens_correct = p_tokens_correct_tag_dict[True]\n",
    "    \n",
    "    unique, counts = np.unique(gold_tags, return_counts=True)\n",
    "    gold_tag_dict = dict(zip(unique, counts))\n",
    "    p_true_tokens = gold_tag_dict[P_TAG]\n",
    "    \n",
    "    return (p_tokens_extracted, p_tokens_correct, p_true_tokens)"
   ]
  },
  {
   "cell_type": "code",
   "execution_count": 131,
   "metadata": {
    "collapsed": false
   },
   "outputs": [],
   "source": [
    "'''\n",
    "Eval single abstract at a time\n",
    "\n",
    "return precision, accuracy and f1 for single abstract\n",
    "for each token type (participant/intervention/outcome)\n",
    "'''\n",
    "def evaluate_abstract_PRF1(gold_tags, pred_tags):\n",
    "    (p_tokens_extracted, p_tokens_correct, p_true_tokens)=evaluate_abstract_token_counts(gold_tags, pred_tags)\n",
    "\n",
    "#     print \"tokens extracted correctly: \", p_tokens_correct\n",
    "#     print \"tokens extracted: \", p_tokens_extracted\n",
    "#     print \"true tokens: \", p_true_tokens\n",
    "    \n",
    "    p_precision = float(p_tokens_correct)/float(p_tokens_extracted)\n",
    "    p_recall = float(p_tokens_correct)/float(p_true_tokens)\n",
    "    p_f1 = (2*p_precision*p_recall)/(p_precision+p_recall)\n",
    "#     print \"precision: \", p_precision\n",
    "#     print \"recall: \", p_recall\n",
    "#     print \"f1: \", p_f1\n",
    "    \n",
    "    return (p_precision, p_recall, p_f1)"
   ]
  },
  {
   "cell_type": "code",
   "execution_count": 132,
   "metadata": {
    "collapsed": false
   },
   "outputs": [],
   "source": [
    "# evaluate_abstract(test, test2)"
   ]
  },
  {
   "cell_type": "code",
   "execution_count": 133,
   "metadata": {
    "collapsed": true
   },
   "outputs": [],
   "source": [
    "def eval_abstracts_avg(all_gold_tags, all_pred_tags):\n",
    "    if not(len(all_gold_tags) == len(all_pred_tags)):\n",
    "            raise ValueError('len of all_gold_tags and all_pred_tags did not match.')\n",
    "\n",
    "    p_precision_total = 0\n",
    "    p_recall_total = 0\n",
    "    p_f1_total = 0\n",
    "    for ind in range(len(all_gold_tags)):\n",
    "        curr_gold_tags = all_gold_tags[ind];\n",
    "        curr_pred_tags = curr_pred_tags[ind];\n",
    "        \n",
    "        (p_precision, p_recall, p_f1) = evaluate_abstract_PRF1(curr_gold_tags, curr_pred_tags)\n",
    "        p_precision_total += p_precision\n",
    "        p_recall_total += p_recall\n",
    "        p_f1_total += p_f1\n",
    "    p_precision_avg = float(p_precision_total)/float(len(all_pred_tags))\n",
    "    p_recall_avg = float(p_recall_total)/float(len(all_pred_tags))\n",
    "    p_f1_avg = float(p_f1_total)/float(len(all_pred_tags))\n",
    "    \n",
    "    return (p_precision_avg, p_recall_avg, p_f1_avg)"
   ]
  },
  {
   "cell_type": "code",
   "execution_count": 134,
   "metadata": {
    "collapsed": true
   },
   "outputs": [],
   "source": [
    "def eval_abstracts(all_gold_tags, all_pred_tags):\n",
    "    if not(len(all_gold_tags) == len(all_pred_tags)):\n",
    "            raise ValueError('len of all_gold_tags and all_pred_tags did not match.')\n",
    "\n",
    "    p_tokens_extracted_total = 0\n",
    "    p_tokens_correct_total = 0\n",
    "    p_true_tokens_total = 0\n",
    "\n",
    "    for ind in range(len(all_gold_tags)):\n",
    "        curr_gold_tags = all_gold_tags[ind];\n",
    "        curr_pred_tags = curr_pred_tags[ind];\n",
    "        \n",
    "        (p_tokens_extracted, p_tokens_correct, p_true_tokens) = evaluate_abstract_token_counts(curr_gold_tags, curr_pred_tags)\n",
    "        p_tokens_extracted_total += p_tokens_extracted\n",
    "        p_tokens_correct_total += p_tokens_correct\n",
    "        p_true_tokens_total += p_true_tokens\n",
    "        \n",
    "    p_precision = float(p_tokens_correct_total)/float(p_tokens_extracted_total)\n",
    "    p_recall = float(p_tokens_correct_total)/float(p_true_tokens_total)\n",
    "    p_f1 = (2*p_precision*p_recall)/(p_precision+p_recall)\n",
    "    \n",
    "    return (p_precision, p_recall, p_f1)"
   ]
  }
 ],
 "metadata": {
  "kernelspec": {
   "display_name": "Python 2",
   "language": "python",
   "name": "python2"
  },
  "language_info": {
   "codemirror_mode": {
    "name": "ipython",
    "version": 2
   },
   "file_extension": ".py",
   "mimetype": "text/x-python",
   "name": "python",
   "nbconvert_exporter": "python",
   "pygments_lexer": "ipython2",
   "version": "2.7.12"
  }
 },
 "nbformat": 4,
 "nbformat_minor": 1
}
