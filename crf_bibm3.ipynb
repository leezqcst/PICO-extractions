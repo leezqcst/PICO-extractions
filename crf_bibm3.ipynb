{
 "cells": [
  {
   "cell_type": "markdown",
   "metadata": {},
   "source": [
    "## CRF What's Wrong with Participants?"
   ]
  },
  {
   "cell_type": "code",
   "execution_count": 1,
   "metadata": {
    "collapsed": false
   },
   "outputs": [
    {
     "name": "stderr",
     "output_type": "stream",
     "text": [
      "//anaconda/lib/python2.7/site-packages/sklearn/cross_validation.py:44: DeprecationWarning: This module was deprecated in version 0.18 in favor of the model_selection module into which all the refactored classes and functions are moved. Also note that the interface of the new CV iterators are different from that of this module. This module will be removed in 0.20.\n",
      "  \"This module will be removed in 0.20.\", DeprecationWarning)\n",
      "//anaconda/lib/python2.7/site-packages/gensim/utils.py:1015: UserWarning: Pattern library is not installed, lemmatization won't be available.\n",
      "  warnings.warn(\"Pattern library is not installed, lemmatization won't be available.\")\n"
     ]
    }
   ],
   "source": [
    "from crf import *\n",
    "from crf_support import get_all_data, compare_tags, filter_phrase\n",
    "\n",
    "import os, time\n",
    "\n",
    "from features_generator import abstracts2features, get_genia_tags, sanity_check\n",
    "\n",
    "from gensim.models import Word2Vec"
   ]
  },
  {
   "cell_type": "code",
   "execution_count": 2,
   "metadata": {
    "collapsed": true
   },
   "outputs": [],
   "source": [
    "tag = 'P'\n",
    "eval_tags = [tag]"
   ]
  },
  {
   "cell_type": "markdown",
   "metadata": {},
   "source": [
    "Get data"
   ]
  },
  {
   "cell_type": "code",
   "execution_count": 3,
   "metadata": {
    "collapsed": false
   },
   "outputs": [],
   "source": [
    "# Get train data\n",
    "train_tokens, train_tags = get_all_data('train', tag)\n",
    "train_genia_tags = get_genia_tags('train')"
   ]
  },
  {
   "cell_type": "code",
   "execution_count": 4,
   "metadata": {
    "collapsed": false
   },
   "outputs": [],
   "source": [
    "# Get dev data\n",
    "dev_tokens, dev_tags = get_all_data('dev', tag)\n",
    "dev_genia_tags = get_genia_tags('dev')"
   ]
  },
  {
   "cell_type": "code",
   "execution_count": 5,
   "metadata": {
    "collapsed": false
   },
   "outputs": [],
   "source": [
    "# Get test data\n",
    "test_tokens, test_tags = get_all_data('test', tag)\n",
    "test_genia_tags = get_genia_tags('test')"
   ]
  },
  {
   "cell_type": "markdown",
   "metadata": {},
   "source": [
    "Compute features"
   ]
  },
  {
   "cell_type": "code",
   "execution_count": null,
   "metadata": {
    "collapsed": false
   },
   "outputs": [],
   "source": [
    "pubmed_w2v_name = 'PubMed-w2v.bin'\n",
    "pubmed_w2v = Word2Vec.load_word2vec_format(pubmed_w2v_name, binary=True)"
   ]
  },
  {
   "cell_type": "code",
   "execution_count": 6,
   "metadata": {
    "collapsed": false
   },
   "outputs": [],
   "source": [
    "pubmed_wiki_w2v_name = 'wikipedia-pubmed-and-PMC-w2v.bin'\n",
    "pubmed_wiki_w2v = Word2Vec.load_word2vec_format(pubmed_wiki_w2v_name, binary=True)"
   ]
  },
  {
   "cell_type": "code",
   "execution_count": 7,
   "metadata": {
    "collapsed": false
   },
   "outputs": [],
   "source": [
    "# Set options\n",
    "big_options_string = 'left_neighbors=3 right_neighbors=3 inside_paren pos chunk iob named_entity \\\n",
    "inside_paren_neighbors pos_neighbors chunk_neighbors iob_neighbors named_entity_neighbors \\\n",
    "chunk_end chunk_end_neighbors same_chunk_neighbors \\\n",
    "one_hot one_hot_neighbors w2v_model=pubmed w2v w2v_neighbors w2v_size=10 cosine_simil cosine_simil_neighbors \\\n",
    "isupper isupper_neighbors istitle istitle_neighbors'\n",
    "\n",
    "options_string = 'left_neighbors=3 right_neighbors=3 one_hot one_hot_neighbors \\\n",
    "inside_paren pos chunk iob named_entity \\\n",
    "inside_paren_neighbors pos_neighbors chunk_neighbors iob_neighbors named_entity_neighbors \\\n",
    "chunk_end chunk_end_neighbors same_chunk_neighbors \\\n",
    "w2v_model=pubmed_wiki w2v w2v_neighbors w2v_size=30 \\\n",
    "cosine_simil cosine_simil_neighbors \\\n",
    "isupper isupper_neighbors istitle istitle_neighbors'\n",
    "\n",
    "w2v=pubmed_wiki_w2v\n",
    "\n",
    "features_name = 'P8bibm'"
   ]
  },
  {
   "cell_type": "code",
   "execution_count": 8,
   "metadata": {
    "collapsed": false
   },
   "outputs": [
    {
     "name": "stdout",
     "output_type": "stream",
     "text": [
      "3499: ['Pulsed', 'azithromycin', 'treatment']\n"
     ]
    }
   ],
   "source": [
    "# Compute features for train\n",
    "train_features = abstracts2features(train_tokens, train_genia_tags, w2v=w2v, options_string=options_string)"
   ]
  },
  {
   "cell_type": "code",
   "execution_count": 9,
   "metadata": {
    "collapsed": false
   },
   "outputs": [
    {
     "name": "stdout",
     "output_type": "stream",
     "text": [
      "999: ['Serum', 'bactericidal', 'activities']\n"
     ]
    }
   ],
   "source": [
    "# Compute features for dev\n",
    "dev_features = abstracts2features(dev_tokens, dev_genia_tags, w2v=w2v, options_string=options_string)"
   ]
  },
  {
   "cell_type": "code",
   "execution_count": 10,
   "metadata": {
    "collapsed": false
   },
   "outputs": [
    {
     "name": "stdout",
     "output_type": "stream",
     "text": [
      "500: ['Efficacy', 'and', 'cost-effectiveness']\n"
     ]
    }
   ],
   "source": [
    "# Compute features for test\n",
    "test_features = abstracts2features(test_tokens, test_genia_tags, w2v=w2v, options_string=options_string)"
   ]
  },
  {
   "cell_type": "code",
   "execution_count": 11,
   "metadata": {
    "collapsed": false
   },
   "outputs": [
    {
     "name": "stdout",
     "output_type": "stream",
     "text": [
      "Number of abstracts: 3500\n",
      "Number of tokens:    927022\n",
      "Number of features:  263345838 \n",
      "\n",
      "Avg tokens per abstract: 264\n",
      "Avg features per token:  284 \n",
      "\n",
      "Max features per token:  286\n",
      "Min features per token:  161\n"
     ]
    }
   ],
   "source": [
    "# For debug\n",
    "sanity_check(train_features)"
   ]
  },
  {
   "cell_type": "markdown",
   "metadata": {},
   "source": [
    "Run CRF"
   ]
  },
  {
   "cell_type": "code",
   "execution_count": 12,
   "metadata": {
    "collapsed": false
   },
   "outputs": [],
   "source": [
    "# Set options\n",
    "num_iters = 200\n",
    "l1 = 1\n",
    "l2 = 0.01\n",
    "file_name = 'crf_results/{}'.format(features_name)"
   ]
  },
  {
   "cell_type": "markdown",
   "metadata": {},
   "source": [
    "Get model"
   ]
  },
  {
   "cell_type": "code",
   "execution_count": 13,
   "metadata": {
    "collapsed": false
   },
   "outputs": [],
   "source": [
    "# Get model from file\n",
    "tagger = get_tagger(file_name)"
   ]
  },
  {
   "cell_type": "code",
   "execution_count": 14,
   "metadata": {
    "collapsed": false,
    "scrolled": true
   },
   "outputs": [
    {
     "name": "stdout",
     "output_type": "stream",
     "text": [
      "Top likely transitions:\n",
      "P      -> P       0.041363\n",
      "None   -> None    -0.097811\n",
      "P      -> None    -7.264975\n",
      "None   -> P       -8.233716\n",
      "\n",
      "Top positive:\n",
      "4.927603 None   word[-1]:PARTICIPANTS\n",
      "2.855721 P      word[-2]:PARTICIPANTS\n",
      "2.396066 P      word[1]:INTERVENTIONS\n",
      "2.058474 P      word[1]:Group\n",
      "1.931018 P      word[-3]:NHS\n",
      "1.811934 None   word[-2]:controlled\n",
      "1.611998 P      word[1]:INTERVENTION\n",
      "1.556044 None   word[0]:INTERVENTION\n",
      "1.485613 P      word[-3]:PARTICIPANTS\n",
      "1.418782 None   word[0]:INTERVENTIONS\n",
      "1.407665 P      word[-3]:newspapers\n",
      "1.369649 None   word[-3]:followed\n",
      "1.342317 P      word[1]:Training\n",
      "1.341184 None   word[-1]:randomisation.\n",
      "1.326098 P      word[3]:clusters\n",
      "1.316158 P      word[1]:Expectant\n",
      "1.316158 P      word[-2]:incomplete\n",
      "1.295212 None   chunk[-2]:PRT\n",
      "1.272041 None   word[2]:closure\n",
      "1.271684 P      word[-2]:Oxford\n",
      "\n",
      "Top negative:\n",
      "-0.897128 None   word[-1]:clinics.\n",
      "-0.928468 None   word[-2]:Kingdom\n",
      "-0.938274 None   word[3]:1\n",
      "-0.944144 None   word[3]:30\n",
      "-0.946226 None   word[2]:were\n",
      "-0.962392 None   word[2]:recruited\n",
      "-0.983841 None   word[3]:MEASURES\n",
      "-1.019208 None   word[3]:estimates\n",
      "-1.032134 None   word[2]:early\n",
      "-1.162282 P      word[2]:of\n",
      "-1.166055 None   word[3]:included\n",
      "-1.228852 P      word[-3]:people\n",
      "-1.326098 None   word[3]:clusters\n",
      "-1.418782 P      word[0]:INTERVENTIONS\n",
      "-1.485613 None   word[-3]:PARTICIPANTS\n",
      "-1.556044 P      word[0]:INTERVENTION\n",
      "-1.611998 None   word[1]:INTERVENTION\n",
      "-1.931018 None   word[-3]:NHS\n",
      "-2.396066 None   word[1]:INTERVENTIONS\n",
      "-2.855721 None   word[-2]:PARTICIPANTS\n"
     ]
    }
   ],
   "source": [
    "# For debug\n",
    "print_model_info(tagger)"
   ]
  },
  {
   "cell_type": "markdown",
   "metadata": {},
   "source": [
    "Predict tags"
   ]
  },
  {
   "cell_type": "code",
   "execution_count": 15,
   "metadata": {
    "collapsed": false,
    "scrolled": true
   },
   "outputs": [
    {
     "name": "stdout",
     "output_type": "stream",
     "text": [
      "dev:\n",
      "P: (0.10406553398058252, 0.015518957560401773, 0.02701000078746358)\n",
      "train:\n",
      "P: (0.10797530553105708, 0.01076714325200392, 0.01958163393540574)\n",
      "test:\n",
      "P: (0.10617626648161, 0.013910355486862442, 0.02459807073954984)\n"
     ]
    }
   ],
   "source": [
    "# Predict dev tags\n",
    "pred_dev_tags = predict_tags(tagger, dev_features)\n",
    "\n",
    "# Evaluate dev tags\n",
    "dev_result = evaluate_prediction(pred_dev_tags, dev_tags, eval_tags)\n",
    "print 'dev:'\n",
    "print_result(dev_result)\n",
    "sys.stdout.flush()\n",
    "\n",
    "# Predict train tags\n",
    "pred_train_tags = predict_tags(tagger, train_features)\n",
    "\n",
    "# Evaluate train tags\n",
    "train_result = evaluate_prediction(pred_train_tags, train_tags, eval_tags)\n",
    "print 'train:'\n",
    "print_result(train_result)\n",
    "sys.stdout.flush()\n",
    "\n",
    "# Predict test tags\n",
    "pred_test_tags = predict_tags(tagger, test_features)\n",
    "\n",
    "# Evaluate test tags\n",
    "test_result = evaluate_prediction(pred_test_tags, test_tags, eval_tags)\n",
    "print 'test:'\n",
    "print_result(test_result)\n",
    "sys.stdout.flush()"
   ]
  },
  {
   "cell_type": "markdown",
   "metadata": {},
   "source": [
    "Print a sample prediction for an abstract"
   ]
  },
  {
   "cell_type": "code",
   "execution_count": 19,
   "metadata": {
    "collapsed": true
   },
   "outputs": [],
   "source": [
    "def print_with_spaces(l, spaces):\n",
    "    # This pads strings to be of space length and aligned left\n",
    "    formatter = lambda space: '{:' + str(space) + '}'\n",
    "    \n",
    "    for sublist in l:\n",
    "        print ''.join([formatter(space).format(string) for string, space in zip(sublist, spaces)])"
   ]
  },
  {
   "cell_type": "code",
   "execution_count": 41,
   "metadata": {
    "collapsed": false
   },
   "outputs": [
    {
     "name": "stdout",
     "output_type": "stream",
     "text": [
      "Reducing                 None None \n",
      "Sitting                  None None \n",
      "Time                     None None \n",
      "After                    None None \n",
      "Stroke                   None None \n",
      ":                        None None \n",
      "A                        None None \n",
      "Phase                    None None \n",
      "II                       None None \n",
      "Safety                   None None \n",
      "and                      None None \n",
      "Feasibility              None None \n",
      "Randomized               None None \n",
      "Controlled               None None \n",
      "Trial                    None None \n",
      ".                        None None \n",
      "OBJECTIVE                None None \n",
      "To                       None None \n",
      "test                     None None \n",
      "the                      None None \n",
      "safety                   None None \n",
      ",                        None None \n",
      "feasibility              None None \n",
      ",                        None None \n",
      "and                      None None \n",
      "effectiveness            None None \n",
      "of                       None None \n",
      "reducing                 None None \n",
      "sitting                  None None \n",
      "time                     None None \n",
      "in                       None None \n",
      "stroke                   None None \n",
      "survivors                None None \n",
      ".                        None None \n",
      "DESIGN                   None None \n",
      "Randomized               None None \n",
      "controlled               None None \n",
      "trial                    None None \n",
      "with                     None None \n",
      "attention-matched        None None \n",
      "controls                 None None \n",
      "and                      None None \n",
      "blinded                  None None \n",
      "assessments              None None \n",
      ".                        None None \n",
      "SETTING                  None None \n",
      "Community                None None \n",
      ".                        None None \n",
      "PARTICIPANTS             None None \n",
      "Stroke                   P    None \n",
      "survivors                P    P    \n",
      "(                        P    P    \n",
      "N=35                     P    P    \n",
      ";                        P    P    \n",
      "22                       P    P    \n",
      "men                      P    P    \n",
      ";                        P    P    \n",
      "mean                     P    P    \n",
      "age                      P    P    \n",
      ",                        P    P    \n",
      "66.9±12.7y              P    P    \n",
      ")                        None P    \n",
      ".                        None P    \n",
      "INTERVENTIONS            None None \n",
      "Four                     None None \n",
      "counseling               None None \n",
      "sessions                 None None \n",
      "over                     None None \n",
      "7                        None None \n",
      "weeks                    P    None \n",
      "with                     P    None \n",
      "a                        P    None \n",
      "message                  P    None \n",
      "of                       P    None \n",
      "sit                      P    None \n",
      "less                     P    None \n",
      "and                      P    None \n",
      "move                     P    None \n",
      "more                     P    None \n",
      "(                        P    None \n",
      "intervention             P    None \n",
      "group                    P    None \n",
      ")                        None None \n",
      "or                       None None \n",
      "calcium                  None None \n",
      "for                      None None \n",
      "bone                     None None \n",
      "health                   None None \n",
      "(                        None None \n",
      "attention-matched        None None \n",
      "control                  None None \n",
      "group                    None None \n",
      ")                        None None \n",
      ".                        None None \n",
      "MAIN                     None None \n",
      "OUTCOME                  None None \n",
      "MEASURES                 None None \n",
      "Measures                 None None \n",
      "included                 None None \n",
      "safety                   None None \n",
      "(                        None None \n",
      "adverse                  None None \n",
      "events                   None None \n",
      ",                        None None \n",
      "increases                None None \n",
      "in                       None None \n",
      "pain                     None None \n",
      ",                        None None \n",
      "spasticity               None None \n",
      ",                        None None \n",
      "or                       None None \n",
      "fatigue                  None None \n",
      ")                        None None \n",
      "and                      None None \n",
      "feasibility              None None \n",
      "(                        None None \n",
      "adherence                None None \n",
      "to                       None None \n",
      "trial                    None None \n",
      "protocol                 None None \n",
      ")                        None None \n",
      ".                        None None \n",
      "Secondary                None None \n",
      "measures                 None None \n",
      "included                 None None \n",
      "time                     None None \n",
      "spent                    None None \n",
      "sitting                  None None \n",
      "(                        None None \n",
      "including                None None \n",
      "in                       None None \n",
      "prolonged                None None \n",
      "bouts                    None None \n",
      "≥30min                 None None \n",
      ")                        None None \n",
      ",                        None None \n",
      "standing                 None None \n",
      ",                        None None \n",
      "and                      None None \n",
      "stepping                 None None \n",
      "as                       None None \n",
      "measured                 None None \n",
      "by                       None None \n",
      "the                      None None \n",
      "thigh-worn               None None \n",
      "inclinometer             None None \n",
      "(                        None None \n",
      "7d                       None None \n",
      ",                        None None \n",
      "24h/d                    None None \n",
      "protocol                 None None \n",
      ")                        None None \n",
      "and                      None None \n",
      "time                     None None \n",
      "spent                    None None \n",
      "in                       None None \n",
      "physical                 None None \n",
      "activity                 None None \n",
      "of                       None None \n",
      "at                       None None \n",
      "least                    None None \n",
      "moderate                 None None \n",
      "intensity                None None \n",
      "as                       None None \n",
      "measured                 None None \n",
      "by                       None None \n",
      "a                        None None \n",
      "triaxial                 None None \n",
      "accelerometer.           None None \n",
      "The                      None None \n",
      "Multimedia               None None \n",
      "Activity                 None None \n",
      "Recall                   None None \n",
      "for                      None None \n",
      "Children                 None None \n",
      "and                      None None \n",
      "Adults                   None None \n",
      "was                      None None \n",
      "used                     None None \n",
      "to                       None None \n",
      "describe                 None None \n",
      "changes                  None None \n",
      "in                       None None \n",
      "use                      None None \n",
      "of                       None None \n",
      "time                     None None \n",
      ".                        None None \n",
      "RESULTS                  P    None \n",
      "Thirty-three             P    None \n",
      "participants             P    None \n",
      "completed                None None \n",
      "the                      None None \n",
      "full                     None None \n",
      "protocol.                None None \n",
      "Four                     None None \n",
      "participants             None None \n",
      "reported                 None None \n",
      "falls                    None None \n",
      "during                   None None \n",
      "the                      None None \n",
      "intervention             None None \n",
      "period                   None None \n",
      "with                     None None \n",
      "no                       None None \n",
      "other                    None None \n",
      "adverse                  None None \n",
      "events.                  None None \n",
      "From                     None None \n",
      "a                        None None \n",
      "baseline                 None None \n",
      "average                  None None \n",
      "of                       None None \n",
      "640.7±99.6min/d         None None \n",
      ",                        None None \n",
      "daily                    None None \n",
      "sitting                  None None \n",
      "time                     None None \n",
      "reduced                  None None \n",
      "on                       None None \n",
      "average                  None None \n",
      "by                       None None \n",
      "30±50.6min/d            None None \n",
      "(                        None None \n",
      "95                       None None \n",
      "%                        None None \n",
      "confidence               None None \n",
      "interval                 None None \n",
      "[                        None None \n",
      "CI                       None None \n",
      "]                        None None \n",
      ",                        None None \n",
      "5.8-54.6                 None None \n",
      ")                        None None \n",
      "in                       None None \n",
      "the                      None None \n",
      "intervention             None None \n",
      "group                    None None \n",
      "and                      None None \n",
      "40.4±92.5min/d          None None \n",
      "in                       None None \n",
      "the                      None None \n",
      "control                  None None \n",
      "group                    None None \n",
      "(                        None None \n",
      "95                       None None \n",
      "%                        None None \n",
      "CI                       None None \n",
      ",                        None None \n",
      "13.0-93.8                None None \n",
      ")                        None None \n",
      ".                        None None \n",
      "Participants             None None \n",
      "in                       None None \n",
      "both                     None None \n",
      "groups                   None None \n",
      "also                     None None \n",
      "reduced                  None None \n",
      "their                    None None \n",
      "time                     None None \n",
      "spent                    None None \n",
      "in                       None None \n",
      "prolonged                None None \n",
      "sitting                  None None \n",
      "bouts                    None None \n",
      "(                        None None \n",
      "≥30min                 None None \n",
      ")                        None None \n",
      "and                      None None \n",
      "increased                None None \n",
      "time                     None None \n",
      "spent                    None None \n",
      "standing                 None None \n",
      "and                      None None \n",
      "stepping                 None None \n",
      ".                        None None \n",
      "CONCLUSIONS              None None \n",
      "Our                      None None \n",
      "protocol                 None None \n",
      "was                      None None \n",
      "both                     None None \n",
      "safe                     None None \n",
      "and                      None None \n",
      "feasible.                None None \n",
      "Participants             None None \n",
      "in                       None None \n",
      "both                     None None \n",
      "groups                   None None \n",
      "spent                    None None \n",
      "less                     None None \n",
      "time                     None None \n",
      "sitting                  None None \n",
      "and                      None None \n",
      "more                     None None \n",
      "time                     None None \n",
      "standing                 None None \n",
      "and                      None None \n",
      "stepping                 None None \n",
      "postintervention         None None \n",
      ",                        None None \n",
      "but                      None None \n",
      "outcomes                 None None \n",
      "were                     None None \n",
      "not                      None None \n",
      "superior                 None None \n",
      "for                      None None \n",
      "intervention             None None \n",
      "participants.            None None \n",
      "Attention                None None \n",
      "matching                 None None \n",
      "is                       None None \n",
      "desirable                None None \n",
      "in                       None None \n",
      "clinical                 None None \n",
      "trials                   None None \n",
      "and                      None None \n",
      "may                      None None \n",
      "have                     None None \n",
      "contributed              None None \n",
      "to                       None None \n",
      "the                      None None \n",
      "positive                 None None \n",
      "outcomes                 None None \n",
      "for                      None None \n",
      "control                  None None \n",
      "participants             None None \n",
      ".                        None None \n"
     ]
    }
   ],
   "source": [
    "i = 263\n",
    "print_with_spaces(zip(dev_tokens[i], dev_tags[i], pred_dev_tags[i]), [25, 5, 5])"
   ]
  },
  {
   "cell_type": "markdown",
   "metadata": {},
   "source": [
    "Analyze intervals"
   ]
  },
  {
   "cell_type": "code",
   "execution_count": 16,
   "metadata": {
    "collapsed": false
   },
   "outputs": [
    {
     "name": "stdout",
     "output_type": "stream",
     "text": [
      "There are 40 predicted intervals:\n",
      "Number of type Identical      : 0\n",
      "Number of type Subinterval    : 1\n",
      "Number of type Superinterval  : 15\n",
      "Number of type Overlapping    : 12\n",
      "Number of type Non-overlapping: 12\n",
      "\n",
      "There are 3296 predicted tokens:\n",
      "Number of type Identical      : 0\n",
      "Number of type Subinterval    : 28\n",
      "Number of type Superinterval  : 1574\n",
      "Number of type Overlapping    : 196\n",
      "Number of type Non-overlapping: 1498\n",
      "\n",
      "There are 2694 gold intervals:\n",
      "Number of type Identical      : 0\n",
      "Number of type Subinterval    : 22\n",
      "Number of type Superinterval  : 1\n",
      "Number of type Overlapping    : 13\n",
      "Number of type Non-overlapping: 2658\n",
      "\n",
      "There are 22102 gold tokens:\n",
      "Number of type Identical      : 0\n",
      "Number of type Subinterval    : 135\n",
      "Number of type Superinterval  : 30\n",
      "Number of type Overlapping    : 212\n",
      "Number of type Non-overlapping: 21725\n",
      "\n"
     ]
    }
   ],
   "source": [
    "compare_tags(pred_dev_tags, dev_tags, tag)"
   ]
  },
  {
   "cell_type": "markdown",
   "metadata": {},
   "source": [
    "Restrict evaluation to noun phrase"
   ]
  },
  {
   "cell_type": "code",
   "execution_count": 17,
   "metadata": {
    "collapsed": false
   },
   "outputs": [
    {
     "name": "stdout",
     "output_type": "stream",
     "text": [
      "dev:\n",
      "P: (0.1174025974025974, 0.014533762057877814, 0.025865522174535048)\n",
      "train:\n",
      "P: (0.12414853878268513, 0.010076150732081395, 0.01863948271311692)\n",
      "test:\n",
      "P: (0.12672811059907835, 0.014098948987439118, 0.025374855824682817)\n"
     ]
    }
   ],
   "source": [
    "# Evaluate dev tags\n",
    "dev_result = evaluate_prediction(filter_phrase(pred_dev_tags, dev_genia_tags),\\\n",
    "                                 filter_phrase(dev_tags, dev_genia_tags),\\\n",
    "                                 eval_tags)\n",
    "print 'dev:'\n",
    "print_result(dev_result)\n",
    "sys.stdout.flush()\n",
    "\n",
    "# Evaluate train tags\n",
    "train_result = evaluate_prediction(filter_phrase(pred_train_tags, train_genia_tags),\\\n",
    "                                   filter_phrase(train_tags, train_genia_tags),\\\n",
    "                                   eval_tags)\n",
    "print 'train:'\n",
    "print_result(train_result)\n",
    "sys.stdout.flush()\n",
    "\n",
    "# Evaluate test tags\n",
    "test_result = evaluate_prediction(filter_phrase(pred_test_tags, test_genia_tags),\\\n",
    "                                  filter_phrase(test_tags, test_genia_tags),\\\n",
    "                                  eval_tags)\n",
    "print 'test:'\n",
    "print_result(test_result)\n",
    "sys.stdout.flush()"
   ]
  },
  {
   "cell_type": "code",
   "execution_count": 38,
   "metadata": {
    "collapsed": false
   },
   "outputs": [
    {
     "name": "stdout",
     "output_type": "stream",
     "text": [
      "129\n",
      "254\n",
      "263\n",
      "285\n",
      "293\n",
      "295\n",
      "325\n",
      "367\n",
      "377\n",
      "419\n",
      "424\n",
      "450\n",
      "464\n",
      "469\n",
      "479\n",
      "486\n",
      "490\n",
      "491\n",
      "519\n",
      "547\n",
      "586\n",
      "603\n",
      "605\n",
      "609\n",
      "616\n",
      "636\n",
      "639\n",
      "690\n",
      "709\n",
      "715\n",
      "767\n",
      "783\n",
      "798\n",
      "826\n",
      "838\n",
      "845\n",
      "863\n",
      "975\n",
      "993\n",
      "995\n"
     ]
    }
   ],
   "source": [
    "for i in range(len(pred_dev_tags)):\n",
    "    for j in range(len(pred_dev_tags[i])):\n",
    "        if pred_dev_tags[i][j] != 'None':\n",
    "            print i\n",
    "            break"
   ]
  },
  {
   "cell_type": "code",
   "execution_count": null,
   "metadata": {
    "collapsed": true
   },
   "outputs": [],
   "source": []
  }
 ],
 "metadata": {
  "kernelspec": {
   "display_name": "Python 2",
   "language": "python",
   "name": "python2"
  },
  "language_info": {
   "codemirror_mode": {
    "name": "ipython",
    "version": 2
   },
   "file_extension": ".py",
   "mimetype": "text/x-python",
   "name": "python",
   "nbconvert_exporter": "python",
   "pygments_lexer": "ipython2",
   "version": "2.7.11"
  }
 },
 "nbformat": 4,
 "nbformat_minor": 0
}
