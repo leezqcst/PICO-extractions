{
 "cells": [
  {
   "cell_type": "code",
   "execution_count": 70,
   "metadata": {
    "collapsed": true
   },
   "outputs": [],
   "source": [
    "import os\n"
   ]
  },
  {
   "cell_type": "code",
   "execution_count": 45,
   "metadata": {
    "collapsed": true
   },
   "outputs": [],
   "source": [
    "abstract = 'PICO-annotations/batch5k/0074f5e102cf4409ac07f6209dd30144/23127528.txt'\n",
    "abstract = 'PICO-annotations/batch5k/017e0bd245aa46b0bf1737ba34a30b2e/2648816.txt'\n",
    "abs_file = open(abstract, 'r');\n",
    "text = abs_file.read()\n",
    "\n",
    "# ann = [24, 65, 322, 375, 470 ,517,529, 695, 697, 808, 900, 1020, 1330, 1410 ]\n",
    "\n",
    "ann = [98, 160]\n",
    "# ann = [337, 432, 550, 579, 689, 789]"
   ]
  },
  {
   "cell_type": "code",
   "execution_count": 46,
   "metadata": {
    "collapsed": false
   },
   "outputs": [
    {
     "data": {
      "text/plain": [
       "'Adequacy of \"hot biopsy\" for the treatment of diminutive polyps: a prospective randomized trial.\\n\\nPatients with diminutive polyps in the rectum or sigmoid colon were randomized to \"hot biopsy\" treatment for either 1) electrocautery for 2 s (fixed duration cautery) or 2) cautery until visible necrosis of the polyp base was evident (variable duration cautery). Sigmoidoscopy was performed 4 wk after treatment to determine the adequacy of polyp eradication. In the fixed duration cautery group, 11 of 21 polyps (52%) were eradicated, compared with 12 of 14 polyps (86%) in the variable duration cautery group (p = 0.04). When analyzed according to whether or not visible necrosis was achieved (some of the polyps in the fixed duration cautery group showed necrosis with 2 s cautery), 19 of 23 polyps (83%) were eradicated when necrosis was evident, compared to 5 of 12 (42%) without necrosis (p = 0.004). We conclude that hot biopsy treatment for diminutive polyps is significantly more effective when visible necrosis is achieved during cautery. Furthermore, even with visible necrosis, there is a 17% failure rate of polyp eradication.\\n\\n'"
      ]
     },
     "execution_count": 46,
     "metadata": {},
     "output_type": "execute_result"
    }
   ],
   "source": [
    "text"
   ]
  },
  {
   "cell_type": "code",
   "execution_count": 47,
   "metadata": {
    "collapsed": false
   },
   "outputs": [
    {
     "data": {
      "text/plain": [
       "'Adequacyof``hotbiopsy``forthetreatmentofdiminutivepolyps:aprospectiverandomizedtrial.Patientswithdiminutivepolypsintherectumorsigmoidcolonwererandomizedto``hotbiopsy``treatmentforeither1)electrocauteryfor2s(fixeddurationcautery)or2)cauteryuntilvisiblenecrosisofthepolypbasewasevident(variabledurationcautery).Sigmoidoscopywasperformed4wkaftertreatmenttodeterminetheadequacyofpolyperadication.Inthefixeddurationcauterygroup,11of21polyps(52%)wereeradicated,comparedwith12of14polyps(86%)inthevariabledurationcauterygroup(p=0.04).Whenanalyzedaccordingtowhetherornotvisiblenecrosiswasachieved(someofthepolypsinthefixeddurationcauterygroupshowednecrosiswith2scautery),19of23polyps(83%)wereeradicatedwhennecrosiswasevident,comparedto5of12(42%)withoutnecrosis(p=0.004).Weconcludethathotbiopsytreatmentfordiminutivepolypsissignificantlymoreeffectivewhenvisiblenecrosisisachievedduringcautery.Furthermore,evenwithvisiblenecrosis,thereisa17%failurerateofpolyperadication.'"
      ]
     },
     "execution_count": 47,
     "metadata": {},
     "output_type": "execute_result"
    }
   ],
   "source": [
    "text_clean = text.replace('\\n', '')\n",
    "text_clean = text_clean.replace(' ', '')\n",
    "text_clean = text_clean.replace('\"', '``')\n",
    "text_clean"
   ]
  },
  {
   "cell_type": "code",
   "execution_count": 48,
   "metadata": {
    "collapsed": false
   },
   "outputs": [],
   "source": [
    "new_index = 0\n",
    "\n",
    "ann_ind = 0\n",
    "curr_ann = ann[ann_ind]\n",
    "\n",
    "new_anns = []\n",
    "\n",
    "for c in range(len(text)):\n",
    "    if text[c] == ' ' or text[c] == '\\n':\n",
    "        new_index -= 1\n",
    "    if c == curr_ann:\n",
    "        new_anns.append(new_index)\n",
    "        ann_ind += 1\n",
    "        if (ann_ind >= len(ann)):\n",
    "            break\n",
    "        curr_ann = ann[ann_ind]\n",
    "    new_index += 1\n"
   ]
  },
  {
   "cell_type": "code",
   "execution_count": 15,
   "metadata": {
    "collapsed": false
   },
   "outputs": [
    {
     "data": {
      "text/plain": [
       "[98, 160]"
      ]
     },
     "execution_count": 15,
     "metadata": {},
     "output_type": "execute_result"
    }
   ],
   "source": [
    "ann"
   ]
  },
  {
   "cell_type": "code",
   "execution_count": 16,
   "metadata": {
    "collapsed": false
   },
   "outputs": [
    {
     "data": {
      "text/plain": [
       "[85, 140]"
      ]
     },
     "execution_count": 16,
     "metadata": {},
     "output_type": "execute_result"
    }
   ],
   "source": [
    "new_anns"
   ]
  },
  {
   "cell_type": "code",
   "execution_count": 11,
   "metadata": {
    "collapsed": false
   },
   "outputs": [
    {
     "name": "stdout",
     "output_type": "stream",
     "text": [
      "98\n",
      "160\n"
     ]
    }
   ],
   "source": [
    "new_index = 0\n",
    "\n",
    "ann_ind = 0\n",
    "curr_ann = ann[ann_ind]\n",
    "\n",
    "new_anns = []\n",
    "\n",
    "num_white = 0\n",
    "\n",
    "for a in ann: \n",
    "    print a\n",
    "    white = text[0:a].count(' ')\n",
    "    white += text[0:a].count('\\n')\n",
    "    white -= text[0:a].count('\"')\n",
    "    new_anns.append(a-white)\n",
    "\n"
   ]
  },
  {
   "cell_type": "code",
   "execution_count": 12,
   "metadata": {
    "collapsed": false
   },
   "outputs": [
    {
     "name": "stdout",
     "output_type": "stream",
     "text": [
      "original phrase length:  62 ;  new length:  53\n",
      "Patients with diminutive polyps in the rectum or sigmoid colon\n",
      "Patientswithdiminutivepolypsintherectumorsigmoidcolon\n",
      " \n"
     ]
    }
   ],
   "source": [
    "for i in range(0, len(ann), 2):\n",
    "    old = text[ann[i]:ann[i+1]]\n",
    "    new = text_clean[new_anns[i]:new_anns[i+1]]\n",
    "    print \"original phrase length: \", len(old), \";  new length: \", len(new)\n",
    "    print old\n",
    "    print new\n",
    "    print \" \""
   ]
  },
  {
   "cell_type": "code",
   "execution_count": 20,
   "metadata": {
    "collapsed": false
   },
   "outputs": [],
   "source": [
    "a = '\"Hello my friend\" he said'\n",
    "b = \" ``Hello my friend'' he said\""
   ]
  },
  {
   "cell_type": "code",
   "execution_count": 21,
   "metadata": {
    "collapsed": false
   },
   "outputs": [
    {
     "name": "stdout",
     "output_type": "stream",
     "text": [
      "\"Hello my friend\" he said\n"
     ]
    }
   ],
   "source": [
    "print a"
   ]
  },
  {
   "cell_type": "code",
   "execution_count": 22,
   "metadata": {
    "collapsed": false
   },
   "outputs": [
    {
     "name": "stdout",
     "output_type": "stream",
     "text": [
      " ``Hello my friend'' he said\n"
     ]
    }
   ],
   "source": [
    "print b"
   ]
  },
  {
   "cell_type": "code",
   "execution_count": 23,
   "metadata": {
    "collapsed": false
   },
   "outputs": [
    {
     "data": {
      "text/plain": [
       "' to ``    '"
      ]
     },
     "execution_count": 23,
     "metadata": {},
     "output_type": "execute_result"
    }
   ],
   "source": [
    "\" to ``    \" ''"
   ]
  },
  {
   "cell_type": "code",
   "execution_count": 63,
   "metadata": {
    "collapsed": false
   },
   "outputs": [],
   "source": [
    "# DEBUG VERSION\n",
    "# fixes gold annotations to not index based on white space\n",
    "def fix_gold_annotations_debug(abstract_path, gold_annotation_path):\n",
    "    abs_file = open(abstract_path, 'r');\n",
    "    text = abs_file.read()\n",
    "    \n",
    "    ann_file = open(gold_annotation_path, 'r');\n",
    "    anns = ann_file.read()\n",
    "    anns = anns.strip().split(' ')[1:]\n",
    "    \n",
    "    print anns\n",
    "    \n",
    "    anns = [int(x) for x in anns]\n",
    "    print anns\n",
    "    \n",
    "    clean_path = abstract_path[:-4] + '_tokens.txt'\n",
    "    clean_file = open(clean_path, 'r')\n",
    "    clean_text = clean_file.read().replace(' ', '')\n",
    "    \n",
    "    print text\n",
    "    print ' '\n",
    "    print clean_text\n",
    "    \n",
    "    new_anns = []\n",
    "    \n",
    "    for ann_index in anns: \n",
    "        white = text[0:ann_index].count(' ')\n",
    "        white += text[0:ann_index].count('\\n')\n",
    "        white -= text[0:ann_index].count('\"')\n",
    "        new_anns.append(ann_index-white)\n",
    "    print ' '\n",
    "    \n",
    "    print anns\n",
    "    print new_anns\n",
    "    \n",
    "    for i in range(0, len(anns), 2):\n",
    "        old = text[anns[i]:anns[i+1]]\n",
    "        new = clean_text[new_anns[i]:new_anns[i+1]]\n",
    "        print \"original phrase length: \", len(old), \";  new length: \", len(new)\n",
    "        print old\n",
    "        print new\n",
    "        print \" \""
   ]
  },
  {
   "cell_type": "code",
   "execution_count": 72,
   "metadata": {
    "collapsed": false
   },
   "outputs": [
    {
     "name": "stdout",
     "output_type": "stream",
     "text": [
      "['98', '160']\n",
      "[98, 160]\n",
      "Adequacy of \"hot biopsy\" for the treatment of diminutive polyps: a prospective randomized trial.\n",
      "\n",
      "Patients with diminutive polyps in the rectum or sigmoid colon were randomized to \"hot biopsy\" treatment for either 1) electrocautery for 2 s (fixed duration cautery) or 2) cautery until visible necrosis of the polyp base was evident (variable duration cautery). Sigmoidoscopy was performed 4 wk after treatment to determine the adequacy of polyp eradication. In the fixed duration cautery group, 11 of 21 polyps (52%) were eradicated, compared with 12 of 14 polyps (86%) in the variable duration cautery group (p = 0.04). When analyzed according to whether or not visible necrosis was achieved (some of the polyps in the fixed duration cautery group showed necrosis with 2 s cautery), 19 of 23 polyps (83%) were eradicated when necrosis was evident, compared to 5 of 12 (42%) without necrosis (p = 0.004). We conclude that hot biopsy treatment for diminutive polyps is significantly more effective when visible necrosis is achieved during cautery. Furthermore, even with visible necrosis, there is a 17% failure rate of polyp eradication.\n",
      "\n",
      "\n",
      " \n",
      "Adequacyof``hotbiopsy''forthetreatmentofdiminutivepolyps:aprospectiverandomizedtrial.Patientswithdiminutivepolypsintherectumorsigmoidcolonwererandomizedto``hotbiopsy''treatmentforeither1)electrocauteryfor2s(fixeddurationcautery)or2)cauteryuntilvisiblenecrosisofthepolypbasewasevident(variabledurationcautery).Sigmoidoscopywasperformed4wkaftertreatmenttodeterminetheadequacyofpolyperadication.Inthefixeddurationcauterygroup,11of21polyps(52%)wereeradicated,comparedwith12of14polyps(86%)inthevariabledurationcauterygroup(p=0.04).Whenanalyzedaccordingtowhetherornotvisiblenecrosiswasachieved(someofthepolypsinthefixeddurationcauterygroupshowednecrosiswith2scautery),19of23polyps(83%)wereeradicatedwhennecrosiswasevident,comparedto5of12(42%)withoutnecrosis(p=0.004).Weconcludethathotbiopsytreatmentfordiminutivepolypsissignificantlymoreeffectivewhenvisiblenecrosisisachievedduringcautery.Furthermore,evenwithvisiblenecrosis,thereisa17%failurerateofpolyperadication.\n",
      " \n",
      "[98, 160]\n",
      "[85, 138]\n",
      "original phrase length:  62 ;  new length:  53\n",
      "Patients with diminutive polyps in the rectum or sigmoid colon\n",
      "Patientswithdiminutivepolypsintherectumorsigmoidcolon\n",
      " \n"
     ]
    }
   ],
   "source": [
    "abstract = 'PICO-annotations/batch5k/0074f5e102cf4409ac07f6209dd30144/9665186.txt'\n",
    "annpath = 'PICO-annotations/batch5k/0074f5e102cf4409ac07f6209dd30144/9665186_gold.ann'\n",
    "\n",
    "abstract = 'PICO-annotations/batch5k/017e0bd245aa46b0bf1737ba34a30b2e/2648816.txt'\n",
    "annpath ='PICO-annotations/batch5k/017e0bd245aa46b0bf1737ba34a30b2e/2648816_gold.ann'\n",
    "\n",
    "fix_gold_annotations_debug(abstract, annpath)\n"
   ]
  },
  {
   "cell_type": "code",
   "execution_count": 67,
   "metadata": {
    "collapsed": true
   },
   "outputs": [],
   "source": [
    "# fixes gold annotations to not index based on white space\n",
    "def fix_gold_annotations(abstract_path, gold_annotation_path):\n",
    "    abs_file = open(abstract_path, 'r');\n",
    "    text = abs_file.read()\n",
    "    \n",
    "    ann_file = open(gold_annotation_path, 'r');\n",
    "    anns = ann_file.read()\n",
    "    anns = anns.strip().split(' ')[1:]\n",
    "        \n",
    "    anns = [int(x) for x in anns]\n",
    "    \n",
    "    new_anns = []\n",
    "    \n",
    "    for ann_index in anns: \n",
    "        white = text[0:ann_index].count(' ')\n",
    "        white += text[0:ann_index].count('\\n')\n",
    "        white -= text[0:ann_index].count('\"')\n",
    "        new_anns.append(ann_index-white)\n",
    "\n",
    "    new_ann_path = gold_annotation_path[:-4] + '_2.ann'\n",
    "    new_ann_file = open(new_ann_path, 'w');\n",
    "    new_anns_str = [str(x) for x in new_anns]\n",
    "    out = 'Participants ' + ' '.join(new_anns_str)\n",
    "    new_ann_file.write(out)"
   ]
  },
  {
   "cell_type": "code",
   "execution_count": 68,
   "metadata": {
    "collapsed": false
   },
   "outputs": [],
   "source": [
    "\n",
    "abstract ='PICO-annotations/batch5k/287c157f63e44612bd3f036004df2111/22727707.txt'\n",
    "annpath ='PICO-annotations/batch5k/287c157f63e44612bd3f036004df2111/22727707_gold.ann'\n",
    "\n",
    "fix_gold_annotations(abstract, annpath)"
   ]
  },
  {
   "cell_type": "code",
   "execution_count": 71,
   "metadata": {
    "collapsed": false
   },
   "outputs": [],
   "source": [
    "directory = 'PICO-annotations/batch5k'\n",
    "\n",
    "# For each subdirectory\n",
    "for subdir in os.listdir(directory):\n",
    "    subdir_path = directory + '/' + subdir\n",
    "    # print subdir_path\n",
    "    \n",
    "    # Not a directory\n",
    "    if not os.path.isdir(subdir_path):\n",
    "        continue\n",
    "    \n",
    "    # For each abstract in subdirectory\n",
    "    for abstract in os.listdir(subdir_path):\n",
    "        if (abstract.endswith('.txt')) and not (abstract.endswith('tokens.txt')):\n",
    "            abstract_path = subdir_path + '/' + abstract; \n",
    "            # print abstract_path\n",
    "            ann_path = abstract_path[0:-4] + '_gold.ann'\n",
    "            fix_gold_annotations(abstract_path, ann_path)"
   ]
  },
  {
   "cell_type": "code",
   "execution_count": null,
   "metadata": {
    "collapsed": true
   },
   "outputs": [],
   "source": []
  }
 ],
 "metadata": {
  "kernelspec": {
   "display_name": "Python 2",
   "language": "python",
   "name": "python2"
  },
  "language_info": {
   "codemirror_mode": {
    "name": "ipython",
    "version": 2
   },
   "file_extension": ".py",
   "mimetype": "text/x-python",
   "name": "python",
   "nbconvert_exporter": "python",
   "pygments_lexer": "ipython2",
   "version": "2.7.12"
  }
 },
 "nbformat": 4,
 "nbformat_minor": 1
}
