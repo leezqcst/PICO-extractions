{
 "cells": [
  {
   "cell_type": "code",
   "execution_count": 1,
   "metadata": {
    "collapsed": true
   },
   "outputs": [],
   "source": [
    "import os\n"
   ]
  },
  {
   "cell_type": "code",
   "execution_count": 45,
   "metadata": {
    "collapsed": true
   },
   "outputs": [],
   "source": [
    "abstract = 'PICO-annotations/batch5k/0074f5e102cf4409ac07f6209dd30144/20957980.txt'\n",
    "abs_file = open(abstract, 'r');\n",
    "text = abs_file.read()\n",
    "\n",
    "ann = [24, 65, 322, 375, 470 ,517,529, 695, 697, 808, 900, 1020, 1330, 1410 ]\n"
   ]
  },
  {
   "cell_type": "code",
   "execution_count": 46,
   "metadata": {
    "collapsed": false
   },
   "outputs": [
    {
     "data": {
      "text/plain": [
       "'Ipilimumab efficacy and safety in patients with advanced melanoma: a retrospective analysis of HLA subtype from four trials.\\n\\nIpilimumab is a fully human, monoclonal antibody that blocks cytotoxic T-lymphocyte antigen-4 to potentiate an antitumor T-cell response. This agent improved overall survival in a phase III trial in previously treated patients with advanced melanoma. Because the mechanism of action for ipilimumab is thought to be HLA independent, most trials enrolled patients without regard to HLA subtype. However, enrollment in the phase III trial was restricted to class-I HLA-A*0201-positive patients because two of the three arms contained an HLA-A*0201-restricted gp100 vaccine. HLA typing was also performed prospectively in several phase II trials and was available for 93.5% of patients. In this retrospective analysis, pooled efficacy and safety data are presented according to HLA-A*0201 status and dose from pretreated patients randomized to 0.3, 3, or 10 mg/kg ipilimumab in four phase II trials. Median overall survival (OS) was similar for the 187 HLA-A*0201-positive [9.3 months, 95% CI (confidence interval) 7.4-11.5] and 266 HLA-A*0201-negative patients [11.4 months, 95% CI 9.3-15.1] randomized to ipilimumab at all doses across the four phase II trials. These data are comparable to the OS for the 137 HLA-A*0201-positive patients randomized to ipilimumab in the phase III study [10.1 months, 95% CI 8.0-13.8]. Ipilimumab-induced adverse events and immune-related adverse events (skin, gastrointestinal, hepatic, other) also occurred at similar frequencies among patients in the phase II and III trials, regardless of HLA-A*0201 status. These findings support the hypothesis that ipilimumab-treated patients with advanced melanoma have similar outcomes regardless of their HLA-A*0201 status.\\n\\n'"
      ]
     },
     "execution_count": 46,
     "metadata": {},
     "output_type": "execute_result"
    }
   ],
   "source": [
    "text"
   ]
  },
  {
   "cell_type": "code",
   "execution_count": 47,
   "metadata": {
    "collapsed": false
   },
   "outputs": [
    {
     "data": {
      "text/plain": [
       "'Ipilimumabefficacyandsafetyinpatientswithadvancedmelanoma:aretrospectiveanalysisofHLAsubtypefromfourtrials.Ipilimumabisafullyhuman,monoclonalantibodythatblockscytotoxicT-lymphocyteantigen-4topotentiateanantitumorT-cellresponse.ThisagentimprovedoverallsurvivalinaphaseIIItrialinpreviouslytreatedpatientswithadvancedmelanoma.BecausethemechanismofactionforipilimumabisthoughttobeHLAindependent,mosttrialsenrolledpatientswithoutregardtoHLAsubtype.However,enrollmentinthephaseIIItrialwasrestrictedtoclass-IHLA-A*0201-positivepatientsbecausetwoofthethreearmscontainedanHLA-A*0201-restrictedgp100vaccine.HLAtypingwasalsoperformedprospectivelyinseveralphaseIItrialsandwasavailablefor93.5%ofpatients.Inthisretrospectiveanalysis,pooledefficacyandsafetydataarepresentedaccordingtoHLA-A*0201statusanddosefrompretreatedpatientsrandomizedto0.3,3,or10mg/kgipilimumabinfourphaseIItrials.Medianoverallsurvival(OS)wassimilarforthe187HLA-A*0201-positive[9.3months,95%CI(confidenceinterval)7.4-11.5]and266HLA-A*0201-negativepatients[11.4months,95%CI9.3-15.1]randomizedtoipilimumabatalldosesacrossthefourphaseIItrials.ThesedataarecomparabletotheOSforthe137HLA-A*0201-positivepatientsrandomizedtoipilimumabinthephaseIIIstudy[10.1months,95%CI8.0-13.8].Ipilimumab-inducedadverseeventsandimmune-relatedadverseevents(skin,gastrointestinal,hepatic,other)alsooccurredatsimilarfrequenciesamongpatientsinthephaseIIandIIItrials,regardlessofHLA-A*0201status.Thesefindingssupportthehypothesisthatipilimumab-treatedpatientswithadvancedmelanomahavesimilaroutcomesregardlessoftheirHLA-A*0201status.'"
      ]
     },
     "execution_count": 47,
     "metadata": {},
     "output_type": "execute_result"
    }
   ],
   "source": [
    "text_clean = text_clean.replace('\\n', '')\n",
    "text_clean = text_clean.replace(' ', '')\n",
    "text_clean"
   ]
  },
  {
   "cell_type": "code",
   "execution_count": 48,
   "metadata": {
    "collapsed": false
   },
   "outputs": [
    {
     "data": {
      "text/plain": [
       "'Ipilimumab efficacy and safety in patients with advanced melanoma: a retrospective analysis of HLA subtype from four trials.\\n\\nIpilimumab is a fully human, monoclonal antibody that blocks cytotoxic T-lymphocyte antigen-4 to potentiate an antitumor T-cell response. This agent improved overall survival in a phase III trial in previously treated patients with advanced melanoma. Because the mechanism of action for ipilimumab is thought to be HLA independent, most trials enrolled patients without regard to HLA subtype. However, enrollment in the phase III trial was restricted to class-I HLA-A*0201-positive patients because two of the three arms contained an HLA-A*0201-restricted gp100 vaccine. HLA typing was also performed prospectively in several phase II trials and was available for 93.5% of patients. In this retrospective analysis, pooled efficacy and safety data are presented according to HLA-A*0201 status and dose from pretreated patients randomized to 0.3, 3, or 10 mg/kg ipilimumab in four phase II trials. Median overall survival (OS) was similar for the 187 HLA-A*0201-positive [9.3 months, 95% CI (confidence interval) 7.4-11.5] and 266 HLA-A*0201-negative patients [11.4 months, 95% CI 9.3-15.1] randomized to ipilimumab at all doses across the four phase II trials. These data are comparable to the OS for the 137 HLA-A*0201-positive patients randomized to ipilimumab in the phase III study [10.1 months, 95% CI 8.0-13.8]. Ipilimumab-induced adverse events and immune-related adverse events (skin, gastrointestinal, hepatic, other) also occurred at similar frequencies among patients in the phase II and III trials, regardless of HLA-A*0201 status. These findings support the hypothesis that ipilimumab-treated patients with advanced melanoma have similar outcomes regardless of their HLA-A*0201 status.\\n\\n'"
      ]
     },
     "execution_count": 48,
     "metadata": {},
     "output_type": "execute_result"
    }
   ],
   "source": [
    "text"
   ]
  },
  {
   "cell_type": "code",
   "execution_count": 56,
   "metadata": {
    "collapsed": false
   },
   "outputs": [],
   "source": [
    "new_index = 0\n",
    "\n",
    "ann_ind = 0\n",
    "curr_ann = ann[ann_ind]\n",
    "\n",
    "new_anns = []\n",
    "\n",
    "for c in range(len(text)):\n",
    "    if text[c] == ' ' or text[c] == '\\n':\n",
    "        new_index -= 1\n",
    "    if c == curr_ann:\n",
    "        new_anns.append(new_index)\n",
    "        ann_ind += 1\n",
    "        if (ann_ind >= len(ann)):\n",
    "            break\n",
    "        curr_ann = ann[ann_ind]\n",
    "    new_index += 1\n"
   ]
  },
  {
   "cell_type": "code",
   "execution_count": 57,
   "metadata": {
    "collapsed": false
   },
   "outputs": [
    {
     "data": {
      "text/plain": [
       "[24, 65, 322, 375, 470, 517, 529, 695, 697, 808, 900, 1020, 1330, 1410]"
      ]
     },
     "execution_count": 57,
     "metadata": {},
     "output_type": "execute_result"
    }
   ],
   "source": [
    "ann"
   ]
  },
  {
   "cell_type": "code",
   "execution_count": 58,
   "metadata": {
    "collapsed": false
   },
   "outputs": [
    {
     "data": {
      "text/plain": [
       "[21, 57, 275, 322, 401, 442, 452, 596, 597, 690, 769, 870, 1132, 1201]"
      ]
     },
     "execution_count": 58,
     "metadata": {},
     "output_type": "execute_result"
    }
   ],
   "source": [
    "new_anns"
   ]
  },
  {
   "cell_type": "code",
   "execution_count": 59,
   "metadata": {
    "collapsed": false
   },
   "outputs": [
    {
     "name": "stdout",
     "output_type": "stream",
     "text": [
      "safety in patients with advanced melanoma\n",
      "safetyinpatientswithadvancedmelanoma\n",
      " \n",
      "in previously treated patients with advanced melanoma\n",
      "inpreviouslytreatedpatientswithadvancedmelanoma\n",
      " \n",
      "enrolled patients without regard to HLA subtype\n",
      "enrolledpatientswithoutregardtoHLAsubtype\n",
      " \n",
      "nrollment in the phase III trial was restricted to class-I HLA-A*0201-positive patients because two of the three arms contained an HLA-A*0201-restricted gp100 vaccine\n",
      "nrollmentinthephaseIIItrialwasrestrictedtoclass-IHLA-A*0201-positivepatientsbecausetwoofthethreearmscontainedanHLA-A*0201-restrictedgp100vaccine\n",
      " \n",
      "HLA typing was also performed prospectively in several phase II trials and was available for 93.5% of patients.\n",
      "HLAtypingwasalsoperformedprospectivelyinseveralphaseIItrialsandwasavailablefor93.5%ofpatients\n",
      " \n",
      "HLA-A*0201 status and dose from pretreated patients randomized to 0.3, 3, or 10 mg/kg ipilimumab in four phase II trials\n",
      "HLA-A*0201statusanddosefrompretreatedpatientsrandomizedto0.3,3,or10mg/kgipilimumabinfourphaseIItrials\n",
      " \n",
      "137 HLA-A*0201-positive patients randomized to ipilimumab in the phase III study\n",
      "137HLA-A*0201-positivepatientsrandomizedtoipilimumabinthephaseIIIstud\n",
      " \n"
     ]
    }
   ],
   "source": [
    "for i in range(0, len(ann), 2):\n",
    "    print text[ann[i]:ann[i+1]]\n",
    "    print text_clean[new_anns[i]:new_anns[i+1]]\n",
    "    print \" \""
   ]
  },
  {
   "cell_type": "code",
   "execution_count": null,
   "metadata": {
    "collapsed": true
   },
   "outputs": [],
   "source": []
  }
 ],
 "metadata": {
  "kernelspec": {
   "display_name": "Python 2",
   "language": "python",
   "name": "python2"
  },
  "language_info": {
   "codemirror_mode": {
    "name": "ipython",
    "version": 2
   },
   "file_extension": ".py",
   "mimetype": "text/x-python",
   "name": "python",
   "nbconvert_exporter": "python",
   "pygments_lexer": "ipython2",
   "version": "2.7.12"
  }
 },
 "nbformat": 4,
 "nbformat_minor": 1
}
