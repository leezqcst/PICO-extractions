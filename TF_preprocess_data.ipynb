{
 "cells": [
  {
   "cell_type": "code",
   "execution_count": 21,
   "metadata": {
    "collapsed": false
   },
   "outputs": [],
   "source": [
    "from genia_features_2 import abstracts2features\n",
    "from preprocess_data import get_all_data\n",
    "import tensorflow as tf\n",
    "from sklearn.feature_extraction import DictVectorizer"
   ]
  },
  {
   "cell_type": "code",
   "execution_count": 6,
   "metadata": {
    "collapsed": false
   },
   "outputs": [],
   "source": [
    "word_array, tag_array = get_all_data()\n",
    "X,Y = abstracts2features(word_array[1:10],tag_array[1:10],(1,1),False, w2v_size=100)"
   ]
  },
  {
   "cell_type": "code",
   "execution_count": 27,
   "metadata": {
    "collapsed": false,
    "scrolled": true
   },
   "outputs": [
    {
     "name": "stdout",
     "output_type": "stream",
     "text": [
      "{'isupper[0]': False, 'chunk[0]': 'NP', 'istitle[+1]': False, 'ne[+1]': 'O', 'inside_paren[+1]': 'False', 'word[+1]': 'of', 'chunk[+1]': 'PP', 'chunkiob[+1]': 'B', 'chunkiob[0]': 'B', 'ne[0]': 'O', 'pos[+1]': 'IN', 'pos[0]': 'NN', 'inside_paren[0]': 'False', 'word[0]': 'Monitoring', 'istitle[0]': True, 'isupper[+1]': False}\n"
     ]
    }
   ],
   "source": [
    "print X[0][0]"
   ]
  },
  {
   "cell_type": "code",
   "execution_count": 29,
   "metadata": {
    "collapsed": false
   },
   "outputs": [
    {
     "name": "stdout",
     "output_type": "stream",
     "text": [
      "{'ne[+1]': 'O', 'inside_paren[-1]': 'False', 'chunkiob[0]': 'I', 'ne[0]': 'O', 'istitle[+1]': False, 'word[0]': 'stress', 'istitle[0]': False, 'isupper[+1]': False, 'isupper[-1]': False, 'chunkiob[+1]': 'O', 'chunkiob[-1]': 'B', 'word[-1]': 'Work-related', 'pos[-1]': 'JJ', 'chunk[-1]': 'NP', 'inside_paren[+1]': 'False', 'istitle[-1]': False, 'isupper[0]': False, 'chunk[0]': 'NP', 'pos[+1]': 'CC', 'word[+1]': 'and', 'chunk[+1]': 'O', 'ne[-1]': 'O', 'pos[0]': 'NN', 'inside_paren[0]': 'False'}\n"
     ]
    }
   ],
   "source": [
    "print X[6][1]"
   ]
  },
  {
   "cell_type": "code",
   "execution_count": 22,
   "metadata": {
    "collapsed": true
   },
   "outputs": [],
   "source": [
    "# transform X to arrays only\n",
    "def x_dict_to_vect(X, dict_vect=None):\n",
    "    x_vect = []\n",
    "    if dict_vect is None: # dict_vect is None => fit dict_vect\n",
    "        x_flat = [word for abstract in X for word in abstract]\n",
    "        dict_vect = DictVectorizer()\n",
    "        x_vect = dict_vect.fit(x_flat)\n",
    "    x_vect = [dict_vect.transform(abstract) for abstract in X]\n",
    "    return x_vect, dict_vect"
   ]
  },
  {
   "cell_type": "code",
   "execution_count": 24,
   "metadata": {
    "collapsed": false
   },
   "outputs": [],
   "source": [
    "x_vect, dict_vect = x_dict_to_vect(X)"
   ]
  }
 ],
 "metadata": {
  "kernelspec": {
   "display_name": "Python 2",
   "language": "python",
   "name": "python2"
  },
  "language_info": {
   "codemirror_mode": {
    "name": "ipython",
    "version": 2
   },
   "file_extension": ".py",
   "mimetype": "text/x-python",
   "name": "python",
   "nbconvert_exporter": "python",
   "pygments_lexer": "ipython2",
   "version": "2.7.11"
  }
 },
 "nbformat": 4,
 "nbformat_minor": 1
}
