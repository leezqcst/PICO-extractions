{
 "cells": [
  {
   "cell_type": "code",
   "execution_count": 23,
   "metadata": {
    "collapsed": false
   },
   "outputs": [],
   "source": [
    "from genia_features_2 import abstracts2features\n",
    "from preprocess_data import get_all_data_train # for testing \n",
    "import numpy as np\n",
    "from sklearn.feature_extraction import DictVectorizer\n",
    "import tensorflow as tf\n",
    "session = tf.InteractiveSession()"
   ]
  },
  {
   "cell_type": "code",
   "execution_count": null,
   "metadata": {
    "collapsed": true
   },
   "outputs": [],
   "source": [
    "# transform X to sparse matrices \n",
    "def x_dict_to_vect(X, dict_vect=None):\n",
    "    x_vect = []\n",
    "    if dict_vect is None: # dict_vect is None => fit dict_vect\n",
    "        x_flat = [word for abstract in X for word in abstract]\n",
    "        dict_vect = DictVectorizer()\n",
    "        dict_vect.fit(x_flat)\n",
    "    print dict_vect.transform(X[0])\n",
    "    x_vect = [dict_vect.transform(abstract) for abstract in X]\n",
    "    return x_vect, dict_vect"
   ]
  },
  {
   "cell_type": "code",
   "execution_count": null,
   "metadata": {
    "collapsed": true
   },
   "outputs": [],
   "source": [
    "# TESTING CODE #\n",
    "word_array, tag_array = get_all_data_train()\n",
    "X,Y = abstracts2features(word_array[1:10],tag_array[1:10],1,1,False, w2v_size=100)\n",
    "x_vect, dict_vect = x_dict_to_vect(X)"
   ]
  },
  {
   "cell_type": "code",
   "execution_count": 24,
   "metadata": {
    "collapsed": false
   },
   "outputs": [],
   "source": [
    "data_placeholder = tf.placeholder(tf.float32, name='data_placeholder')\n",
    "labels_placeholder = tf.placeholder(tf.float32, name='labels_placeholder')"
   ]
  },
  {
   "cell_type": "code",
   "execution_count": 25,
   "metadata": {
    "collapsed": false
   },
   "outputs": [
    {
     "ename": "TypeError",
     "evalue": "run() takes at least 2 arguments (2 given)",
     "output_type": "error",
     "traceback": [
      "\u001b[0;31m---------------------------------------------------------------------------\u001b[0m",
      "\u001b[0;31mTypeError\u001b[0m                                 Traceback (most recent call last)",
      "\u001b[0;32m<ipython-input-25-b249a1305691>\u001b[0m in \u001b[0;36m<module>\u001b[0;34m()\u001b[0m\n\u001b[1;32m      2\u001b[0m \u001b[0;31m# Run the optimizer, get the loss, get the predictions.\u001b[0m\u001b[0;34m\u001b[0m\u001b[0;34m\u001b[0m\u001b[0m\n\u001b[1;32m      3\u001b[0m \u001b[0;31m# We can run multiple things at once and get their outputs\u001b[0m\u001b[0;34m\u001b[0m\u001b[0;34m\u001b[0m\u001b[0m\n\u001b[0;32m----> 4\u001b[0;31m \u001b[0m_\u001b[0m\u001b[0;34m,\u001b[0m \u001b[0mloss_value_train\u001b[0m\u001b[0;34m,\u001b[0m \u001b[0mpredictions_value_train\u001b[0m\u001b[0;34m,\u001b[0m \u001b[0maccuracy_value_train\u001b[0m \u001b[0;34m=\u001b[0m \u001b[0msession\u001b[0m\u001b[0;34m.\u001b[0m\u001b[0mrun\u001b[0m\u001b[0;34m(\u001b[0m\u001b[0mfeed_dict\u001b[0m\u001b[0;34m=\u001b[0m\u001b[0mfeed_dict_train\u001b[0m\u001b[0;34m)\u001b[0m\u001b[0;34m\u001b[0m\u001b[0m\n\u001b[0m",
      "\u001b[0;31mTypeError\u001b[0m: run() takes at least 2 arguments (2 given)"
     ]
    }
   ],
   "source": [
    "feed_dict_train = {data_placeholder: x_vect, labels_placeholder : Y}\n",
    "# Run the optimizer, get the loss, get the predictions.\n",
    "# We can run multiple things at once and get their outputs\n",
    "_, loss_value_train, predictions_value_train, accuracy_value_train = session.run(feed_dict=feed_dict_train)"
   ]
  },
  {
   "cell_type": "code",
   "execution_count": null,
   "metadata": {
    "collapsed": true
   },
   "outputs": [],
   "source": []
  }
 ],
 "metadata": {
  "kernelspec": {
   "display_name": "Python 2",
   "language": "python",
   "name": "python2"
  },
  "language_info": {
   "codemirror_mode": {
    "name": "ipython",
    "version": 2
   },
   "file_extension": ".py",
   "mimetype": "text/x-python",
   "name": "python",
   "nbconvert_exporter": "python",
   "pygments_lexer": "ipython2",
   "version": "2.7.11"
  }
 },
 "nbformat": 4,
 "nbformat_minor": 1
}
