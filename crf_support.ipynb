{
 "cells": [
  {
   "cell_type": "markdown",
   "metadata": {},
   "source": [
    "## CRF Support\n"
   ]
  },
  {
   "cell_type": "code",
   "execution_count": null,
   "metadata": {
    "collapsed": true
   },
   "outputs": [],
   "source": [
    "def get_all_data(data_set, tag):\n",
    "    switcher = {\n",
    "        'train': 'PICO-annotations/train_abstracts.txt',\n",
    "        'dev': 'PICO-annotations/dev_abstracts.txt',\n",
    "        'test': 'PICO-annotations/test_abstracts.txt', \n",
    "    }\n",
    "    \n",
    "    path = switcher[data_set]\n",
    "    abstract_file = open(path, 'r')\n",
    "    abstracts = abstract_file.readlines()\n",
    "    abstract_file.close()\n",
    "    \n",
    "    abstracts = [x.strip() for x in abstracts]\n",
    "    \n",
    "    tokens_array = []\n",
    "    tags_array = []\n",
    "    \n",
    "    for abstract_path in abstracts:\n",
    "        token_path = '{}_tokens.txt'.format(abstract_path[:-4])\n",
    "        tag_path = '{}_{}_tokens_tags.ann'.format(abstract_path[:-4], tag)\n",
    "        \n",
    "        f = open(token_path, 'r')\n",
    "        tokens = f.read().split()\n",
    "        f.close()\n",
    "        \n",
    "        f = open(tag_path, 'r')\n",
    "        tags = f.read().split()\n",
    "        f.close()\n",
    "        \n",
    "        if len(tokens) != len(tags):\n",
    "            raise ValueError('For this file, len of abstract words and tags did not match.', abstract_path)\n",
    "        \n",
    "        tokens_array.append(tokens)\n",
    "        tags_array.append(tags)\n",
    "    \n",
    "    if len(tokens_array) != len(tags_array):\n",
    "        raise ValueError('Overall, len of abstract words and tags did not match.')\n",
    "    \n",
    "    return tokens_array, tags_array"
   ]
  }
 ],
 "metadata": {
  "kernelspec": {
   "display_name": "Python 2",
   "language": "python",
   "name": "python2"
  },
  "language_info": {
   "codemirror_mode": {
    "name": "ipython",
    "version": 2
   },
   "file_extension": ".py",
   "mimetype": "text/x-python",
   "name": "python",
   "nbconvert_exporter": "python",
   "pygments_lexer": "ipython2",
   "version": "2.7.11"
  }
 },
 "nbformat": 4,
 "nbformat_minor": 0
}
