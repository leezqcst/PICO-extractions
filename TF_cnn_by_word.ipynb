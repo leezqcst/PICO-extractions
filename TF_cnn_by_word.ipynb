{
 "cells": [
  {
   "cell_type": "code",
   "execution_count": null,
   "metadata": {
    "collapsed": false
   },
   "outputs": [],
   "source": [
    "import numpy as np\n",
    "import tensorflow as tf\n",
    "from preprocess_data import get_all_data_train\n",
    "from preprocess_data import get_all_data_dev\n",
    "from TF_preprocess_data import get_1_hot_sentence_encodings\n",
    "from text_cnn_by_word import TextCNN\n",
    "import datetime\n",
    "# import data_helpers\n",
    "import time\n",
    "import os\n",
    "from tensorflow.contrib import learn\n",
    "from gensim.models import Word2Vec\n",
    "import sys\n",
    "\n",
    "# dennybritz's Sentance classification using cnn\n",
    "# https://github.com/dennybritz/cnn-text-classification-tf\n",
    "# njl's Sentiment Analysis example \n",
    "# https://github.com/nicholaslocascio/tensorflow-nlp-tutorial/blob/master/sentiment-analysis/Sentiment-RNN.ipynb"
   ]
  },
  {
   "cell_type": "markdown",
   "metadata": {},
   "source": [
    "# Parameters"
   ]
  },
  {
   "cell_type": "code",
   "execution_count": null,
   "metadata": {
    "collapsed": false,
    "scrolled": true
   },
   "outputs": [],
   "source": [
    "# Data loading params\n",
    "tf.flags.DEFINE_float(\"dev_sample_percentage\", .1, \"Percentage of the training data to use for validation\")\n",
    "tf.flags.DEFINE_integer(\"word_padding_size\", 3, \"Number of words for padding front and back\")\n",
    "tf.flags.DEFINE_integer(\"word_embedding_size\", 10, \"Number of words for padding front and back\")\n",
    "\n",
    "# Model Hyperparameters\n",
    "tf.flags.DEFINE_integer(\"embedding_dim\", 128, \"Dimensionality of character embedding (default: 128)\")\n",
    "tf.flags.DEFINE_string(\"filter_sizes\", \"3,4,5\", \"Comma-separated filter sizes (default: '3,4,5')\")\n",
    "tf.flags.DEFINE_integer(\"num_filters\", 64, \"Number of filters per filter size (default: 128)\")\n",
    "tf.flags.DEFINE_float(\"dropout_keep_prob\", 0.5, \"Dropout keep probability (default: 0.5)\")\n",
    "tf.flags.DEFINE_float(\"l2_reg_lambda\", 0.001, \"L2 regularizaion lambda (default: 0.0)\")\n",
    "\n",
    "# Training parameters\n",
    "tf.flags.DEFINE_integer(\"batch_size\", 128, \"Batch Size (default: 64)\")\n",
    "tf.flags.DEFINE_integer(\"num_epochs\", 10, \"Number of training epochs (default: 200)\")\n",
    "tf.flags.DEFINE_integer(\"evaluate_every\", 2000, \"Evaluate model on dev set after this many steps (default: 100)\")\n",
    "tf.flags.DEFINE_integer(\"checkpoint_every\", 1000, \"Save model after this many steps (default: 100)\")\n",
    "# Misc Parameters\n",
    "tf.flags.DEFINE_boolean(\"allow_soft_placement\", True, \"Allow device soft device placement\")\n",
    "tf.flags.DEFINE_boolean(\"log_device_placement\", False, \"Log placement of ops on devices\")\n",
    "tf.flags.DEFINE_integer(\"eval_batches\", 1000, \"Number of batches output to use when calculating precision, recall and f1\")\n",
    "\n",
    "FLAGS = tf.flags.FLAGS\n",
    "FLAGS._parse_flags()\n",
    "print(\"\\nParameters:\")\n",
    "for attr, value in sorted(FLAGS.__flags.items()):\n",
    "    print(\"{}={}\".format(attr.upper(), value))\n",
    "print(\"\")"
   ]
  },
  {
   "cell_type": "markdown",
   "metadata": {},
   "source": [
    "# Data Preparation"
   ]
  },
  {
   "cell_type": "code",
   "execution_count": null,
   "metadata": {
    "collapsed": false
   },
   "outputs": [],
   "source": [
    "def use(what='w2v'):\n",
    "    return True\n",
    "\n",
    "w2v_size = 10; #134 #???????????????????\n",
    "\n",
    "w2v_model = 'pubmed';\n",
    " \n",
    "pubmed_w2v_name = 'PubMed-w2v.bin'\n",
    "pubmed_wiki_w2v_name = 'wikipedia-pubmed-and-PMC-w2v.bin'\n",
    "\n",
    "if w2v_model == 'pubmed' or w2v_model == 'pubmed_wiki':\n",
    "    print 'Loading word2vec model...'\n",
    "\n",
    "    if w2v_model == 'pubmed_wiki':\n",
    "        print 'Using pubmed_wiki word2vec...'\n",
    "        sys.stdout.flush()\n",
    "        word2vec_model = pubmed_wiki_w2v_name\n",
    "    else:\n",
    "        print 'Using pubmed word2vec...'\n",
    "        sys.stdout.flush()\n",
    "        word2vec_model = pubmed_w2v_name\n",
    "\n",
    "    w2v = Word2Vec.load_word2vec_format(word2vec_model, binary=True)\n",
    "    print 'Loaded word2vec model'\n",
    "else:\n",
    "    w2v = None\n",
    "    \n",
    "    \n"
   ]
  },
  {
   "cell_type": "code",
   "execution_count": null,
   "metadata": {
    "collapsed": false
   },
   "outputs": [],
   "source": [
    "#n must be a factor of 200\n",
    "def condense_vector(vector, target_n=10):\n",
    "    new_vector = [0]*target_n\n",
    "    for i in range(0, target_n):\n",
    "        new_vector[i] = np.sum(vector[(target_n*i):((target_n*i)+target_n)])\n",
    "    \n",
    "    return np.array(new_vector)\n",
    "    \n",
    "\n",
    "# b = condense_vector(w2v['participant'])"
   ]
  },
  {
   "cell_type": "code",
   "execution_count": null,
   "metadata": {
    "collapsed": true
   },
   "outputs": [],
   "source": [
    "# n words to pad on each side of the word \n",
    "def get_train_data(n):\n",
    "    # split into train and dev \n",
    "    word_array, tag_array = get_all_data_train(sentences=False)\n",
    "    x_n_padded, y = process_data_into_chunks(word_array, tag_array, n)\n",
    "    \n",
    "    # Build vocabulary\n",
    "    document_length = 2*n+1\n",
    "    vocab_processor = learn.preprocessing.VocabularyProcessor(document_length)\n",
    "    \n",
    "    x = np.array(list(vocab_processor.fit_transform(x_n_padded)))\n",
    "    \n",
    "    return x, y, vocab_processor"
   ]
  },
  {
   "cell_type": "code",
   "execution_count": null,
   "metadata": {
    "collapsed": true
   },
   "outputs": [],
   "source": [
    "def get_dev_data(n, vocab_processor):\n",
    "    word_array, tag_array = get_all_data_dev(sentences=False)\n",
    "    x_n_padded, y = process_data_into_chunks(word_array, tag_array, n)\n",
    "    \n",
    "    x = np.array(list(vocab_processor.transform(x_n_padded)))\n",
    "    \n",
    "    return x,y  "
   ]
  },
  {
   "cell_type": "code",
   "execution_count": null,
   "metadata": {
    "collapsed": true
   },
   "outputs": [],
   "source": [
    "def get_data(n, vocab_processor, data_type='dev'):\n",
    "    if data_type == 'dev':\n",
    "        word_array, tag_array = get_all_data_dev(sentences=False)\n",
    "    else:\n",
    "        word_array, tag_array = get_all_data_test(sentences=False)\n",
    "    x_n_padded, y = process_data_into_chunks(word_array, tag_array, n)\n",
    "    \n",
    "    x = np.array(list(vocab_processor.transform(x_n_padded)))\n",
    "    \n",
    "    return x,y  "
   ]
  },
  {
   "cell_type": "code",
   "execution_count": null,
   "metadata": {
    "collapsed": true
   },
   "outputs": [],
   "source": [
    "def process_data_into_chunks(word_array, tag_array, n):\n",
    "    x_n = []\n",
    "    for abstract in word_array:\n",
    "        # pad abstract with * \n",
    "        padding = [\"*\"] * n\n",
    "        padded_abstract = padding\n",
    "        padded_abstract.extend(abstract)\n",
    "        padded_abstract.extend(padding)\n",
    "        # for all words (excluding padding)\n",
    "        for i in range(n, len(abstract)+n):\n",
    "            x_n.append(padded_abstract[i-n:i+n+1])\n",
    "                \n",
    "    x_n_padded = [' '.join(word) for word in x_n]\n",
    "\n",
    "    y_binary = [y for x in tag_array for y in x] # flatten tag array\n",
    "    y = np.array([[1,0] if tag == 'P' else [0,1] for tag in y_binary ])\n",
    "    \n",
    "    return x_n_padded, y"
   ]
  },
  {
   "cell_type": "code",
   "execution_count": null,
   "metadata": {
    "collapsed": true
   },
   "outputs": [],
   "source": [
    "# n words to pad on each side of the word \n",
    "def get_train_data_word2vec(n, embedding_n=10):\n",
    "    # split into train and dev \n",
    "    word_array, tag_array = get_all_data_train(sentences=False)\n",
    "    x_n_padded, y = process_data_into_chunks(word_array, tag_array, n)\n",
    "\n",
    "    w2v_array = []\n",
    "    for phrase in x_n_padded:\n",
    "        phrase_array = []\n",
    "        for word in phrase.split(' '):\n",
    "            if (word in w2v.vocab):\n",
    "                a = w2v[word]\n",
    "            else: \n",
    "                a = [0]*embedding_n\n",
    "            phrase_array.append(condense_vector(a, target_n=target_n))\n",
    "        w2v_array.append(phrase_array)\n",
    "                \n",
    "    # Build vocabulary\n",
    "    document_length = 2*n+1\n",
    "    vocab_processor = learn.preprocessing.VocabularyProcessor(document_length)\n",
    "    \n",
    "    x = np.array(list(vocab_processor.fit_transform(x_n_padded)))    \n",
    "    x_final = np.zeros((x.shape[0], (x.shape[1]*10)+x.shape[1]))\n",
    "\n",
    "    for row in range(0, x.shape[0]):\n",
    "        row_list = []\n",
    "        for col in range(0, x.shape[1]):\n",
    "            word_list = w2v_array[row][col]\n",
    "            word_list.append(x[row, col])\n",
    "            row_list.extend(word_list)\n",
    "        x_final[row] = row_list\n",
    "        \n",
    "\n",
    "    return x_final, y, vocab_processor"
   ]
  },
  {
   "cell_type": "code",
   "execution_count": null,
   "metadata": {
    "collapsed": true
   },
   "outputs": [],
   "source": [
    "def get_data_word2vec(n, vocab_processor, embedding_n=10, data_type='dev'):\n",
    "    if data_type == 'dev':\n",
    "        word_array, tag_array = get_all_data_dev(sentences=False)\n",
    "    else:\n",
    "        word_array, tag_array = get_all_data_test(sentences=False)\n",
    "    x_n_padded, y = process_data_into_chunks(word_array, tag_array, n)\n",
    "    \n",
    "    w2v_array = []\n",
    "    max_elt = 0.0\n",
    "    min_elt = 0.0\n",
    "    for phrase in x_n_padded:\n",
    "        phrase_array = []\n",
    "        for word in phrase.split(' '):\n",
    "            if (word in w2v.vocab):\n",
    "                a = w2v[word]\n",
    "            else: \n",
    "                a = [0]*embedding_n\n",
    "            c_vec = condense_vector(a, target_n=embedding_n)\n",
    "            phrase_array.append(c_vec)\n",
    "            if (np.max(c_vec) > max_elt):\n",
    "                max_elt = np.max(c_vec)\n",
    "            if (np.min(c_vec) < min_elt):\n",
    "                min_elt = np.min(c_vec)                \n",
    "#         phrase_array = phrase_array)\n",
    "        w2v_array.append(phrase_array)\n",
    "    \n",
    "    print \"MAX: \", max_elt\n",
    "    print \"MIN: \", min_elt\n",
    "    \n",
    "    x = np.array(list(vocab_processor.transform(x_n_padded)))\n",
    "    \n",
    "#     return x, w2v_array, y\n",
    "\n",
    "    factor = float(np.max(x))/float(max_elt)\n",
    "    for phrase in w2v_array:\n",
    "        for word_array in phrase:\n",
    "            print \"first\"\n",
    "            print word_array\n",
    "            word_array = word_array + np.ceil(-min_elt)\n",
    "            print \"second\"\n",
    "            print word_array\n",
    "            word_array = word_array * factor\n",
    "            print \"third\"\n",
    "            print word_array\n",
    "    \n",
    "#     print \"factor: \", factor \n",
    "    \n",
    "    \n",
    "#     print \"new min: \", np.min(w2v_array)\n",
    "#     print \"new max: \", np.max(w2v_array)\n",
    "    \n",
    "    x_final = np.zeros((x.shape[0], (x.shape[1]*10)+x.shape[1]))\n",
    "\n",
    "    for row in range(0, x.shape[0]):\n",
    "        row_list = []\n",
    "        for col in range(0, x.shape[1]):\n",
    "            word_list = w2v_array[row][col].tolist()\n",
    "#             print \"oofffff\"\n",
    "#             print word_list\n",
    "#             print len(word_list)\n",
    "#             print type(word_list)\n",
    "#             word_list = w2v_array[row][col]\n",
    "            word_list.append(x[row, col])\n",
    "            row_list.extend(word_list)\n",
    "        x_final[row] = row_list\n",
    "        \n",
    "\n",
    "    return x_final, y "
   ]
  },
  {
   "cell_type": "code",
   "execution_count": 10,
   "metadata": {
    "collapsed": false
   },
   "outputs": [],
   "source": [
    "# x_train, y_train, vocab_processor = get_train_data(FLAGS.word_padding_size)"
   ]
  },
  {
   "cell_type": "code",
   "execution_count": 11,
   "metadata": {
    "collapsed": true
   },
   "outputs": [],
   "source": [
    "# x_dev, y_dev = get_data(FLAGS.word_padding_size, vocab_processor)"
   ]
  },
  {
   "cell_type": "code",
   "execution_count": null,
   "metadata": {
    "collapsed": true
   },
   "outputs": [],
   "source": [
    "# x_test, y_test = get_data(FLAGS.word_padding_size, vocab_processor, data_type='test')\n"
   ]
  },
  {
   "cell_type": "code",
   "execution_count": 12,
   "metadata": {
    "collapsed": false
   },
   "outputs": [],
   "source": [
    "x_train, y_train, vocab_processor = get_train_data_word2vec(FLAGS.word_padding_size, FLAGS.word_embedding_size)"
   ]
  },
  {
   "cell_type": "code",
   "execution_count": 39,
   "metadata": {
    "collapsed": false
   },
   "outputs": [
    {
     "name": "stdout",
     "output_type": "stream",
     "text": [
      "(927022, 77)\n",
      "[ 0.06116137  0.04870589 -0.724154    0.29328731  0.43078557 -0.22427459\n",
      "  0.32917875 -0.70751494  1.16268647 -0.09563321  1.          0.06116137\n",
      "  0.04870589 -0.724154    0.29328731  0.43078557 -0.22427459  0.32917875\n",
      " -0.70751494  1.16268647 -0.09563321  2.          0.06116137  0.04870589\n",
      " -0.724154    0.29328731  0.43078557 -0.22427459  0.32917875 -0.70751494\n",
      "  1.16268647 -0.09563321  3.         -0.33977285  0.69270533 -2.304461\n",
      " -0.93865824 -1.25552583  0.80021775 -0.96986091  0.08069815  1.02784252\n",
      " -2.00825548  4.         -0.74171555 -0.16754274  0.48704249 -1.0912416\n",
      " -0.2701939  -0.22739466 -0.38968977 -0.0047534   0.28046674  0.23996496\n",
      "  0.         -1.0974319   0.02040189 -0.32725716 -0.00822355 -0.09443998\n",
      " -0.27242973 -0.06117047  0.05497997  0.11553147 -0.19321446  0.\n",
      " -0.25865376 -0.2014963  -0.0520792  -0.0435397  -0.08674312  0.46963233\n",
      " -0.30028436  0.27788565  0.30698878 -0.53296924  0.        ]\n"
     ]
    }
   ],
   "source": [
    "print x_train.shape\n",
    "print x_train[0]"
   ]
  },
  {
   "cell_type": "code",
   "execution_count": null,
   "metadata": {
    "collapsed": false
   },
   "outputs": [],
   "source": [
    "x_dev, y_dev = get_data_word2vec(FLAGS.word_padding_size, vocab_processor, FLAGS.word_embedding_size)"
   ]
  },
  {
   "cell_type": "code",
   "execution_count": 72,
   "metadata": {
    "collapsed": false
   },
   "outputs": [
    {
     "name": "stdout",
     "output_type": "stream",
     "text": [
      "[  6.11613691e-02   4.87058908e-02  -7.24153996e-01   2.93287307e-01\n",
      "   4.30785567e-01  -2.24274591e-01   3.29178751e-01  -7.07514942e-01\n",
      "   1.16268647e+00  -9.56332088e-02   4.40300000e+03   6.11613691e-02\n",
      "   4.87058908e-02  -7.24153996e-01   2.93287307e-01   4.30785567e-01\n",
      "  -2.24274591e-01   3.29178751e-01  -7.07514942e-01   1.16268647e+00\n",
      "  -9.56332088e-02   6.30000000e+01   6.11613691e-02   4.87058908e-02\n",
      "  -7.24153996e-01   2.93287307e-01   4.30785567e-01  -2.24274591e-01\n",
      "   3.29178751e-01  -7.07514942e-01   1.16268647e+00  -9.56332088e-02\n",
      "   2.15250000e+04  -6.26403153e-01   5.96026123e-01   5.76806903e-01\n",
      "   4.41752672e-01   3.26137245e-01  -9.71230865e-03   7.63576627e-01\n",
      "  -1.17189713e-01   2.08361030e+00  -1.09825265e+00   6.49000000e+03\n",
      "  -1.81596711e-01   5.96151054e-02  -4.50327247e-03  -1.56360306e-02\n",
      "  -3.37062329e-02  -4.87020969e-01  -7.10235909e-02   7.25812837e-02\n",
      "   2.05925584e-01  -2.46358275e-01   0.00000000e+00   3.72910738e-01\n",
      "   6.30928457e-01  -5.80834746e-01  -8.82148504e-01   4.08246756e-01\n",
      "   1.27489984e-01  -3.84265482e-02  -2.57128477e-01  -9.88383889e-01\n",
      "  -4.03727591e-03   0.00000000e+00  -8.91132772e-01  -5.47714904e-03\n",
      "  -1.87323377e-01   4.38251168e-01  -1.62597135e-01  -1.64220586e-01\n",
      "  -1.95612013e-02   6.30556285e-01  -5.98532021e-01  -2.14789510e-01\n",
      "   0.00000000e+00]\n"
     ]
    }
   ],
   "source": [
    "print x_dev[0]"
   ]
  },
  {
   "cell_type": "code",
   "execution_count": 37,
   "metadata": {
    "collapsed": false
   },
   "outputs": [],
   "source": [
    "x_dev, w2v_array, y_dev = get_dev_data_word2vec(FLAGS.word_padding_size, vocab_processor, FLAGS.word_embedding_size)"
   ]
  },
  {
   "cell_type": "code",
   "execution_count": 42,
   "metadata": {
    "collapsed": false
   },
   "outputs": [
    {
     "name": "stdout",
     "output_type": "stream",
     "text": [
      "36895\n",
      "6.53888177872\n",
      "5642.4020572\n"
     ]
    }
   ],
   "source": [
    "print np.max(x_dev)\n",
    "print np.max(w2v_array)\n",
    "factor = np.max(x_dev)/np.max(w2v_array)\n",
    "print factor\n",
    "new = w2v_array * factor"
   ]
  },
  {
   "cell_type": "code",
   "execution_count": 43,
   "metadata": {
    "collapsed": false
   },
   "outputs": [
    {
     "name": "stdout",
     "output_type": "stream",
     "text": [
      "[[0.061161369, 0.048705891, -0.724154, 0.29328731, 0.43078557, -0.22427459, 0.32917875, -0.70751494, 1.1626865, -0.095633209], [0.061161369, 0.048705891, -0.724154, 0.29328731, 0.43078557, -0.22427459, 0.32917875, -0.70751494, 1.1626865, -0.095633209], [0.061161369, 0.048705891, -0.724154, 0.29328731, 0.43078557, -0.22427459, 0.32917875, -0.70751494, 1.1626865, -0.095633209], [-0.62640315, 0.59602612, 0.5768069, 0.44175267, 0.32613724, -0.0097123086, 0.76357663, -0.11718971, 2.0836103, -1.0982527], [-0.18159671, 0.059615105, -0.0045032725, -0.015636031, -0.033706233, -0.48702097, -0.071023591, 0.072581284, 0.20592558, -0.24635828], [0.37291074, 0.63092846, -0.58083475, -0.8821485, 0.40824676, 0.12748998, -0.038426548, -0.25712848, -0.98838389, -0.0040372759], [-0.89113277, -0.005477149, -0.18732338, 0.43825117, -0.16259713, -0.16422059, -0.019561201, 0.63055629, -0.59853202, -0.21478951]]\n"
     ]
    }
   ],
   "source": [
    "print new[0]"
   ]
  },
  {
   "cell_type": "code",
   "execution_count": 44,
   "metadata": {
    "collapsed": false
   },
   "outputs": [
    {
     "name": "stdout",
     "output_type": "stream",
     "text": [
      "[1, 2, 3, 4, 1, 2, 3, 4, 1, 2, 3, 4, 1, 2, 3, 4, 1, 2, 3, 4, 1, 2, 3, 4, 1, 2, 3, 4, 1, 2, 3, 4, 1, 2, 3, 4, 1, 2, 3, 4]\n"
     ]
    }
   ],
   "source": [
    "a = [1, 2, 3, 4] * 10\n",
    "print a"
   ]
  },
  {
   "cell_type": "code",
   "execution_count": 26,
   "metadata": {
    "collapsed": false
   },
   "outputs": [
    {
     "name": "stdout",
     "output_type": "stream",
     "text": [
      "[ 0.06116137  0.04870589 -0.724154    0.29328731  0.43078557 -0.22427459\n",
      "  0.32917875 -0.70751494  1.16268647 -0.09563321  1.          0.06116137\n",
      "  0.04870589 -0.724154    0.29328731  0.43078557 -0.22427459  0.32917875\n",
      " -0.70751494  1.16268647 -0.09563321  2.          0.06116137  0.04870589\n",
      " -0.724154    0.29328731  0.43078557 -0.22427459  0.32917875 -0.70751494\n",
      "  1.16268647 -0.09563321  3.         -0.33977285  0.69270533 -2.304461\n",
      " -0.93865824 -1.25552583  0.80021775 -0.96986091  0.08069815  1.02784252\n",
      " -2.00825548  4.         -0.74171555 -0.16754274  0.48704249 -1.0912416\n",
      " -0.2701939  -0.22739466 -0.38968977 -0.0047534   0.28046674  0.23996496\n",
      "  0.         -1.0974319   0.02040189 -0.32725716 -0.00822355 -0.09443998\n",
      " -0.27242973 -0.06117047  0.05497997  0.11553147 -0.19321446  0.\n",
      " -0.25865376 -0.2014963  -0.0520792  -0.0435397  -0.08674312  0.46963233\n",
      " -0.30028436  0.27788565  0.30698878 -0.53296924  0.        ]\n",
      "927022\n",
      "-4.95915651321\n",
      "[ 5.06116137  5.04870589  4.275846    5.29328731  5.43078557  4.77572541\n",
      "  5.32917875  4.29248506  6.16268647  4.90436679  6.          5.06116137\n",
      "  5.04870589  4.275846    5.29328731  5.43078557  4.77572541  5.32917875\n",
      "  4.29248506  6.16268647  4.90436679  7.          5.06116137  5.04870589\n",
      "  4.275846    5.29328731  5.43078557  4.77572541  5.32917875  4.29248506\n",
      "  6.16268647  4.90436679  8.          4.66022715  5.69270533  2.695539\n",
      "  4.06134176  3.74447417  5.80021775  4.03013909  5.08069815  6.02784252\n",
      "  2.99174452  9.          4.25828445  4.83245726  5.48704249  3.9087584\n",
      "  4.7298061   4.77260534  4.61031023  4.9952466   5.28046674  5.23996496\n",
      "  5.          3.9025681   5.02040189  4.67274284  4.99177645  4.90556002\n",
      "  4.72757027  4.93882953  5.05497997  5.11553147  4.80678554  5.\n",
      "  4.74134624  4.7985037   4.9479208   4.9564603   4.91325688  5.46963233\n",
      "  4.69971564  5.27788565  5.30698878  4.46703076  5.        ]\n",
      "36900.0\n"
     ]
    }
   ],
   "source": [
    "print x_train[0]\n",
    "print len(x_train)\n",
    "print np.min(x_train)\n",
    "x_train_final = x_train + 5\n",
    "print x_train_final[0]\n",
    "print np.max(x_train)\n",
    "\n"
   ]
  },
  {
   "cell_type": "code",
   "execution_count": 34,
   "metadata": {
    "collapsed": false
   },
   "outputs": [
    {
     "name": "stdout",
     "output_type": "stream",
     "text": [
      "[1 2 3]\n",
      "[11 12 13]\n",
      "[ 1.72  3.44  5.16]\n"
     ]
    }
   ],
   "source": [
    "a = np.array([1, 2, 3])\n",
    "print a\n",
    "print a + 10\n",
    "print a * float(1.72)\n"
   ]
  },
  {
   "cell_type": "code",
   "execution_count": 14,
   "metadata": {
    "collapsed": false
   },
   "outputs": [],
   "source": [
    "# # pad single words with n words on either side \n",
    "# n = 3\n",
    "# x_n = []\n",
    "# for abstract in word_array:\n",
    "#     # pad abstract with * \n",
    "#     padding = [\"*\"] * n\n",
    "#     padded_abstract = padding\n",
    "#     padded_abstract.extend(abstract)\n",
    "#     padded_abstract.extend(padding)\n",
    "#     # for all words (excluding padding)\n",
    "#     for i in range(n, len(abstract)+n):\n",
    "#         x_n.append(padded_abstract[i-n:i+n+1])\n",
    "\n",
    "# y_binary = [y for x in tag_array for y in x] # flatten tag array\n",
    "# y = np.array([[1,0] if tag == 'P' else [0,1] for tag in y_binary ])\n"
   ]
  },
  {
   "cell_type": "code",
   "execution_count": 15,
   "metadata": {
    "collapsed": false
   },
   "outputs": [],
   "source": [
    "# # Build vocabulary\n",
    "# document_length = 2*n+1\n",
    "# vocab_processor = learn.preprocessing.VocabularyProcessor(document_length)\n",
    "# n_array = [' '.join(word) for word in x_n]\n",
    "# x = np.array(list(vocab_processor.fit_transform(n_array)))"
   ]
  },
  {
   "cell_type": "code",
   "execution_count": null,
   "metadata": {
    "collapsed": true
   },
   "outputs": [],
   "source": []
  },
  {
   "cell_type": "markdown",
   "metadata": {},
   "source": [
    "# Helper Functions"
   ]
  },
  {
   "cell_type": "code",
   "execution_count": 16,
   "metadata": {
    "collapsed": true
   },
   "outputs": [],
   "source": [
    "# copied unchanged function\n",
    "def batch_iter(data, batch_size, num_epochs, shuffle=True):\n",
    "    \"\"\"\n",
    "    Generates a batch iterator for a dataset.\n",
    "    \"\"\"\n",
    "    data = np.array(data)\n",
    "    data_size = len(data)\n",
    "    num_batches_per_epoch = int(len(data)/batch_size) + 1\n",
    "    for epoch in range(num_epochs):\n",
    "        # Shuffle the data at each epoch\n",
    "        if shuffle:\n",
    "            shuffle_indices = np.random.permutation(np.arange(data_size))\n",
    "            shuffled_data = data[shuffle_indices]\n",
    "        else:\n",
    "            shuffled_data = data\n",
    "        for batch_num in range(num_batches_per_epoch):\n",
    "            start_index = batch_num * batch_size\n",
    "            end_index = min((batch_num + 1) * batch_size, data_size)\n",
    "            yield shuffled_data[start_index:end_index]"
   ]
  },
  {
   "cell_type": "code",
   "execution_count": 17,
   "metadata": {
    "collapsed": false
   },
   "outputs": [],
   "source": [
    "def get_eval_counts(truth, predictions):\n",
    "\n",
    "    p_tokens_extracted = len(predictions) - sum(predictions)\n",
    "    p_true_tokens = len(truth) - sum(truth)\n",
    "    p_tokens_correct = sum([1 for i, j in zip(truth, predictions) if (i == 0 and j == 0)])\n",
    "    \n",
    "#     print (p_tokens_extracted, p_tokens_correct, p_true_tokens)\n",
    "    return (p_tokens_extracted, p_tokens_correct, p_true_tokens)\n"
   ]
  },
  {
   "cell_type": "code",
   "execution_count": 18,
   "metadata": {
    "collapsed": true
   },
   "outputs": [],
   "source": [
    "def calculate_precision_recall_f1(p_tokens_extracted, p_tokens_correct, p_true_tokens):\n",
    "    if (p_tokens_extracted == 0):\n",
    "        if (p_tokens_correct == 0):\n",
    "            precision = 1\n",
    "        else:\n",
    "            precision = 0\n",
    "    else:\n",
    "        precision = float(p_tokens_correct)/float(p_tokens_extracted)\n",
    "\n",
    "    if (p_true_tokens == 0):\n",
    "        if (p_tokens_correct == 0):\n",
    "            recall = 1\n",
    "        else:\n",
    "            recall = 0\n",
    "    else:\n",
    "        recall = float(p_tokens_correct)/float(p_true_tokens)\n",
    "    if ((precision + recall) == 0):\n",
    "        f1 = 0\n",
    "    else:\n",
    "        f1 = (2*precision*recall)/(precision+recall)\n",
    "    return (precision, recall, f1)"
   ]
  },
  {
   "cell_type": "markdown",
   "metadata": {},
   "source": [
    "## Training"
   ]
  },
  {
   "cell_type": "code",
   "execution_count": 19,
   "metadata": {
    "collapsed": false,
    "scrolled": false
   },
   "outputs": [
    {
     "name": "stdout",
     "output_type": "stream",
     "text": [
      "Writing to /Users/Hansa/Desktop/6.864_project/6.864-project/runs/1481237249\n",
      "\n"
     ]
    },
    {
     "ename": "InvalidArgumentError",
     "evalue": "indices[1,20] = -1 is not in [0, 36901)\n\t [[Node: embedding/embedding_lookup = Gather[Tindices=DT_INT32, Tparams=DT_FLOAT, _class=[\"loc:@embedding/W\"], validate_indices=true, _device=\"/job:localhost/replica:0/task:0/cpu:0\"](embedding/W/read, _recv_input_x_0)]]\nCaused by op u'embedding/embedding_lookup', defined at:\n  File \"/Users/Hansa/anaconda/envs/tensorflow/lib/python2.7/runpy.py\", line 174, in _run_module_as_main\n    \"__main__\", fname, loader, pkg_name)\n  File \"/Users/Hansa/anaconda/envs/tensorflow/lib/python2.7/runpy.py\", line 72, in _run_code\n    exec code in run_globals\n  File \"/Users/Hansa/anaconda/envs/tensorflow/lib/python2.7/site-packages/ipykernel/__main__.py\", line 3, in <module>\n    app.launch_new_instance()\n  File \"/Users/Hansa/anaconda/envs/tensorflow/lib/python2.7/site-packages/traitlets/config/application.py\", line 658, in launch_instance\n    app.start()\n  File \"/Users/Hansa/anaconda/envs/tensorflow/lib/python2.7/site-packages/ipykernel/kernelapp.py\", line 474, in start\n    ioloop.IOLoop.instance().start()\n  File \"/Users/Hansa/anaconda/envs/tensorflow/lib/python2.7/site-packages/zmq/eventloop/ioloop.py\", line 162, in start\n    super(ZMQIOLoop, self).start()\n  File \"/Users/Hansa/anaconda/envs/tensorflow/lib/python2.7/site-packages/tornado/ioloop.py\", line 887, in start\n    handler_func(fd_obj, events)\n  File \"/Users/Hansa/anaconda/envs/tensorflow/lib/python2.7/site-packages/tornado/stack_context.py\", line 275, in null_wrapper\n    return fn(*args, **kwargs)\n  File \"/Users/Hansa/anaconda/envs/tensorflow/lib/python2.7/site-packages/zmq/eventloop/zmqstream.py\", line 440, in _handle_events\n    self._handle_recv()\n  File \"/Users/Hansa/anaconda/envs/tensorflow/lib/python2.7/site-packages/zmq/eventloop/zmqstream.py\", line 472, in _handle_recv\n    self._run_callback(callback, msg)\n  File \"/Users/Hansa/anaconda/envs/tensorflow/lib/python2.7/site-packages/zmq/eventloop/zmqstream.py\", line 414, in _run_callback\n    callback(*args, **kwargs)\n  File \"/Users/Hansa/anaconda/envs/tensorflow/lib/python2.7/site-packages/tornado/stack_context.py\", line 275, in null_wrapper\n    return fn(*args, **kwargs)\n  File \"/Users/Hansa/anaconda/envs/tensorflow/lib/python2.7/site-packages/ipykernel/kernelbase.py\", line 276, in dispatcher\n    return self.dispatch_shell(stream, msg)\n  File \"/Users/Hansa/anaconda/envs/tensorflow/lib/python2.7/site-packages/ipykernel/kernelbase.py\", line 228, in dispatch_shell\n    handler(stream, idents, msg)\n  File \"/Users/Hansa/anaconda/envs/tensorflow/lib/python2.7/site-packages/ipykernel/kernelbase.py\", line 390, in execute_request\n    user_expressions, allow_stdin)\n  File \"/Users/Hansa/anaconda/envs/tensorflow/lib/python2.7/site-packages/ipykernel/ipkernel.py\", line 196, in do_execute\n    res = shell.run_cell(code, store_history=store_history, silent=silent)\n  File \"/Users/Hansa/anaconda/envs/tensorflow/lib/python2.7/site-packages/ipykernel/zmqshell.py\", line 501, in run_cell\n    return super(ZMQInteractiveShell, self).run_cell(*args, **kwargs)\n  File \"/Users/Hansa/anaconda/envs/tensorflow/lib/python2.7/site-packages/IPython/core/interactiveshell.py\", line 2717, in run_cell\n    interactivity=interactivity, compiler=compiler, result=result)\n  File \"/Users/Hansa/anaconda/envs/tensorflow/lib/python2.7/site-packages/IPython/core/interactiveshell.py\", line 2821, in run_ast_nodes\n    if self.run_code(code, result):\n  File \"/Users/Hansa/anaconda/envs/tensorflow/lib/python2.7/site-packages/IPython/core/interactiveshell.py\", line 2881, in run_code\n    exec(code_obj, self.user_global_ns, self.user_ns)\n  File \"<ipython-input-19-10fd881a9aaf>\", line 14, in <module>\n    l2_reg_lambda=FLAGS.l2_reg_lambda)\n  File \"text_cnn_by_word.py\", line 35, in __init__\n    self.embedded_chars = tf.nn.embedding_lookup(W, self.input_x)\n  File \"/Users/Hansa/anaconda/envs/tensorflow/lib/python2.7/site-packages/tensorflow/python/ops/embedding_ops.py\", line 86, in embedding_lookup\n    validate_indices=validate_indices)\n  File \"/Users/Hansa/anaconda/envs/tensorflow/lib/python2.7/site-packages/tensorflow/python/ops/gen_array_ops.py\", line 988, in gather\n    validate_indices=validate_indices, name=name)\n  File \"/Users/Hansa/anaconda/envs/tensorflow/lib/python2.7/site-packages/tensorflow/python/framework/op_def_library.py\", line 703, in apply_op\n    op_def=op_def)\n  File \"/Users/Hansa/anaconda/envs/tensorflow/lib/python2.7/site-packages/tensorflow/python/framework/ops.py\", line 2317, in create_op\n    original_op=self._default_original_op, op_def=op_def)\n  File \"/Users/Hansa/anaconda/envs/tensorflow/lib/python2.7/site-packages/tensorflow/python/framework/ops.py\", line 1239, in __init__\n    self._traceback = _extract_stack()\n",
     "output_type": "error",
     "traceback": [
      "\u001b[0;31m---------------------------------------------------------------------------\u001b[0m",
      "\u001b[0;31mInvalidArgumentError\u001b[0m                      Traceback (most recent call last)",
      "\u001b[0;32m<ipython-input-19-10fd881a9aaf>\u001b[0m in \u001b[0;36m<module>\u001b[0;34m()\u001b[0m\n\u001b[1;32m    149\u001b[0m         \u001b[0;32mfor\u001b[0m \u001b[0mbatch\u001b[0m \u001b[0;32min\u001b[0m \u001b[0mbatches_train\u001b[0m\u001b[0;34m:\u001b[0m\u001b[0;34m\u001b[0m\u001b[0m\n\u001b[1;32m    150\u001b[0m             \u001b[0mx_batch\u001b[0m\u001b[0;34m,\u001b[0m \u001b[0my_batch\u001b[0m \u001b[0;34m=\u001b[0m \u001b[0mzip\u001b[0m\u001b[0;34m(\u001b[0m\u001b[0;34m*\u001b[0m\u001b[0mbatch\u001b[0m\u001b[0;34m)\u001b[0m\u001b[0;34m\u001b[0m\u001b[0m\n\u001b[0;32m--> 151\u001b[0;31m             \u001b[0;34m(\u001b[0m\u001b[0mp_tokens_extracted\u001b[0m\u001b[0;34m,\u001b[0m \u001b[0mp_tokens_correct\u001b[0m\u001b[0;34m,\u001b[0m \u001b[0mp_true_tokens\u001b[0m\u001b[0;34m)\u001b[0m \u001b[0;34m=\u001b[0m \u001b[0mtrain_step\u001b[0m\u001b[0;34m(\u001b[0m\u001b[0mx_batch\u001b[0m\u001b[0;34m,\u001b[0m \u001b[0my_batch\u001b[0m\u001b[0;34m)\u001b[0m\u001b[0;34m\u001b[0m\u001b[0m\n\u001b[0m\u001b[1;32m    152\u001b[0m             \u001b[0mp_tokens_extracted_tot\u001b[0m \u001b[0;34m+=\u001b[0m \u001b[0mp_tokens_extracted\u001b[0m\u001b[0;34m\u001b[0m\u001b[0m\n\u001b[1;32m    153\u001b[0m             \u001b[0mp_tokens_correct_tot\u001b[0m \u001b[0;34m+=\u001b[0m \u001b[0mp_tokens_correct\u001b[0m\u001b[0;34m\u001b[0m\u001b[0m\n",
      "\u001b[0;32m<ipython-input-19-10fd881a9aaf>\u001b[0m in \u001b[0;36mtrain_step\u001b[0;34m(x_batch, y_batch)\u001b[0m\n\u001b[1;32m     73\u001b[0m             \u001b[0;31m# TODO: uncomment and add scores\u001b[0m\u001b[0;34m\u001b[0m\u001b[0;34m\u001b[0m\u001b[0m\n\u001b[1;32m     74\u001b[0m             _, step, summaries, loss, accuracy, input_y, predictions, input_x, scores, truth = sess.run(\n\u001b[0;32m---> 75\u001b[0;31m                 [train_op, global_step, train_summary_op, cnn.loss, cnn.accuracy, cnn.input_y, cnn.predictions, cnn.input_x, cnn.scores, cnn.temp],feed_dict)\n\u001b[0m\u001b[1;32m     76\u001b[0m             \u001b[0;31m# remove below afterwards\u001b[0m\u001b[0;34m\u001b[0m\u001b[0;34m\u001b[0m\u001b[0m\n\u001b[1;32m     77\u001b[0m \u001b[0;31m#             _, step, summaries, loss, accuracy = sess.run(\u001b[0m\u001b[0;34m\u001b[0m\u001b[0;34m\u001b[0m\u001b[0m\n",
      "\u001b[0;32m/Users/Hansa/anaconda/envs/tensorflow/lib/python2.7/site-packages/tensorflow/python/client/session.pyc\u001b[0m in \u001b[0;36mrun\u001b[0;34m(self, fetches, feed_dict, options, run_metadata)\u001b[0m\n\u001b[1;32m    708\u001b[0m     \u001b[0;32mtry\u001b[0m\u001b[0;34m:\u001b[0m\u001b[0;34m\u001b[0m\u001b[0m\n\u001b[1;32m    709\u001b[0m       result = self._run(None, fetches, feed_dict, options_ptr,\n\u001b[0;32m--> 710\u001b[0;31m                          run_metadata_ptr)\n\u001b[0m\u001b[1;32m    711\u001b[0m       \u001b[0;32mif\u001b[0m \u001b[0mrun_metadata\u001b[0m\u001b[0;34m:\u001b[0m\u001b[0;34m\u001b[0m\u001b[0m\n\u001b[1;32m    712\u001b[0m         \u001b[0mproto_data\u001b[0m \u001b[0;34m=\u001b[0m \u001b[0mtf_session\u001b[0m\u001b[0;34m.\u001b[0m\u001b[0mTF_GetBuffer\u001b[0m\u001b[0;34m(\u001b[0m\u001b[0mrun_metadata_ptr\u001b[0m\u001b[0;34m)\u001b[0m\u001b[0;34m\u001b[0m\u001b[0m\n",
      "\u001b[0;32m/Users/Hansa/anaconda/envs/tensorflow/lib/python2.7/site-packages/tensorflow/python/client/session.pyc\u001b[0m in \u001b[0;36m_run\u001b[0;34m(self, handle, fetches, feed_dict, options, run_metadata)\u001b[0m\n\u001b[1;32m    906\u001b[0m     \u001b[0;32mif\u001b[0m \u001b[0mfinal_fetches\u001b[0m \u001b[0;32mor\u001b[0m \u001b[0mfinal_targets\u001b[0m\u001b[0;34m:\u001b[0m\u001b[0;34m\u001b[0m\u001b[0m\n\u001b[1;32m    907\u001b[0m       results = self._do_run(handle, final_targets, final_fetches,\n\u001b[0;32m--> 908\u001b[0;31m                              feed_dict_string, options, run_metadata)\n\u001b[0m\u001b[1;32m    909\u001b[0m     \u001b[0;32melse\u001b[0m\u001b[0;34m:\u001b[0m\u001b[0;34m\u001b[0m\u001b[0m\n\u001b[1;32m    910\u001b[0m       \u001b[0mresults\u001b[0m \u001b[0;34m=\u001b[0m \u001b[0;34m[\u001b[0m\u001b[0;34m]\u001b[0m\u001b[0;34m\u001b[0m\u001b[0m\n",
      "\u001b[0;32m/Users/Hansa/anaconda/envs/tensorflow/lib/python2.7/site-packages/tensorflow/python/client/session.pyc\u001b[0m in \u001b[0;36m_do_run\u001b[0;34m(self, handle, target_list, fetch_list, feed_dict, options, run_metadata)\u001b[0m\n\u001b[1;32m    956\u001b[0m     \u001b[0;32mif\u001b[0m \u001b[0mhandle\u001b[0m \u001b[0;32mis\u001b[0m \u001b[0mNone\u001b[0m\u001b[0;34m:\u001b[0m\u001b[0;34m\u001b[0m\u001b[0m\n\u001b[1;32m    957\u001b[0m       return self._do_call(_run_fn, self._session, feed_dict, fetch_list,\n\u001b[0;32m--> 958\u001b[0;31m                            target_list, options, run_metadata)\n\u001b[0m\u001b[1;32m    959\u001b[0m     \u001b[0;32melse\u001b[0m\u001b[0;34m:\u001b[0m\u001b[0;34m\u001b[0m\u001b[0m\n\u001b[1;32m    960\u001b[0m       return self._do_call(_prun_fn, self._session, handle, feed_dict,\n",
      "\u001b[0;32m/Users/Hansa/anaconda/envs/tensorflow/lib/python2.7/site-packages/tensorflow/python/client/session.pyc\u001b[0m in \u001b[0;36m_do_call\u001b[0;34m(self, fn, *args)\u001b[0m\n\u001b[1;32m    976\u001b[0m         \u001b[0;32mexcept\u001b[0m \u001b[0mKeyError\u001b[0m\u001b[0;34m:\u001b[0m\u001b[0;34m\u001b[0m\u001b[0m\n\u001b[1;32m    977\u001b[0m           \u001b[0;32mpass\u001b[0m\u001b[0;34m\u001b[0m\u001b[0m\n\u001b[0;32m--> 978\u001b[0;31m       \u001b[0;32mraise\u001b[0m \u001b[0mtype\u001b[0m\u001b[0;34m(\u001b[0m\u001b[0me\u001b[0m\u001b[0;34m)\u001b[0m\u001b[0;34m(\u001b[0m\u001b[0mnode_def\u001b[0m\u001b[0;34m,\u001b[0m \u001b[0mop\u001b[0m\u001b[0;34m,\u001b[0m \u001b[0mmessage\u001b[0m\u001b[0;34m)\u001b[0m\u001b[0;34m\u001b[0m\u001b[0m\n\u001b[0m\u001b[1;32m    979\u001b[0m \u001b[0;34m\u001b[0m\u001b[0m\n\u001b[1;32m    980\u001b[0m   \u001b[0;32mdef\u001b[0m \u001b[0m_extend_graph\u001b[0m\u001b[0;34m(\u001b[0m\u001b[0mself\u001b[0m\u001b[0;34m)\u001b[0m\u001b[0;34m:\u001b[0m\u001b[0;34m\u001b[0m\u001b[0m\n",
      "\u001b[0;31mInvalidArgumentError\u001b[0m: indices[1,20] = -1 is not in [0, 36901)\n\t [[Node: embedding/embedding_lookup = Gather[Tindices=DT_INT32, Tparams=DT_FLOAT, _class=[\"loc:@embedding/W\"], validate_indices=true, _device=\"/job:localhost/replica:0/task:0/cpu:0\"](embedding/W/read, _recv_input_x_0)]]\nCaused by op u'embedding/embedding_lookup', defined at:\n  File \"/Users/Hansa/anaconda/envs/tensorflow/lib/python2.7/runpy.py\", line 174, in _run_module_as_main\n    \"__main__\", fname, loader, pkg_name)\n  File \"/Users/Hansa/anaconda/envs/tensorflow/lib/python2.7/runpy.py\", line 72, in _run_code\n    exec code in run_globals\n  File \"/Users/Hansa/anaconda/envs/tensorflow/lib/python2.7/site-packages/ipykernel/__main__.py\", line 3, in <module>\n    app.launch_new_instance()\n  File \"/Users/Hansa/anaconda/envs/tensorflow/lib/python2.7/site-packages/traitlets/config/application.py\", line 658, in launch_instance\n    app.start()\n  File \"/Users/Hansa/anaconda/envs/tensorflow/lib/python2.7/site-packages/ipykernel/kernelapp.py\", line 474, in start\n    ioloop.IOLoop.instance().start()\n  File \"/Users/Hansa/anaconda/envs/tensorflow/lib/python2.7/site-packages/zmq/eventloop/ioloop.py\", line 162, in start\n    super(ZMQIOLoop, self).start()\n  File \"/Users/Hansa/anaconda/envs/tensorflow/lib/python2.7/site-packages/tornado/ioloop.py\", line 887, in start\n    handler_func(fd_obj, events)\n  File \"/Users/Hansa/anaconda/envs/tensorflow/lib/python2.7/site-packages/tornado/stack_context.py\", line 275, in null_wrapper\n    return fn(*args, **kwargs)\n  File \"/Users/Hansa/anaconda/envs/tensorflow/lib/python2.7/site-packages/zmq/eventloop/zmqstream.py\", line 440, in _handle_events\n    self._handle_recv()\n  File \"/Users/Hansa/anaconda/envs/tensorflow/lib/python2.7/site-packages/zmq/eventloop/zmqstream.py\", line 472, in _handle_recv\n    self._run_callback(callback, msg)\n  File \"/Users/Hansa/anaconda/envs/tensorflow/lib/python2.7/site-packages/zmq/eventloop/zmqstream.py\", line 414, in _run_callback\n    callback(*args, **kwargs)\n  File \"/Users/Hansa/anaconda/envs/tensorflow/lib/python2.7/site-packages/tornado/stack_context.py\", line 275, in null_wrapper\n    return fn(*args, **kwargs)\n  File \"/Users/Hansa/anaconda/envs/tensorflow/lib/python2.7/site-packages/ipykernel/kernelbase.py\", line 276, in dispatcher\n    return self.dispatch_shell(stream, msg)\n  File \"/Users/Hansa/anaconda/envs/tensorflow/lib/python2.7/site-packages/ipykernel/kernelbase.py\", line 228, in dispatch_shell\n    handler(stream, idents, msg)\n  File \"/Users/Hansa/anaconda/envs/tensorflow/lib/python2.7/site-packages/ipykernel/kernelbase.py\", line 390, in execute_request\n    user_expressions, allow_stdin)\n  File \"/Users/Hansa/anaconda/envs/tensorflow/lib/python2.7/site-packages/ipykernel/ipkernel.py\", line 196, in do_execute\n    res = shell.run_cell(code, store_history=store_history, silent=silent)\n  File \"/Users/Hansa/anaconda/envs/tensorflow/lib/python2.7/site-packages/ipykernel/zmqshell.py\", line 501, in run_cell\n    return super(ZMQInteractiveShell, self).run_cell(*args, **kwargs)\n  File \"/Users/Hansa/anaconda/envs/tensorflow/lib/python2.7/site-packages/IPython/core/interactiveshell.py\", line 2717, in run_cell\n    interactivity=interactivity, compiler=compiler, result=result)\n  File \"/Users/Hansa/anaconda/envs/tensorflow/lib/python2.7/site-packages/IPython/core/interactiveshell.py\", line 2821, in run_ast_nodes\n    if self.run_code(code, result):\n  File \"/Users/Hansa/anaconda/envs/tensorflow/lib/python2.7/site-packages/IPython/core/interactiveshell.py\", line 2881, in run_code\n    exec(code_obj, self.user_global_ns, self.user_ns)\n  File \"<ipython-input-19-10fd881a9aaf>\", line 14, in <module>\n    l2_reg_lambda=FLAGS.l2_reg_lambda)\n  File \"text_cnn_by_word.py\", line 35, in __init__\n    self.embedded_chars = tf.nn.embedding_lookup(W, self.input_x)\n  File \"/Users/Hansa/anaconda/envs/tensorflow/lib/python2.7/site-packages/tensorflow/python/ops/embedding_ops.py\", line 86, in embedding_lookup\n    validate_indices=validate_indices)\n  File \"/Users/Hansa/anaconda/envs/tensorflow/lib/python2.7/site-packages/tensorflow/python/ops/gen_array_ops.py\", line 988, in gather\n    validate_indices=validate_indices, name=name)\n  File \"/Users/Hansa/anaconda/envs/tensorflow/lib/python2.7/site-packages/tensorflow/python/framework/op_def_library.py\", line 703, in apply_op\n    op_def=op_def)\n  File \"/Users/Hansa/anaconda/envs/tensorflow/lib/python2.7/site-packages/tensorflow/python/framework/ops.py\", line 2317, in create_op\n    original_op=self._default_original_op, op_def=op_def)\n  File \"/Users/Hansa/anaconda/envs/tensorflow/lib/python2.7/site-packages/tensorflow/python/framework/ops.py\", line 1239, in __init__\n    self._traceback = _extract_stack()\n"
     ]
    }
   ],
   "source": [
    "with tf.Graph().as_default():\n",
    "    session_conf = tf.ConfigProto(\n",
    "      allow_soft_placement=FLAGS.allow_soft_placement,\n",
    "      log_device_placement=FLAGS.log_device_placement)\n",
    "    sess = tf.Session(config=session_conf)\n",
    "    with sess.as_default():\n",
    "        cnn = TextCNN(\n",
    "            sequence_length=x_train.shape[1],\n",
    "            num_classes=y_train.shape[1],\n",
    "            vocab_size=len(vocab_processor.vocabulary_),\n",
    "            embedding_size=FLAGS.embedding_dim,\n",
    "            filter_sizes=list(map(int, FLAGS.filter_sizes.split(\",\"))),\n",
    "            num_filters=FLAGS.num_filters,\n",
    "            l2_reg_lambda=FLAGS.l2_reg_lambda)\n",
    "\n",
    "        # Define Training procedure\n",
    "        global_step = tf.Variable(0, name=\"global_step\", trainable=False)\n",
    "        optimizer = tf.train.AdamOptimizer(1e-3)\n",
    "        grads_and_vars = optimizer.compute_gradients(cnn.loss) # TODO check cnn.loss\n",
    "        train_op = optimizer.apply_gradients(grads_and_vars, global_step=global_step)\n",
    "\n",
    "        # Keep track of gradient values and sparsity (optional)\n",
    "        grad_summaries = []\n",
    "        for g, v in grads_and_vars:\n",
    "            if g is not None:\n",
    "                grad_hist_summary = tf.histogram_summary(\"{}/grad/hist\".format(v.name), g)\n",
    "                sparsity_summary = tf.scalar_summary(\"{}/grad/sparsity\".format(v.name), tf.nn.zero_fraction(g))\n",
    "                grad_summaries.append(grad_hist_summary)\n",
    "                grad_summaries.append(sparsity_summary)\n",
    "        grad_summaries_merged = tf.merge_summary(grad_summaries)\n",
    "\n",
    "        # Output directory for models and summaries\n",
    "        timestamp = str(int(time.time()))\n",
    "        out_dir = os.path.abspath(os.path.join(os.path.curdir, \"runs\", timestamp))\n",
    "        print(\"Writing to {}\\n\".format(out_dir))\n",
    "\n",
    "        # Summaries for loss and accuracy\n",
    "        loss_summary = tf.scalar_summary(\"loss\", cnn.loss)\n",
    "        acc_summary = tf.scalar_summary(\"accuracy\", cnn.accuracy)\n",
    "\n",
    "        # Train Summaries\n",
    "        train_summary_op = tf.merge_summary([loss_summary, acc_summary, grad_summaries_merged])\n",
    "        train_summary_dir = os.path.join(out_dir, \"summaries\", \"train\")\n",
    "        train_summary_writer = tf.train.SummaryWriter(train_summary_dir, sess.graph)\n",
    "\n",
    "        # Dev summaries\n",
    "        dev_summary_op = tf.merge_summary([loss_summary, acc_summary])\n",
    "        dev_summary_dir = os.path.join(out_dir, \"summaries\", \"dev\")\n",
    "        dev_summary_writer = tf.train.SummaryWriter(dev_summary_dir, sess.graph)\n",
    "\n",
    "        # Checkpoint directory. Tensorflow assumes this directory already exists so we need to create it\n",
    "        checkpoint_dir = os.path.abspath(os.path.join(out_dir, \"checkpoints\"))\n",
    "        checkpoint_prefix = os.path.join(checkpoint_dir, \"model\")\n",
    "        if not os.path.exists(checkpoint_dir):\n",
    "            os.makedirs(checkpoint_dir)\n",
    "        saver = tf.train.Saver(tf.all_variables())\n",
    "\n",
    "#         Write vocabulary\n",
    "#         vocab_processor.save(os.path.join(out_dir, \"vocab\"))\n",
    "\n",
    "        # Initialize all variables\n",
    "        sess.run(tf.initialize_all_variables())\n",
    "\n",
    "        def train_step(x_batch, y_batch):\n",
    "            \"\"\"\n",
    "            A single training step\n",
    "            \"\"\"\n",
    "            feed_dict = {\n",
    "              cnn.input_x: x_batch,\n",
    "              cnn.input_y: y_batch,\n",
    "              cnn.dropout_keep_prob: FLAGS.dropout_keep_prob\n",
    "            }\n",
    "            # TODO: uncomment and add scores\n",
    "            _, step, summaries, loss, accuracy, input_y, predictions, input_x, scores, truth = sess.run(\n",
    "                [train_op, global_step, train_summary_op, cnn.loss, cnn.accuracy, cnn.input_y, cnn.predictions, cnn.input_x, cnn.scores, cnn.temp],feed_dict)\n",
    "            # remove below afterwards  \n",
    "#             _, step, summaries, loss, accuracy = sess.run(\n",
    "#                 [train_op, global_step, train_summary_op, cnn.loss, cnn.accuracy],\n",
    "#                 feed_dict)\n",
    "        \n",
    "            time_str = datetime.datetime.now().isoformat()\n",
    "            # TODO UNCOMMENT BELOW\n",
    "#             print(\"{}: step {}, loss {:g}, pre {:g}, rec {:g}, f1 {:g}\".format(time_str, step, loss, precision, recall, f1))\n",
    "            #temp\n",
    "    \n",
    "            if (int(step)%FLAGS.eval_batches == 0):\n",
    "                print(\"{}: step {}, loss {:g}, acc {:g}\".format(time_str, step, loss, accuracy))\n",
    "\n",
    "            train_summary_writer.add_summary(summaries, step)\n",
    "            \n",
    "#             print \"input_y\"\n",
    "#             print type(input_y)\n",
    "#             print input_y\n",
    "            \n",
    "#             print \"len input_x\"\n",
    "#             print \"len input_y\"\n",
    "#             print \"input_y\"\n",
    "#             print input_y\n",
    "#             print \"scores\"\n",
    "#             print type(scores)\n",
    "#             print scores\n",
    "#             print \"input_y\"\n",
    "#             print type(input_y)\n",
    "#             print input_y\n",
    "#             print \"predictions\"\n",
    "#             print type(predictions)\n",
    "#             print len(predictions)\n",
    "#             print predictions\n",
    "#             print \"temp\"\n",
    "#             print type(temp)\n",
    "#             print temp\n",
    "#             print \" \"\n",
    "            \n",
    "            return get_eval_counts(truth, predictions)\n",
    "            \n",
    "            \n",
    "\n",
    "        def dev_step(x_batch, y_batch, writer=None):\n",
    "            \"\"\"\n",
    "            Evaluates model on a dev set\n",
    "            \"\"\"\n",
    "            feed_dict = {\n",
    "              cnn.input_x: x_batch,\n",
    "              cnn.input_y: y_batch,\n",
    "              cnn.dropout_keep_prob: 1.0\n",
    "            }\n",
    "            \n",
    "            \n",
    "            step, summaries, loss, accuracy, scores, predictions, truth = sess.run(\n",
    "                [global_step, dev_summary_op, cnn.loss, cnn.accuracy, cnn.scores, cnn.predictions, cnn.temp],\n",
    "                feed_dict)\n",
    "            time_str = datetime.datetime.now().isoformat()\n",
    "            print(\"{}: step {}, loss {:g}, acc {:g}\".format(time_str, step, loss, accuracy))\n",
    "            if writer:\n",
    "                writer.add_summary(summaries, step)\n",
    "            return get_eval_counts(truth, predictions)\n",
    "\n",
    "\n",
    "        # Generate batches\n",
    "        batches_train = batch_iter(\n",
    "            list(zip(x_train, y_train)), FLAGS.batch_size, FLAGS.num_epochs)\n",
    "        # Training loop. For each batch...\n",
    "        batches_since_last_eval_calc = 0\n",
    "        p_tokens_extracted_tot = 0\n",
    "        p_tokens_correct_tot = 0\n",
    "        p_true_tokens_tot = 0\n",
    "        \n",
    "        \n",
    "        for batch in batches_train:\n",
    "            x_batch, y_batch = zip(*batch)\n",
    "            (p_tokens_extracted, p_tokens_correct, p_true_tokens) = train_step(x_batch, y_batch)\n",
    "            p_tokens_extracted_tot += p_tokens_extracted\n",
    "            p_tokens_correct_tot += p_tokens_correct\n",
    "            p_true_tokens_tot += p_true_tokens\n",
    "            \n",
    "            batches_since_last_eval_calc += 1\n",
    "            if batches_since_last_eval_calc == FLAGS.eval_batches:\n",
    "                (precision, recall, f1) = calculate_precision_recall_f1(p_tokens_extracted_tot, p_tokens_correct_tot, p_true_tokens_tot)\n",
    "                print(\"correct: {:g}, extracted: {:g}, true: {:g}\".format(p_tokens_correct_tot, p_tokens_extracted_tot, p_true_tokens_tot))\n",
    "                print(\"TRAIN  Precision: {:g}, recall: {:g}, f1: {:g}\".format(precision, recall, f1))\n",
    "                print \" \"\n",
    "                p_tokens_extracted_tot = 0\n",
    "                p_tokens_correct_tot = 0\n",
    "                p_true_tokens_tot = 0\n",
    "                batches_since_last_eval_calc = 0\n",
    "            \n",
    "            current_step = tf.train.global_step(sess, global_step)\n",
    "            if current_step % FLAGS.evaluate_every == 0:\n",
    "                print(\"\\nEvaluation:\")\n",
    "                (p_tokens_extracted, p_tokens_correct, p_true_tokens) = dev_step(x_dev, y_dev, writer=dev_summary_writer) # from x_dev \n",
    "                (precision, recall, f1) = calculate_precision_recall_f1(p_tokens_extracted, p_tokens_correct, p_true_tokens)\n",
    "                print(\"DEV  Precision: {:g}, recall: {:g}, f1: {:g}\".format(precision, recall, f1))\n",
    "                print(\"\")\n",
    "            if current_step % FLAGS.evaluate_every == 0:\n",
    "                print(\"\\nEvaluation:\")\n",
    "                (p_tokens_extracted, p_tokens_correct, p_true_tokens) = dev_step(x_test, y_test) # from x_dev \n",
    "                (precision, recall, f1) = calculate_precision_recall_f1(p_tokens_extracted, p_tokens_correct, p_true_tokens)\n",
    "                print(\"TEST  Precision: {:g}, recall: {:g}, f1: {:g}\".format(precision, recall, f1))\n",
    "                print(\"\")\n",
    "            if current_step % FLAGS.checkpoint_every == 0:\n",
    "                path = saver.save(sess, checkpoint_prefix, global_step=current_step)\n",
    "                print(\"Saved model checkpoint to {}\\n\".format(path))"
   ]
  },
  {
   "cell_type": "code",
   "execution_count": null,
   "metadata": {
    "collapsed": true
   },
   "outputs": [],
   "source": []
  },
  {
   "cell_type": "code",
   "execution_count": null,
   "metadata": {
    "collapsed": true
   },
   "outputs": [],
   "source": []
  },
  {
   "cell_type": "code",
   "execution_count": null,
   "metadata": {
    "collapsed": true
   },
   "outputs": [],
   "source": []
  },
  {
   "cell_type": "code",
   "execution_count": null,
   "metadata": {
    "collapsed": true
   },
   "outputs": [],
   "source": []
  }
 ],
 "metadata": {
  "kernelspec": {
   "display_name": "Python 2",
   "language": "python",
   "name": "python2"
  },
  "language_info": {
   "codemirror_mode": {
    "name": "ipython",
    "version": 2
   },
   "file_extension": ".py",
   "mimetype": "text/x-python",
   "name": "python",
   "nbconvert_exporter": "python",
   "pygments_lexer": "ipython2",
   "version": "2.7.12"
  }
 },
 "nbformat": 4,
 "nbformat_minor": 1
}
