{
 "cells": [
  {
   "cell_type": "code",
   "execution_count": null,
   "metadata": {
    "collapsed": false
   },
   "outputs": [],
   "source": [
    "import numpy as np\n",
    "import tensorflow as tf\n",
    "from preprocess_data import get_all_data_train\n",
    "from preprocess_data import get_all_data_dev\n",
    "from preprocess_data import get_all_data_test\n",
    "from TF_preprocess_data import get_1_hot_sentence_encodings\n",
    "from text_cnn_by_word import TextCNN\n",
    "import datetime\n",
    "# import data_helpers\n",
    "import time\n",
    "import os\n",
    "from tensorflow.contrib import learn\n",
    "from gensim.models import Word2Vec\n",
    "import sys\n",
    "\n",
    "# dennybritz's Sentance classification using cnn\n",
    "# https://github.com/dennybritz/cnn-text-classification-tf\n",
    "# njl's Sentiment Analysis example \n",
    "# https://github.com/nicholaslocascio/tensorflow-nlp-tutorial/blob/master/sentiment-analysis/Sentiment-RNN.ipynb"
   ]
  },
  {
   "cell_type": "markdown",
   "metadata": {},
   "source": [
    "# Parameters"
   ]
  },
  {
   "cell_type": "code",
   "execution_count": null,
   "metadata": {
    "collapsed": false,
    "scrolled": true
   },
   "outputs": [],
   "source": [
    "# Data loading params\n",
    "tf.flags.DEFINE_float(\"dev_sample_percentage\", .1, \"Percentage of the training data to use for validation\")\n",
    "tf.flags.DEFINE_integer(\"word_padding_size\", 3, \"Number of words for padding front and back\")\n",
    "tf.flags.DEFINE_integer(\"word_embedding_size\", 10, \"Number of words for padding front and back\")\n",
    "\n",
    "# Model Hyperparameters\n",
    "tf.flags.DEFINE_integer(\"embedding_dim\", 256, \"Dimensionality of character embedding (default: 128)\")\n",
    "tf.flags.DEFINE_string(\"filter_sizes\", \"3,4,5\", \"Comma-separated filter sizes (default: '3,4,5')\")\n",
    "tf.flags.DEFINE_integer(\"num_filters\", 256, \"Number of filters per filter size (default: 128)\")\n",
    "tf.flags.DEFINE_float(\"dropout_keep_prob\", 0.5, \"Dropout keep probability (default: 0.5)\")\n",
    "tf.flags.DEFINE_float(\"l2_reg_lambda\", 0.001, \"L2 regularizaion lambda (default: 0.0)\")\n",
    "\n",
    "# Training parameters\n",
    "tf.flags.DEFINE_integer(\"batch_size\", 64, \"Batch Size (default: 64)\")\n",
    "tf.flags.DEFINE_integer(\"num_epochs\", 10, \"Number of training epochs (default: 200)\")\n",
    "tf.flags.DEFINE_integer(\"evaluate_every\", 50, \"Evaluate model on dev set after this many steps (default: 100)\")\n",
    "tf.flags.DEFINE_integer(\"checkpoint_every\", 100, \"Save model after this many steps (default: 100)\")\n",
    "# Misc Parameters\n",
    "tf.flags.DEFINE_boolean(\"allow_soft_placement\", True, \"Allow device soft device placement\")\n",
    "tf.flags.DEFINE_boolean(\"log_device_placement\", False, \"Log placement of ops on devices\")\n",
    "tf.flags.DEFINE_integer(\"eval_batches\", 10, \"Number of batches output to use when calculating precision, recall and f1\")\n",
    "\n",
    "FLAGS = tf.flags.FLAGS\n",
    "FLAGS._parse_flags()\n",
    "print(\"\\nParameters:\")\n",
    "for attr, value in sorted(FLAGS.__flags.items()):\n",
    "    print(\"{}={}\".format(attr.upper(), value))\n",
    "print(\"\")"
   ]
  },
  {
   "cell_type": "markdown",
   "metadata": {},
   "source": [
    "# Data Preparation"
   ]
  },
  {
   "cell_type": "code",
   "execution_count": null,
   "metadata": {
    "collapsed": false
   },
   "outputs": [],
   "source": [
    "def use(what='w2v'):\n",
    "    return True\n",
    "\n",
    "w2v_size = 10; #134 #???????????????????\n",
    "\n",
    "w2v_model = 'pubmed';\n",
    " \n",
    "pubmed_w2v_name = 'PubMed-w2v.bin'\n",
    "pubmed_wiki_w2v_name = 'wikipedia-pubmed-and-PMC-w2v.bin'\n",
    "\n",
    "if w2v_model == 'pubmed' or w2v_model == 'pubmed_wiki':\n",
    "    print 'Loading word2vec model...'\n",
    "\n",
    "    if w2v_model == 'pubmed_wiki':\n",
    "        print 'Using pubmed_wiki word2vec...'\n",
    "        sys.stdout.flush()\n",
    "        word2vec_model = pubmed_wiki_w2v_name\n",
    "    else:\n",
    "        print 'Using pubmed word2vec...'\n",
    "        sys.stdout.flush()\n",
    "        word2vec_model = pubmed_w2v_name\n",
    "\n",
    "    w2v = Word2Vec.load_word2vec_format(word2vec_model, binary=True)\n",
    "    print 'Loaded word2vec model'\n",
    "else:\n",
    "    w2v = None\n",
    "    \n",
    "    \n"
   ]
  },
  {
   "cell_type": "code",
   "execution_count": null,
   "metadata": {
    "collapsed": false
   },
   "outputs": [],
   "source": [
    "#n must be a factor of 200\n",
    "def condense_vector(vector, target_n=10):\n",
    "    new_vector = [0]*target_n\n",
    "    for i in range(0, target_n):\n",
    "        new_vector[i] = np.sum(vector[(target_n*i):((target_n*i)+target_n)])\n",
    "    \n",
    "    return np.array(new_vector)\n",
    "    \n",
    "\n",
    "# b = condense_vector(w2v['participant'])"
   ]
  },
  {
   "cell_type": "code",
   "execution_count": null,
   "metadata": {
    "collapsed": true
   },
   "outputs": [],
   "source": [
    "# n words to pad on each side of the word \n",
    "def get_train_data(n):\n",
    "    # split into train and dev \n",
    "    word_array, tag_array = get_all_data_train(sentences=False)\n",
    "    x_n_padded, y = process_data_into_chunks(word_array, tag_array, n)\n",
    "    \n",
    "    # Build vocabulary\n",
    "    document_length = 2*n+1\n",
    "    vocab_processor = learn.preprocessing.VocabularyProcessor(document_length)\n",
    "    \n",
    "    x = np.array(list(vocab_processor.fit_transform(x_n_padded)))\n",
    "    \n",
    "    return x, y, vocab_processor"
   ]
  },
  {
   "cell_type": "code",
   "execution_count": null,
   "metadata": {
    "collapsed": true
   },
   "outputs": [],
   "source": [
    "def get_dev_data(n, vocab_processor):\n",
    "    word_array, tag_array = get_all_data_dev(sentences=False)\n",
    "    x_n_padded, y = process_data_into_chunks(word_array, tag_array, n)\n",
    "    \n",
    "    x = np.array(list(vocab_processor.transform(x_n_padded)))\n",
    "    \n",
    "    return x,y  "
   ]
  },
  {
   "cell_type": "code",
   "execution_count": null,
   "metadata": {
    "collapsed": true
   },
   "outputs": [],
   "source": [
    "def get_data(n, vocab_processor, data_type='dev'):\n",
    "    if data_type == 'dev':\n",
    "        word_array, tag_array = get_all_data_dev(sentences=False)\n",
    "    else:\n",
    "        word_array, tag_array = get_all_data_test(sentences=False)\n",
    "    x_n_padded, y = process_data_into_chunks(word_array, tag_array, n)\n",
    "    \n",
    "    x = np.array(list(vocab_processor.transform(x_n_padded)))\n",
    "    \n",
    "    return x,y  "
   ]
  },
  {
   "cell_type": "code",
   "execution_count": null,
   "metadata": {
    "collapsed": true
   },
   "outputs": [],
   "source": [
    "def process_data_into_chunks(word_array, tag_array, n):\n",
    "    x_n = []\n",
    "    for abstract in word_array:\n",
    "        # pad abstract with * \n",
    "        padding = [\"*\"] * n\n",
    "        padded_abstract = padding\n",
    "        padded_abstract.extend(abstract)\n",
    "        padded_abstract.extend(padding)\n",
    "        # for all words (excluding padding)\n",
    "        for i in range(n, len(abstract)+n):\n",
    "            x_n.append(padded_abstract[i-n:i+n+1])\n",
    "                \n",
    "    x_n_padded = [' '.join(word) for word in x_n]\n",
    "\n",
    "    y_binary = [y for x in tag_array for y in x] # flatten tag array\n",
    "    y = np.array([[1,0] if tag == 'P' else [0,1] for tag in y_binary ])\n",
    "    \n",
    "    return x_n_padded, y"
   ]
  },
  {
   "cell_type": "code",
   "execution_count": null,
   "metadata": {
    "collapsed": true
   },
   "outputs": [],
   "source": [
    "# n words to pad on each side of the word \n",
    "def get_train_data_word2vec(n, embedding_n=10):\n",
    "    # split into train and dev \n",
    "    word_array, tag_array = get_all_data_train(sentences=False)\n",
    "    x_n_padded, y = process_data_into_chunks(word_array, tag_array, n)\n",
    "\n",
    " \n",
    "    w2v_array = []\n",
    "    max_elt = 0.0\n",
    "    min_elt = 0.0\n",
    "    for phrase in x_n_padded:\n",
    "        phrase_array = []\n",
    "        for word in phrase.split(' '):\n",
    "            if (word in w2v.vocab):\n",
    "                a = w2v[word]\n",
    "            else: \n",
    "                a = [0]*embedding_n\n",
    "            c_vec = condense_vector(a, target_n=embedding_n)\n",
    "            phrase_array.append(c_vec)\n",
    "            if (np.max(c_vec) > max_elt):\n",
    "                max_elt = np.max(c_vec)\n",
    "            if (np.min(c_vec) < min_elt):\n",
    "                min_elt = np.min(c_vec)                \n",
    "#         phrase_array = phrase_array)\n",
    "        w2v_array.append(phrase_array)\n",
    "    \n",
    "    print \"MAX: \", max_elt\n",
    "    print \"MIN: \", min_elt\n",
    "    \n",
    "    # Build vocabulary\n",
    "    document_length = 2*n+1\n",
    "    vocab_processor = learn.preprocessing.VocabularyProcessor(document_length)\n",
    "    \n",
    "    x = np.array(list(vocab_processor.fit_transform(x_n_padded)))    \n",
    "    \n",
    "#     return x, w2v_array, y\n",
    "\n",
    "    factor = float(np.max(x))/float(max_elt)\n",
    "    for phrase_ind in range(0, len(w2v_array)):\n",
    "        for word_array_ind in range(0, len(w2v_array[phrase_ind])):\n",
    "#             print \"first\"\n",
    "#             print word_array\n",
    "            w2v_array[phrase_ind][word_array_ind] = w2v_array[phrase_ind][word_array_ind] + np.ceil(-min_elt)\n",
    "#             print \"second\"\n",
    "#             print word_array\n",
    "            w2v_array[phrase_ind][word_array_ind] = w2v_array[phrase_ind][word_array_ind] * factor\n",
    "#             print \"third\"\n",
    "#             print word_array\n",
    "            w2v_array[phrase_ind][word_array_ind] = (w2v_array[phrase_ind][word_array_ind]).astype(np.int64)\n",
    "    \n",
    "                    \n",
    "    print type (w2v_array[0][0][0])\n",
    "    x_final = np.zeros((x.shape[0], (x.shape[1]*10)+x.shape[1]))\n",
    "\n",
    "    for row in range(0, x.shape[0]):\n",
    "        row_list = []\n",
    "        for col in range(0, x.shape[1]):\n",
    "            word_list = []\n",
    "            word_list = w2v_array[row][col].tolist()\n",
    "            word_list.append(x[row, col])\n",
    "            row_list.extend(word_list)\n",
    "#             print type(row_list[0])\n",
    "        x_final[row] = row_list\n",
    "        \n",
    "\n",
    "    return x_final, w2v_array, y, vocab_processor"
   ]
  },
  {
   "cell_type": "code",
   "execution_count": null,
   "metadata": {
    "collapsed": true
   },
   "outputs": [],
   "source": [
    "def get_data_word2vec(n, vocab_processor, embedding_n=10, data_type='dev'):\n",
    "    if data_type == 'dev':\n",
    "        word_array, tag_array = get_all_data_dev(sentences=False)\n",
    "    else:\n",
    "        word_array, tag_array = get_all_data_test(sentences=False)\n",
    "    x_n_padded, y = process_data_into_chunks(word_array, tag_array, n)\n",
    "    \n",
    "    w2v_array = []\n",
    "    max_elt = 0.0\n",
    "    min_elt = 0.0\n",
    "    for phrase in x_n_padded:\n",
    "        phrase_array = []\n",
    "        for word in phrase.split(' '):\n",
    "            if (word in w2v.vocab):\n",
    "                a = w2v[word]\n",
    "            else: \n",
    "                a = [0]*embedding_n\n",
    "            c_vec = condense_vector(a, target_n=embedding_n)\n",
    "            phrase_array.append(c_vec)\n",
    "            if (np.max(c_vec) > max_elt):\n",
    "                max_elt = np.max(c_vec)\n",
    "            if (np.min(c_vec) < min_elt):\n",
    "                min_elt = np.min(c_vec)                \n",
    "#         phrase_array = phrase_array)\n",
    "        w2v_array.append(phrase_array)\n",
    "    \n",
    "    print \"MAX: \", max_elt\n",
    "    print \"MIN: \", min_elt\n",
    "    \n",
    "    x = np.array(list(vocab_processor.transform(x_n_padded)))\n",
    "    \n",
    "#     return x, w2v_array, y\n",
    "\n",
    "    factor = float(np.max(x))/float(max_elt)\n",
    "    for phrase_ind in range(0, len(w2v_array)):\n",
    "        for word_array_ind in range(0, len(w2v_array[phrase_ind])):\n",
    "#             print \"first\"\n",
    "#             print word_array\n",
    "            w2v_array[phrase_ind][word_array_ind] = w2v_array[phrase_ind][word_array_ind] + np.ceil(-min_elt)\n",
    "#             print \"second\"\n",
    "#             print word_array\n",
    "            w2v_array[phrase_ind][word_array_ind] = w2v_array[phrase_ind][word_array_ind] * factor\n",
    "#             print \"third\"\n",
    "#             print word_array\n",
    "            w2v_array[phrase_ind][word_array_ind] = (w2v_array[phrase_ind][word_array_ind]).astype(np.int64)\n",
    "    \n",
    "#     print \"factor: \", factor \n",
    "    \n",
    "    \n",
    "#     print \"new min: \", np.min(w2v_array)\n",
    "#     print \"new max: \", np.max(w2v_array)\n",
    "    \n",
    "    x_final = np.zeros((x.shape[0], (x.shape[1]*10)+x.shape[1]))\n",
    "\n",
    "    for row in range(0, x.shape[0]):\n",
    "        row_list = []\n",
    "        for col in range(0, x.shape[1]):\n",
    "            word_list = w2v_array[row][col].tolist()\n",
    "#             print \"oofffff\"\n",
    "#             print word_list\n",
    "#             print len(word_list)\n",
    "#             print type(word_list)\n",
    "#             word_list = w2v_array[row][col]\n",
    "            word_list.append(x[row, col])\n",
    "            row_list.extend(word_list)\n",
    "        x_final[row] = row_list\n",
    "        \n",
    "\n",
    "    return x_final, y "
   ]
  },
  {
   "cell_type": "code",
   "execution_count": null,
   "metadata": {
    "collapsed": false
   },
   "outputs": [],
   "source": [
    "# x_train, y_train, vocab_processor = get_train_data(FLAGS.word_padding_size)"
   ]
  },
  {
   "cell_type": "code",
   "execution_count": null,
   "metadata": {
    "collapsed": true
   },
   "outputs": [],
   "source": [
    "# x_dev, y_dev = get_data(FLAGS.word_padding_size, vocab_processor)"
   ]
  },
  {
   "cell_type": "code",
   "execution_count": null,
   "metadata": {
    "collapsed": true
   },
   "outputs": [],
   "source": [
    "# x_test, y_test = get_data(FLAGS.word_padding_size, vocab_processor, data_type='test')\n"
   ]
  },
  {
   "cell_type": "code",
   "execution_count": null,
   "metadata": {
    "collapsed": false
   },
   "outputs": [],
   "source": [
    "x_train, w2v_array, y_train, vocab_processor = get_train_data_word2vec(FLAGS.word_padding_size, FLAGS.word_embedding_size)"
   ]
  },
  {
   "cell_type": "code",
   "execution_count": null,
   "metadata": {
    "collapsed": false
   },
   "outputs": [],
   "source": [
    "x_dev, y_dev = get_data_word2vec(FLAGS.word_padding_size, vocab_processor, FLAGS.word_embedding_size)"
   ]
  },
  {
   "cell_type": "code",
   "execution_count": null,
   "metadata": {
    "collapsed": false
   },
   "outputs": [],
   "source": [
    "x_test, y_test = get_data_word2vec(FLAGS.word_padding_size, vocab_processor, FLAGS.word_embedding_size, data_type='test')"
   ]
  },
  {
   "cell_type": "code",
   "execution_count": null,
   "metadata": {
    "collapsed": false
   },
   "outputs": [],
   "source": [
    "# # pad single words with n words on either side \n",
    "# n = 3\n",
    "# x_n = []\n",
    "# for abstract in word_array:\n",
    "#     # pad abstract with * \n",
    "#     padding = [\"*\"] * n\n",
    "#     padded_abstract = padding\n",
    "#     padded_abstract.extend(abstract)\n",
    "#     padded_abstract.extend(padding)\n",
    "#     # for all words (excluding padding)\n",
    "#     for i in range(n, len(abstract)+n):\n",
    "#         x_n.append(padded_abstract[i-n:i+n+1])\n",
    "\n",
    "# y_binary = [y for x in tag_array for y in x] # flatten tag array\n",
    "# y = np.array([[1,0] if tag == 'P' else [0,1] for tag in y_binary ])\n"
   ]
  },
  {
   "cell_type": "code",
   "execution_count": null,
   "metadata": {
    "collapsed": false
   },
   "outputs": [],
   "source": [
    "# # Build vocabulary\n",
    "# document_length = 2*n+1\n",
    "# vocab_processor = learn.preprocessing.VocabularyProcessor(document_length)\n",
    "# n_array = [' '.join(word) for word in x_n]\n",
    "# x = np.array(list(vocab_processor.fit_transform(n_array)))"
   ]
  },
  {
   "cell_type": "code",
   "execution_count": null,
   "metadata": {
    "collapsed": true
   },
   "outputs": [],
   "source": []
  },
  {
   "cell_type": "markdown",
   "metadata": {},
   "source": [
    "# Helper Functions"
   ]
  },
  {
   "cell_type": "code",
   "execution_count": null,
   "metadata": {
    "collapsed": true
   },
   "outputs": [],
   "source": [
    "# copied unchanged function\n",
    "def batch_iter(data, batch_size, num_epochs, shuffle=True):\n",
    "    \"\"\"\n",
    "    Generates a batch iterator for a dataset.\n",
    "    \"\"\"\n",
    "    data = np.array(data)\n",
    "    data_size = len(data)\n",
    "    num_batches_per_epoch = int(len(data)/batch_size) + 1\n",
    "    for epoch in range(num_epochs):\n",
    "        # Shuffle the data at each epoch\n",
    "        if shuffle:\n",
    "            shuffle_indices = np.random.permutation(np.arange(data_size))\n",
    "            shuffled_data = data[shuffle_indices]\n",
    "        else:\n",
    "            shuffled_data = data\n",
    "        for batch_num in range(num_batches_per_epoch):\n",
    "            start_index = batch_num * batch_size\n",
    "            end_index = min((batch_num + 1) * batch_size, data_size)\n",
    "            yield shuffled_data[start_index:end_index]"
   ]
  },
  {
   "cell_type": "code",
   "execution_count": null,
   "metadata": {
    "collapsed": false
   },
   "outputs": [],
   "source": [
    "def get_eval_counts(truth, predictions):\n",
    "\n",
    "    p_tokens_extracted = len(predictions) - sum(predictions)\n",
    "    p_true_tokens = len(truth) - sum(truth)\n",
    "    p_tokens_correct = sum([1 for i, j in zip(truth, predictions) if (i == 0 and j == 0)])\n",
    "    \n",
    "#     print (p_tokens_extracted, p_tokens_correct, p_true_tokens)\n",
    "    return (p_tokens_extracted, p_tokens_correct, p_true_tokens)\n"
   ]
  },
  {
   "cell_type": "code",
   "execution_count": null,
   "metadata": {
    "collapsed": true
   },
   "outputs": [],
   "source": [
    "def calculate_precision_recall_f1(p_tokens_extracted, p_tokens_correct, p_true_tokens):\n",
    "    if (p_tokens_extracted == 0):\n",
    "        if (p_tokens_correct == 0):\n",
    "            precision = 1\n",
    "        else:\n",
    "            precision = 0\n",
    "    else:\n",
    "        precision = float(p_tokens_correct)/float(p_tokens_extracted)\n",
    "\n",
    "    if (p_true_tokens == 0):\n",
    "        if (p_tokens_correct == 0):\n",
    "            recall = 1\n",
    "        else:\n",
    "            recall = 0\n",
    "    else:\n",
    "        recall = float(p_tokens_correct)/float(p_true_tokens)\n",
    "    if ((precision + recall) == 0):\n",
    "        f1 = 0\n",
    "    else:\n",
    "        f1 = (2*precision*recall)/(precision+recall)\n",
    "    return (precision, recall, f1)"
   ]
  },
  {
   "cell_type": "markdown",
   "metadata": {},
   "source": [
    "## Training"
   ]
  },
  {
   "cell_type": "code",
   "execution_count": null,
   "metadata": {
    "collapsed": false,
    "scrolled": false
   },
   "outputs": [],
   "source": [
    "vocab_size_max = int(np.max([np.max(x_train), np.max(x_dev), np.max(x_test)]))\n",
    "\n",
    "\n",
    "with tf.Graph().as_default():\n",
    "    session_conf = tf.ConfigProto(\n",
    "      allow_soft_placement=FLAGS.allow_soft_placement,\n",
    "      log_device_placement=FLAGS.log_device_placement)\n",
    "    sess = tf.Session(config=session_conf)\n",
    "    with sess.as_default():\n",
    "        cnn = TextCNN(\n",
    "            sequence_length=x_train.shape[1],\n",
    "            num_classes=y_train.shape[1],\n",
    "            vocab_size= vocab_size_max, #len(vocab_processor.vocabulary_),\n",
    "            embedding_size=FLAGS.embedding_dim,\n",
    "            filter_sizes=list(map(int, FLAGS.filter_sizes.split(\",\"))),\n",
    "            num_filters=FLAGS.num_filters,\n",
    "            l2_reg_lambda=FLAGS.l2_reg_lambda)\n",
    "\n",
    "        # Define Training procedure\n",
    "        global_step = tf.Variable(0, name=\"global_step\", trainable=False)\n",
    "        optimizer = tf.train.AdamOptimizer(1e-3)\n",
    "        grads_and_vars = optimizer.compute_gradients(cnn.loss) # TODO check cnn.loss\n",
    "        train_op = optimizer.apply_gradients(grads_and_vars, global_step=global_step)\n",
    "\n",
    "        # Keep track of gradient values and sparsity (optional)\n",
    "        grad_summaries = []\n",
    "        for g, v in grads_and_vars:\n",
    "            if g is not None:\n",
    "                grad_hist_summary = tf.histogram_summary(\"{}/grad/hist\".format(v.name), g)\n",
    "                sparsity_summary = tf.scalar_summary(\"{}/grad/sparsity\".format(v.name), tf.nn.zero_fraction(g))\n",
    "                grad_summaries.append(grad_hist_summary)\n",
    "                grad_summaries.append(sparsity_summary)\n",
    "        grad_summaries_merged = tf.merge_summary(grad_summaries)\n",
    "\n",
    "        # Output directory for models and summaries\n",
    "        timestamp = str(int(time.time()))\n",
    "        out_dir = os.path.abspath(os.path.join(os.path.curdir, \"runs\", timestamp))\n",
    "        print(\"Writing to {}\\n\".format(out_dir))\n",
    "\n",
    "        # Summaries for loss and accuracy\n",
    "        loss_summary = tf.scalar_summary(\"loss\", cnn.loss)\n",
    "        acc_summary = tf.scalar_summary(\"accuracy\", cnn.accuracy)\n",
    "\n",
    "        # Train Summaries\n",
    "        train_summary_op = tf.merge_summary([loss_summary, acc_summary, grad_summaries_merged])\n",
    "        train_summary_dir = os.path.join(out_dir, \"summaries\", \"train\")\n",
    "        train_summary_writer = tf.train.SummaryWriter(train_summary_dir, sess.graph)\n",
    "\n",
    "        # Dev summaries\n",
    "        dev_summary_op = tf.merge_summary([loss_summary, acc_summary])\n",
    "        dev_summary_dir = os.path.join(out_dir, \"summaries\", \"dev\")\n",
    "        dev_summary_writer = tf.train.SummaryWriter(dev_summary_dir, sess.graph)\n",
    "\n",
    "        # Checkpoint directory. Tensorflow assumes this directory already exists so we need to create it\n",
    "        checkpoint_dir = os.path.abspath(os.path.join(out_dir, \"checkpoints\"))\n",
    "        checkpoint_prefix = os.path.join(checkpoint_dir, \"model\")\n",
    "        if not os.path.exists(checkpoint_dir):\n",
    "            os.makedirs(checkpoint_dir)\n",
    "        saver = tf.train.Saver(tf.all_variables())\n",
    "\n",
    "#         Write vocabulary\n",
    "#         vocab_processor.save(os.path.join(out_dir, \"vocab\"))\n",
    "\n",
    "        # Initialize all variables\n",
    "        sess.run(tf.initialize_all_variables())\n",
    "\n",
    "        def train_step(x_batch, y_batch):\n",
    "            \"\"\"\n",
    "            A single training step\n",
    "            \"\"\"\n",
    "            feed_dict = {\n",
    "              cnn.input_x: x_batch,\n",
    "              cnn.input_y: y_batch,\n",
    "              cnn.dropout_keep_prob: FLAGS.dropout_keep_prob\n",
    "            }\n",
    "            # TODO: uncomment and add scores\n",
    "            _, step, summaries, loss, accuracy, input_y, predictions, input_x, scores, truth = sess.run(\n",
    "                [train_op, global_step, train_summary_op, cnn.loss, cnn.accuracy, cnn.input_y, cnn.predictions, cnn.input_x, cnn.scores, cnn.temp],feed_dict)\n",
    "            # remove below afterwards  \n",
    "#             _, step, summaries, loss, accuracy = sess.run(\n",
    "#                 [train_op, global_step, train_summary_op, cnn.loss, cnn.accuracy],\n",
    "#                 feed_dict)\n",
    "        \n",
    "            time_str = datetime.datetime.now().isoformat()\n",
    "            # TODO UNCOMMENT BELOW\n",
    "#             print(\"{}: step {}, loss {:g}, pre {:g}, rec {:g}, f1 {:g}\".format(time_str, step, loss, precision, recall, f1))\n",
    "            #temp\n",
    "    \n",
    "            if (int(step)%FLAGS.eval_batches == 0):\n",
    "                print(\"{}: step {}, loss {:g}, acc {:g}\".format(time_str, step, loss, accuracy))\n",
    "\n",
    "            train_summary_writer.add_summary(summaries, step)\n",
    "            \n",
    "#             print \"input_y\"\n",
    "#             print type(input_y)\n",
    "#             print input_y\n",
    "            \n",
    "#             print \"len input_x\"\n",
    "#             print \"len input_y\"\n",
    "#             print \"input_y\"\n",
    "#             print input_y\n",
    "#             print \"scores\"\n",
    "#             print type(scores)\n",
    "#             print scores\n",
    "#             print \"input_y\"\n",
    "#             print type(input_y)\n",
    "#             print input_y\n",
    "#             print \"predictions\"\n",
    "#             print type(predictions)\n",
    "#             print len(predictions)\n",
    "#             print predictions\n",
    "#             print \"temp\"\n",
    "#             print type(temp)\n",
    "#             print temp\n",
    "#             print \" \"\n",
    "            \n",
    "            return get_eval_counts(truth, predictions)\n",
    "            \n",
    "            \n",
    "\n",
    "        def dev_step(x_batch, y_batch, writer=None):\n",
    "            \"\"\"\n",
    "            Evaluates model on a dev set\n",
    "            \"\"\"\n",
    "            feed_dict = {\n",
    "              cnn.input_x: x_batch,\n",
    "              cnn.input_y: y_batch,\n",
    "              cnn.dropout_keep_prob: 1.0\n",
    "            }\n",
    "            \n",
    "            \n",
    "            step, summaries, loss, accuracy, scores, predictions, truth = sess.run(\n",
    "                [global_step, dev_summary_op, cnn.loss, cnn.accuracy, cnn.scores, cnn.predictions, cnn.temp],\n",
    "                feed_dict)\n",
    "            time_str = datetime.datetime.now().isoformat()\n",
    "            print(\"{}: step {}, loss {:g}, acc {:g}\".format(time_str, step, loss, accuracy))\n",
    "            if writer:\n",
    "                writer.add_summary(summaries, step)\n",
    "            return get_eval_counts(truth, predictions)\n",
    "\n",
    "\n",
    "        # Generate batches\n",
    "        batches_train = batch_iter(\n",
    "            list(zip(x_train, y_train)), FLAGS.batch_size, FLAGS.num_epochs)\n",
    "        # Training loop. For each batch...\n",
    "        batches_since_last_eval_calc = 0\n",
    "        p_tokens_extracted_tot = 0\n",
    "        p_tokens_correct_tot = 0\n",
    "        p_true_tokens_tot = 0\n",
    "        \n",
    "        \n",
    "        for batch in batches_train:\n",
    "            x_batch, y_batch = zip(*batch)\n",
    "            (p_tokens_extracted, p_tokens_correct, p_true_tokens) = train_step(x_batch, y_batch)\n",
    "            p_tokens_extracted_tot += p_tokens_extracted\n",
    "            p_tokens_correct_tot += p_tokens_correct\n",
    "            p_true_tokens_tot += p_true_tokens\n",
    "            \n",
    "            batches_since_last_eval_calc += 1\n",
    "            if batches_since_last_eval_calc == FLAGS.eval_batches:\n",
    "                (precision, recall, f1) = calculate_precision_recall_f1(p_tokens_extracted_tot, p_tokens_correct_tot, p_true_tokens_tot)\n",
    "                print(\"correct: {:g}, extracted: {:g}, true: {:g}\".format(p_tokens_correct_tot, p_tokens_extracted_tot, p_true_tokens_tot))\n",
    "                print(\"TRAIN  Precision: {:g}, recall: {:g}, f1: {:g}\".format(precision, recall, f1))\n",
    "                print \" \"\n",
    "                p_tokens_extracted_tot = 0\n",
    "                p_tokens_correct_tot = 0\n",
    "                p_true_tokens_tot = 0\n",
    "                batches_since_last_eval_calc = 0\n",
    "            \n",
    "            current_step = tf.train.global_step(sess, global_step)\n",
    "            if current_step % FLAGS.evaluate_every == 0:\n",
    "                print(\"\\nEvaluation:\")\n",
    "                (p_tokens_extracted, p_tokens_correct, p_true_tokens) = dev_step(x_dev, y_dev, writer=dev_summary_writer) # from x_dev \n",
    "                (precision, recall, f1) = calculate_precision_recall_f1(p_tokens_extracted, p_tokens_correct, p_true_tokens)\n",
    "                print(\"DEV  Precision: {:g}, recall: {:g}, f1: {:g}\".format(precision, recall, f1))\n",
    "                print(\"\")\n",
    "            if current_step % FLAGS.evaluate_every == 0:\n",
    "                print(\"\\nEvaluation:\")\n",
    "                (p_tokens_extracted, p_tokens_correct, p_true_tokens) = dev_step(x_test, y_test) # from x_dev \n",
    "                (precision, recall, f1) = calculate_precision_recall_f1(p_tokens_extracted, p_tokens_correct, p_true_tokens)\n",
    "                print(\"TEST  Precision: {:g}, recall: {:g}, f1: {:g}\".format(precision, recall, f1))\n",
    "                print(\"\")\n",
    "            if current_step % FLAGS.checkpoint_every == 0:\n",
    "                path = saver.save(sess, checkpoint_prefix, global_step=current_step)\n",
    "                print(\"Saved model checkpoint to {}\\n\".format(path))"
   ]
  },
  {
   "cell_type": "code",
   "execution_count": null,
   "metadata": {
    "collapsed": true
   },
   "outputs": [],
   "source": []
  },
  {
   "cell_type": "code",
   "execution_count": null,
   "metadata": {
    "collapsed": true
   },
   "outputs": [],
   "source": []
  },
  {
   "cell_type": "code",
   "execution_count": null,
   "metadata": {
    "collapsed": true
   },
   "outputs": [],
   "source": []
  },
  {
   "cell_type": "code",
   "execution_count": null,
   "metadata": {
    "collapsed": true
   },
   "outputs": [],
   "source": []
  }
 ],
 "metadata": {
  "kernelspec": {
   "display_name": "Python 2",
   "language": "python",
   "name": "python2"
  },
  "language_info": {
   "codemirror_mode": {
    "name": "ipython",
    "version": 2
   },
   "file_extension": ".py",
   "mimetype": "text/x-python",
   "name": "python",
   "nbconvert_exporter": "python",
   "pygments_lexer": "ipython2",
   "version": "2.7.12"
  }
 },
 "nbformat": 4,
 "nbformat_minor": 1
}
