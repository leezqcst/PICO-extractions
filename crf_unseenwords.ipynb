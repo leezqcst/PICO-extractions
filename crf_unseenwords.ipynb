{
 "cells": [
  {
   "cell_type": "markdown",
   "metadata": {},
   "source": [
    "## CRF What's Wrong with Participants? --II"
   ]
  },
  {
   "cell_type": "code",
   "execution_count": 1,
   "metadata": {
    "collapsed": false
   },
   "outputs": [
    {
     "name": "stderr",
     "output_type": "stream",
     "text": [
      "/Users/Jing/anaconda/envs/tensorflow/lib/python2.7/site-packages/sklearn/cross_validation.py:44: DeprecationWarning: This module was deprecated in version 0.18 in favor of the model_selection module into which all the refactored classes and functions are moved. Also note that the interface of the new CV iterators are different from that of this module. This module will be removed in 0.20.\n",
      "  \"This module will be removed in 0.20.\", DeprecationWarning)\n",
      "/Users/Jing/anaconda/envs/tensorflow/lib/python2.7/site-packages/gensim/utils.py:1015: UserWarning: Pattern library is not installed, lemmatization won't be available.\n",
      "  warnings.warn(\"Pattern library is not installed, lemmatization won't be available.\")\n"
     ]
    }
   ],
   "source": [
    "from crf import *\n",
    "from crf_support import get_all_data\n",
    "import sys,os,pickle\n",
    "\n",
    "import os, time, pprint\n",
    "\n",
    "from features_generator import abstracts2features, get_genia_tags, sanity_check\n",
    "\n",
    "from gensim.models import Word2Vec"
   ]
  },
  {
   "cell_type": "code",
   "execution_count": 2,
   "metadata": {
    "collapsed": true
   },
   "outputs": [],
   "source": [
    "tag = 'P'\n",
    "eval_tags = [tag]"
   ]
  },
  {
   "cell_type": "markdown",
   "metadata": {},
   "source": [
    "Get data"
   ]
  },
  {
   "cell_type": "code",
   "execution_count": 3,
   "metadata": {
    "collapsed": false
   },
   "outputs": [],
   "source": [
    "# Get train data\n",
    "train_tokens, train_tags = get_all_data('train', tag)\n",
    "train_genia_tags = get_genia_tags('train')"
   ]
  },
  {
   "cell_type": "code",
   "execution_count": 4,
   "metadata": {
    "collapsed": false
   },
   "outputs": [],
   "source": [
    "# Get dev data\n",
    "dev_tokens, dev_tags = get_all_data('dev', tag)\n",
    "dev_genia_tags = get_genia_tags('dev')"
   ]
  },
  {
   "cell_type": "code",
   "execution_count": 5,
   "metadata": {
    "collapsed": false
   },
   "outputs": [],
   "source": [
    "# Get test data\n",
    "test_tokens, test_tags = get_all_data('test', tag)\n",
    "test_genia_tags = get_genia_tags('test')"
   ]
  },
  {
   "cell_type": "code",
   "execution_count": 6,
   "metadata": {
    "collapsed": false
   },
   "outputs": [],
   "source": [
    "# compare bag of words in train and dev, and test\n",
    "\n",
    "def bagofwords(dat):\n",
    "    dat_set=set()\n",
    "    for abstract in dat:\n",
    "        dat_set.update(abstract)\n",
    "    return dat_set\n",
    "\n",
    "\n",
    "train_set = bagofwords(train_tokens)\n",
    "dev_set = bagofwords(dev_tokens)\n",
    "test_set = bagofwords(test_tokens)\n"
   ]
  },
  {
   "cell_type": "code",
   "execution_count": 32,
   "metadata": {
    "collapsed": false
   },
   "outputs": [
    {
     "data": {
      "text/plain": [
       "{(0, 0): [0.67498812879348824, 0.36032100767729075, 0.46942313857687695],\n",
       " (0, 0.001): [0.66868284413959744, 0.38612142780808795, 0.48939979380663567],\n",
       " (0, 0.01): [0.68143995920797884, 0.35406721915119088, 0.46520748756379859],\n",
       " (0, 0.1): [0.67445991086326229, 0.35528565157341846, 0.46507390159941536],\n",
       " (0, 1): [0.68343502874548545, 0.31868116466853152, 0.43413438557319584],\n",
       " (0.001, 0): [0.60601605566259931, 0.42490340610252852, 0.49951542359550843],\n",
       " (0.001, 0.001): [0.60908092252377999,\n",
       "  0.42871466144357573,\n",
       "  0.50311363956171129],\n",
       " (0.001, 0.01): [0.62107208620697407,\n",
       "  0.42676381822475107,\n",
       "  0.50581305926719233],\n",
       " (0.001, 0.1): [0.6589494090001391, 0.41409836392770288, 0.50854997590411188],\n",
       " (0.001, 1): [0.68746622556108383, 0.35356544312720534, 0.46693186522483432],\n",
       " (0.01, 0): [0.60015798302439649, 0.43449451150442936, 0.50403398317514592],\n",
       " (0.01, 0.001): [0.60397676363694097, 0.4318504440659599, 0.50359291088333835],\n",
       " (0.01, 0.01): [0.62291791763719462, 0.42680474812773772, 0.50650222019620095],\n",
       " (0.01, 0.1): [0.65768536884846762, 0.41440634968814211, 0.50840837616886114],\n",
       " (0.01, 1): [0.69056352255240938, 0.35337932185432014, 0.46746811679201605],\n",
       " (0.1, 0): [0.63279151886637841, 0.42161572494273913, 0.50602957727682696],\n",
       " (0.1, 0.001): [0.63261694175337679, 0.42125685236799248, 0.50571081700219211],\n",
       " (0.1, 0.01): [0.64097156165523117, 0.42266267215892173, 0.50938029256458273],\n",
       " (0.1, 0.1): [0.66531713894603639, 0.40888523081828493, 0.50648435453254881],\n",
       " (0.1, 1): [0.68867109873727927, 0.35102742631224815, 0.4650001406085924],\n",
       " (1, 0): [0.67883499462837971, 0.37194024142870791, 0.48054760514698291],\n",
       " (1, 0.001): [0.68023645890662865, 0.3717081249115135, 0.48072249605288642],\n",
       " (1, 0.01): [0.68003331887279372, 0.36872563531832941, 0.47815960820120296],\n",
       " (1, 0.1): [0.68236245207166446, 0.36095067259060487, 0.47210513286538514],\n",
       " (1, 1): [0.69205745843660638, 0.32082571614335764, 0.43836927277231641],\n",
       " ('l1_1', 'l2_0.001'): [0.6577795463589335,\n",
       "  0.45085916901536505,\n",
       "  0.5350091703527888]}"
      ]
     },
     "execution_count": 32,
     "metadata": {},
     "output_type": "execute_result"
    }
   ],
   "source": [
    "feature_name='OneNegOneHot'\n",
    "file_name='crf_results/{}'.format(feature_name)\n",
    "f = open(file_name + '_results.txt','r')\n",
    "result=pickle.load(f)\n",
    "f.close()\n",
    "result"
   ]
  },
  {
   "cell_type": "code",
   "execution_count": 8,
   "metadata": {
    "collapsed": false
   },
   "outputs": [
    {
     "name": "stdout",
     "output_type": "stream",
     "text": [
      "There are 22646 words in Dev data, and 7818 unseen words (34.5226530072)\n",
      "There are 14655 words in Test data, and 3895 unseen words (26.5779597407)\n"
     ]
    }
   ],
   "source": [
    "#count the words that are not in train dataset:\n",
    "\n",
    "dev_miss = 0\n",
    "for word in dev_set:\n",
    "    if word not in train_set:\n",
    "        dev_miss+=1\n",
    "\n",
    "test_miss=0\n",
    "for word in test_set:\n",
    "    if word not in train_set:\n",
    "        test_miss+=1\n",
    "\n",
    "        \n",
    "print \"There are %s words in Dev data, and %s unseen words (%s)\" %(len(dev_set),dev_miss,np.float(dev_miss)/len(dev_set)*100)\n",
    "print \"There are %s words in Test data, and %s unseen words (%s)\" %(len(test_set),test_miss,np.float(test_miss)/len(test_set)*100)\n",
    "        "
   ]
  },
  {
   "cell_type": "code",
   "execution_count": 39,
   "metadata": {
    "collapsed": false
   },
   "outputs": [
    {
     "name": "stdout",
     "output_type": "stream",
     "text": [
      "dev:\n",
      "P: (0.7040321231386983, 0.399468388076704, 0.5097207921991399)\n",
      "test:\n",
      "P: (0.7012747400201275, 0.4003638801110792, 0.5097226455348979)\n"
     ]
    }
   ],
   "source": [
    "# F1 Score for words that are in the train data (No Neg One Hot)"
   ]
  },
  {
   "cell_type": "code",
   "execution_count": 35,
   "metadata": {
    "collapsed": false
   },
   "outputs": [
    {
     "name": "stdout",
     "output_type": "stream",
     "text": [
      "dev:\n",
      "P: (0.7424930423319174, 0.48120372128346306, 0.5839525372962386)\n",
      "test:\n",
      "P: (0.7572129255626082, 0.5026333429091258, 0.6042014388489209)\n"
     ]
    }
   ],
   "source": [
    "# F1 score for words that are in train data (One Neg One Hot)"
   ]
  },
  {
   "cell_type": "code",
   "execution_count": 73,
   "metadata": {
    "collapsed": false
   },
   "outputs": [
    {
     "name": "stdout",
     "output_type": "stream",
     "text": [
      "dev:\n",
      "P: (0.7341955061050502, 0.4823428896905259, 0.5821994328110229)\n",
      "test:\n",
      "P: (0.7557274186487669, 0.49593028823135116, 0.5988667900092507)\n"
     ]
    }
   ],
   "source": [
    "# F1 score for words that are in the training data (One Neg One Hot - w2v 30)"
   ]
  },
  {
   "cell_type": "markdown",
   "metadata": {},
   "source": [
    "**If we limit to the words that have seen in the dataset, the F1 score is slightly better. Main problem is not unseen words.**"
   ]
  },
  {
   "cell_type": "markdown",
   "metadata": {},
   "source": [
    "Compute features"
   ]
  },
  {
   "cell_type": "code",
   "execution_count": 77,
   "metadata": {
    "collapsed": false
   },
   "outputs": [
    {
     "name": "stdout",
     "output_type": "stream",
     "text": [
      "dev:\n",
      "P: (0.746385029770343, 0.4764274726269116, 0.5816072908036454)\n",
      "train:\n",
      "P: (0.8331695473726805, 0.5432444656632409, 0.6576723882242891)\n",
      "test:\n",
      "P: (0.7552387740555951, 0.4816801527411583, 0.5882091706450538)\n"
     ]
    }
   ],
   "source": [
    "# result of the one neg one hot, no other features"
   ]
  },
  {
   "cell_type": "code",
   "execution_count": 72,
   "metadata": {
    "collapsed": false
   },
   "outputs": [
    {
     "name": "stdout",
     "output_type": "stream",
     "text": [
      "dev:\n",
      "P: (0.7327214573772771, 0.4767894308207402, 0.577677886196689)\n",
      "train:\n",
      "P: (0.8299231517324231, 0.5468000100510089, 0.6592494414359829)\n",
      "test:\n",
      "P: (0.7558500140964195, 0.48749886353304844, 0.5927154148013044)\n"
     ]
    }
   ],
   "source": [
    "# result of the one neg one hot , with w2v 30"
   ]
  },
  {
   "cell_type": "markdown",
   "metadata": {},
   "source": [
    "1. Tested features that include features of the neghbors, overfitting, got worse result on predictions (0.07).\n",
    "\n",
    "2. Test Features with only the ones for the word itself. "
   ]
  },
  {
   "cell_type": "code",
   "execution_count": 87,
   "metadata": {
    "collapsed": false
   },
   "outputs": [
    {
     "name": "stdout",
     "output_type": "stream",
     "text": [
      "dev:\n",
      "P: (0.7288770053475936, 0.4933490181883992, 0.5884194053208137)\n",
      "train:\n",
      "P: (0.8203448339860062, 0.5553308038294343, 0.6623112942498595)\n",
      "test:\n",
      "P: (0.7284967320261438, 0.5066824256750614, 0.5976727974690332)\n"
     ]
    }
   ],
   "source": [
    "\"\"\"One Negh with the word's features\n",
    "options_string = 'left_neighbors=1 right_neighbors=1 one_hot \\\n",
    "one_hot_neighbors inside_paren pos chunk iob named_entity isupper istitle'\n",
    "\n",
    "w2v=None\n",
    "\n",
    "features_name = 'Feat7OneNeg'\n",
    "\"\"\""
   ]
  },
  {
   "cell_type": "markdown",
   "metadata": {},
   "source": [
    "3. Test Features with only the ones for the word itself, with w2v."
   ]
  },
  {
   "cell_type": "code",
   "execution_count": 103,
   "metadata": {
    "collapsed": false
   },
   "outputs": [
    {
     "name": "stdout",
     "output_type": "stream",
     "text": [
      "dev:\n",
      "P: (0.4004106776180698, 0.02646819292371731, 0.04965411874549081)\n",
      "train:\n",
      "P: (0.3377854373115037, 0.019699977385230043, 0.037228738306662235)\n",
      "test:\n",
      "P: (0.38258164852255055, 0.022365669606327847, 0.04226077993471912)\n"
     ]
    }
   ],
   "source": [
    "\"\"\"\n",
    "options_string = 'left_neighbors=1 right_neighbors=1 w2v_model=pubmed w2v \\\n",
    "w2v_neighbors w2v_size=10 inside_paren pos chunk iob named_entity isupper istitle'\n",
    "\n",
    "w2v=True\n",
    "\n",
    "features_name = 'Feat7OneNegw2v'\n",
    "\"\"\""
   ]
  },
  {
   "cell_type": "markdown",
   "metadata": {},
   "source": [
    "4. Test Features with word itself and neigbors, with one hot."
   ]
  },
  {
   "cell_type": "code",
   "execution_count": 129,
   "metadata": {
    "collapsed": false
   },
   "outputs": [
    {
     "name": "stdout",
     "output_type": "stream",
     "text": [
      "dev:\n",
      "P: (0.7433616111455963, 0.48764817663559856, 0.5889456572224803)\n",
      "train:\n",
      "P: (0.866936073727326, 0.5956604769203708, 0.7061408081500126)\n",
      "test:\n",
      "P: (0.7543541869862059, 0.4922265660514592, 0.5957306338028169)\n"
     ]
    }
   ],
   "source": [
    "\"\"\"\n",
    "options_string = 'left_neighbors=1 right_neighbors=1 one_hot \\\n",
    "one_hot_neighbors inside_paren_neighbors pos_neighbors chunk_neighbors iob_neighbors named_entity_neighbors \\\n",
    "chunk_end chunk_end_neighbors same_chunk_neighbors '\n",
    "\n",
    "w2v=True\n",
    "\n",
    "features_name = 'FeatAllOneNegFeatAll'\n",
    "\"\"\"\n"
   ]
  },
  {
   "cell_type": "code",
   "execution_count": 56,
   "metadata": {
    "collapsed": true
   },
   "outputs": [],
   "source": [
    "pubmed_w2v_name = 'PubMed-w2v.bin'\n",
    "\n",
    "# Load pubmed word2vec model (1-2 min)\n",
    "pubmed_w2v = Word2Vec.load_word2vec_format(pubmed_w2v_name, binary=True)"
   ]
  },
  {
   "cell_type": "code",
   "execution_count": 62,
   "metadata": {
    "collapsed": true
   },
   "outputs": [],
   "source": [
    "# Set options\n",
    "big_options_string = 'left_neighbors=3 right_neighbors=3 inside_paren pos chunk iob named_entity \\\n",
    "inside_paren_neighbors pos_neighbors chunk_neighbors iob_neighbors named_entity_neighbors \\\n",
    "chunk_end chunk_end_neighbors same_chunk_neighbors \\\n",
    "one_hot one_hot_neighbors w2v_model=pubmed w2v w2v_neighbors w2v_size=10 cosine_simil cosine_simil_neighbors \\\n",
    "isupper isupper_neighbors istitle istitle_neighbors'\n",
    "\n",
    "options_string = 'left_neighbors=1 right_neighbors=1 one_hot one_hot_neighbors w2v w2v_size=30'\n",
    "\n",
    "w2v= pubmed_w2v\n",
    "features_name = 'OnNeigw2v'"
   ]
  },
  {
   "cell_type": "code",
   "execution_count": 63,
   "metadata": {
    "collapsed": false
   },
   "outputs": [
    {
     "name": "stdout",
     "output_type": "stream",
     "text": [
      "3499: ['Pulsed', 'azithromycin', 'treatment']\n"
     ]
    }
   ],
   "source": [
    "# Compute features for train\n",
    "train_features = abstracts2features(train_tokens, train_genia_tags, w2v=w2v, options_string=options_string)"
   ]
  },
  {
   "cell_type": "code",
   "execution_count": 64,
   "metadata": {
    "collapsed": false
   },
   "outputs": [
    {
     "name": "stdout",
     "output_type": "stream",
     "text": [
      "999: ['Serum', 'bactericidal', 'activities']\n"
     ]
    }
   ],
   "source": [
    "# Compute features for dev\n",
    "dev_features = abstracts2features(dev_tokens, dev_genia_tags, w2v=w2v, options_string=options_string)"
   ]
  },
  {
   "cell_type": "code",
   "execution_count": 65,
   "metadata": {
    "collapsed": false
   },
   "outputs": [
    {
     "name": "stdout",
     "output_type": "stream",
     "text": [
      "500: ['Efficacy', 'and', 'cost-effectiveness']\n"
     ]
    }
   ],
   "source": [
    "# Compute features for test\n",
    "test_features = abstracts2features(test_tokens, test_genia_tags, w2v=w2v, options_string=options_string)"
   ]
  },
  {
   "cell_type": "code",
   "execution_count": 66,
   "metadata": {
    "collapsed": false
   },
   "outputs": [
    {
     "name": "stdout",
     "output_type": "stream",
     "text": [
      "Number of abstracts: 3500\n",
      "Number of tokens:    927022\n",
      "Number of features:  30584726 \n",
      "\n",
      "Avg tokens per abstract: 264\n",
      "Avg features per token:  32 \n",
      "\n",
      "Max features per token:  33\n",
      "Min features per token:  32\n"
     ]
    }
   ],
   "source": [
    "# For debug\n",
    "sanity_check(train_features)"
   ]
  },
  {
   "cell_type": "markdown",
   "metadata": {},
   "source": [
    "Grid search"
   ]
  },
  {
   "cell_type": "code",
   "execution_count": 48,
   "metadata": {
    "collapsed": false
   },
   "outputs": [
    {
     "name": "stdout",
     "output_type": "stream",
     "text": [
      "Adding data...\n",
      "Training model...\n"
     ]
    },
    {
     "name": "stderr",
     "output_type": "stream",
     "text": [
      "Exception KeyboardInterrupt in 'zmq.backend.cython.message.Frame.__dealloc__' ignored\n"
     ]
    },
    {
     "ename": "KeyboardInterrupt",
     "evalue": "",
     "output_type": "error",
     "traceback": [
      "\u001b[0;31m---------------------------------------------------------------------------\u001b[0m",
      "\u001b[0;31mKeyboardInterrupt\u001b[0m                         Traceback (most recent call last)",
      "\u001b[0;32m<ipython-input-48-bbfea5bbb358>\u001b[0m in \u001b[0;36m<module>\u001b[0;34m()\u001b[0m\n\u001b[1;32m      6\u001b[0m \u001b[0;34m\u001b[0m\u001b[0m\n\u001b[1;32m      7\u001b[0m \u001b[0mstart_time\u001b[0m \u001b[0;34m=\u001b[0m \u001b[0mtime\u001b[0m\u001b[0;34m.\u001b[0m\u001b[0mtime\u001b[0m\u001b[0;34m(\u001b[0m\u001b[0;34m)\u001b[0m\u001b[0;34m\u001b[0m\u001b[0m\n\u001b[0;32m----> 8\u001b[0;31m \u001b[0mgrid_search_result\u001b[0m \u001b[0;34m=\u001b[0m \u001b[0mgrid_search\u001b[0m\u001b[0;34m(\u001b[0m\u001b[0mtrain_features\u001b[0m\u001b[0;34m,\u001b[0m \u001b[0mtrain_tags\u001b[0m\u001b[0;34m,\u001b[0m \u001b[0mdev_features\u001b[0m\u001b[0;34m,\u001b[0m \u001b[0mdev_tags\u001b[0m\u001b[0;34m,\u001b[0m                                 \u001b[0mnum_iters\u001b[0m\u001b[0;34m,\u001b[0m \u001b[0ml1_list\u001b[0m\u001b[0;34m,\u001b[0m \u001b[0ml2_list\u001b[0m\u001b[0;34m,\u001b[0m \u001b[0meval_tags\u001b[0m\u001b[0;34m,\u001b[0m \u001b[0mfile_name\u001b[0m\u001b[0;34m=\u001b[0m\u001b[0mgrid_file_name\u001b[0m\u001b[0;34m,\u001b[0m \u001b[0msave\u001b[0m\u001b[0;34m=\u001b[0m\u001b[0mTrue\u001b[0m\u001b[0;34m)\u001b[0m\u001b[0;34m\u001b[0m\u001b[0m\n\u001b[0m\u001b[1;32m      9\u001b[0m \u001b[0;32mprint\u001b[0m\u001b[0;34m(\u001b[0m\u001b[0;34m\"--- %s seconds ---\"\u001b[0m \u001b[0;34m%\u001b[0m \u001b[0;34m(\u001b[0m\u001b[0mtime\u001b[0m\u001b[0;34m.\u001b[0m\u001b[0mtime\u001b[0m\u001b[0;34m(\u001b[0m\u001b[0;34m)\u001b[0m \u001b[0;34m-\u001b[0m \u001b[0mstart_time\u001b[0m\u001b[0;34m)\u001b[0m\u001b[0;34m)\u001b[0m\u001b[0;34m\u001b[0m\u001b[0m\n\u001b[1;32m     10\u001b[0m \u001b[0;34m\u001b[0m\u001b[0m\n",
      "\u001b[0;32m/Users/Jing/Documents/Harvard/Course/6.806/Project/6.864-project/crf.pyc\u001b[0m in \u001b[0;36mgrid_search\u001b[0;34m(train_features, train_tags, test_features, test_tags, num_iters, l1_list, l2_list, eval_tags, file_name, save)\u001b[0m\n\u001b[1;32m    445\u001b[0m         \u001b[0;32mfor\u001b[0m \u001b[0ml2\u001b[0m \u001b[0;32min\u001b[0m \u001b[0ml2_list\u001b[0m\u001b[0;34m:\u001b[0m\u001b[0;34m\u001b[0m\u001b[0m\n\u001b[1;32m    446\u001b[0m             \u001b[0;31m# Run CRF\u001b[0m\u001b[0;34m\u001b[0m\u001b[0;34m\u001b[0m\u001b[0m\n\u001b[0;32m--> 447\u001b[0;31m             \u001b[0mresult\u001b[0m \u001b[0;34m=\u001b[0m \u001b[0mget_crf_results\u001b[0m\u001b[0;34m(\u001b[0m\u001b[0mtrain_features\u001b[0m\u001b[0;34m,\u001b[0m \u001b[0mtrain_tags\u001b[0m\u001b[0;34m,\u001b[0m \u001b[0mtest_features\u001b[0m\u001b[0;34m,\u001b[0m \u001b[0mtest_tags\u001b[0m\u001b[0;34m,\u001b[0m                                     \u001b[0mnum_iters\u001b[0m\u001b[0;34m,\u001b[0m \u001b[0ml1\u001b[0m\u001b[0;34m,\u001b[0m \u001b[0ml2\u001b[0m\u001b[0;34m,\u001b[0m \u001b[0meval_tags\u001b[0m\u001b[0;34m,\u001b[0m \u001b[0mfile_name\u001b[0m\u001b[0;34m=\u001b[0m\u001b[0mfile_name\u001b[0m\u001b[0;34m)\u001b[0m\u001b[0;34m\u001b[0m\u001b[0m\n\u001b[0m\u001b[1;32m    448\u001b[0m \u001b[0;34m\u001b[0m\u001b[0m\n\u001b[1;32m    449\u001b[0m             \u001b[0;32mprint\u001b[0m \u001b[0;34m'L1: {}, L2: {}, scores: {}'\u001b[0m\u001b[0;34m.\u001b[0m\u001b[0mformat\u001b[0m\u001b[0;34m(\u001b[0m\u001b[0ml1\u001b[0m\u001b[0;34m,\u001b[0m \u001b[0ml2\u001b[0m\u001b[0;34m,\u001b[0m \u001b[0mresult\u001b[0m\u001b[0;34m)\u001b[0m\u001b[0;34m\u001b[0m\u001b[0m\n",
      "\u001b[0;32m/Users/Jing/Documents/Harvard/Course/6.806/Project/6.864-project/crf.pyc\u001b[0m in \u001b[0;36mget_crf_results\u001b[0;34m(train_features, train_tags, test_features, test_tags, num_iters, l1, l2, eval_tags, file_name, save)\u001b[0m\n\u001b[1;32m    288\u001b[0m                     file_name='', save=False):\n\u001b[1;32m    289\u001b[0m     \u001b[0;31m# Train model\u001b[0m\u001b[0;34m\u001b[0m\u001b[0;34m\u001b[0m\u001b[0m\n\u001b[0;32m--> 290\u001b[0;31m     \u001b[0mmodel\u001b[0m \u001b[0;34m=\u001b[0m \u001b[0mtrain_crf\u001b[0m\u001b[0;34m(\u001b[0m\u001b[0mtrain_features\u001b[0m\u001b[0;34m,\u001b[0m \u001b[0mtrain_tags\u001b[0m\u001b[0;34m,\u001b[0m \u001b[0mnum_iters\u001b[0m\u001b[0;34m,\u001b[0m \u001b[0ml1\u001b[0m\u001b[0;34m,\u001b[0m \u001b[0ml2\u001b[0m\u001b[0;34m,\u001b[0m \u001b[0mfile_name\u001b[0m\u001b[0;34m)\u001b[0m\u001b[0;34m\u001b[0m\u001b[0m\n\u001b[0m\u001b[1;32m    291\u001b[0m \u001b[0;34m\u001b[0m\u001b[0m\n\u001b[1;32m    292\u001b[0m     \u001b[0;31m# Get tagger\u001b[0m\u001b[0;34m\u001b[0m\u001b[0;34m\u001b[0m\u001b[0m\n",
      "\u001b[0;32m/Users/Jing/Documents/Harvard/Course/6.806/Project/6.864-project/crf.pyc\u001b[0m in \u001b[0;36mtrain_crf\u001b[0;34m(features_list, tags_list, num_iters, l1, l2, file_name)\u001b[0m\n\u001b[1;32m     60\u001b[0m     \u001b[0msys\u001b[0m\u001b[0;34m.\u001b[0m\u001b[0mstdout\u001b[0m\u001b[0;34m.\u001b[0m\u001b[0mflush\u001b[0m\u001b[0;34m(\u001b[0m\u001b[0;34m)\u001b[0m\u001b[0;34m\u001b[0m\u001b[0m\n\u001b[1;32m     61\u001b[0m \u001b[0;34m\u001b[0m\u001b[0m\n\u001b[0;32m---> 62\u001b[0;31m     \u001b[0mmodel\u001b[0m\u001b[0;34m.\u001b[0m\u001b[0mtrain\u001b[0m\u001b[0;34m(\u001b[0m\u001b[0mfile_name\u001b[0m \u001b[0;34m+\u001b[0m \u001b[0;34m'.model'\u001b[0m\u001b[0;34m)\u001b[0m\u001b[0;34m\u001b[0m\u001b[0m\n\u001b[0m\u001b[1;32m     63\u001b[0m     \u001b[0;32mprint\u001b[0m \u001b[0;34m'Done!'\u001b[0m\u001b[0;34m\u001b[0m\u001b[0m\n\u001b[1;32m     64\u001b[0m \u001b[0;34m\u001b[0m\u001b[0m\n",
      "\u001b[0;32mpycrfsuite/_pycrfsuite.pyx\u001b[0m in \u001b[0;36mpycrfsuite._pycrfsuite.BaseTrainer.train (pycrfsuite/_pycrfsuite.cpp:3862)\u001b[0;34m()\u001b[0m\n",
      "\u001b[0;32mpycrfsuite/_pycrfsuite.pyx\u001b[0m in \u001b[0;36mpycrfsuite._pycrfsuite.BaseTrainer._on_message (pycrfsuite/_pycrfsuite.cpp:3210)\u001b[0;34m()\u001b[0m\n",
      "\u001b[0;32mpycrfsuite/_pycrfsuite.pyx\u001b[0m in \u001b[0;36mpycrfsuite._pycrfsuite.Trainer.message (pycrfsuite/_pycrfsuite.cpp:5541)\u001b[0;34m()\u001b[0m\n",
      "\u001b[0;32m/Users/Jing/anaconda/envs/tensorflow/lib/python2.7/site-packages/pycrfsuite/_logparser.pyc\u001b[0m in \u001b[0;36mfeed\u001b[0;34m(self, line)\u001b[0m\n\u001b[1;32m     23\u001b[0m         \u001b[0mself\u001b[0m\u001b[0;34m.\u001b[0m\u001b[0mevents\u001b[0m \u001b[0;34m=\u001b[0m \u001b[0;34m[\u001b[0m\u001b[0;34m]\u001b[0m\u001b[0;34m\u001b[0m\u001b[0m\n\u001b[1;32m     24\u001b[0m \u001b[0;34m\u001b[0m\u001b[0m\n\u001b[0;32m---> 25\u001b[0;31m     \u001b[0;32mdef\u001b[0m \u001b[0mfeed\u001b[0m\u001b[0;34m(\u001b[0m\u001b[0mself\u001b[0m\u001b[0;34m,\u001b[0m \u001b[0mline\u001b[0m\u001b[0;34m)\u001b[0m\u001b[0;34m:\u001b[0m\u001b[0;34m\u001b[0m\u001b[0m\n\u001b[0m\u001b[1;32m     26\u001b[0m         \u001b[0;31m# if line != '\\n':\u001b[0m\u001b[0;34m\u001b[0m\u001b[0;34m\u001b[0m\u001b[0m\n\u001b[1;32m     27\u001b[0m         \u001b[0mself\u001b[0m\u001b[0;34m.\u001b[0m\u001b[0mlog\u001b[0m\u001b[0;34m.\u001b[0m\u001b[0mappend\u001b[0m\u001b[0;34m(\u001b[0m\u001b[0mline\u001b[0m\u001b[0;34m)\u001b[0m\u001b[0;34m\u001b[0m\u001b[0m\n",
      "\u001b[0;31mKeyboardInterrupt\u001b[0m: "
     ]
    }
   ],
   "source": [
    "# # Run grid search\n",
    "grid_file_name = 'crf_results/{}_grid'.format(features_name)\n",
    "num_iters = 100\n",
    "l1_list = [ 0.0001, 0.001, 0.01, 0.1, 1]\n",
    "l2_list = [ 0.0001, 0.001, 0.01, 0.1, 1]\n",
    "\n",
    "start_time = time.time()\n",
    "grid_search_result = grid_search(train_features, train_tags, dev_features, dev_tags,\\\n",
    "                                 num_iters, l1_list, l2_list, eval_tags, file_name=grid_file_name, save=True)\n",
    "print(\"--- %s seconds ---\" % (time.time() - start_time))\n",
    "\n",
    "os.remove(grid_file_name + '.model')"
   ]
  },
  {
   "cell_type": "code",
   "execution_count": 15,
   "metadata": {
    "collapsed": false,
    "scrolled": true
   },
   "outputs": [],
   "source": [
    "# Sort result\n",
    "# sorted_result = sort_by_metric(grid_search_result, tag, metric='f1')\n",
    "# print_result(sorted_result)"
   ]
  },
  {
   "cell_type": "markdown",
   "metadata": {},
   "source": [
    "Run CRF"
   ]
  },
  {
   "cell_type": "code",
   "execution_count": 67,
   "metadata": {
    "collapsed": true
   },
   "outputs": [],
   "source": [
    "# Set options\n",
    "num_iters = 100\n",
    "l1 = 1\n",
    "l2 = 0.01\n",
    "file_name = 'crf_results/{}'.format(features_name)"
   ]
  },
  {
   "cell_type": "code",
   "execution_count": 68,
   "metadata": {
    "collapsed": false
   },
   "outputs": [
    {
     "name": "stdout",
     "output_type": "stream",
     "text": [
      "Adding data...\n",
      "Training model...\n",
      "Done!\n",
      "--- 116.402671099 seconds ---\n"
     ]
    }
   ],
   "source": [
    "# Run CRF\n",
    "start_time = time.time()\n",
    "crf_result = get_crf_results(train_features, train_tags, dev_features, dev_tags, num_iters, l1, l2, eval_tags,\n",
    "                             file_name=file_name, save=True)\n",
    "print(\"--- %s seconds ---\" % (time.time() - start_time))"
   ]
  },
  {
   "cell_type": "code",
   "execution_count": 69,
   "metadata": {
    "collapsed": false
   },
   "outputs": [
    {
     "name": "stdout",
     "output_type": "stream",
     "text": [
      "P: (0.7327214573772771, 0.4767894308207402, 0.577677886196689)\n"
     ]
    }
   ],
   "source": [
    "# Print result\n",
    "print_result(crf_result)"
   ]
  },
  {
   "cell_type": "markdown",
   "metadata": {},
   "source": [
    "Get model"
   ]
  },
  {
   "cell_type": "code",
   "execution_count": 70,
   "metadata": {
    "collapsed": false
   },
   "outputs": [],
   "source": [
    "# Get model from file\n",
    "\n",
    "# features_name = 'Feat7OneNeg'\n",
    "# file_name = 'crf_results/{}'.format(features_name)\n",
    "tagger = get_tagger(file_name)"
   ]
  },
  {
   "cell_type": "code",
   "execution_count": 71,
   "metadata": {
    "collapsed": false
   },
   "outputs": [
    {
     "name": "stdout",
     "output_type": "stream",
     "text": [
      "Top likely transitions:\n",
      "None   -> None    1.977711\n",
      "P      -> P       1.890151\n",
      "None   -> P       -1.643702\n",
      "P      -> None    -3.023471\n",
      "\n",
      "Top positive:\n",
      "7.285408 None   word[0]:BACKGROUND\n",
      "5.143848 None   word[0]:PARTICIPANTS\n",
      "5.134809 None   word[1]:Eleven\n",
      "4.858481 None   word[0]:DESIGN\n",
      "4.565785 None   word[0]:PURPOSE\n",
      "4.433206 P      word[0]:nonsmokers.\n",
      "4.175803 P      word[-1]:PBSCT.\n",
      "4.043819 P      word[-1]:rowers\n",
      "3.918254 P      word[0]:alcoholics\n",
      "3.902051 None   word[1]:Nine\n",
      "3.825481 None   word[0]:However\n",
      "3.824493 None   word[1]:Fifty-four\n",
      "3.776325 None   word[0]:By\n",
      "3.680555 None   word[0]:Overall\n",
      "3.675519 P      word[0]:60-year-old\n",
      "3.523735 None   word[-1]:region.\n",
      "3.499187 None   word[0]:Both\n",
      "3.446376 None   word[0]:Using\n",
      "3.438657 None   word[-1]:hypertension.\n",
      "3.398845 None   word[-1]:osteoporosis.\n",
      "\n",
      "Top negative:\n",
      "-2.098205 None   word[-1]:brucellosis\n",
      "-2.111154 P      word[0]:treating\n",
      "-2.260314 None   word[-1]:PARTICIPANTS\n",
      "-2.272265 P      word[0]:?\n",
      "-2.297462 None   word[0]:students\n",
      "-2.303003 P      word[0]:We\n",
      "-2.331605 P      word[-1]:volunteers.\n",
      "-2.364857 P      word[0]:OBJECTIVE\n",
      "-2.367317 None   word[1]:PURPOSE\n",
      "-2.403041 P      word[0]:They\n",
      "-2.403278 None   word[-1]:learning.\n",
      "-2.434665 P      word[1]:Twenty\n",
      "-2.496792 P      word[0]:These\n",
      "-2.531094 P      word[0]:This\n",
      "-2.578949 P      word[0]:The\n",
      "-2.805669 P      word[0]:In\n",
      "-2.846366 P      word[0]:PATIENTS\n",
      "-2.979991 P      word[0]:Of\n",
      "-3.272661 P      word[0]:.\n",
      "-3.306813 P      word[0]:METHODS\n"
     ]
    }
   ],
   "source": [
    "# For debug\n",
    "print_model_info(tagger)"
   ]
  },
  {
   "cell_type": "markdown",
   "metadata": {},
   "source": [
    "Predict tags"
   ]
  },
  {
   "cell_type": "code",
   "execution_count": 72,
   "metadata": {
    "collapsed": false
   },
   "outputs": [
    {
     "name": "stdout",
     "output_type": "stream",
     "text": [
      "dev:\n",
      "P: (0.7327214573772771, 0.4767894308207402, 0.577677886196689)\n",
      "train:\n",
      "P: (0.8299231517324231, 0.5468000100510089, 0.6592494414359829)\n",
      "test:\n",
      "P: (0.7558500140964195, 0.48749886353304844, 0.5927154148013044)\n"
     ]
    }
   ],
   "source": [
    "# Predict dev tags\n",
    "pred_dev_tags = predict_tags(tagger, dev_features)\n",
    "\n",
    "# Evaluate dev tags\n",
    "dev_result = evaluate_prediction(pred_dev_tags, dev_tags, eval_tags)\n",
    "print 'dev:'\n",
    "print_result(dev_result)\n",
    "sys.stdout.flush()\n",
    "\n",
    "# Predict train tags\n",
    "pred_train_tags = predict_tags(tagger, train_features)\n",
    "\n",
    "# Evaluate train tags\n",
    "train_result = evaluate_prediction(pred_train_tags, train_tags, eval_tags)\n",
    "print 'train:'\n",
    "print_result(train_result)\n",
    "sys.stdout.flush()\n",
    "\n",
    "# Predict test tags\n",
    "pred_test_tags = predict_tags(tagger, test_features)\n",
    "\n",
    "# Evaluate test tags\n",
    "test_result = evaluate_prediction(pred_test_tags, test_tags, eval_tags)\n",
    "print 'test:'\n",
    "print_result(test_result)\n",
    "sys.stdout.flush()"
   ]
  },
  {
   "cell_type": "code",
   "execution_count": 73,
   "metadata": {
    "collapsed": false
   },
   "outputs": [
    {
     "name": "stdout",
     "output_type": "stream",
     "text": [
      "dev:\n",
      "P: (0.7341955061050502, 0.4823428896905259, 0.5821994328110229)\n",
      "test:\n",
      "P: (0.7557274186487669, 0.49593028823135116, 0.5988667900092507)\n"
     ]
    }
   ],
   "source": [
    "# Predict dev tags\n",
    "pred_dev_tags = predict_tags(tagger, dev_features)\n",
    "\n",
    "#evaluate result of the words that have seen.\n",
    "\n",
    "def seen_words_pred(tokens, tags, pred_tags):\n",
    "    seen_tags =[]\n",
    "    seen_pred_tags=[]\n",
    "    for i,abstract in enumerate(tokens):\n",
    "        dev=[]\n",
    "        pred=[]\n",
    "        for j, word in enumerate(abstract):\n",
    "            if word in train_set:\n",
    "                dev.append(tags[i][j])\n",
    "                pred.append(pred_tags[i][j])\n",
    "        seen_tags.append(dev)\n",
    "        seen_pred_tags.append(pred)\n",
    "    return seen_tags, seen_pred_tags\n",
    "\n",
    "seen_dev_tags, seen_pred_dev_tags = seen_words_pred(dev_tokens,dev_tags,pred_dev_tags)\n",
    "# Evaluate dev tags\n",
    "dev_result = evaluate_prediction(seen_pred_dev_tags, seen_dev_tags, eval_tags)\n",
    "print 'dev:'\n",
    "print_result(dev_result)\n",
    "sys.stdout.flush()\n",
    "\n",
    "# Predict test tags\n",
    "pred_test_tags = predict_tags(tagger, test_features)\n",
    "\n",
    "seen_test_tags, seen_pred_test_tags = seen_words_pred(test_tokens,test_tags,pred_test_tags)\n",
    "\n",
    "# # Evaluate test tags\n",
    "test_result = evaluate_prediction(seen_pred_test_tags, seen_test_tags, eval_tags)\n",
    "print 'test:'\n",
    "print_result(test_result)\n",
    "sys.stdout.flush()"
   ]
  },
  {
   "cell_type": "markdown",
   "metadata": {},
   "source": [
    "K-fold evaluation"
   ]
  },
  {
   "cell_type": "code",
   "execution_count": 25,
   "metadata": {
    "collapsed": false
   },
   "outputs": [
    {
     "name": "stdout",
     "output_type": "stream",
     "text": [
      "On fold 0\n",
      "Adding data...\n",
      "Training model...\n",
      "Done!\n",
      "On fold 1\n",
      "Adding data...\n",
      "Training model...\n",
      "Done!\n",
      "On fold 2\n",
      "Adding data...\n",
      "Training model...\n",
      "Done!\n",
      "On fold 3\n",
      "Adding data...\n",
      "Training model...\n",
      "Done!\n",
      "On fold 4\n",
      "Adding data...\n",
      "Training model...\n",
      "Done!\n",
      "--- 162.671914816 seconds ---\n"
     ]
    }
   ],
   "source": [
    "# Run K-fold\n",
    "kfold_file_name = 'crf_results/{}_kfold'.format(features_name)\n",
    "\n",
    "start_time = time.time()\n",
    "kfold_result = get_kfold_results(train_features, train_tags, num_iters, l1, l2, eval_tags,\\\n",
    "                                 file_name=kfold_file_name, save=True)\n",
    "print(\"--- %s seconds ---\" % (time.time() - start_time))\n",
    "\n",
    "os.remove(kfold_file_name + '.model')"
   ]
  },
  {
   "cell_type": "code",
   "execution_count": 26,
   "metadata": {
    "collapsed": false,
    "scrolled": true
   },
   "outputs": [
    {
     "name": "stdout",
     "output_type": "stream",
     "text": [
      "Fold 0\n",
      "P: (0.743448275862069, 0.4230492510955589, 0.5392471549460169)\n",
      "Fold 1\n",
      "P: (0.7338930105427567, 0.4609724691887915, 0.5662636990170602)\n",
      "Fold 2\n",
      "P: (0.712115031613298, 0.4341311781162574, 0.5394152408172724)\n",
      "Fold 3\n",
      "P: (0.7171599922615592, 0.4529569892473118, 0.5552310342245188)\n",
      "Fold 4\n",
      "P: (0.7343669781291714, 0.46014282956958114, 0.565778023890515)\n",
      "Average\n",
      "P: (0.72819665768177089, 0.44625054344350013, 0.5531870305790767)\n"
     ]
    }
   ],
   "source": [
    "# Print all results\n",
    "print_result(kfold_result)"
   ]
  },
  {
   "cell_type": "code",
   "execution_count": 41,
   "metadata": {
    "collapsed": true
   },
   "outputs": [],
   "source": [
    "def print_with_spaces(l, spaces):\n",
    "    # This pads strings to be of space length and aligned left\n",
    "    formatter = lambda space: '{:' + str(space) + '}'\n",
    "    \n",
    "    for sublist in l:\n",
    "        print ''.join([formatter(space).format(string) for string, space in zip(sublist, spaces)])"
   ]
  },
  {
   "cell_type": "code",
   "execution_count": 55,
   "metadata": {
    "collapsed": false
   },
   "outputs": [
    {
     "name": "stdout",
     "output_type": "stream",
     "text": [
      "Netilmicin               None None \n",
      "in                       P    None \n",
      "the                      P    None \n",
      "neonate                  P    None \n",
      ":                        None None \n",
      "pharmacokinetic          None None \n",
      "analysis                 None None \n",
      "and                      None None \n",
      "influence                None None \n",
      "of                       None None \n",
      "parenteral               None None \n",
      "nutrition                None None \n",
      ".                        None None \n",
      "OBJECTIVE                None None \n",
      "The                      None None \n",
      "aim                      None None \n",
      "of                       None None \n",
      "this                     None None \n",
      "study                    None None \n",
      "was                      None None \n",
      "to                       None None \n",
      "investigate              None None \n",
      "the                      None None \n",
      "impact                   None None \n",
      "of                       None None \n",
      "parenteral               None None \n",
      "nutrition                None None \n",
      "on                       None None \n",
      "netilmicin               None None \n",
      "pharmacokinetics         None None \n",
      "in                       None None \n",
      "critically               P    P    \n",
      "ill                      P    P    \n",
      "neonates                 P    P    \n",
      "during                   P    P    \n",
      "the                      P    P    \n",
      "first                    P    P    \n",
      "week                     P    P    \n",
      "of                       P    P    \n",
      "life                     P    P    \n",
      ".                        None None \n",
      "METHOD                   None None \n",
      "A                        None None \n",
      "total                    None None \n",
      "of                       None None \n",
      "200                      P    None \n",
      "neonates                 P    None \n",
      "(                        P    None \n",
      "gestational              P    None \n",
      "ages                     P    None \n",
      "26.4-41                  P    None \n",
      "weeks                    P    None \n",
      ")                        P    None \n",
      "treated                  P    None \n",
      "with                     P    None \n",
      "netilmicin               P    None \n",
      "(                        P    None \n",
      "4-5                      P    None \n",
      "mg/kg                    P    None \n",
      "in                       P    None \n",
      "extended                 P    None \n",
      "dosing                   P    None \n",
      "intervals                P    None \n",
      ")                        P    None \n",
      "for                      P    None \n",
      "postnatal                P    None \n",
      "sepsis                   P    None \n",
      "in                       P    None \n",
      "the                      P    None \n",
      "first                    P    None \n",
      "week                     P    None \n",
      "of                       P    None \n",
      "life                     P    None \n",
      "received                 None None \n",
      "either                   None None \n",
      "fluid                    None None \n",
      "therapy                  None None \n",
      "or                       None None \n",
      "parenteral               None None \n",
      "nutrition.               None None \n",
      "Netilmicin               None None \n",
      "peak                     None None \n",
      "and                      None None \n",
      "trough                   None None \n",
      "serum                    None None \n",
      "concentrations           None None \n",
      "were                     None None \n",
      "monitored                None None \n",
      "and                      None None \n",
      "netilmicin               None None \n",
      "pharmacokinetic          None None \n",
      "parameters               None None \n",
      "were                     None None \n",
      "compared                 None None \n",
      "with                     None None \n",
      "and                      None None \n",
      "without                  None None \n",
      "parenteral               None None \n",
      "nutrition                None None \n",
      ".                        None None \n",
      "RESULTS                  None None \n",
      "There                    None None \n",
      "were                     None None \n",
      "no                       None None \n",
      "statistically            None None \n",
      "significant              None None \n",
      "differences              None None \n",
      "between                  None None \n",
      "the                      None None \n",
      "pharmacokinetic          None None \n",
      "parameters               None None \n",
      "of                       None None \n",
      "netilmicin               None None \n",
      "(                        None None \n",
      "volume                   None None \n",
      "of                       None None \n",
      "distribution             None None \n",
      ",                        None None \n",
      "elimination              None None \n",
      "half-life                None None \n",
      ",                        None None \n",
      "clearance                None None \n",
      ")                        None None \n",
      "in                       None None \n",
      "critically               P    P    \n",
      "ill                      P    P    \n",
      "neonates                 P    P    \n",
      ">                        P    P    \n",
      "32                       P    P    \n",
      "weeks                    P    P    \n",
      "during                   P    None \n",
      "the                      P    None \n",
      "first                    P    None \n",
      "week                     P    None \n",
      "of                       P    None \n",
      "life                     P    None \n",
      "that                     None None \n",
      "received                 None None \n",
      "either                   None None \n",
      "fluid                    None None \n",
      "therapy                  None None \n",
      "or                       None None \n",
      "parenteral               None None \n",
      "nutrition.               None None \n",
      "For                      None None \n",
      "neonates                 P    None \n",
      "<                        P    None \n",
      "32                       P    None \n",
      "weeks                    P    None \n",
      "this                     None None \n",
      "comparison               None None \n",
      "was                      None None \n",
      "not                      None None \n",
      "feasible                 None None \n",
      "as                       None None \n",
      "the                      None None \n",
      "majority                 None None \n",
      "were                     None None \n",
      "parenterally             None None \n",
      "fed                      None None \n",
      ".                        None None \n",
      "CONCLUSION               None None \n",
      "Provision                None None \n",
      "of                       None None \n",
      "parenteral               None None \n",
      "nutrition                None None \n",
      "(                        None None \n",
      "versus                   None None \n",
      "fluid                    None None \n",
      "therapy                  None None \n",
      ")                        None None \n",
      "in                       None None \n",
      "critically               P    P    \n",
      "ill                      P    P    \n",
      "neonates                 P    P    \n",
      ">                        P    P    \n",
      "32                       P    P    \n",
      "weeks                    P    P    \n",
      "did                      None None \n",
      "not                      None None \n",
      "significantly            None None \n",
      "affect                   None None \n",
      "netilmicin               None None \n",
      "pharmacokinetics         None None \n",
      "and                      None None \n",
      "therefore                None None \n",
      "does                     None None \n",
      "not                      None None \n",
      "require                  None None \n",
      "modification             None None \n",
      "of                       None None \n",
      "recommended              None None \n",
      "netilmicin               None None \n",
      "dosage                   None None \n",
      "regimens                 None None \n",
      ".                        None None \n"
     ]
    }
   ],
   "source": [
    "i = 2\n",
    "print_with_spaces(zip(dev_tokens[i], dev_tags[i], pred_dev_tags[i]), [25, 5, 5])"
   ]
  },
  {
   "cell_type": "code",
   "execution_count": null,
   "metadata": {
    "collapsed": true
   },
   "outputs": [],
   "source": []
  }
 ],
 "metadata": {
  "kernelspec": {
   "display_name": "Python 2",
   "language": "python",
   "name": "python2"
  },
  "language_info": {
   "codemirror_mode": {
    "name": "ipython",
    "version": 2
   },
   "file_extension": ".py",
   "mimetype": "text/x-python",
   "name": "python",
   "nbconvert_exporter": "python",
   "pygments_lexer": "ipython2",
   "version": "2.7.12"
  }
 },
 "nbformat": 4,
 "nbformat_minor": 0
}
