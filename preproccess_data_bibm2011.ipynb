{
 "cells": [
  {
   "cell_type": "code",
   "execution_count": 107,
   "metadata": {
    "collapsed": false
   },
   "outputs": [],
   "source": [
    "from bs4 import BeautifulSoup\n",
    "import os\n",
    "import lxml\n",
    "from random import shuffle"
   ]
  },
  {
   "cell_type": "code",
   "execution_count": null,
   "metadata": {
    "collapsed": true
   },
   "outputs": [],
   "source": []
  },
  {
   "cell_type": "markdown",
   "metadata": {
    "collapsed": true
   },
   "source": [
    "# Title"
   ]
  },
  {
   "cell_type": "markdown",
   "metadata": {},
   "source": [
    "### preprocessing"
   ]
  },
  {
   "cell_type": "code",
   "execution_count": 3,
   "metadata": {
    "collapsed": false
   },
   "outputs": [],
   "source": [
    "def extract_and_write_good_abstracts():\n",
    "    directory = 'bibm2011corpus-master'\n",
    "\n",
    "    good_abstracts_list = []\n",
    "\n",
    "    # For each subdirectory\n",
    "    for subdir in os.listdir(directory):\n",
    "        subdir_path = directory + '/' + subdir\n",
    "        ann_subdir_path = directory + '/' + subdir\n",
    "        # print subdir_path\n",
    "\n",
    "        # Not a directory\n",
    "        if not os.path.isdir(subdir_path):\n",
    "            continue\n",
    "\n",
    "        # For each abstract in subdirectory\n",
    "        for abstract in os.listdir(subdir_path):\n",
    "            if (abstract.endswith('.xml')):\n",
    "                abstract_path = subdir_path + '/' + abstract; \n",
    "                \n",
    "                full_text_txt_path = abstract_path[:-4] + '.txt';\n",
    "                f = open(full_text_txt_path, 'w')\n",
    "                \n",
    "                soup = BeautifulSoup(open(abstract_path).read())\n",
    "                pmid = soup.find(\"abstract\")['id']\n",
    "\n",
    "                sentences = list(soup.findAll(\"s\"))\n",
    "                sentances_part = soup.find_all(section=\"participants\");\n",
    "                fulltext = soup.find('fulltext')\n",
    "                if (fulltext.string == None):\n",
    "                    print \"BAD\"\n",
    "                else:\n",
    "                    out = str(fulltext.string)\n",
    "                    f.write(out)\n",
    "                \n",
    "                f.close()\n",
    "                \n",
    "                use_abstract = True;\n",
    "\n",
    "                for i in sentances_part:\n",
    "                    if i.string == None:\n",
    "                        use_abstract = False;\n",
    "\n",
    "                if use_abstract:\n",
    "                    good_abstracts_list.append(abstract_path)\n",
    "#                     good_abstracts_list = good_abstracts_list + abstract_path + '\\n'\n",
    "    \n",
    "#     shuffle(good_abstracts_list)\n",
    "    \n",
    "#     output_list = ''\n",
    "#     for item in good_abstracts_list:\n",
    "#         output_list = output_list + item + '\\n'\n",
    "    \n",
    "#     f = open('./bibm2011corpus-master/abstracts_1.txt', 'w')\n",
    "#     f.write(output_list)\n",
    "#     f.close()"
   ]
  },
  {
   "cell_type": "code",
   "execution_count": 148,
   "metadata": {
    "collapsed": false
   },
   "outputs": [],
   "source": [
    "extract_and_write_good_abstracts()"
   ]
  },
  {
   "cell_type": "code",
   "execution_count": null,
   "metadata": {
    "collapsed": true
   },
   "outputs": [],
   "source": []
  },
  {
   "cell_type": "code",
   "execution_count": 90,
   "metadata": {
    "collapsed": true
   },
   "outputs": [],
   "source": [
    "f = open('./bibm2011corpus-master/abstracts_1.txt', 'r')\n",
    "abstract_list = f.readlines()"
   ]
  },
  {
   "cell_type": "code",
   "execution_count": 91,
   "metadata": {
    "collapsed": false
   },
   "outputs": [],
   "source": [
    "abstract_list = [x.strip() for x in abstract_list]\n"
   ]
  },
  {
   "cell_type": "code",
   "execution_count": null,
   "metadata": {
    "collapsed": true
   },
   "outputs": [],
   "source": []
  },
  {
   "cell_type": "code",
   "execution_count": null,
   "metadata": {
    "collapsed": true
   },
   "outputs": [],
   "source": []
  },
  {
   "cell_type": "code",
   "execution_count": 41,
   "metadata": {
    "collapsed": false
   },
   "outputs": [],
   "source": [
    "def process_abstract_to_determine_good(abstract_path):\n",
    "    soup = BeautifulSoup(open(abstract_path).read())\n",
    "    pmid = soup.find(\"abstract\")['id']\n",
    "\n",
    "    sentences = list(soup.findAll(\"s\"))\n",
    "    sentences_part = soup.find_all(section=\"participants\");\n",
    "    \n",
    "    full_text = str(soup.find(\"fulltext\").string)\n",
    "    full_text_nospace = full_text.replace(' ', '')\n",
    "        \n",
    "    for part_phrase in sentences_part:\n",
    "        part_phrase = str(part_phrase.string)\n",
    "        part_phrase_nospace = part_phrase.replace(' ', '')\n",
    "        index = full_text_nospace.find(part_phrase_nospace)\n",
    "        if index == -1:\n",
    "#             print len(sentences_part)\n",
    "#             print \"\"\n",
    "            if (len(sentences_part) == 1):\n",
    "                return True\n",
    "#             num_indices = []\n",
    "            \n",
    "#             for digit in str.digits:\n",
    "#                 num_indices.append(part_phrase_nospace.find(digit))\n",
    "            \n",
    "#             print part_phrase\n",
    "#             print full_text\n",
    "            \n",
    "#             print \"\"\n",
    "#             print \"##############################################\"\n",
    "    return False"
   ]
  },
  {
   "cell_type": "code",
   "execution_count": 42,
   "metadata": {
    "collapsed": true
   },
   "outputs": [],
   "source": [
    "def get_data_in_interval_output(start, end):\n",
    "    f = open('./bibm2011corpus-master/abstracts_1.txt', 'r')\n",
    "    abstract_list = f.readlines()\n",
    "    abstract_list = [x.strip() for x in abstract_list]\n",
    "    final_list = abstract_list[start:end]\n",
    "    \n",
    "    num_bad = 0\n",
    "    \n",
    "    good_abstract_list = []\n",
    "    \n",
    "    for abstract in abstract_list:\n",
    "        bad = process_abstract_to_determine_good(abstract)\n",
    "        if bad:\n",
    "            num_bad += 1\n",
    "        else:\n",
    "            good_abstract_list.append(abstract)\n",
    "            \n",
    "        \n",
    "    print \"BAD: \", num_bad\n",
    "    print good_abstract_list\n",
    "    \n",
    "    out_string = ''\n",
    "    \n",
    "    for ab in good_abstract_list:\n",
    "        out_string = out_string + ab + '\\n'\n",
    "    \n",
    "    \n",
    "    f = open('./bibm2011corpus-master/abstracts_2.txt', 'w')\n",
    "    f.write(out_string)\n",
    "    f.close()\n",
    "    print \"\\n\\n\\n\"\n",
    "    print len(good_abstract_list)\n",
    "    "
   ]
  },
  {
   "cell_type": "code",
   "execution_count": 43,
   "metadata": {
    "collapsed": false
   },
   "outputs": [
    {
     "name": "stdout",
     "output_type": "stream",
     "text": [
      "hello\n"
     ]
    }
   ],
   "source": [
    "a = 'hello my name is hansa'\n",
    "print a[0:5]"
   ]
  },
  {
   "cell_type": "code",
   "execution_count": 44,
   "metadata": {
    "collapsed": false
   },
   "outputs": [
    {
     "name": "stdout",
     "output_type": "stream",
     "text": [
      "BAD:  15\n",
      "['bibm2011corpus-master/2009/20008376.xml', 'bibm2011corpus-master/2007/17855283.xml', 'bibm2011corpus-master/2007/17954513.xml', 'bibm2011corpus-master/2009/19723707.xml', 'bibm2011corpus-master/2007/17699546.xml', 'bibm2011corpus-master/2008/18332051.xml', 'bibm2011corpus-master/2009/19843565.xml', 'bibm2011corpus-master/2009/19900993.xml', 'bibm2011corpus-master/2008/18927173.xml', 'bibm2011corpus-master/2007/17690340.xml', 'bibm2011corpus-master/2007/17954515.xml', 'bibm2011corpus-master/2009/19483252.xml', 'bibm2011corpus-master/2009/19168537.xml', 'bibm2011corpus-master/2007/17324975.xml', 'bibm2011corpus-master/2008/18996930.xml', 'bibm2011corpus-master/2008/18390493.xml', 'bibm2011corpus-master/2005-2006/16895945.xml', 'bibm2011corpus-master/2008/18762476.xml', 'bibm2011corpus-master/2007/17347187.xml', 'bibm2011corpus-master/2008/18845605.xml', 'bibm2011corpus-master/2008/18420663.xml', 'bibm2011corpus-master/2007/17626056.xml', 'bibm2011corpus-master/2008/18687720.xml', 'bibm2011corpus-master/2009/19416992.xml', 'bibm2011corpus-master/2008/18765450.xml', 'bibm2011corpus-master/2008/18199700.xml', 'bibm2011corpus-master/2009/19875843.xml', 'bibm2011corpus-master/2009/19465470.xml', 'bibm2011corpus-master/2007/18056743.xml', 'bibm2011corpus-master/2009/19567910.xml', 'bibm2011corpus-master/2009/19208703.xml', 'bibm2011corpus-master/2009/19815583.xml', 'bibm2011corpus-master/2008/18417521.xml', 'bibm2011corpus-master/2009/19208714.xml', 'bibm2011corpus-master/2009/19181729.xml', 'bibm2011corpus-master/2008/18782838.xml', 'bibm2011corpus-master/2007/17259186.xml', 'bibm2011corpus-master/2007/17259188.xml', 'bibm2011corpus-master/2007/17611232.xml', 'bibm2011corpus-master/2007/17118949.xml', 'bibm2011corpus-master/2009/19773329.xml', 'bibm2011corpus-master/2005-2006/16720619.xml', 'bibm2011corpus-master/2005-2006/16877454.xml', 'bibm2011corpus-master/2005-2006/16543297.xml', 'bibm2011corpus-master/2009/19398471.xml', 'bibm2011corpus-master/2008/18310262.xml', 'bibm2011corpus-master/2008/18171718.xml', 'bibm2011corpus-master/2009/19208715.xml', 'bibm2011corpus-master/2007/17085459.xml', 'bibm2011corpus-master/2005-2006/16195288.xml', 'bibm2011corpus-master/2008/18184631.xml', 'bibm2011corpus-master/2007/17540908.xml', 'bibm2011corpus-master/2008/18503103.xml', 'bibm2011corpus-master/2008/18441375.xml', 'bibm2011corpus-master/2008/18420662.xml', 'bibm2011corpus-master/2007/17556431.xml', 'bibm2011corpus-master/2005-2006/15746106.xml', 'bibm2011corpus-master/2008/18182412.xml', 'bibm2011corpus-master/2008/19074218.xml', 'bibm2011corpus-master/2005-2006/16627509.xml', 'bibm2011corpus-master/2009/19509031.xml', 'bibm2011corpus-master/2009/19477893.xml', 'bibm2011corpus-master/2009/19366755.xml', 'bibm2011corpus-master/2009/19304578.xml', 'bibm2011corpus-master/2007/17878265.xml', 'bibm2011corpus-master/2009/20051465.xml', 'bibm2011corpus-master/2009/19858174.xml', 'bibm2011corpus-master/2008/18276664.xml', 'bibm2011corpus-master/2009/19638648.xml', 'bibm2011corpus-master/2008/18558641.xml', 'bibm2011corpus-master/2008/19091759.xml', 'bibm2011corpus-master/2009/19147639.xml', 'bibm2011corpus-master/2005-2006/16455695.xml', 'bibm2011corpus-master/2009/19690341.xml', 'bibm2011corpus-master/2009/19336497.xml', 'bibm2011corpus-master/2008/19008268.xml', 'bibm2011corpus-master/2005-2006/16740528.xml', 'bibm2011corpus-master/2008/19064606.xml', 'bibm2011corpus-master/2007/17762000.xml', 'bibm2011corpus-master/2008/19074232.xml', 'bibm2011corpus-master/2005-2006/15757960.xml', 'bibm2011corpus-master/2009/19223344.xml', 'bibm2011corpus-master/2008/18669565.xml', 'bibm2011corpus-master/2009/19684100.xml', 'bibm2011corpus-master/2007/17449504.xml', 'bibm2011corpus-master/2007/17991935.xml', 'bibm2011corpus-master/2005-2006/16308382.xml', 'bibm2011corpus-master/2008/18326503.xml', 'bibm2011corpus-master/2009/19423623.xml', 'bibm2011corpus-master/2009/19318702.xml', 'bibm2011corpus-master/2008/18502911.xml', 'bibm2011corpus-master/2005-2006/16707509.xml', 'bibm2011corpus-master/2009/19549996.xml', 'bibm2011corpus-master/2009/19638647.xml', 'bibm2011corpus-master/2005-2006/17023435.xml', 'bibm2011corpus-master/2007/17468120.xml', 'bibm2011corpus-master/2009/19406886.xml', 'bibm2011corpus-master/2008/18502912.xml', 'bibm2011corpus-master/2005-2006/16803941.xml', 'bibm2011corpus-master/2008/18505757.xml', 'bibm2011corpus-master/2007/17545185.xml', 'bibm2011corpus-master/2009/19246544.xml', 'bibm2011corpus-master/2008/18182416.xml', 'bibm2011corpus-master/2005-2006/16520326.xml', 'bibm2011corpus-master/2007/17604300.xml', 'bibm2011corpus-master/2007/17495988.xml', 'bibm2011corpus-master/2009/19875425.xml', 'bibm2011corpus-master/2009/19638646.xml', 'bibm2011corpus-master/2008/18244958.xml', 'bibm2011corpus-master/2009/19959590.xml', 'bibm2011corpus-master/2009/19443914.xml', 'bibm2011corpus-master/2008/18296460.xml', 'bibm2011corpus-master/2007/18056742.xml', 'bibm2011corpus-master/2009/19366752.xml', 'bibm2011corpus-master/2007/17350965.xml', 'bibm2011corpus-master/2009/19815581.xml', 'bibm2011corpus-master/2007/17526594.xml', 'bibm2011corpus-master/2007/18056740.xml', 'bibm2011corpus-master/2009/19837741.xml', 'bibm2011corpus-master/2005-2006/16428253.xml', 'bibm2011corpus-master/2009/19147478.xml', 'bibm2011corpus-master/2005-2006/17012266.xml', 'bibm2011corpus-master/2005-2006/16763247.xml', 'bibm2011corpus-master/2007/17289685.xml', 'bibm2011corpus-master/2008/18812366.xml', 'bibm2011corpus-master/2009/19713235.xml', 'bibm2011corpus-master/2005-2006/16735334.xml', 'bibm2011corpus-master/2009/19622553.xml', 'bibm2011corpus-master/2007/17670909.xml', 'bibm2011corpus-master/2009/19826172.xml', 'bibm2011corpus-master/2007/17142256.xml', 'bibm2011corpus-master/2007/17118950.xml', 'bibm2011corpus-master/2007/17940319.xml', 'bibm2011corpus-master/2009/19553269.xml', 'bibm2011corpus-master/2009/19690345.xml']\n",
      "\n",
      "\n",
      "\n",
      "\n",
      "135\n"
     ]
    }
   ],
   "source": [
    "get_data_in_interval_output(0, 10)"
   ]
  },
  {
   "cell_type": "code",
   "execution_count": null,
   "metadata": {
    "collapsed": true
   },
   "outputs": [],
   "source": []
  },
  {
   "cell_type": "code",
   "execution_count": null,
   "metadata": {
    "collapsed": true
   },
   "outputs": [],
   "source": []
  },
  {
   "cell_type": "code",
   "execution_count": 112,
   "metadata": {
    "collapsed": false
   },
   "outputs": [],
   "source": [
    "def process_abstract(abstract_path):\n",
    "    soup = BeautifulSoup(open(abstract_path).read())\n",
    "    pmid = soup.find(\"abstract\")['id']\n",
    "\n",
    "    sentences = list(soup.findAll(\"s\"))\n",
    "    sentences_part = soup.find_all(section=\"participants\");\n",
    "    \n",
    "    full_text = str(soup.find(\"fulltext\").string)\n",
    "    full_text_nospace = full_text.replace(' ', '')\n",
    "    \n",
    "#     print \"TEXT: \"\n",
    "#     print full_text\n",
    "#     print \" \"\n",
    "    \n",
    "    f = open(abstract_path[:-4] + '_tokens.txt', 'r')\n",
    "    text = f.read()\n",
    "    f.close()\n",
    "    \n",
    "    \n",
    "    word_array = text.split(' ')\n",
    "    tag_array = ['None']*len(word_array)\n",
    "\n",
    "    \n",
    "    for part_phrase in sentences_part:\n",
    "        part_phrase = str(part_phrase.string)\n",
    "        part_phrase_nospace = part_phrase.replace(' ', '')\n",
    "        index = full_text_nospace.find(part_phrase_nospace)\n",
    "        \n",
    "#         print \"PART PHRASE:\"\n",
    "#         print part_phrase\n",
    "#         print \"  \"\n",
    "        \n",
    "        part_phrase_list = part_phrase.split(' ')\n",
    "#         print part_phrase_list\n",
    "        \n",
    "#         print \"first part_phrase bit: \", part_phrase_list[0]\n",
    "\n",
    "        if not (index == -1):\n",
    "            in_phrase = False;\n",
    "            for i in range(0, len(word_array)):\n",
    "                word = word_array[i]\n",
    "#                 print word\n",
    "                if in_phrase:\n",
    "#                     print \"in phrase\"\n",
    "                    tag_array[i] = 'P'\n",
    "                    if part_phrase_list[-1] == word:\n",
    "                        in_phrase = False\n",
    "                else:\n",
    "#                     print \"not in phrase\"\n",
    "                    if word == part_phrase_list[0]:\n",
    "#                         print \"yes they match\"\n",
    "                        \n",
    "                        \n",
    "                        search_string = ''.join(word_array[i:i+len(part_phrase_list)])\n",
    "#                         print \"search string: \", search_string\n",
    "#                         print 'part_phrase_nospace: ', part_phrase_nospace\n",
    "                        if (part_phrase_nospace in search_string) or (search_string in part_phrase_nospace):\n",
    "                            in_phrase = True\n",
    "                            tag_array[i] = 'P'\n",
    "                            \n",
    "    return word_array, tag_array\n",
    "                    \n"
   ]
  },
  {
   "cell_type": "code",
   "execution_count": 134,
   "metadata": {
    "collapsed": true
   },
   "outputs": [],
   "source": [
    "def get_data_in_interval(start, end):\n",
    "    f = open('./bibm2011corpus-master/abstracts_2.txt', 'r')\n",
    "    abstract_list = f.readlines()\n",
    "    abstract_list = [x.strip() for x in abstract_list]\n",
    "    final_list = abstract_list[start:end]\n",
    "    \n",
    "    word_array = []\n",
    "    tag_array = []\n",
    "    \n",
    "    for abstract in final_list:\n",
    "        [word_array_curr, tag_array_curr] = process_abstract(abstract)\n",
    "        word_array.extend(word_array_curr)\n",
    "        tag_array.extend(tag_array_curr)\n",
    "\n",
    "    return [word_array, tag_array]\n",
    "        \n"
   ]
  },
  {
   "cell_type": "code",
   "execution_count": 126,
   "metadata": {
    "collapsed": false
   },
   "outputs": [],
   "source": [
    "def get_all_data():\n",
    "    return get_data_in_interval(0, 135)\n",
    "\n"
   ]
  },
  {
   "cell_type": "code",
   "execution_count": 135,
   "metadata": {
    "collapsed": true
   },
   "outputs": [],
   "source": [
    "def get_all_data_train():\n",
    "    return get_data_in_interval(0, 95)"
   ]
  },
  {
   "cell_type": "code",
   "execution_count": 136,
   "metadata": {
    "collapsed": true
   },
   "outputs": [],
   "source": [
    "def get_all_data_dev():\n",
    "    return get_data_in_interval(95, 122)"
   ]
  },
  {
   "cell_type": "code",
   "execution_count": 137,
   "metadata": {
    "collapsed": true
   },
   "outputs": [],
   "source": [
    "def get_all_data_test():\n",
    "    return get_data_in_interval(122, 135)"
   ]
  },
  {
   "cell_type": "code",
   "execution_count": 104,
   "metadata": {
    "collapsed": false
   },
   "outputs": [],
   "source": [
    "# [word_array, tag_array] = get_data_in_interval(0, 10)"
   ]
  },
  {
   "cell_type": "code",
   "execution_count": 105,
   "metadata": {
    "collapsed": false
   },
   "outputs": [],
   "source": [
    "# for i in range(0, len(word_array)):\n",
    "#     if tag_array[i] == 'P':\n",
    "#         print word_array[i]"
   ]
  }
 ],
 "metadata": {
  "kernelspec": {
   "display_name": "Python 2",
   "language": "python",
   "name": "python2"
  },
  "language_info": {
   "codemirror_mode": {
    "name": "ipython",
    "version": 2
   },
   "file_extension": ".py",
   "mimetype": "text/x-python",
   "name": "python",
   "nbconvert_exporter": "python",
   "pygments_lexer": "ipython2",
   "version": "2.7.12"
  }
 },
 "nbformat": 4,
 "nbformat_minor": 1
}
