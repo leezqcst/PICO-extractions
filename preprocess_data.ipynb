{
 "cells": [
  {
   "cell_type": "code",
   "execution_count": 57,
   "metadata": {
    "collapsed": true
   },
   "outputs": [],
   "source": [
    "import tensorflow as tf\n",
    "import numpy as np\n",
    "import os"
   ]
  },
  {
   "cell_type": "code",
   "execution_count": 58,
   "metadata": {
    "collapsed": false
   },
   "outputs": [],
   "source": [
    "Null_TAG = 'None'\n",
    "P_TAG = 'P'  # participant phrase\n",
    "I_TAG = 'I'\n",
    "\n",
    "ABSTRACT_TOKENS_PATH_END = '_tokens.txt'\n",
    "ABSTRACT_TAGS_PATH_END = '_tokens_tags.ann'"
   ]
  },
  {
   "cell_type": "code",
   "execution_count": 59,
   "metadata": {
    "collapsed": false
   },
   "outputs": [],
   "source": [
    "'''\n",
    "Takes in the abstract and the gold annotation path and assigns a tag,\n",
    "either None, Pb, or Pb to each token.\n",
    "The abstract_path should be a _token.txt file which has the abstract with\n",
    "token delimited with a space. \n",
    "The gold_annotation_path should be a _gold_2.ann file which has the correct\n",
    "gold annotations which give the beginning and end of Participant phrases\n",
    "in indices of non-whitespace characters (as opposed to gold.ann files \n",
    "which has indicies including whitespace characters).\n",
    "\n",
    "Output: a '_tokens_tags.ann' file that is parallel to the _tokens.txt file.\n",
    "Instead of each token, the file contains each tag deliminated with a space.\n",
    "'''\n",
    "def annotate_abstract(abstract_path, gold_annotation_path, TAG='P'):\n",
    "    # read files \n",
    "    abs_file = open(abstract_path, 'r');\n",
    "    file_text = abs_file.read();\n",
    "\n",
    "    ann_file = open(gold_annotation_path, 'r');\n",
    "    ann_file = ann_file.read();\n",
    "    \n",
    "    # storing list of tuples of tags. [(start1, end1), (start2, end2)...]\n",
    "    ann_list = ann_file.split();\n",
    "    part_list = [];\n",
    "    for i in range(1, len(ann_list), 2):\n",
    "        part_list.append((int(ann_list[i]), int(ann_list[i+1])))\n",
    "\n",
    "#     print part_list\n",
    "    word_list = file_text.split(); # [word1, word2, word] no spaces\n",
    "    tag_list = []\n",
    "    index = 0;\n",
    "    ann_index = 0\n",
    "    if (len(part_list) == 0):\n",
    "        ann_start = np.inf\n",
    "        ann_end = np.inf\n",
    "    else:\n",
    "        ann_start = part_list[ann_index][0]\n",
    "        ann_end = part_list[ann_index][1]\n",
    "    in_phrase = False\n",
    "\n",
    "    for word_ind in range(len(word_list)):\n",
    "#         print \"ann_start: \", ann_start, \" - ann_end: \", ann_end\n",
    "#         print \"word_ind: \", word_ind\n",
    "        word = word_list[word_ind]\n",
    "#         print \"word: \", word\n",
    "        index += len(word);\n",
    "#         print \"index: \", index\n",
    "        if not in_phrase:\n",
    "            # looking for start of participant phrase\n",
    "            if (ann_start < index):\n",
    "                # we found first word in this participant segment\n",
    "#                 print \"FOUND START\"\n",
    "#                 print \"tag: \", P_TAG_b\n",
    "                tag_list.append(TAG)\n",
    "                in_phrase = True\n",
    "            else:\n",
    "                tag_list.append(Null_TAG) \n",
    "#                 print \"Not in phrase\"\n",
    "#                 print \"tag: \", Null_TAG\n",
    "        else:\n",
    "            tag_list.append(TAG)\n",
    "#             print \"Still in phrase\"\n",
    "#             print \"tag: \", P_TAG_m\n",
    "            # in the participant phrase, looking for its end\n",
    "            if (ann_end <= index):\n",
    "                # we found the last word in the participant segment\n",
    "#                 print \"Last word in segment\"\n",
    "                ann_index += 1\n",
    "                if (ann_index == len(part_list)):\n",
    "#                     print \"No more annotations\"\n",
    "                    ann_start = np.inf\n",
    "                    ann_end = np.inf\n",
    "                else:\n",
    "#                     print \"New annotation\"\n",
    "                    ann_start = part_list[ann_index][0]\n",
    "                    ann_end = part_list[ann_index][1]\n",
    "#                     print \"start: \", ann_start, \" - end: \", ann_end\n",
    "                in_phrase = False\n",
    "#         print \" \"\n",
    "    \n",
    "    # writing .ann and .txt files \n",
    "    out_ann_path = abstract_path[0:-10] + TAG + ABSTRACT_TAGS_PATH_END\n",
    "    \n",
    "    tag_sentence = ' '.join(tag_list)\n",
    "#     print tag_sentence\n",
    "    \n",
    "    ann_f = open(out_ann_path, 'w')\n",
    "#     print out_ann_path\n",
    "    \n",
    "    ann_f.write(tag_sentence);\n",
    "    \n",
    "    ann_f.close();\n",
    "    "
   ]
  },
  {
   "cell_type": "code",
   "execution_count": 60,
   "metadata": {
    "collapsed": false
   },
   "outputs": [],
   "source": [
    "'''\n",
    "Iterates through data directories and produces tag files.\n",
    "'''\n",
    "def produce_tag_files(directory='PICO-annotations/batch5k', TAG='P'):\n",
    "\n",
    "    # For each subdirectory\n",
    "    for subdir in os.listdir(directory):\n",
    "        subdir_path = directory + '/' + subdir\n",
    "        ann_subdir_path = directory + '/' + subdir\n",
    "        # print subdir_path\n",
    "\n",
    "        # Not a directory\n",
    "        if not os.path.isdir(subdir_path):\n",
    "            continue\n",
    "\n",
    "        # For each abstract in subdirectory\n",
    "        for abstract in os.listdir(subdir_path):\n",
    "            if (abstract.endswith('tokens.txt')):\n",
    "                abstract_path = subdir_path + '/' + abstract; \n",
    "                ann_path = ann_subdir_path + '/' + abstract;\n",
    "                # print abstract_path\n",
    "                ann_path = abstract_path[0:-10] + 'gold_2.ann'\n",
    "                annotate_abstract(abstract_path, ann_path, TAG)"
   ]
  },
  {
   "cell_type": "code",
   "execution_count": 61,
   "metadata": {
    "collapsed": false
   },
   "outputs": [],
   "source": [
    "# directory = 'PICO-annotations/batch5k'\n",
    "# produce_tag_files()\n",
    "# produce_tag_files(directory='PICO-annotations/interventions_batch5k', TAG='I')"
   ]
  },
  {
   "cell_type": "code",
   "execution_count": 62,
   "metadata": {
    "collapsed": false
   },
   "outputs": [],
   "source": [
    "'''\n",
    "Takes a file with the abstract as tokens seperated by a space and the\n",
    "fixed gold annotation files and then produces lists of tokens and their\n",
    "tags.\n",
    "\n",
    "Input: _tokens.txt file path as abstract_path\n",
    "       _tokens_tags.ann file path as tag_path\n",
    "       \n",
    "Output: [text_array, tag_array]\n",
    "    text_array: list of tokens in the given abstract\n",
    "    tag_array: list of tags of the tokens\n",
    "\n",
    "'''\n",
    "def read_file(abstract_path, tag_path=None, sentences=False):    \n",
    "    abstract_file = open(abstract_path, 'r');\n",
    "    file_text = abstract_file.read();    \n",
    "    text_array = file_text.split()\n",
    "    abstract_file.close()\n",
    "\n",
    "    # if gold_annotation exists\n",
    "    tag_array = []\n",
    "    if tag_path:\n",
    "        tag_file = open(tag_path);\n",
    "        tags = tag_file.read()\n",
    "        tag_array = tags.split()\n",
    "        tag_file.close()\n",
    "        \n",
    "    if (sentences):\n",
    "        sentence_array = []\n",
    "        sentence_tag_array = []\n",
    "        sentence_start_ind = 0\n",
    "        end_found = False\n",
    "        for index in range(0, len(text_array)):\n",
    "            token = text_array[index];\n",
    "            if token == '.' or token[-1] == '.':\n",
    "                sentence_array.append(text_array[sentence_start_ind:index+1])\n",
    "                sentence_tag_array.append(tag_array[sentence_start_ind:index+1])\n",
    "                sentence_start_ind = index + 1;\n",
    "                if ((index+1-sentence_start_ind) > 60):\n",
    "                    print abstract_path\n",
    "                if sentence_start_ind >= len(text_array):\n",
    "                    end_found = True;\n",
    "                    break\n",
    "        if not(end_found):\n",
    "            sentence_array.append(text_array[sentence_start_ind:len(text_array)])\n",
    "            sentence_tag_array.append(tag_array[sentence_start_ind:len(text_array)])\n",
    "        text_array = sentence_array\n",
    "        tag_array = sentence_tag_array\n",
    "        \n",
    "#     length = max([len(sent) for sent in text_array])\n",
    "#     if (length > 200):\n",
    "#         print \"THIS ABSTRACT HAS A SENTANCE GREATER THAN 200: \"\n",
    "#         print abstract_path\n",
    "#         print text_array\n",
    "#     for sent in text_array:\n",
    "#         if (len(sent) > 140):\n",
    "#             print len(sent)\n",
    "# #             print sent\n",
    "#             if (len(sent) > 160):\n",
    "#                 print abstract_path\n",
    "#                 print ' '.join(sent)\n",
    "    \n",
    "    return [text_array, tag_array]\n",
    "    "
   ]
  },
  {
   "cell_type": "code",
   "execution_count": null,
   "metadata": {
    "collapsed": true
   },
   "outputs": [],
   "source": []
  },
  {
   "cell_type": "code",
   "execution_count": 79,
   "metadata": {
    "collapsed": false
   },
   "outputs": [],
   "source": [
    "'''\n",
    "Input: path to a list of abstract file paths.\n",
    "\n",
    "Output: [word_array, tag_array]\n",
    "    word_array: list of lists where each inner list contains the tokens in\n",
    "    an abstract. \n",
    "    e.g [ ['hello', 'there'], ['i', 'am', 'hungry'], ['yes', 'i', 'am'] ]\n",
    "    where hello is the first token of the first abstract, and 'hungry' is \n",
    "    the third token of the second abstract.\n",
    "    \n",
    "    tag_array: list of lists where each innter list containts the tag in\n",
    "    an abstract.\n",
    "    e.g [ [t1, t2, t3], [t4, t5, t6], [t7, t8, t9] ]\n",
    "    where t1 is the tag for token 'hello' and t6 is the tag for token\n",
    "    'hungry'.\n",
    "    '''\n",
    "def get_all_data_in_abstracts(abstract_list, TAG='P', sentences=False):\n",
    "    if not (TAG == 'P' or TAG == 'I'):\n",
    "        raise ValueError('TAG parameter invalid, must be P or I.')\n",
    "    abs_list = open(abstract_list, 'r')\n",
    "    abstract_list = abs_list.readlines()\n",
    "    abstract_list = [x.strip() for x in abstract_list]\n",
    "    \n",
    "    word_array = []\n",
    "    tag_array = []\n",
    "    \n",
    "    for abstract_path in abstract_list:\n",
    "        abstract_token_path = abstract_path[:-4] + ABSTRACT_TOKENS_PATH_END\n",
    "        tag_path = abstract_path[:-4] + '_' + TAG + ABSTRACT_TAGS_PATH_END\n",
    "#         print abstract_token_path\n",
    "#         print tag_path\n",
    "        [curr_word_array, curr_tag_array] = read_file(abstract_token_path, tag_path, sentences)\n",
    "        if not(len(curr_word_array) == len(curr_tag_array)):\n",
    "            raise ValueError('For this file, len of abstract words and tags did not match.', abstract_path)\n",
    "        word_array.append(curr_word_array)\n",
    "        tag_array.append(curr_tag_array)\n",
    "    if not(len(word_array) == len(tag_array)):\n",
    "        raise ValueError('Overall, len of abstract words and tags did not match.', abstract_path)\n",
    "    return [word_array, tag_array]"
   ]
  },
  {
   "cell_type": "code",
   "execution_count": 64,
   "metadata": {
    "collapsed": false
   },
   "outputs": [],
   "source": [
    "'''\n",
    "Get all the training data.\n",
    "Returns [word_array, tag_array]\n",
    "'''\n",
    "def get_all_data_train(train_abstract_list='PICO-annotations/train_abstracts.txt', TAG='P', sentences=False):\n",
    "    return get_all_data_in_abstracts(train_abstract_list, TAG, sentences)"
   ]
  },
  {
   "cell_type": "code",
   "execution_count": 65,
   "metadata": {
    "collapsed": true
   },
   "outputs": [],
   "source": [
    "'''\n",
    "Get all the dev data.\n",
    "Returns [word_array, tag_array]\n",
    "'''\n",
    "def get_all_data_dev(dev_abstract_list='PICO-annotations/dev_abstracts.txt', TAG='P', sentences=False):\n",
    "    return get_all_data_in_abstracts(dev_abstract_list, TAG, sentences)"
   ]
  },
  {
   "cell_type": "code",
   "execution_count": 66,
   "metadata": {
    "collapsed": true
   },
   "outputs": [],
   "source": [
    "'''\n",
    "Get all the test data.\n",
    "Returns [word_array, tag_array]\n",
    "'''\n",
    "def get_all_data_test(test_abstract_list='PICO-annotations/test_abstracts.txt', TAG='P', sentences=False):\n",
    "    return get_all_data_in_abstracts(test_abstract_list, TAG, sentences)"
   ]
  },
  {
   "cell_type": "code",
   "execution_count": 67,
   "metadata": {
    "collapsed": true
   },
   "outputs": [],
   "source": [
    "def get_all_data(abstract_list='PICO-annotations/abstracts.txt', TAG='P', sentences=False):\n",
    "    return get_all_data_in_abstracts(abstract_list, TAG, sentences)"
   ]
  },
  {
   "cell_type": "code",
   "execution_count": null,
   "metadata": {
    "collapsed": false
   },
   "outputs": [],
   "source": []
  },
  {
   "cell_type": "code",
   "execution_count": 69,
   "metadata": {
    "collapsed": false
   },
   "outputs": [],
   "source": [
    "# [word_array, tag_array] = get_all_data_train(TAG=I_TAG);\n",
    "# [dev_word_array, dev_tag_array] = get_all_data_dev(TAG=I_TAG);\n",
    "# [test_word_array, test_tag_array] = get_all_data_test(TAG=I_TAG);\n"
   ]
  },
  {
   "cell_type": "markdown",
   "metadata": {},
   "source": [
    "### For testing purposes:"
   ]
  },
  {
   "cell_type": "code",
   "execution_count": 76,
   "metadata": {
    "collapsed": false
   },
   "outputs": [],
   "source": [
    "# abs_path = 'PICO-annotations/batch5k/0074f5e102cf4409ac07f6209dd30144/20957980_tokens.txt'\n",
    "# ann_path = 'PICO-annotations/batch5k/0074f5e102cf4409ac07f6209dd30144/20957980_P_tokens_tags.ann'\n",
    "\n",
    "# words, tags = read_file(abs_path, ann_path)\n"
   ]
  },
  {
   "cell_type": "code",
   "execution_count": 77,
   "metadata": {
    "collapsed": false
   },
   "outputs": [
    {
     "name": "stdout",
     "output_type": "stream",
     "text": [
      "patients\n",
      "with\n",
      "advanced\n",
      "melanoma\n",
      "previously\n",
      "treated\n",
      "patients\n",
      "with\n",
      "advanced\n",
      "melanoma.\n",
      "enrolled\n",
      "patients\n",
      "without\n",
      "regard\n",
      "to\n",
      "HLA\n",
      "subtype.\n",
      "class-I\n",
      "HLA-A*0201-positive\n",
      "patients\n",
      "phase\n",
      "II\n",
      "trials\n",
      "and\n",
      "was\n",
      "available\n",
      "for\n",
      "93.5\n",
      "%\n",
      "of\n",
      "patients.\n",
      "pretreated\n",
      "patients\n",
      "randomized\n",
      "to\n",
      "0.3\n",
      ",\n",
      "3\n",
      ",\n",
      "or\n",
      "10\n",
      "mg/kg\n",
      "ipilimumab\n",
      "in\n",
      "137\n",
      "HLA-A*0201-positive\n",
      "patients\n"
     ]
    }
   ],
   "source": [
    "# for i in range(len(words)):\n",
    "#     if not tags[i] == 'None':\n",
    "#         print words[i]"
   ]
  },
  {
   "cell_type": "code",
   "execution_count": null,
   "metadata": {
    "collapsed": true
   },
   "outputs": [],
   "source": []
  }
 ],
 "metadata": {
  "kernelspec": {
   "display_name": "Python 2",
   "language": "python",
   "name": "python2"
  },
  "language_info": {
   "codemirror_mode": {
    "name": "ipython",
    "version": 2
   },
   "file_extension": ".py",
   "mimetype": "text/x-python",
   "name": "python",
   "nbconvert_exporter": "python",
   "pygments_lexer": "ipython2",
   "version": "2.7.11"
  }
 },
 "nbformat": 4,
 "nbformat_minor": 1
}
