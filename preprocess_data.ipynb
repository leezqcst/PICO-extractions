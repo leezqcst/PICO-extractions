{
 "cells": [
  {
   "cell_type": "code",
   "execution_count": 30,
   "metadata": {
    "collapsed": true
   },
   "outputs": [],
   "source": [
    "import tensorflow as tf\n",
    "import numpy as np\n",
    "import os\n"
   ]
  },
  {
   "cell_type": "code",
   "execution_count": 31,
   "metadata": {
    "collapsed": false
   },
   "outputs": [],
   "source": [
    "Null_TAG = 'None'\n",
    "P_TAG_b = 'Pb'  # beginning of participant phrase\n",
    "P_TAG_m = 'Pm'  # middle/end of participant phrase"
   ]
  },
  {
   "cell_type": "code",
   "execution_count": 46,
   "metadata": {
    "collapsed": false
   },
   "outputs": [],
   "source": [
    "def annotate_abstract(abstract_path, gold_annotation_path):\n",
    "    abs_file = open(abstract_path, 'r');\n",
    "    file_text = abs_file.read();\n",
    "\n",
    "    ann_file = open(gold_annotation_path, 'r');\n",
    "    ann_file = ann_file.read();\n",
    "\n",
    "    ann_list = ann_file.split();\n",
    "    part_list = [];\n",
    "    for i in range(1, len(ann_list), 2):\n",
    "        part_list.append((int(ann_list[i]), int(ann_list[i+1])))\n",
    "\n",
    "\n",
    "    word_list = file_text.split(); # [word1, word2, word] no spaces\n",
    "    tag_list = []\n",
    "    index = 0; # changed from -1\n",
    "    ann_index = 0\n",
    "    if (len(part_list) == 0):\n",
    "        ann_start = np.inf\n",
    "        ann_end = np.inf\n",
    "    else:\n",
    "        ann_start = part_list[ann_index][0]\n",
    "        ann_end = part_list[ann_index][1]\n",
    "    in_phrase = False\n",
    "    sentence_start_ind = [0]\n",
    "\n",
    "    for word_ind in range(len(word_list)):\n",
    "        word = word_list[word_ind]\n",
    "        index += len(word) + 1;\n",
    "        if not in_phrase:\n",
    "            # looking for start of participant phrase\n",
    "            if (ann_start < index):\n",
    "                # we found first word in this participant segment\n",
    "                tag_list.append(P_TAG_b)\n",
    "                in_phrase = True\n",
    "            else:\n",
    "                tag_list.append(Null_TAG)          \n",
    "        else:\n",
    "            tag_list.append(P_TAG_m)\n",
    "            # in the participant phrase, looking for its end\n",
    "            if (ann_end <= index):\n",
    "                # we found the last word in the participant segment\n",
    "                ann_index += 1\n",
    "                if (ann_index == len(part_list)):\n",
    "                    ann_start = np.inf\n",
    "                    ann_end = np.inf\n",
    "                else:\n",
    "                    ann_start = part_list[ann_index][0]\n",
    "                    ann_end = part_list[ann_index][1]\n",
    "                in_phrase = False\n",
    "\n",
    "        if word[-1] == \".\":\n",
    "            sentence_start_ind.append(word_ind+1)\n",
    "                \n",
    "\n",
    "    out_abs_path = abstract_path[0:-4] + '_input.txt'\n",
    "    out_ann_path = abstract_path[0:-4] + '_input_tags.ann'\n",
    "    \n",
    "    abs_out_str = ''\n",
    "    ann_out_str = ''\n",
    "    \n",
    "    for i in range(0, len(sentence_start_ind)-1):        \n",
    "        sentence = ' '.join(word_list[sentence_start_ind[i]:sentence_start_ind[i+1]])\n",
    "        tag_sentence = ' '.join(tag_list[sentence_start_ind[i]:sentence_start_ind[i+1]])\n",
    "        \n",
    "        abs_out_str = abs_out_str + sentence + '\\n'\n",
    "        ann_out_str = ann_out_str + tag_sentence + '\\n'\n",
    "    \n",
    "    abs_f = open(out_abs_path, 'w')\n",
    "    ann_f = open(out_ann_path, 'w')\n",
    "    \n",
    "    abs_f.write(abs_out_str);\n",
    "    ann_f.write(ann_out_str);\n",
    "    \n",
    "    abs_f.close();\n",
    "    ann_f.close();\n",
    "    "
   ]
  },
  {
   "cell_type": "code",
   "execution_count": 43,
   "metadata": {
    "collapsed": false
   },
   "outputs": [],
   "source": [
    "abs_path = 'PICO-annotations/batch5k/0074f5e102cf4409ac07f6209dd30144/20957980.txt'\n",
    "ann_path = 'PICO-annotations/batch5k/0074f5e102cf4409ac07f6209dd30144/20957980_gold.ann'\n",
    "annotate_abstract(abs_path, ann_path)"
   ]
  },
  {
   "cell_type": "code",
   "execution_count": 37,
   "metadata": {
    "collapsed": false
   },
   "outputs": [],
   "source": [
    "directory = 'PICO-annotations/batch5k'\n",
    "\n",
    "# For each subdirectory\n",
    "for subdir in os.listdir(directory):\n",
    "    subdir_path = directory + '/' + subdir\n",
    "    # print subdir_path\n",
    "    \n",
    "    # Not a directory\n",
    "    if not os.path.isdir(subdir_path):\n",
    "        continue\n",
    "    \n",
    "    # For each abstract in subdirectory\n",
    "    for abstract in os.listdir(subdir_path):\n",
    "        if (abstract.endswith('.txt')) and not (abstract.endswith('input.txt')):\n",
    "            abstract_path = subdir_path + '/' + abstract; \n",
    "            # print abstract_path\n",
    "            ann_path = abstract_path[0:-4] + '_gold.ann'\n",
    "            annotate_abstract(abstract_path, ann_path)"
   ]
  },
  {
   "cell_type": "code",
   "execution_count": 58,
   "metadata": {
    "collapsed": false
   },
   "outputs": [],
   "source": [
    "\n",
    "def read_file(abstract_path, gold_annotation_path=None, seperate_sentances=False):    \n",
    "    abstract_file = open(abstract_path, 'r');\n",
    "    file_text = abstract_file.readlines();\n",
    "    file_text = np.array([line.strip() for line in file_text])\n",
    "    text_words_separated = np.array([line.split() for line in file_text])\n",
    "    if not seperate_sentances:\n",
    "        text_array = []\n",
    "        [text_array.extend(x) for x in text_words_separated]\n",
    "    else:\n",
    "        text_array = text_words_separated\n",
    "    abstract_file.close()\n",
    "\n",
    "    if not(gold_annotation_path is None):\n",
    "        tag_file = open(gold_annotation_path);\n",
    "        tags = tag_file.readlines();\n",
    "        tags = np.array([line.strip() for line in tags])\n",
    "        tags_separated = np.array([line.split() for line in tags])\n",
    "        if not seperate_sentances:\n",
    "            tag_array = []\n",
    "            [tag_array.extend(x) for x in tags_separated]\n",
    "        else:\n",
    "            tag_array = tags_separated\n",
    "        tag_file.close()\n",
    "    return [text_array, tag_array]\n",
    "    "
   ]
  },
  {
   "cell_type": "code",
   "execution_count": 59,
   "metadata": {
    "collapsed": false
   },
   "outputs": [],
   "source": [
    "abs_path = 'PICO-annotations/batch5k/0074f5e102cf4409ac07f6209dd30144/20957980_input.txt'\n",
    "ann_path = 'PICO-annotations/batch5k/0074f5e102cf4409ac07f6209dd30144/20957980_input_tags.ann'\n",
    "[abs_array, tag_array] = read_file(abs_path, ann_path)\n"
   ]
  },
  {
   "cell_type": "code",
   "execution_count": null,
   "metadata": {
    "collapsed": true
   },
   "outputs": [],
   "source": [
    "def get_all_data(data_directory='PICO-annotations/batch5k'):\n",
    "    abstract_array = []\n",
    "    tag_array = []\n",
    "    \n",
    "    # For each subdirectory\n",
    "    for subdir in os.listdir(data_directory):\n",
    "        subdir_path = directory + '/' + subdir\n",
    "        # print subdir_path\n",
    "\n",
    "        # Not a dir`ectory\n",
    "        if not os.path.isdir(subdir_path):\n",
    "            continue\n",
    "\n",
    "        # For each abstract in subdirectory\n",
    "        for abstract in os.listdir(subdir_path):\n",
    "            if (abstract.endswith('input.txt')):\n",
    "                abstract_path = subdir_path + '/' + abstract; \n",
    "                annotation_path = abstract_path[0:-4] + '_tags.ann'\n",
    "                # print abstract_path\n",
    "                [curr_abs_array, curr_tag_array] = read_file(abstract_path, ann_path)\n",
    "                abstract_array.extend(curr_abs_array)\n",
    "                tag_array.extend(curr_tag_array)\n",
    "    \n",
    "    abstract_array = np.array(abstract_array)\n",
    "    tag_array = np.array(tag_array)\n",
    "    print abs_array.shape\n",
    "    print tag_array.shape"
   ]
  },
  {
   "cell_type": "code",
   "execution_count": 60,
   "metadata": {
    "collapsed": false
   },
   "outputs": [
    {
     "ename": "NameError",
     "evalue": "name 'get_add_data' is not defined",
     "output_type": "error",
     "traceback": [
      "\u001b[0;31m---------------------------------------------------------------------------\u001b[0m",
      "\u001b[0;31mNameError\u001b[0m                                 Traceback (most recent call last)",
      "\u001b[0;32m<ipython-input-60-1ca63cebf03f>\u001b[0m in \u001b[0;36m<module>\u001b[0;34m()\u001b[0m\n\u001b[0;32m----> 1\u001b[0;31m \u001b[0;34m[\u001b[0m\u001b[0mword_array\u001b[0m\u001b[0;34m,\u001b[0m \u001b[0mtag_array\u001b[0m\u001b[0;34m]\u001b[0m \u001b[0;34m=\u001b[0m \u001b[0mget_add_data\u001b[0m\u001b[0;34m(\u001b[0m\u001b[0;34m)\u001b[0m\u001b[0;34m;\u001b[0m\u001b[0;34m\u001b[0m\u001b[0m\n\u001b[0m",
      "\u001b[0;31mNameError\u001b[0m: name 'get_add_data' is not defined"
     ]
    }
   ],
   "source": [
    "[word_array, tag_array] = get_add_data();"
   ]
  },
  {
   "cell_type": "code",
   "execution_count": null,
   "metadata": {
    "collapsed": true
   },
   "outputs": [],
   "source": []
  }
 ],
 "metadata": {
  "kernelspec": {
   "display_name": "Python 2",
   "language": "python",
   "name": "python2"
  },
  "language_info": {
   "codemirror_mode": {
    "name": "ipython",
    "version": 2
   },
   "file_extension": ".py",
   "mimetype": "text/x-python",
   "name": "python",
   "nbconvert_exporter": "python",
   "pygments_lexer": "ipython2",
   "version": "2.7.12"
  }
 },
 "nbformat": 4,
 "nbformat_minor": 1
}
