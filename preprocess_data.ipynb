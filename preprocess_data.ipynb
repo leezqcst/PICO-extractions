{
 "cells": [
  {
   "cell_type": "code",
   "execution_count": 3,
   "metadata": {
    "collapsed": true
   },
   "outputs": [],
   "source": [
    "import tensorflow as tf\n",
    "import numpy as np\n",
    "import os"
   ]
  },
  {
   "cell_type": "code",
   "execution_count": 42,
   "metadata": {
    "collapsed": false
   },
   "outputs": [],
   "source": [
    "Null_TAG = 'None'\n",
    "P_TAG_b = 'Pb'  # beginning of participant phrase\n",
    "P_TAG_m = 'Pm'  # middle/end of participant phrase"
   ]
  },
  {
   "cell_type": "code",
   "execution_count": 43,
   "metadata": {
    "collapsed": false
   },
   "outputs": [],
   "source": [
    "# output 2 files, .txt and .ann. \n",
    "# .txt file has abstract, 1 sentence per line \n",
    "# .ann has tags, 1 sentence's tag per line \n",
    "def annotate_abstract(abstract_path, gold_annotation_path):\n",
    "    \n",
    "    # read files \n",
    "    abs_file = open(abstract_path, 'r');\n",
    "    file_text = abs_file.read();\n",
    "\n",
    "    ann_file = open(gold_annotation_path, 'r');\n",
    "    ann_file = ann_file.read();\n",
    "    \n",
    "    # storing list of tuples of tags. [(start1, end1), (start2, end2)...]\n",
    "    ann_list = ann_file.split();\n",
    "    part_list = [];\n",
    "    for i in range(1, len(ann_list), 2):\n",
    "        part_list.append((int(ann_list[i]), int(ann_list[i+1])))\n",
    "\n",
    "\n",
    "    word_list = file_text.split(); # [word1, word2, word] no spaces\n",
    "    tag_list = []\n",
    "    index = 0;\n",
    "    ann_index = 0\n",
    "    if (len(part_list) == 0):\n",
    "        ann_start = np.inf\n",
    "        ann_end = np.inf\n",
    "    else:\n",
    "        ann_start = part_list[ann_index][0]\n",
    "        ann_end = part_list[ann_index][1]\n",
    "    in_phrase = False\n",
    "    sentence_start_ind = [0]\n",
    "\n",
    "    for word_ind in range(len(word_list)):\n",
    "        word = word_list[word_ind]\n",
    "        index += len(word) + 1;\n",
    "        if not in_phrase:\n",
    "            # looking for start of participant phrase\n",
    "            if (ann_start < index):\n",
    "                # we found first word in this participant segment\n",
    "                tag_list.append(P_TAG_b)\n",
    "                in_phrase = True\n",
    "            else:\n",
    "                tag_list.append(Null_TAG)          \n",
    "        else:\n",
    "            tag_list.append(P_TAG_m)\n",
    "            # in the participant phrase, looking for its end\n",
    "            if (ann_end <= index):\n",
    "                # we found the last word in the participant segment\n",
    "                ann_index += 1\n",
    "                if (ann_index == len(part_list)):\n",
    "                    ann_start = np.inf\n",
    "                    ann_end = np.inf\n",
    "                else:\n",
    "                    ann_start = part_list[ann_index][0]\n",
    "                    ann_end = part_list[ann_index][1]\n",
    "                in_phrase = False\n",
    "        if word[-1] == \".\":\n",
    "            sentence_start_ind.append(word_ind+1)\n",
    "\n",
    "    # word_list == tag_list \n",
    "    \n",
    "    # writing .ann and .txt files \n",
    "    out_abs_path = abstract_path[0:-4] + '_input.txt'\n",
    "    out_ann_path = abstract_path[0:-4] + '_input_tags.ann'\n",
    "    \n",
    "    abs_out_str = ''\n",
    "    ann_out_str = ''\n",
    "    \n",
    "    for i in range(len(sentence_start_ind)-1):  \n",
    "        sentence = ' '.join(word_list[sentence_start_ind[i]:sentence_start_ind[i+1]])\n",
    "        tag_sentence = ' '.join(tag_list[sentence_start_ind[i]:sentence_start_ind[i+1]])\n",
    "\n",
    "        abs_out_str = abs_out_str + sentence + '\\n'\n",
    "        ann_out_str = ann_out_str + tag_sentence + '\\n'\n",
    "    \n",
    "    abs_f = open(out_abs_path, 'w')\n",
    "    ann_f = open(out_ann_path, 'w')\n",
    "    \n",
    "    abs_f.write(abs_out_str);\n",
    "    ann_f.write(ann_out_str);\n",
    "    \n",
    "    abs_f.close();\n",
    "    ann_f.close();\n",
    "    "
   ]
  },
  {
   "cell_type": "code",
   "execution_count": 44,
   "metadata": {
    "collapsed": false
   },
   "outputs": [],
   "source": [
    "abs_path = 'PICO-annotations/batch5k/0074f5e102cf4409ac07f6209dd30144/20957980.txt'\n",
    "ann_path = 'PICO-annotations/batch5k/0074f5e102cf4409ac07f6209dd30144/20957980_gold.ann'\n",
    "annotate_abstract(abs_path, ann_path)"
   ]
  },
  {
   "cell_type": "code",
   "execution_count": 45,
   "metadata": {
    "collapsed": false
   },
   "outputs": [],
   "source": [
    "directory = 'PICO-annotations/batch5k'\n",
    "\n",
    "# For each subdirectory\n",
    "for subdir in os.listdir(directory):\n",
    "    subdir_path = directory + '/' + subdir\n",
    "    # print subdir_path\n",
    "    \n",
    "    # Not a directory\n",
    "    if not os.path.isdir(subdir_path):\n",
    "        continue\n",
    "    \n",
    "    # For each abstract in subdirectory\n",
    "    for abstract in os.listdir(subdir_path):\n",
    "        if (abstract.endswith('.txt')) and not (abstract.endswith('input.txt')):\n",
    "            abstract_path = subdir_path + '/' + abstract; \n",
    "            # print abstract_path\n",
    "            ann_path = abstract_path[0:-4] + '_gold.ann'\n",
    "            annotate_abstract(abstract_path, ann_path)"
   ]
  },
  {
   "cell_type": "code",
   "execution_count": 46,
   "metadata": {
    "collapsed": false
   },
   "outputs": [],
   "source": [
    "# reads a single input.txt file (and optional) input_tags.ann\n",
    "# param: separate_sentances. True [[s1w1 s1w2 s1w3] [s2w1 s2w2]] False [s1w1 s1w2 s1w3 s2w1 s2w2]\n",
    "# output [text_array, tag_array]\n",
    "def read_file(abstract_path, gold_annotation_path=None, separate_sentances=False):    \n",
    "    abstract_file = open(abstract_path, 'r');\n",
    "    file_text = abstract_file.readlines();\n",
    "    file_text = np.array([line.strip() for line in file_text]) # array of sentence strings\n",
    "    text_words_separated = np.array([line.split() for line in file_text])\n",
    "    \n",
    "    if separate_sentances: \n",
    "        text_array = text_words_separated\n",
    "    else:\n",
    "        text_array = []\n",
    "        [text_array.extend(x) for x in text_words_separated]\n",
    "    abstract_file.close()\n",
    "\n",
    "    # if gold_annotation exists\n",
    "    if gold_annotation_path:\n",
    "        tag_file = open(gold_annotation_path);\n",
    "        tags = tag_file.readlines();\n",
    "        tags = np.array([line.strip() for line in tags]) # sentences\n",
    "        tags_separated = np.array([line.split() for line in tags]) # by tag \n",
    "        \n",
    "        if separate_sentances:\n",
    "            tag_array = tags_separated\n",
    "        else:\n",
    "            tag_array = []\n",
    "            [tag_array.extend(x) for x in tags_separated]\n",
    "        tag_file.close()\n",
    "    \n",
    "    return [text_array, tag_array]\n",
    "    "
   ]
  },
  {
   "cell_type": "code",
   "execution_count": 64,
   "metadata": {
    "collapsed": false
   },
   "outputs": [],
   "source": [
    "abs_path = 'PICO-annotations/batch5k/ff5877cef90c40c6b3a587d71f7613d5/11229858_input.txt'\n",
    "ann_path = 'PICO-annotations/batch5k/ff5877cef90c40c6b3a587d71f7613d5/11229858_input_tags.ann'\n",
    "[abs_array, tag_array] = read_file(abs_path, ann_path)"
   ]
  },
  {
   "cell_type": "code",
   "execution_count": 65,
   "metadata": {
    "collapsed": false
   },
   "outputs": [],
   "source": [
    "# takes .ann and .txt files\n",
    "def get_all_data(data_directory='PICO-annotations/batch5k'):\n",
    "    abstract_array = []\n",
    "    tag_array = []\n",
    "    \n",
    "    # For each subdirectory\n",
    "    for subdir in os.listdir(data_directory):\n",
    "        subdir_path = directory + '/' + subdir\n",
    "\n",
    "        # Not a directory\n",
    "        if not os.path.isdir(subdir_path):\n",
    "            continue\n",
    "\n",
    "        # For each abstract in subdirectory\n",
    "        for abstract in os.listdir(subdir_path):\n",
    "            if (abstract.endswith('input.txt')):\n",
    "                abstract_path = subdir_path + '/' + abstract; \n",
    "                annotation_path = abstract_path[0:-4] + '_tags.ann'\n",
    "                [curr_abs_array, curr_tag_array] = read_file(abstract_path, annotation_path)\n",
    "                len_abs = len(curr_abs_array)\n",
    "                len_tags =  len(curr_tag_array)\n",
    "                if not (len_abs == len_tags):\n",
    "                    raise ValueError('For this file, len of abstract words and tags did not match.', abstract, len_abs, len_tags) \n",
    "                abstract_array.append(curr_abs_array)\n",
    "                tag_array.append(curr_tag_array)\n",
    "    \n",
    "    abstract_array = np.array(abstract_array)\n",
    "    tag_array = np.array(tag_array)\n",
    "    return [abstract_array, tag_array]"
   ]
  },
  {
   "cell_type": "code",
   "execution_count": 66,
   "metadata": {
    "collapsed": false
   },
   "outputs": [],
   "source": [
    "[word_array, tag_array] = get_all_data();"
   ]
  },
  {
   "cell_type": "code",
   "execution_count": 4,
   "metadata": {
    "collapsed": false
   },
   "outputs": [],
   "source": [
    "# from random import shuffle\n",
    "\n",
    "# directory = 'PICO-annotations/batch5k'\n",
    "# abstract_list_file = 'PICO-annotations/abstract_files.txt'\n",
    "# a_f = open(abstract_list_file, 'w')\n",
    "# abstract_files = []\n",
    "\n",
    "# for subdir in os.listdir(directory):\n",
    "#     subdir_path = directory + '/' + subdir\n",
    "\n",
    "#     # Not a directory\n",
    "#     if not os.path.isdir(subdir_path):\n",
    "#         continue\n",
    "\n",
    "#     # For each abstract in subdirectory\n",
    "#     for abstract in os.listdir(subdir_path):\n",
    "#         if (abstract.endswith('input.txt')):\n",
    "#             abstract_path = subdir_path + '/' + abstract; \n",
    "#             abstract_files.append(abstract_path);\n",
    "            \n",
    "            \n",
    "#              abstract_files = abstract_files + abstract_path + '\\n';\n",
    "\n",
    "# shuffle(abstract_files)\n",
    "\n",
    "# a_f.write(abstract_files)\n",
    "# a_f.close()\n",
    "            "
   ]
  },
  {
   "cell_type": "code",
   "execution_count": null,
   "metadata": {
    "collapsed": true
   },
   "outputs": [],
   "source": []
  }
 ],
 "metadata": {
  "kernelspec": {
   "display_name": "Python 2",
   "language": "python",
   "name": "python2"
  },
  "language_info": {
   "codemirror_mode": {
    "name": "ipython",
    "version": 2
   },
   "file_extension": ".py",
   "mimetype": "text/x-python",
   "name": "python",
   "nbconvert_exporter": "python",
   "pygments_lexer": "ipython2",
   "version": "2.7.12"
  }
 },
 "nbformat": 4,
 "nbformat_minor": 1
}
