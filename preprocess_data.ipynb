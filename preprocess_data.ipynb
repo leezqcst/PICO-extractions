{
 "cells": [
  {
   "cell_type": "code",
   "execution_count": 59,
   "metadata": {
    "collapsed": true
   },
   "outputs": [],
   "source": [
    "import tensorflow as tf\n",
    "import numpy as np\n",
    "import os"
   ]
  },
  {
   "cell_type": "code",
   "execution_count": 60,
   "metadata": {
    "collapsed": false
   },
   "outputs": [],
   "source": [
    "Null_TAG = 'None'\n",
    "P_TAG_b = 'Pb'  # beginning of participant phrase\n",
    "P_TAG_m = 'Pm'  # middle/end of participant phrase\n",
    "\n",
    "ABSTRACT_TOKENS_PATH_END = '_tokens.txt'\n",
    "ABSTRACT_TAGS_PATH_END = '_tokens_tags.ann'"
   ]
  },
  {
   "cell_type": "code",
   "execution_count": 61,
   "metadata": {
    "collapsed": false
   },
   "outputs": [],
   "source": [
    "'''\n",
    "Takes in the abstract and the gold annotation path and assigns a tag,\n",
    "either None, Pb, or Pb to each token.\n",
    "The abstract_path should be a _token.txt file which has the abstract with\n",
    "token delimited with a space. \n",
    "The gold_annotation_path should be a _gold_2.ann file which has the correct\n",
    "gold annotations which give the beginning and end of Participant phrases\n",
    "in indices of non-whitespace characters (as opposed to gold.ann files \n",
    "which has indicies including whitespace characters).\n",
    "\n",
    "Output: a '_tokens_tags.ann' file that is parallel to the _tokens.txt file.\n",
    "Instead of each token, the file contains each tag deliminated with a space.\n",
    "'''\n",
    "def annotate_abstract(abstract_path, gold_annotation_path):\n",
    "    # read files \n",
    "    abs_file = open(abstract_path, 'r');\n",
    "    file_text = abs_file.read();\n",
    "\n",
    "    ann_file = open(gold_annotation_path, 'r');\n",
    "    ann_file = ann_file.read();\n",
    "    \n",
    "    # storing list of tuples of tags. [(start1, end1), (start2, end2)...]\n",
    "    ann_list = ann_file.split();\n",
    "    part_list = [];\n",
    "    for i in range(1, len(ann_list), 2):\n",
    "        part_list.append((int(ann_list[i]), int(ann_list[i+1])))\n",
    "\n",
    "\n",
    "    word_list = file_text.split(); # [word1, word2, word] no spaces\n",
    "    tag_list = []\n",
    "    index = 0;\n",
    "    ann_index = 0\n",
    "    if (len(part_list) == 0):\n",
    "        ann_start = np.inf\n",
    "        ann_end = np.inf\n",
    "    else:\n",
    "        ann_start = part_list[ann_index][0]\n",
    "        ann_end = part_list[ann_index][1]\n",
    "    in_phrase = False\n",
    "\n",
    "    for word_ind in range(len(word_list)):\n",
    "        word = word_list[word_ind]\n",
    "        index += len(word) + 1;\n",
    "        if not in_phrase:\n",
    "            # looking for start of participant phrase\n",
    "            if (ann_start < index):\n",
    "                # we found first word in this participant segment\n",
    "                tag_list.append(P_TAG_b)\n",
    "                in_phrase = True\n",
    "            else:\n",
    "                tag_list.append(Null_TAG)          \n",
    "        else:\n",
    "            tag_list.append(P_TAG_m)\n",
    "            # in the participant phrase, looking for its end\n",
    "            if (ann_end <= index):\n",
    "                # we found the last word in the participant segment\n",
    "                ann_index += 1\n",
    "                if (ann_index == len(part_list)):\n",
    "                    ann_start = np.inf\n",
    "                    ann_end = np.inf\n",
    "                else:\n",
    "                    ann_start = part_list[ann_index][0]\n",
    "                    ann_end = part_list[ann_index][1]\n",
    "                in_phrase = False\n",
    "    \n",
    "    # writing .ann and .txt files \n",
    "    out_ann_path = abstract_path[0:-4] + '_tags.ann'\n",
    "    \n",
    "    tag_sentence = ' '.join(tag_list)\n",
    "#     print tag_sentence\n",
    "    \n",
    "    ann_f = open(out_ann_path, 'w')\n",
    "#     print out_ann_path\n",
    "    \n",
    "    ann_f.write(tag_sentence);\n",
    "    \n",
    "    ann_f.close();\n",
    "    "
   ]
  },
  {
   "cell_type": "code",
   "execution_count": 62,
   "metadata": {
    "collapsed": false
   },
   "outputs": [],
   "source": [
    "'''\n",
    "Iterates through data directories and produces tag files.\n",
    "'''\n",
    "def produce_tag_files():\n",
    "    directory = 'PICO-annotations/batch5k'\n",
    "\n",
    "    # For each subdirectory\n",
    "    for subdir in os.listdir(directory):\n",
    "        subdir_path = directory + '/' + subdir\n",
    "        # print subdir_path\n",
    "\n",
    "        # Not a directory\n",
    "        if not os.path.isdir(subdir_path):\n",
    "            continue\n",
    "\n",
    "        # For each abstract in subdirectory\n",
    "        for abstract in os.listdir(subdir_path):\n",
    "            if (abstract.endswith('tokens.txt')):\n",
    "                abstract_path = subdir_path + '/' + abstract; \n",
    "                # print abstract_path\n",
    "                ann_path = abstract_path[0:-10] + 'gold_2.ann'\n",
    "                annotate_abstract(abstract_path, ann_path)"
   ]
  },
  {
   "cell_type": "code",
   "execution_count": 63,
   "metadata": {
    "collapsed": false
   },
   "outputs": [],
   "source": [
    "'''\n",
    "Takes a file with the abstract as tokens seperated by a space and the\n",
    "fixed gold annotation files and then produces lists of tokens and their\n",
    "tags.\n",
    "\n",
    "Input: _tokens.txt file path as abstract_path\n",
    "       _tokens_tags.ann file path as tag_path\n",
    "       \n",
    "Output: [text_array, tag_array]\n",
    "    text_array: list of tokens in the given abstract\n",
    "    tag_array: list of tags of the tokens\n",
    "\n",
    "'''\n",
    "def read_file(abstract_path, tag_path=None):    \n",
    "    abstract_file = open(abstract_path, 'r');\n",
    "    file_text = abstract_file.read();    \n",
    "    text_array = file_text.split()\n",
    "    abstract_file.close()\n",
    "\n",
    "    # if gold_annotation exists\n",
    "    tag_array = []\n",
    "    if tag_path:\n",
    "        tag_file = open(tag_path);\n",
    "        tags = tag_file.read()\n",
    "        tag_array = tags.split()\n",
    "        tag_file.close()\n",
    "    \n",
    "    return [text_array, tag_array]\n",
    "    "
   ]
  },
  {
   "cell_type": "code",
   "execution_count": null,
   "metadata": {
    "collapsed": true
   },
   "outputs": [],
   "source": []
  },
  {
   "cell_type": "code",
   "execution_count": 64,
   "metadata": {
    "collapsed": true
   },
   "outputs": [],
   "source": [
    "'''\n",
    "Input: path to a list of abstract file paths.\n",
    "\n",
    "Output: [word_array, tag_array]\n",
    "    word_array: list of lists where each inner list contains the tokens in\n",
    "    an abstract. \n",
    "    e.g [ ['hello', 'there'], ['i', 'am', 'hungry'], ['yes', 'i', 'am'] ]\n",
    "    where hello is the first token of the first abstract, and 'hungry' is \n",
    "    the third token of the second abstract.\n",
    "    \n",
    "    tag_array: list of lists where each innter list containts the tag in\n",
    "    an abstract.\n",
    "    e.g [ [t1, t2, t3], [t4, t5, t6], [t7, t8, t9] ]\n",
    "    where t1 is the tag for token 'hello' and t6 is the tag for token\n",
    "    'hungry'.\n",
    "    '''\n",
    "def get_all_data_in_abstracts(abstract_list):\n",
    "    abs_list = open(abstract_list, 'r')\n",
    "    abstract_list = abs_list.readlines()\n",
    "    abstract_list = [x.strip() for x in abstract_list]\n",
    "    \n",
    "    word_array = []\n",
    "    tag_array = []\n",
    "    \n",
    "    for abstract_path in abstract_list:\n",
    "        abstract_token_path = abstract_path[:-4] + ABSTRACT_TOKENS_PATH_END\n",
    "        tag_path = abstract_path[:-4] + ABSTRACT_TAGS_PATH_END\n",
    "#         print abstract_token_path\n",
    "#         print tag_path\n",
    "        [curr_word_array, curr_tag_array] = read_file(abstract_token_path, tag_path)\n",
    "        if not(len(curr_word_array) == len(curr_tag_array)):\n",
    "            raise ValueError('For this file, len of abstract words and tags did not match.', abstract_path)\n",
    "        word_array.append(curr_word_array)\n",
    "        tag_array.append(curr_tag_array)\n",
    "    if not(len(word_array) == len(tag_array)):\n",
    "        raise ValueError('Overall, len of abstract words and tags did not match.', abstract_path)\n",
    "    return [word_array, tag_array]"
   ]
  },
  {
   "cell_type": "code",
   "execution_count": 65,
   "metadata": {
    "collapsed": false
   },
   "outputs": [],
   "source": [
    "'''\n",
    "Get all the training data.\n",
    "'''\n",
    "def get_all_data_train(train_abstract_list='PICO-annotations/train_abstracts.txt'):\n",
    "    return get_all_data_in_abstracts(train_abstract_list)"
   ]
  },
  {
   "cell_type": "code",
   "execution_count": 66,
   "metadata": {
    "collapsed": true
   },
   "outputs": [],
   "source": [
    "'''\n",
    "Get all the dev data.\n",
    "'''\n",
    "def get_all_data_dev(dev_abstract_list='PICO-annotations/dev_abstracts.txt'):\n",
    "    return get_all_data_in_abstracts(dev_abstract_list)"
   ]
  },
  {
   "cell_type": "code",
   "execution_count": 67,
   "metadata": {
    "collapsed": true
   },
   "outputs": [],
   "source": [
    "'''\n",
    "Get all the test data.\n",
    "'''\n",
    "def get_all_data_test(test_abstract_list='PICO-annotations/test_abstracts.txt'):\n",
    "    return get_all_data_in_abstracts(test_abstract_list)"
   ]
  },
  {
   "cell_type": "code",
   "execution_count": 68,
   "metadata": {
    "collapsed": false
   },
   "outputs": [],
   "source": [
    "# [word_array, tag_array] = get_all_data_train();\n",
    "# [dev_word_array, dev_tag_array] = get_all_data_dev();\n",
    "# [test_word_array, test_tag_array] = get_all_data_test();\n"
   ]
  },
  {
   "cell_type": "code",
   "execution_count": null,
   "metadata": {
    "collapsed": true
   },
   "outputs": [],
   "source": []
  }
 ],
 "metadata": {
  "kernelspec": {
   "display_name": "Python 2",
   "language": "python",
   "name": "python2"
  },
  "language_info": {
   "codemirror_mode": {
    "name": "ipython",
    "version": 2
   },
   "file_extension": ".py",
   "mimetype": "text/x-python",
   "name": "python",
   "nbconvert_exporter": "python",
   "pygments_lexer": "ipython2",
   "version": "2.7.12"
  }
 },
 "nbformat": 4,
 "nbformat_minor": 1
}
