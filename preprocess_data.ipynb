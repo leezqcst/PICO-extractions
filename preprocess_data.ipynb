{
 "cells": [
  {
   "cell_type": "code",
   "execution_count": 3,
   "metadata": {
    "collapsed": true
   },
   "outputs": [],
   "source": [
    "import tensorflow as tf\n",
    "import numpy as np\n",
    "import os"
   ]
  },
  {
   "cell_type": "code",
   "execution_count": 4,
   "metadata": {
    "collapsed": false
   },
   "outputs": [],
   "source": [
    "Null_TAG = 'None'\n",
    "P_TAG_b = 'Pb'  # beginning of participant phrase\n",
    "P_TAG_m = 'Pm'  # middle/end of participant phrase"
   ]
  },
  {
   "cell_type": "code",
   "execution_count": 18,
   "metadata": {
    "collapsed": false
   },
   "outputs": [],
   "source": [
    "# output 1 file .ann. \n",
    "# .ann has tags \n",
    "# takes token.txt file and gold_2.ann file\n",
    "def annotate_abstract(abstract_path, gold_annotation_path):\n",
    "    # read files \n",
    "    abs_file = open(abstract_path, 'r');\n",
    "    file_text = abs_file.read();\n",
    "\n",
    "    ann_file = open(gold_annotation_path, 'r');\n",
    "    ann_file = ann_file.read();\n",
    "    \n",
    "    # storing list of tuples of tags. [(start1, end1), (start2, end2)...]\n",
    "    ann_list = ann_file.split();\n",
    "    part_list = [];\n",
    "    for i in range(1, len(ann_list), 2):\n",
    "        part_list.append((int(ann_list[i]), int(ann_list[i+1])))\n",
    "\n",
    "\n",
    "    word_list = file_text.split(); # [word1, word2, word] no spaces\n",
    "    tag_list = []\n",
    "    index = 0;\n",
    "    ann_index = 0\n",
    "    if (len(part_list) == 0):\n",
    "        ann_start = np.inf\n",
    "        ann_end = np.inf\n",
    "    else:\n",
    "        ann_start = part_list[ann_index][0]\n",
    "        ann_end = part_list[ann_index][1]\n",
    "    in_phrase = False\n",
    "\n",
    "    for word_ind in range(len(word_list)):\n",
    "        word = word_list[word_ind]\n",
    "        index += len(word) + 1;\n",
    "        if not in_phrase:\n",
    "            # looking for start of participant phrase\n",
    "            if (ann_start < index):\n",
    "                # we found first word in this participant segment\n",
    "                tag_list.append(P_TAG_b)\n",
    "                in_phrase = True\n",
    "            else:\n",
    "                tag_list.append(Null_TAG)          \n",
    "        else:\n",
    "            tag_list.append(P_TAG_m)\n",
    "            # in the participant phrase, looking for its end\n",
    "            if (ann_end <= index):\n",
    "                # we found the last word in the participant segment\n",
    "                ann_index += 1\n",
    "                if (ann_index == len(part_list)):\n",
    "                    ann_start = np.inf\n",
    "                    ann_end = np.inf\n",
    "                else:\n",
    "                    ann_start = part_list[ann_index][0]\n",
    "                    ann_end = part_list[ann_index][1]\n",
    "                in_phrase = False\n",
    "\n",
    "    # word_list == tag_list \n",
    "    \n",
    "    # writing .ann and .txt files \n",
    "    out_ann_path = abstract_path[0:-4] + '_tags.ann'\n",
    "    \n",
    "    \n",
    "    tag_sentence = ' '.join(tag_list)\n",
    "#     print tag_sentence\n",
    "    \n",
    "    ann_f = open(out_ann_path, 'w')\n",
    "#     print out_ann_path\n",
    "    \n",
    "    ann_f.write(tag_sentence);\n",
    "    \n",
    "    ann_f.close();\n",
    "    "
   ]
  },
  {
   "cell_type": "code",
   "execution_count": 19,
   "metadata": {
    "collapsed": false
   },
   "outputs": [],
   "source": [
    "abs_path = 'PICO-annotations/batch5k/0074f5e102cf4409ac07f6209dd30144/20957980_tokens.txt'\n",
    "ann_path = 'PICO-annotations/batch5k/0074f5e102cf4409ac07f6209dd30144/20957980_gold_2.ann'\n",
    "annotate_abstract(abs_path, ann_path)"
   ]
  },
  {
   "cell_type": "code",
   "execution_count": 20,
   "metadata": {
    "collapsed": false
   },
   "outputs": [],
   "source": [
    "directory = 'PICO-annotations/batch5k'\n",
    "\n",
    "# For each subdirectory\n",
    "for subdir in os.listdir(directory):\n",
    "    subdir_path = directory + '/' + subdir\n",
    "    # print subdir_path\n",
    "    \n",
    "    # Not a directory\n",
    "    if not os.path.isdir(subdir_path):\n",
    "        continue\n",
    "    \n",
    "    # For each abstract in subdirectory\n",
    "    for abstract in os.listdir(subdir_path):\n",
    "        if (abstract.endswith('tokens.txt')):\n",
    "            abstract_path = subdir_path + '/' + abstract; \n",
    "            # print abstract_path\n",
    "            ann_path = abstract_path[0:-10] + 'gold_2.ann'\n",
    "            annotate_abstract(abstract_path, ann_path)"
   ]
  },
  {
   "cell_type": "code",
   "execution_count": 35,
   "metadata": {
    "collapsed": false
   },
   "outputs": [],
   "source": [
    "# reads a single input.txt file (and optional) input_tags.ann\n",
    "# param: separate_sentances. True [[s1w1 s1w2 s1w3] [s2w1 s2w2]] False [s1w1 s1w2 s1w3 s2w1 s2w2]\n",
    "# output [text_array, tag_array]\n",
    "def read_file(abstract_path, tag_path=None):    \n",
    "    abstract_file = open(abstract_path, 'r');\n",
    "    file_text = abstract_file.read();    \n",
    "    text_array = file_text.split()\n",
    "    abstract_file.close()\n",
    "\n",
    "    # if gold_annotation exists\n",
    "    tag_array = []\n",
    "    if tag_path:\n",
    "        tag_file = open(tag_path);\n",
    "        tags = tag_file.read()\n",
    "        tag_array = tags.split()\n",
    "        tag_file.close()\n",
    "    \n",
    "    return [text_array, tag_array]\n",
    "    "
   ]
  },
  {
   "cell_type": "code",
   "execution_count": 64,
   "metadata": {
    "collapsed": false
   },
   "outputs": [],
   "source": [
    "abs_path = 'PICO-annotations/batch5k/ff5877cef90c40c6b3a587d71f7613d5/11229858_input.txt'\n",
    "ann_path = 'PICO-annotations/batch5k/f f5877cef90c40c6b3a587d71f7613d5/11229858_input_tags.ann'\n",
    "[abs_array, tag_array] = read_file(abs_path, ann_path)"
   ]
  },
  {
   "cell_type": "code",
   "execution_count": 65,
   "metadata": {
    "collapsed": false
   },
   "outputs": [],
   "source": [
    "# takes .ann and .txt files\n",
    "def get_all_data_OLD(data_directory='PICO-annotations/batch5k'):\n",
    "    abstract_array = []\n",
    "    tag_array = []\n",
    "    \n",
    "    # For each subdirectory\n",
    "    for subdir in os.listdir(data_directory):\n",
    "        subdir_path = directory + '/' + subdir\n",
    "\n",
    "        # Not a directory\n",
    "        if not os.path.isdir(subdir_path):\n",
    "            continue\n",
    "\n",
    "        # For each abstract in subdirectory\n",
    "        for abstract in os.listdir(subdir_path):\n",
    "            if (abstract.endswith('input.txt')):\n",
    "                abstract_path = subdir_path + '/' + abstract; \n",
    "                annotation_path = abstract_path[0:-4] + '_tags.ann'\n",
    "                [curr_abs_array, curr_tag_array] = read_file(abstract_path, annotation_path)\n",
    "                len_abs = len(curr_abs_array)\n",
    "                len_tags =  len(curr_tag_array)\n",
    "                if not (len_abs == len_tags):\n",
    "                    raise ValueError('For this file, len of abstract words and tags did not match.', abstract, len_abs, len_tags) \n",
    "                abstract_array.append(curr_abs_array)\n",
    "                tag_array.append(curr_tag_array)\n",
    "    \n",
    "    abstract_array = np.array(abstract_array)\n",
    "    tag_array = np.array(tag_array)\n",
    "    return [abstract_array, tag_array]"
   ]
  },
  {
   "cell_type": "code",
   "execution_count": null,
   "metadata": {
    "collapsed": true
   },
   "outputs": [],
   "source": []
  },
  {
   "cell_type": "code",
   "execution_count": 66,
   "metadata": {
    "collapsed": false
   },
   "outputs": [],
   "source": [
    "# [word_array, tag_array] = get_all_data();"
   ]
  },
  {
   "cell_type": "code",
   "execution_count": 36,
   "metadata": {
    "collapsed": true
   },
   "outputs": [],
   "source": [
    "ABSTRACT_TOKENS_PATH_END = '_tokens.txt'\n",
    "ABSTRACT_TAGS_PATH_END = '_tokens_tags.ann'"
   ]
  },
  {
   "cell_type": "code",
   "execution_count": 33,
   "metadata": {
    "collapsed": false
   },
   "outputs": [],
   "source": [
    "def get_all_data_train(train_abstract_list='PICO-annotations/train_abstracts.txt'):\n",
    "    train_abs_list = open(train_abstract_list, 'r')\n",
    "    abstract_list = train_abs_list.readlines()\n",
    "    abstract_list = [x.strip() for x in abstract_list]\n",
    "    \n",
    "    word_array = []\n",
    "    tag_array = []\n",
    "    \n",
    "    for abstract_path in abstract_list:\n",
    "        abstract_token_path = abstract_path[:-4] + ABSTRACT_TOKENS_PATH_END\n",
    "        tag_path = abstract_path[:-4] + ABSTRACT_TAGS_PATH_END\n",
    "        [curr_word_array, curr_tag_array] = read_file(abstract_token_path, tag_path)\n",
    "        if not(len(curr_word_array) == len(curr_tag_array)):\n",
    "            raise ValueError('For this file, len of abstract words and tags did not match.', abstract_path)\n",
    "        word_array.extend(curr_word_array)\n",
    "        tag_array.extend(curr_tag_array)\n",
    "    if not(len(word_array) == len(tag_array)):\n",
    "        raise ValueError('Overall, len of abstract words and tags did not match.', abstract_path)\n",
    "\n",
    "\n"
   ]
  },
  {
   "cell_type": "code",
   "execution_count": 34,
   "metadata": {
    "collapsed": false
   },
   "outputs": [
    {
     "ename": "NameError",
     "evalue": "global name 'gold_annotation_path' is not defined",
     "output_type": "error",
     "traceback": [
      "\u001b[0;31m---------------------------------------------------------------------------\u001b[0m",
      "\u001b[0;31mNameError\u001b[0m                                 Traceback (most recent call last)",
      "\u001b[0;32m<ipython-input-34-04326cc018c1>\u001b[0m in \u001b[0;36m<module>\u001b[0;34m()\u001b[0m\n\u001b[0;32m----> 1\u001b[0;31m \u001b[0mget_all_data_train\u001b[0m\u001b[0;34m(\u001b[0m\u001b[0;34m)\u001b[0m\u001b[0;34m;\u001b[0m\u001b[0;34m\u001b[0m\u001b[0m\n\u001b[0m",
      "\u001b[0;32m<ipython-input-33-536d0a9a1527>\u001b[0m in \u001b[0;36mget_all_data_train\u001b[0;34m(train_abstract_list)\u001b[0m\n\u001b[1;32m     10\u001b[0m         \u001b[0mabstract_token_path\u001b[0m \u001b[0;34m=\u001b[0m \u001b[0mabstract_path\u001b[0m\u001b[0;34m[\u001b[0m\u001b[0;34m:\u001b[0m\u001b[0;34m-\u001b[0m\u001b[0;36m4\u001b[0m\u001b[0;34m]\u001b[0m \u001b[0;34m+\u001b[0m \u001b[0mABSTRACT_TOKENS_PATH_END\u001b[0m\u001b[0;34m\u001b[0m\u001b[0m\n\u001b[1;32m     11\u001b[0m         \u001b[0mtag_path\u001b[0m \u001b[0;34m=\u001b[0m \u001b[0mabstract_path\u001b[0m\u001b[0;34m[\u001b[0m\u001b[0;34m:\u001b[0m\u001b[0;34m-\u001b[0m\u001b[0;36m4\u001b[0m\u001b[0;34m]\u001b[0m \u001b[0;34m+\u001b[0m \u001b[0mABSTRACT_TAGS_PATH_END\u001b[0m\u001b[0;34m\u001b[0m\u001b[0m\n\u001b[0;32m---> 12\u001b[0;31m         \u001b[0;34m[\u001b[0m\u001b[0mcurr_word_array\u001b[0m\u001b[0;34m,\u001b[0m \u001b[0mcurr_tag_array\u001b[0m\u001b[0;34m]\u001b[0m \u001b[0;34m=\u001b[0m \u001b[0mread_file\u001b[0m\u001b[0;34m(\u001b[0m\u001b[0mabstract_token_path\u001b[0m\u001b[0;34m,\u001b[0m \u001b[0mtag_path\u001b[0m\u001b[0;34m)\u001b[0m\u001b[0;34m\u001b[0m\u001b[0m\n\u001b[0m\u001b[1;32m     13\u001b[0m         \u001b[0;32mif\u001b[0m \u001b[0;32mnot\u001b[0m\u001b[0;34m(\u001b[0m\u001b[0mlen\u001b[0m\u001b[0;34m(\u001b[0m\u001b[0mcurr_word_array\u001b[0m\u001b[0;34m)\u001b[0m \u001b[0;34m==\u001b[0m \u001b[0mlen\u001b[0m\u001b[0;34m(\u001b[0m\u001b[0mcurr_tag_array\u001b[0m\u001b[0;34m)\u001b[0m\u001b[0;34m)\u001b[0m\u001b[0;34m:\u001b[0m\u001b[0;34m\u001b[0m\u001b[0m\n\u001b[1;32m     14\u001b[0m             \u001b[0;32mraise\u001b[0m \u001b[0mValueError\u001b[0m\u001b[0;34m(\u001b[0m\u001b[0;34m'For this file, len of abstract words and tags did not match.'\u001b[0m\u001b[0;34m,\u001b[0m \u001b[0mabstract_path\u001b[0m\u001b[0;34m)\u001b[0m\u001b[0;34m\u001b[0m\u001b[0m\n",
      "\u001b[0;32m<ipython-input-31-26302b593ad5>\u001b[0m in \u001b[0;36mread_file\u001b[0;34m(abstract_path, tag_path)\u001b[0m\n\u001b[1;32m     11\u001b[0m     \u001b[0mtag_array\u001b[0m \u001b[0;34m=\u001b[0m \u001b[0;34m[\u001b[0m\u001b[0;34m]\u001b[0m\u001b[0;34m\u001b[0m\u001b[0m\n\u001b[1;32m     12\u001b[0m     \u001b[0;32mif\u001b[0m \u001b[0mtag_path\u001b[0m\u001b[0;34m:\u001b[0m\u001b[0;34m\u001b[0m\u001b[0m\n\u001b[0;32m---> 13\u001b[0;31m         \u001b[0mtag_file\u001b[0m \u001b[0;34m=\u001b[0m \u001b[0mopen\u001b[0m\u001b[0;34m(\u001b[0m\u001b[0mgold_annotation_path\u001b[0m\u001b[0;34m)\u001b[0m\u001b[0;34m;\u001b[0m\u001b[0;34m\u001b[0m\u001b[0m\n\u001b[0m\u001b[1;32m     14\u001b[0m         \u001b[0mtags\u001b[0m \u001b[0;34m=\u001b[0m \u001b[0mtag_file\u001b[0m\u001b[0;34m.\u001b[0m\u001b[0mread\u001b[0m\u001b[0;34m(\u001b[0m\u001b[0;34m)\u001b[0m\u001b[0;34m\u001b[0m\u001b[0m\n\u001b[1;32m     15\u001b[0m         \u001b[0mtag_array\u001b[0m \u001b[0;34m=\u001b[0m \u001b[0mtags\u001b[0m\u001b[0;34m.\u001b[0m\u001b[0msplit\u001b[0m\u001b[0;34m(\u001b[0m\u001b[0;34m)\u001b[0m\u001b[0;34m\u001b[0m\u001b[0m\n",
      "\u001b[0;31mNameError\u001b[0m: global name 'gold_annotation_path' is not defined"
     ]
    }
   ],
   "source": [
    "get_all_data_train();"
   ]
  },
  {
   "cell_type": "code",
   "execution_count": null,
   "metadata": {
    "collapsed": true
   },
   "outputs": [],
   "source": []
  }
 ],
 "metadata": {
  "kernelspec": {
   "display_name": "Python 2",
   "language": "python",
   "name": "python2"
  },
  "language_info": {
   "codemirror_mode": {
    "name": "ipython",
    "version": 2
   },
   "file_extension": ".py",
   "mimetype": "text/x-python",
   "name": "python",
   "nbconvert_exporter": "python",
   "pygments_lexer": "ipython2",
   "version": "2.7.12"
  }
 },
 "nbformat": 4,
 "nbformat_minor": 1
}
