{
 "cells": [
  {
   "cell_type": "markdown",
   "metadata": {},
   "source": [
    "## CRF What's Wrong with Participants?"
   ]
  },
  {
   "cell_type": "code",
   "execution_count": 40,
   "metadata": {
    "collapsed": false
   },
   "outputs": [],
   "source": [
    "from crf import *\n",
    "from crf_support import get_all_data\n",
    "\n",
    "import os, time, pprint\n",
    "\n",
    "from features_generator import abstracts2features, get_genia_tags, sanity_check\n",
    "\n",
    "from gensim.models import Word2Vec"
   ]
  },
  {
   "cell_type": "code",
   "execution_count": 2,
   "metadata": {
    "collapsed": true
   },
   "outputs": [],
   "source": [
    "tag = 'P'\n",
    "eval_tags = [tag]"
   ]
  },
  {
   "cell_type": "markdown",
   "metadata": {},
   "source": [
    "Get data"
   ]
  },
  {
   "cell_type": "code",
   "execution_count": 3,
   "metadata": {
    "collapsed": false
   },
   "outputs": [],
   "source": [
    "# Get train data\n",
    "train_tokens, train_tags = get_all_data('train', tag)\n",
    "train_genia_tags = get_genia_tags('train')"
   ]
  },
  {
   "cell_type": "code",
   "execution_count": 4,
   "metadata": {
    "collapsed": false
   },
   "outputs": [],
   "source": [
    "# Get dev data\n",
    "dev_tokens, dev_tags = get_all_data('dev', tag)\n",
    "dev_genia_tags = get_genia_tags('dev')"
   ]
  },
  {
   "cell_type": "code",
   "execution_count": 5,
   "metadata": {
    "collapsed": false
   },
   "outputs": [],
   "source": [
    "# Get test data\n",
    "test_tokens, test_tags = get_all_data('test', tag)\n",
    "test_genia_tags = get_genia_tags('test')"
   ]
  },
  {
   "cell_type": "markdown",
   "metadata": {},
   "source": [
    "Compute features"
   ]
  },
  {
   "cell_type": "code",
   "execution_count": 6,
   "metadata": {
    "collapsed": true
   },
   "outputs": [],
   "source": [
    "# Set options\n",
    "big_options_string = 'left_neighbors=3 right_neighbors=3 inside_paren pos chunk iob named_entity \\\n",
    "inside_paren_neighbors pos_neighbors chunk_neighbors iob_neighbors named_entity_neighbors \\\n",
    "chunk_end chunk_end_neighbors same_chunk_neighbors \\\n",
    "one_hot one_hot_neighbors w2v_model=pubmed w2v w2v_neighbors w2v_size=10 cosine_simil cosine_simil_neighbors \\\n",
    "isupper isupper_neighbors istitle istitle_neighbors'\n",
    "\n",
    "options_string = 'left_neighbors=1 right_neighbors=1 one_hot one_hot_neighbors'\n",
    "\n",
    "w2v=None\n",
    "\n",
    "features_name = 'P1'"
   ]
  },
  {
   "cell_type": "code",
   "execution_count": 7,
   "metadata": {
    "collapsed": false
   },
   "outputs": [
    {
     "name": "stdout",
     "output_type": "stream",
     "text": [
      "3499: ['Pulsed', 'azithromycin', 'treatment']\n"
     ]
    }
   ],
   "source": [
    "# Compute features for train\n",
    "train_features = abstracts2features(train_tokens, train_genia_tags, w2v=w2v, options_string=options_string)"
   ]
  },
  {
   "cell_type": "code",
   "execution_count": 8,
   "metadata": {
    "collapsed": false
   },
   "outputs": [
    {
     "name": "stdout",
     "output_type": "stream",
     "text": [
      "999: ['Serum', 'bactericidal', 'activities']\n"
     ]
    }
   ],
   "source": [
    "# Compute features for dev\n",
    "dev_features = abstracts2features(dev_tokens, dev_genia_tags, w2v=w2v, options_string=options_string)"
   ]
  },
  {
   "cell_type": "code",
   "execution_count": 9,
   "metadata": {
    "collapsed": false
   },
   "outputs": [
    {
     "name": "stdout",
     "output_type": "stream",
     "text": [
      "500: ['Efficacy', 'and', 'cost-effectiveness']\n"
     ]
    }
   ],
   "source": [
    "# Compute features for test\n",
    "test_features = abstracts2features(test_tokens, test_genia_tags, w2v=w2v, options_string=options_string)"
   ]
  },
  {
   "cell_type": "code",
   "execution_count": 10,
   "metadata": {
    "collapsed": false
   },
   "outputs": [
    {
     "name": "stdout",
     "output_type": "stream",
     "text": [
      "Number of abstracts: 3500\n",
      "Number of tokens:    927022\n",
      "Number of features:  2774066 \n",
      "\n",
      "Avg tokens per abstract: 264\n",
      "Avg features per token:  2 \n",
      "\n",
      "Max features per token:  3\n",
      "Min features per token:  2\n"
     ]
    }
   ],
   "source": [
    "# For debug\n",
    "sanity_check(train_features)"
   ]
  },
  {
   "cell_type": "markdown",
   "metadata": {},
   "source": [
    "Grid search"
   ]
  },
  {
   "cell_type": "code",
   "execution_count": 11,
   "metadata": {
    "collapsed": false
   },
   "outputs": [
    {
     "name": "stdout",
     "output_type": "stream",
     "text": [
      "Adding data...\n",
      "Training model...\n",
      "Done!\n",
      "L1: 0, L2: 0, scores: {'P': (0.7235947258848022, 0.4717672608813682, 0.5711546888694128)}\n",
      "Adding data...\n",
      "Training model...\n",
      "Done!\n",
      "L1: 0, L2: 0.0001, scores: {'P': (0.6936624085328041, 0.5061080445208579, 0.5852254891702418)}\n",
      "Adding data...\n",
      "Training model...\n",
      "Done!\n",
      "L1: 0, L2: 0.001, scores: {'P': (0.7200886791103482, 0.4555696317075378, 0.5580712207288346)}\n",
      "Adding data...\n",
      "Training model...\n",
      "Done!\n",
      "L1: 0, L2: 0.01, scores: {'P': (0.718247560205013, 0.4628540403583386, 0.5629385059843169)}\n",
      "Adding data...\n",
      "Training model...\n",
      "Done!\n",
      "L1: 0, L2: 0.1, scores: {'P': (0.6990767641552069, 0.4899104153470274, 0.5760953419701524)}\n",
      "Adding data...\n",
      "Training model...\n",
      "Done!\n",
      "L1: 0, L2: 1, scores: {'P': (0.7190753007976206, 0.4813139082435979, 0.5766478751084129)}\n",
      "Adding data...\n",
      "Training model...\n",
      "Done!\n",
      "L1: 0.0001, L2: 0, scores: {'P': (0.5994971264367817, 0.45308116912496604, 0.5161057568417255)}\n",
      "Adding data...\n",
      "Training model...\n",
      "Done!\n",
      "L1: 0.0001, L2: 0.0001, scores: {'P': (0.6174765663542181, 0.4530359243507375, 0.5226264418811003)}\n",
      "Adding data...\n",
      "Training model...\n",
      "Done!\n",
      "L1: 0.0001, L2: 0.001, scores: {'P': (0.612351790031081, 0.48135915301782645, 0.5390110446853784)}\n",
      "Adding data...\n",
      "Training model...\n",
      "Done!\n",
      "L1: 0.0001, L2: 0.01, scores: {'P': (0.6423797977408481, 0.491448737670799, 0.5568685755299787)}\n",
      "Adding data...\n",
      "Training model...\n",
      "Done!\n",
      "L1: 0.0001, L2: 0.1, scores: {'P': (0.7161188499279489, 0.4721744638494254, 0.569107021131561)}\n",
      "Adding data...\n",
      "Training model...\n",
      "Done!\n",
      "L1: 0.0001, L2: 1, scores: {'P': (0.7388038345972242, 0.46724278345851056, 0.5724501108647451)}\n",
      "Adding data...\n",
      "Training model...\n",
      "Done!\n",
      "L1: 0.001, L2: 0, scores: {'P': (0.5968381686310064, 0.4765632069495973, 0.5299622641509434)}\n",
      "Adding data...\n",
      "Training model...\n",
      "Done!\n",
      "L1: 0.001, L2: 0.0001, scores: {'P': (0.601177336276674, 0.4805447470817121, 0.5341346274736604)}\n",
      "Adding data...\n",
      "Training model...\n",
      "Done!\n",
      "L1: 0.001, L2: 0.001, scores: {'P': (0.6286462456610438, 0.4670618043615962, 0.535939568569426)}\n",
      "Adding data...\n",
      "Training model...\n",
      "Done!\n",
      "L1: 0.001, L2: 0.01, scores: {'P': (0.6467076700434153, 0.485250203601484, 0.5544641472367264)}\n",
      "Adding data...\n",
      "Training model...\n",
      "Done!\n",
      "L1: 0.001, L2: 0.1, scores: {'P': (0.7118505942275043, 0.4742557234639399, 0.5692562522062617)}\n",
      "Adding data...\n",
      "Training model...\n",
      "Done!\n",
      "L1: 0.001, L2: 1, scores: {'P': (0.7448695397244209, 0.45982264048502397, 0.5686230627203043)}\n",
      "Adding data...\n",
      "Training model...\n",
      "Done!\n",
      "L1: 0.01, L2: 0, scores: {'P': (0.6157954545454546, 0.4903628630893132, 0.5459674575588132)}\n",
      "Adding data...\n",
      "Training model...\n",
      "Done!\n",
      "L1: 0.01, L2: 0.0001, scores: {'P': (0.615191319246145, 0.48737670799022714, 0.5438755932545694)}\n",
      "Adding data...\n",
      "Training model...\n",
      "Done!\n",
      "L1: 0.01, L2: 0.001, scores: {'P': (0.6250653348045764, 0.48696950502216996, 0.5474428422471453)}\n",
      "Adding data...\n",
      "Training model...\n",
      "Done!\n",
      "L1: 0.01, L2: 0.01, scores: {'P': (0.6536825073410439, 0.49352999728531355, 0.5624274923302998)}\n",
      "Adding data...\n",
      "Training model...\n",
      "Done!\n",
      "L1: 0.01, L2: 0.1, scores: {'P': (0.7091561938958707, 0.48253551714776943, 0.574297945666514)}\n",
      "Adding data...\n",
      "Training model...\n",
      "Done!\n",
      "L1: 0.01, L2: 1, scores: {'P': (0.7425478166726813, 0.46547823726359605, 0.5722390633256389)}\n",
      "Adding data...\n",
      "Training model...\n",
      "Done!\n",
      "L1: 0.1, L2: 0, scores: {'P': (0.6853151314110743, 0.4860646095375984, 0.5687437132722749)}\n",
      "Adding data...\n",
      "Training model...\n",
      "Done!\n",
      "L1: 0.1, L2: 0.0001, scores: {'P': (0.6853191625584224, 0.48430006334268394, 0.5675353251504467)}\n",
      "Adding data...\n",
      "Training model...\n",
      "Done!\n",
      "L1: 0.1, L2: 0.001, scores: {'P': (0.6824708059472911, 0.48389286037462675, 0.5662774998014455)}\n",
      "Adding data...\n",
      "Training model...\n",
      "Done!\n",
      "L1: 0.1, L2: 0.01, scores: {'P': (0.69585013659425, 0.48402859469731246, 0.5709253922510407)}\n",
      "Adding data...\n",
      "Training model...\n",
      "Done!\n",
      "L1: 0.1, L2: 0.1, scores: {'P': (0.7230842197980893, 0.4828522305673695, 0.5790401779658718)}\n",
      "Adding data...\n",
      "Training model...\n",
      "Done!\n",
      "L1: 0.1, L2: 1, scores: {'P': (0.7467887199173188, 0.4576961360962809, 0.5675493716337523)}\n",
      "Adding data...\n",
      "Training model...\n",
      "Done!\n",
      "L1: 1, L2: 0, scores: {'P': (0.7492160723401152, 0.46484481042439596, 0.5737260924193774)}\n",
      "Adding data...\n",
      "Training model...\n",
      "Done!\n",
      "L1: 1, L2: 0.0001, scores: {'P': (0.7503596087456847, 0.47203872952673964, 0.579514525356885)}\n",
      "Adding data...\n",
      "Training model...\n",
      "Done!\n",
      "L1: 1, L2: 0.001, scores: {'P': (0.7524702121476315, 0.4686001266853678, 0.5775386159594045)}\n",
      "Adding data...\n",
      "Training model...\n",
      "Done!\n",
      "L1: 1, L2: 0.01, scores: {'P': (0.746385029770343, 0.4764274726269116, 0.5816072908036454)}\n",
      "Adding data...\n",
      "Training model...\n",
      "Done!\n",
      "L1: 1, L2: 0.1, scores: {'P': (0.741732171942497, 0.4738937652701113, 0.5783066007785108)}\n",
      "Adding data...\n",
      "Training model...\n",
      "Done!\n",
      "L1: 1, L2: 1, scores: {'P': (0.7662928397772724, 0.4420866889874219, 0.5606977878518348)}\n",
      "--- 1487.40423393 seconds ---\n"
     ]
    }
   ],
   "source": [
    "# Run grid search\n",
    "grid_file_name = 'crf_results/{}_grid'.format(features_name)\n",
    "num_iters = 100\n",
    "l1_list = [0, 0.0001, 0.001, 0.01, 0.1, 1]\n",
    "l2_list = [0, 0.0001, 0.001, 0.01, 0.1, 1]\n",
    "\n",
    "start_time = time.time()\n",
    "grid_search_result = grid_search(train_features, train_tags, dev_features, dev_tags,\\\n",
    "                                 num_iters, l1_list, l2_list, eval_tags, file_name=grid_file_name, save=True)\n",
    "print(\"--- %s seconds ---\" % (time.time() - start_time))\n",
    "\n",
    "os.remove(grid_file_name + '.model')"
   ]
  },
  {
   "cell_type": "code",
   "execution_count": 12,
   "metadata": {
    "collapsed": false,
    "scrolled": true
   },
   "outputs": [
    {
     "name": "stdout",
     "output_type": "stream",
     "text": [
      "L1: 0, L2: 0.0001\n",
      "P: (0.6936624085328041, 0.5061080445208579, 0.5852254891702418)\n",
      "L1: 1, L2: 0.01\n",
      "P: (0.746385029770343, 0.4764274726269116, 0.5816072908036454)\n",
      "L1: 1, L2: 0.0001\n",
      "P: (0.7503596087456847, 0.47203872952673964, 0.579514525356885)\n",
      "L1: 0.1, L2: 0.1\n",
      "P: (0.7230842197980893, 0.4828522305673695, 0.5790401779658718)\n",
      "L1: 1, L2: 0.1\n",
      "P: (0.741732171942497, 0.4738937652701113, 0.5783066007785108)\n",
      "L1: 1, L2: 0.001\n",
      "P: (0.7524702121476315, 0.4686001266853678, 0.5775386159594045)\n",
      "L1: 0, L2: 1\n",
      "P: (0.7190753007976206, 0.4813139082435979, 0.5766478751084129)\n",
      "L1: 0, L2: 0.1\n",
      "P: (0.6990767641552069, 0.4899104153470274, 0.5760953419701524)\n",
      "L1: 0.01, L2: 0.1\n",
      "P: (0.7091561938958707, 0.48253551714776943, 0.574297945666514)\n",
      "L1: 1, L2: 0\n",
      "P: (0.7492160723401152, 0.46484481042439596, 0.5737260924193774)\n",
      "L1: 0.0001, L2: 1\n",
      "P: (0.7388038345972242, 0.46724278345851056, 0.5724501108647451)\n",
      "L1: 0.01, L2: 1\n",
      "P: (0.7425478166726813, 0.46547823726359605, 0.5722390633256389)\n",
      "L1: 0, L2: 0\n",
      "P: (0.7235947258848022, 0.4717672608813682, 0.5711546888694128)\n",
      "L1: 0.1, L2: 0.01\n",
      "P: (0.69585013659425, 0.48402859469731246, 0.5709253922510407)\n",
      "L1: 0.001, L2: 0.1\n",
      "P: (0.7118505942275043, 0.4742557234639399, 0.5692562522062617)\n",
      "L1: 0.0001, L2: 0.1\n",
      "P: (0.7161188499279489, 0.4721744638494254, 0.569107021131561)\n",
      "L1: 0.1, L2: 0\n",
      "P: (0.6853151314110743, 0.4860646095375984, 0.5687437132722749)\n",
      "L1: 0.001, L2: 1\n",
      "P: (0.7448695397244209, 0.45982264048502397, 0.5686230627203043)\n",
      "L1: 0.1, L2: 1\n",
      "P: (0.7467887199173188, 0.4576961360962809, 0.5675493716337523)\n",
      "L1: 0.1, L2: 0.0001\n",
      "P: (0.6853191625584224, 0.48430006334268394, 0.5675353251504467)\n",
      "L1: 0.1, L2: 0.001\n",
      "P: (0.6824708059472911, 0.48389286037462675, 0.5662774998014455)\n",
      "L1: 0, L2: 0.01\n",
      "P: (0.718247560205013, 0.4628540403583386, 0.5629385059843169)\n",
      "L1: 0.01, L2: 0.01\n",
      "P: (0.6536825073410439, 0.49352999728531355, 0.5624274923302998)\n",
      "L1: 1, L2: 1\n",
      "P: (0.7662928397772724, 0.4420866889874219, 0.5606977878518348)\n",
      "L1: 0, L2: 0.001\n",
      "P: (0.7200886791103482, 0.4555696317075378, 0.5580712207288346)\n",
      "L1: 0.0001, L2: 0.01\n",
      "P: (0.6423797977408481, 0.491448737670799, 0.5568685755299787)\n",
      "L1: 0.001, L2: 0.01\n",
      "P: (0.6467076700434153, 0.485250203601484, 0.5544641472367264)\n",
      "L1: 0.01, L2: 0.001\n",
      "P: (0.6250653348045764, 0.48696950502216996, 0.5474428422471453)\n",
      "L1: 0.01, L2: 0\n",
      "P: (0.6157954545454546, 0.4903628630893132, 0.5459674575588132)\n",
      "L1: 0.01, L2: 0.0001\n",
      "P: (0.615191319246145, 0.48737670799022714, 0.5438755932545694)\n",
      "L1: 0.0001, L2: 0.001\n",
      "P: (0.612351790031081, 0.48135915301782645, 0.5390110446853784)\n",
      "L1: 0.001, L2: 0.001\n",
      "P: (0.6286462456610438, 0.4670618043615962, 0.535939568569426)\n",
      "L1: 0.001, L2: 0.0001\n",
      "P: (0.601177336276674, 0.4805447470817121, 0.5341346274736604)\n",
      "L1: 0.001, L2: 0\n",
      "P: (0.5968381686310064, 0.4765632069495973, 0.5299622641509434)\n",
      "L1: 0.0001, L2: 0.0001\n",
      "P: (0.6174765663542181, 0.4530359243507375, 0.5226264418811003)\n",
      "L1: 0.0001, L2: 0\n",
      "P: (0.5994971264367817, 0.45308116912496604, 0.5161057568417255)\n"
     ]
    }
   ],
   "source": [
    "# Sort result\n",
    "sorted_result = sort_by_metric(grid_search_result, tag, metric='f1')\n",
    "print_result(sorted_result)"
   ]
  },
  {
   "cell_type": "markdown",
   "metadata": {},
   "source": [
    "Run CRF"
   ]
  },
  {
   "cell_type": "code",
   "execution_count": 19,
   "metadata": {
    "collapsed": true
   },
   "outputs": [],
   "source": [
    "# Set options\n",
    "num_iters = 100\n",
    "l1 = 1\n",
    "l2 = 0.01\n",
    "file_name = 'crf_results/{}'.format(features_name)"
   ]
  },
  {
   "cell_type": "code",
   "execution_count": 20,
   "metadata": {
    "collapsed": false
   },
   "outputs": [
    {
     "name": "stdout",
     "output_type": "stream",
     "text": [
      "Adding data...\n",
      "Training model...\n",
      "Done!\n",
      "--- 40.5949029922 seconds ---\n"
     ]
    }
   ],
   "source": [
    "# Run CRF\n",
    "start_time = time.time()\n",
    "crf_result = get_crf_results(train_features, train_tags, dev_features, dev_tags, num_iters, l1, l2, eval_tags,\n",
    "                             file_name=file_name, save=True)\n",
    "print(\"--- %s seconds ---\" % (time.time() - start_time))"
   ]
  },
  {
   "cell_type": "code",
   "execution_count": 21,
   "metadata": {
    "collapsed": false
   },
   "outputs": [
    {
     "name": "stdout",
     "output_type": "stream",
     "text": [
      "P: (0.746385029770343, 0.4764274726269116, 0.5816072908036454)\n"
     ]
    }
   ],
   "source": [
    "# Print result\n",
    "print_result(crf_result)"
   ]
  },
  {
   "cell_type": "markdown",
   "metadata": {},
   "source": [
    "Get model"
   ]
  },
  {
   "cell_type": "code",
   "execution_count": 22,
   "metadata": {
    "collapsed": false
   },
   "outputs": [],
   "source": [
    "# Get model from file\n",
    "tagger = get_tagger(file_name)"
   ]
  },
  {
   "cell_type": "code",
   "execution_count": 23,
   "metadata": {
    "collapsed": false
   },
   "outputs": [
    {
     "name": "stdout",
     "output_type": "stream",
     "text": [
      "Top likely transitions:\n",
      "P      -> P       1.919151\n",
      "None   -> None    1.913085\n",
      "None   -> P       -1.461767\n",
      "P      -> None    -3.301887\n",
      "\n",
      "Top positive:\n",
      "8.067807 None   word[0]:BACKGROUND\n",
      "5.761039 None   word[0]:PARTICIPANTS\n",
      "5.751301 None   word[0]:DESIGN\n",
      "5.359430 None   word[1]:Eleven\n",
      "5.032509 None   word[0]:PURPOSE\n",
      "4.428440 None   word[0]:INTERVENTIONS\n",
      "4.086487 None   word[1]:Nine\n",
      "4.025399 None   word[0]:Both\n",
      "4.017348 P      word[0]:nonsmokers.\n",
      "4.013344 P      word[0]:alcoholics\n",
      "3.990093 None   word[0]:However\n",
      "3.986556 P      word[-1]:PBSCT.\n",
      "3.864085 P      word[-1]:rowers\n",
      "3.673883 None   word[0]:SUBJECTS\n",
      "3.661661 None   word[0]:METHODS\n",
      "3.656098 None   word[1]:Fifty-four\n",
      "3.602765 None   word[0]:Using\n",
      "3.554243 None   word[0]:Overall\n",
      "3.546100 None   word[-1]:hypertension.\n",
      "3.532938 None   word[1]:Forty-six\n",
      "\n",
      "Top negative:\n",
      "-2.143282 None   word[-1]:brucellosis\n",
      "-2.159246 None   word[-1]:PARTICIPANTS\n",
      "-2.182490 None   word[0]:students\n",
      "-2.209057 None   word[-1]:learning.\n",
      "-2.211110 P      word[0]:treating\n",
      "-2.243012 P      word[0]:These\n",
      "-2.293500 P      word[0]:There\n",
      "-2.369861 P      word[-1]:volunteers.\n",
      "-2.390262 P      word[0]:In\n",
      "-2.414895 P      word[0]:?\n",
      "-2.420906 None   word[1]:PURPOSE\n",
      "-2.421263 P      word[1]:Twenty\n",
      "-2.435688 P      word[0]:They\n",
      "-2.482201 P      word[0]:This\n",
      "-2.587308 P      word[0]:The\n",
      "-2.635472 P      word[0]:We\n",
      "-2.957969 P      word[0]:OBJECTIVE\n",
      "-3.307164 P      word[0]:.\n",
      "-3.383534 P      word[0]:PATIENTS\n",
      "-3.661661 P      word[0]:METHODS\n"
     ]
    }
   ],
   "source": [
    "# For debug\n",
    "print_model_info(tagger)"
   ]
  },
  {
   "cell_type": "markdown",
   "metadata": {},
   "source": [
    "Predict tags"
   ]
  },
  {
   "cell_type": "code",
   "execution_count": 24,
   "metadata": {
    "collapsed": false
   },
   "outputs": [
    {
     "name": "stdout",
     "output_type": "stream",
     "text": [
      "dev:\n",
      "P: (0.746385029770343, 0.4764274726269116, 0.5816072908036454)\n",
      "train:\n",
      "P: (0.8331695473726805, 0.5432444656632409, 0.6576723882242891)\n",
      "test:\n",
      "P: (0.7552387740555951, 0.4816801527411583, 0.5882091706450538)\n"
     ]
    }
   ],
   "source": [
    "# Predict dev tags\n",
    "pred_dev_tags = predict_tags(tagger, dev_features)\n",
    "\n",
    "# Evaluate dev tags\n",
    "dev_result = evaluate_prediction(pred_dev_tags, dev_tags, eval_tags)\n",
    "print 'dev:'\n",
    "print_result(dev_result)\n",
    "sys.stdout.flush()\n",
    "\n",
    "# Predict train tags\n",
    "pred_train_tags = predict_tags(tagger, train_features)\n",
    "\n",
    "# Evaluate train tags\n",
    "train_result = evaluate_prediction(pred_train_tags, train_tags, eval_tags)\n",
    "print 'train:'\n",
    "print_result(train_result)\n",
    "sys.stdout.flush()\n",
    "\n",
    "# Predict test tags\n",
    "pred_test_tags = predict_tags(tagger, test_features)\n",
    "\n",
    "# Evaluate test tags\n",
    "test_result = evaluate_prediction(pred_test_tags, test_tags, eval_tags)\n",
    "print 'test:'\n",
    "print_result(test_result)\n",
    "sys.stdout.flush()"
   ]
  },
  {
   "cell_type": "markdown",
   "metadata": {},
   "source": [
    "K-fold evaluation"
   ]
  },
  {
   "cell_type": "code",
   "execution_count": 25,
   "metadata": {
    "collapsed": false
   },
   "outputs": [
    {
     "name": "stdout",
     "output_type": "stream",
     "text": [
      "On fold 0\n",
      "Adding data...\n",
      "Training model...\n",
      "Done!\n",
      "On fold 1\n",
      "Adding data...\n",
      "Training model...\n",
      "Done!\n",
      "On fold 2\n",
      "Adding data...\n",
      "Training model...\n",
      "Done!\n",
      "On fold 3\n",
      "Adding data...\n",
      "Training model...\n",
      "Done!\n",
      "On fold 4\n",
      "Adding data...\n",
      "Training model...\n",
      "Done!\n",
      "--- 162.671914816 seconds ---\n"
     ]
    }
   ],
   "source": [
    "# Run K-fold\n",
    "kfold_file_name = 'crf_results/{}_kfold'.format(features_name)\n",
    "\n",
    "start_time = time.time()\n",
    "kfold_result = get_kfold_results(train_features, train_tags, num_iters, l1, l2, eval_tags,\\\n",
    "                                 file_name=kfold_file_name, save=True)\n",
    "print(\"--- %s seconds ---\" % (time.time() - start_time))\n",
    "\n",
    "os.remove(kfold_file_name + '.model')"
   ]
  },
  {
   "cell_type": "code",
   "execution_count": 26,
   "metadata": {
    "collapsed": false,
    "scrolled": true
   },
   "outputs": [
    {
     "name": "stdout",
     "output_type": "stream",
     "text": [
      "Fold 0\n",
      "P: (0.743448275862069, 0.4230492510955589, 0.5392471549460169)\n",
      "Fold 1\n",
      "P: (0.7338930105427567, 0.4609724691887915, 0.5662636990170602)\n",
      "Fold 2\n",
      "P: (0.712115031613298, 0.4341311781162574, 0.5394152408172724)\n",
      "Fold 3\n",
      "P: (0.7171599922615592, 0.4529569892473118, 0.5552310342245188)\n",
      "Fold 4\n",
      "P: (0.7343669781291714, 0.46014282956958114, 0.565778023890515)\n",
      "Average\n",
      "P: (0.72819665768177089, 0.44625054344350013, 0.5531870305790767)\n"
     ]
    }
   ],
   "source": [
    "# Print all results\n",
    "print_result(kfold_result)"
   ]
  },
  {
   "cell_type": "code",
   "execution_count": 41,
   "metadata": {
    "collapsed": true
   },
   "outputs": [],
   "source": [
    "def print_with_spaces(l, spaces):\n",
    "    # This pads strings to be of space length and aligned left\n",
    "    formatter = lambda space: '{:' + str(space) + '}'\n",
    "    \n",
    "    for sublist in l:\n",
    "        print ''.join([formatter(space).format(string) for string, space in zip(sublist, spaces)])"
   ]
  },
  {
   "cell_type": "code",
   "execution_count": 55,
   "metadata": {
    "collapsed": false
   },
   "outputs": [
    {
     "name": "stdout",
     "output_type": "stream",
     "text": [
      "Netilmicin               None None \n",
      "in                       P    None \n",
      "the                      P    None \n",
      "neonate                  P    None \n",
      ":                        None None \n",
      "pharmacokinetic          None None \n",
      "analysis                 None None \n",
      "and                      None None \n",
      "influence                None None \n",
      "of                       None None \n",
      "parenteral               None None \n",
      "nutrition                None None \n",
      ".                        None None \n",
      "OBJECTIVE                None None \n",
      "The                      None None \n",
      "aim                      None None \n",
      "of                       None None \n",
      "this                     None None \n",
      "study                    None None \n",
      "was                      None None \n",
      "to                       None None \n",
      "investigate              None None \n",
      "the                      None None \n",
      "impact                   None None \n",
      "of                       None None \n",
      "parenteral               None None \n",
      "nutrition                None None \n",
      "on                       None None \n",
      "netilmicin               None None \n",
      "pharmacokinetics         None None \n",
      "in                       None None \n",
      "critically               P    P    \n",
      "ill                      P    P    \n",
      "neonates                 P    P    \n",
      "during                   P    P    \n",
      "the                      P    P    \n",
      "first                    P    P    \n",
      "week                     P    P    \n",
      "of                       P    P    \n",
      "life                     P    P    \n",
      ".                        None None \n",
      "METHOD                   None None \n",
      "A                        None None \n",
      "total                    None None \n",
      "of                       None None \n",
      "200                      P    None \n",
      "neonates                 P    None \n",
      "(                        P    None \n",
      "gestational              P    None \n",
      "ages                     P    None \n",
      "26.4-41                  P    None \n",
      "weeks                    P    None \n",
      ")                        P    None \n",
      "treated                  P    None \n",
      "with                     P    None \n",
      "netilmicin               P    None \n",
      "(                        P    None \n",
      "4-5                      P    None \n",
      "mg/kg                    P    None \n",
      "in                       P    None \n",
      "extended                 P    None \n",
      "dosing                   P    None \n",
      "intervals                P    None \n",
      ")                        P    None \n",
      "for                      P    None \n",
      "postnatal                P    None \n",
      "sepsis                   P    None \n",
      "in                       P    None \n",
      "the                      P    None \n",
      "first                    P    None \n",
      "week                     P    None \n",
      "of                       P    None \n",
      "life                     P    None \n",
      "received                 None None \n",
      "either                   None None \n",
      "fluid                    None None \n",
      "therapy                  None None \n",
      "or                       None None \n",
      "parenteral               None None \n",
      "nutrition.               None None \n",
      "Netilmicin               None None \n",
      "peak                     None None \n",
      "and                      None None \n",
      "trough                   None None \n",
      "serum                    None None \n",
      "concentrations           None None \n",
      "were                     None None \n",
      "monitored                None None \n",
      "and                      None None \n",
      "netilmicin               None None \n",
      "pharmacokinetic          None None \n",
      "parameters               None None \n",
      "were                     None None \n",
      "compared                 None None \n",
      "with                     None None \n",
      "and                      None None \n",
      "without                  None None \n",
      "parenteral               None None \n",
      "nutrition                None None \n",
      ".                        None None \n",
      "RESULTS                  None None \n",
      "There                    None None \n",
      "were                     None None \n",
      "no                       None None \n",
      "statistically            None None \n",
      "significant              None None \n",
      "differences              None None \n",
      "between                  None None \n",
      "the                      None None \n",
      "pharmacokinetic          None None \n",
      "parameters               None None \n",
      "of                       None None \n",
      "netilmicin               None None \n",
      "(                        None None \n",
      "volume                   None None \n",
      "of                       None None \n",
      "distribution             None None \n",
      ",                        None None \n",
      "elimination              None None \n",
      "half-life                None None \n",
      ",                        None None \n",
      "clearance                None None \n",
      ")                        None None \n",
      "in                       None None \n",
      "critically               P    P    \n",
      "ill                      P    P    \n",
      "neonates                 P    P    \n",
      ">                        P    P    \n",
      "32                       P    P    \n",
      "weeks                    P    P    \n",
      "during                   P    None \n",
      "the                      P    None \n",
      "first                    P    None \n",
      "week                     P    None \n",
      "of                       P    None \n",
      "life                     P    None \n",
      "that                     None None \n",
      "received                 None None \n",
      "either                   None None \n",
      "fluid                    None None \n",
      "therapy                  None None \n",
      "or                       None None \n",
      "parenteral               None None \n",
      "nutrition.               None None \n",
      "For                      None None \n",
      "neonates                 P    None \n",
      "<                        P    None \n",
      "32                       P    None \n",
      "weeks                    P    None \n",
      "this                     None None \n",
      "comparison               None None \n",
      "was                      None None \n",
      "not                      None None \n",
      "feasible                 None None \n",
      "as                       None None \n",
      "the                      None None \n",
      "majority                 None None \n",
      "were                     None None \n",
      "parenterally             None None \n",
      "fed                      None None \n",
      ".                        None None \n",
      "CONCLUSION               None None \n",
      "Provision                None None \n",
      "of                       None None \n",
      "parenteral               None None \n",
      "nutrition                None None \n",
      "(                        None None \n",
      "versus                   None None \n",
      "fluid                    None None \n",
      "therapy                  None None \n",
      ")                        None None \n",
      "in                       None None \n",
      "critically               P    P    \n",
      "ill                      P    P    \n",
      "neonates                 P    P    \n",
      ">                        P    P    \n",
      "32                       P    P    \n",
      "weeks                    P    P    \n",
      "did                      None None \n",
      "not                      None None \n",
      "significantly            None None \n",
      "affect                   None None \n",
      "netilmicin               None None \n",
      "pharmacokinetics         None None \n",
      "and                      None None \n",
      "therefore                None None \n",
      "does                     None None \n",
      "not                      None None \n",
      "require                  None None \n",
      "modification             None None \n",
      "of                       None None \n",
      "recommended              None None \n",
      "netilmicin               None None \n",
      "dosage                   None None \n",
      "regimens                 None None \n",
      ".                        None None \n"
     ]
    }
   ],
   "source": [
    "i = 2\n",
    "print_with_spaces(zip(dev_tokens[i], dev_tags[i], pred_dev_tags[i]), [25, 5, 5])"
   ]
  },
  {
   "cell_type": "code",
   "execution_count": null,
   "metadata": {
    "collapsed": true
   },
   "outputs": [],
   "source": []
  }
 ],
 "metadata": {
  "kernelspec": {
   "display_name": "Python 2",
   "language": "python",
   "name": "python2"
  },
  "language_info": {
   "codemirror_mode": {
    "name": "ipython",
    "version": 2
   },
   "file_extension": ".py",
   "mimetype": "text/x-python",
   "name": "python",
   "nbconvert_exporter": "python",
   "pygments_lexer": "ipython2",
   "version": "2.7.11"
  }
 },
 "nbformat": 4,
 "nbformat_minor": 0
}
