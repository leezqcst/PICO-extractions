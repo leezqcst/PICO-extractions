{
 "cells": [
  {
   "cell_type": "markdown",
   "metadata": {},
   "source": [
    "## CRF What's Wrong with Participants? --II"
   ]
  },
  {
   "cell_type": "code",
   "execution_count": 1,
   "metadata": {
    "collapsed": false
   },
   "outputs": [
    {
     "name": "stderr",
     "output_type": "stream",
     "text": [
      "/Users/Jing/anaconda/envs/tensorflow/lib/python2.7/site-packages/sklearn/cross_validation.py:44: DeprecationWarning: This module was deprecated in version 0.18 in favor of the model_selection module into which all the refactored classes and functions are moved. Also note that the interface of the new CV iterators are different from that of this module. This module will be removed in 0.20.\n",
      "  \"This module will be removed in 0.20.\", DeprecationWarning)\n",
      "/Users/Jing/anaconda/envs/tensorflow/lib/python2.7/site-packages/gensim/utils.py:1015: UserWarning: Pattern library is not installed, lemmatization won't be available.\n",
      "  warnings.warn(\"Pattern library is not installed, lemmatization won't be available.\")\n"
     ]
    }
   ],
   "source": [
    "from crf import *\n",
    "from preprocess_data import get_all_data_train\n",
    "import sys,os,pickle\n",
    "\n",
    "import os, time, pprint\n",
    "\n",
    "from features_generator import abstracts2features, get_genia_tags, sanity_check\n",
    "\n",
    "from gensim.models import Word2Vec"
   ]
  },
  {
   "cell_type": "code",
   "execution_count": 2,
   "metadata": {
    "collapsed": true
   },
   "outputs": [],
   "source": [
    "tag = 'P'\n",
    "eval_tags = [tag]\n",
    "sentence=True"
   ]
  },
  {
   "cell_type": "markdown",
   "metadata": {},
   "source": [
    "Get data"
   ]
  },
  {
   "cell_type": "code",
   "execution_count": 3,
   "metadata": {
    "collapsed": true
   },
   "outputs": [],
   "source": [
    "import os, pickle, sys\n",
    "from collections import defaultdict\n",
    "from preprocess_data import get_all_data_train, get_all_data_dev, get_all_data_test\n",
    "from gensim.models import Word2Vec\n",
    "\n",
    "# Directory for annotations\n",
    "directory = 'PICO-annotations/batch5k'\n",
    "\n",
    "# Suffixes for the generated files\n",
    "tokens_suffix = '_tokens.txt'\n",
    "genia_tags_suffix = '_genia.tag'\n",
    "\n",
    "def get_genia_tags(data_set,sentence=False, tokens=False, tags=False):\n",
    "    switcher = {\n",
    "        'train': 'PICO-annotations/train_abstracts.txt',\n",
    "        'dev': 'PICO-annotations/dev_abstracts.txt',\n",
    "        'test': 'PICO-annotations/test_abstracts.txt', \n",
    "    }\n",
    "    path = switcher[data_set];\n",
    "    abstract_file = open(path, 'r')\n",
    "    abstracts = abstract_file.readlines()\n",
    "    abstracts = [x.strip() for x in abstracts]\n",
    "    \n",
    "    genia_tags = []\n",
    "    sent_tokens =[]\n",
    "    sent_tags = []\n",
    "    \n",
    "    for i,abstract_path in enumerate(abstracts):\n",
    "        pickle_path = abstract_path[:-4] + genia_tags_suffix\n",
    "        pickle_file = open(pickle_path, 'rb')\n",
    "        abstract_genia_tags = pickle.load(pickle_file)\n",
    "        if sentence:\n",
    "            sentences_genia_tags = []\n",
    "            start = 0\n",
    "            end = 0\n",
    "            abstract_len =len(abstract_genia_tags)\n",
    "            tags_len = 0\n",
    "            for j,sent in enumerate(tokens[i]):\n",
    "                end = end+len(sent)\n",
    "                sentences_genia_tags=abstract_genia_tags[start:end]\n",
    "                \n",
    "                \n",
    "                genia_tags.append(sentences_genia_tags)\n",
    "                sent_tokens.append(sent)\n",
    "                sent_tags.append(tags[i][j])\n",
    "                \n",
    "                \n",
    "                start = start+len(sent)\n",
    "                tags_len = tags_len +len(sent)\n",
    "        else:\n",
    "            genia_tags.append(abstract_genia_tags)\n",
    "            \n",
    "    if sentence:\n",
    "        return sent_tokens,sent_tags,genia_tags\n",
    "    else:\n",
    "        return genia_tags\n",
    "    "
   ]
  },
  {
   "cell_type": "code",
   "execution_count": 4,
   "metadata": {
    "collapsed": false
   },
   "outputs": [],
   "source": [
    "# Get train data\n",
    "train_tokens, train_tags = get_all_data_train(sentences=sentence)\n",
    "train_tokens, train_tags,train_genia_tags = get_genia_tags('train',sentence=True,\\\n",
    "                                                           tokens=train_tokens,tags=train_tags)"
   ]
  },
  {
   "cell_type": "code",
   "execution_count": 5,
   "metadata": {
    "collapsed": false
   },
   "outputs": [],
   "source": [
    "# Get dev data\n",
    "dev_tokens, dev_tags = get_all_data_dev(sentences=sentence)\n",
    "dev_tokens, dev_tags,dev_genia_tags = get_genia_tags('dev',sentence=True,\\\n",
    "                                                     tokens=dev_tokens,\n",
    "                                                     tags=dev_tags)\n"
   ]
  },
  {
   "cell_type": "code",
   "execution_count": 6,
   "metadata": {
    "collapsed": false
   },
   "outputs": [],
   "source": [
    "# Get test data\n",
    "test_tokens, test_tags = get_all_data_test(sentences=sentence)\n",
    "test_tokens, test_tags,test_genia_tags = get_genia_tags('test',sentence=True, tokens=test_tokens,\n",
    "                                                     tags=test_tags)"
   ]
  },
  {
   "cell_type": "code",
   "execution_count": 7,
   "metadata": {
    "collapsed": false
   },
   "outputs": [
    {
     "data": {
      "text/plain": [
       "{(0.0001, 0.0001): [0.52634933593511524,\n",
       "  0.43697861157889167,\n",
       "  0.47715768242587625],\n",
       " (0.0001, 0.001): [0.55854056838367594,\n",
       "  0.44449206574046446,\n",
       "  0.49487034840599514],\n",
       " (0.0001, 0.01): [0.60911415766341093,\n",
       "  0.45603869820708953,\n",
       "  0.52143931607158778],\n",
       " (0.0001, 0.1): [0.68131797232957758,\n",
       "  0.46206041852235979,\n",
       "  0.55063603276601092],\n",
       " (0.0001, 1): [0.75078030989922828, 0.46865655460635064, 0.57696627029307224],\n",
       " (0.001, 0.0001): [0.54642052201828384,\n",
       "  0.43682664642721314,\n",
       "  0.48550355155305897],\n",
       " (0.001, 0.001): [0.55921956396949013,\n",
       "  0.44838277706991364,\n",
       "  0.49753169823310722],\n",
       " (0.001, 0.01): [0.61454398670159172,\n",
       "  0.45335926829725703,\n",
       "  0.52171860996215913],\n",
       " (0.001, 0.1): [0.68264718102813748, 0.4635564626920633, 0.55213785235848623],\n",
       " (0.001, 1): [0.75690910229299357, 0.46447865196054972, 0.57558528966335065],\n",
       " (0.01, 0.0001): [0.59386039484298236,\n",
       "  0.45955267946253187,\n",
       "  0.51803234679204246],\n",
       " (0.01, 0.001): [0.60655275609492665,\n",
       "  0.45538841751451431,\n",
       "  0.51992541944445925],\n",
       " (0.01, 0.01): [0.62719989572815038, 0.4614293291750482, 0.531649566720097],\n",
       " (0.01, 0.1): [0.6866779747836127, 0.46007116880368915, 0.55093861079320217],\n",
       " (0.01, 1): [0.75592777128782473, 0.46666965297944885, 0.57688448720854191],\n",
       " (0.1, 0.0001): [0.66978442635966151,\n",
       "  0.47944338875414005,\n",
       "  0.55881013023926573],\n",
       " (0.1, 0.001): [0.66396954242525952, 0.48207418966400634, 0.55854965913857046],\n",
       " (0.1, 0.01): [0.67706038651307909, 0.47990213976922619, 0.56165120140765856],\n",
       " (0.1, 0.1): [0.71106498397435391, 0.47664829928426872, 0.57059788420067992],\n",
       " (0.1, 1): [0.76080686793326435, 0.46424663226546226, 0.57660621250245825],\n",
       " (1, 0.0001): [0.75562605238209701, 0.48833541197931718, 0.59291979167542797],\n",
       " (1, 0.001): [0.75232800154351753, 0.49086301131524035, 0.59399947014146715],\n",
       " (1, 0.01): [0.755341285237773, 0.48950172625421334, 0.59399876979503496],\n",
       " (1, 0.1): [0.76171377391466144, 0.48125619912445528, 0.58950103298863965],\n",
       " (1, 1): [0.77239906429467153, 0.46868390968021267, 0.58325341504343053],\n",
       " ('l1_1', 'l2_0.001'): [0.7849944008958567,\n",
       "  0.5098645331393763,\n",
       "  0.6181998566940418],\n",
       " ('l1_1', 'l2_0.01'): [0.7873861247372109,\n",
       "  0.5107737067006092,\n",
       "  0.6196095731774568]}"
      ]
     },
     "execution_count": 7,
     "metadata": {},
     "output_type": "execute_result"
    }
   ],
   "source": [
    "feature_name='OneNegOneHot'\n",
    "file_name='crf_results/{}'.format(feature_name)\n",
    "f = open(file_name + '_results.txt','r')\n",
    "result=pickle.load(f)\n",
    "f.close()\n",
    "result"
   ]
  },
  {
   "cell_type": "code",
   "execution_count": null,
   "metadata": {
    "collapsed": true
   },
   "outputs": [],
   "source": [
    "# result of the one neg one hot, no other features\n",
    "\n",
    "dev:\n",
    "P: (0.746385029770343, 0.4764274726269116, 0.5816072908036454)\n",
    "train:\n",
    "P: (0.8331695473726805, 0.5432444656632409, 0.6576723882242891)\n",
    "test:\n",
    "P: (0.7552387740555951, 0.4816801527411583, 0.5882091706450538)"
   ]
  },
  {
   "cell_type": "code",
   "execution_count": 71,
   "metadata": {
    "collapsed": false
   },
   "outputs": [
    {
     "name": "stdout",
     "output_type": "stream",
     "text": [
      "dev:\n",
      "P: (0.7300115874855156, 0.48457153198805536, 0.58249258967177)\n",
      "train:\n",
      "P: (0.8660174963549261, 0.6268437319395934, 0.7272714021252714)\n",
      "test:\n",
      "P: (0.7339790367520234, 0.5029548140740068, 0.5968925334484247)\n"
     ]
    }
   ],
   "source": [
    "#one hot one neg , no other features  -- sentence level\n",
    "num_iters = 100\n",
    "l1 = 0.1\n",
    "l2 = 1\n",
    "\n",
    "options_string = 'left_neighbors=1 right_neighbors=1 one_hot one_hot_neighbors'\n",
    "\n",
    "w2v= False\n",
    "features_name = 'OneNeigSent'"
   ]
  },
  {
   "cell_type": "code",
   "execution_count": 85,
   "metadata": {
    "collapsed": false
   },
   "outputs": [
    {
     "name": "stdout",
     "output_type": "stream",
     "text": [
      "dev:\n",
      "P: (0.7343526039178213, 0.4867885259252556, 0.5854760155633554)\n",
      "train:\n",
      "P: (0.874067643463317, 0.6198331532527578, 0.7253173768901108)\n",
      "test:\n",
      "P: (0.7331300543550312, 0.5027729793617601, 0.5964836587207422)\n"
     ]
    }
   ],
   "source": [
    "#one hot one neg , no other features, W2V  -- sentence level\n",
    "num_iters = 100\n",
    "l1 = 0.1\n",
    "l2 = 1\n",
    "\n",
    "options_string = 'left_neighbors=1 right_neighbors=1 one_hot one_hot_neighbors w2v w2v_neighbors w2v_size=30'\n",
    "\n",
    "w2v= pubmed_w2v\n",
    "features_name = 'OneNeigSentw2v'"
   ]
  },
  {
   "cell_type": "code",
   "execution_count": 18,
   "metadata": {
    "collapsed": false
   },
   "outputs": [
    {
     "name": "stdout",
     "output_type": "stream",
     "text": [
      "dev:\n",
      "P: (0.7699750112129172, 0.543706451904805, 0.6373544777108914)\n",
      "train:\n",
      "P: (0.9433982501570568, 0.7735382063974672, 0.8500659270867131)\n",
      "test:\n",
      "P: (0.7835024720270621, 0.5475043185744158, 0.6445812148782446)\n"
     ]
    }
   ],
   "source": [
    "options_string = 'left_neighbors=3 right_neighbors=3 one_hot one_hot_neighbors \\\n",
    "inside_paren pos chunk iob named_entity \\\n",
    "inside_paren_neighbors pos_neighbors chunk_neighbors iob_neighbors named_entity_neighbors \\\n",
    "chunk_end chunk_end_neighbors same_chunk_neighbors \\\n",
    "w2v_model=pubmed_wiki w2v w2v_neighbors w2v_size=30 \\\n",
    "cosine_simil cosine_simil_neighbors \\\n",
    "isupper isupper_neighbors istitle istitle_neighbors'\n",
    "\n",
    "w2v= pubmed_wiki_w2v\n",
    "features_name = '3NeigSentBest8'\n",
    "\n",
    "# Set options\n",
    "num_iters = 200\n",
    "l1 = 0.1\n",
    "l2 = 1\n",
    "file_name = 'crf_results/{}'.format(features_name)"
   ]
  },
  {
   "cell_type": "code",
   "execution_count": 73,
   "metadata": {
    "collapsed": true
   },
   "outputs": [],
   "source": [
    "pubmed_w2v_name = 'PubMed-w2v.bin'\n",
    "\n",
    "# Load pubmed word2vec model (1-2 min)\n",
    "pubmed_w2v = Word2Vec.load_word2vec_format(pubmed_w2v_name, binary=True)"
   ]
  },
  {
   "cell_type": "code",
   "execution_count": 9,
   "metadata": {
    "collapsed": true
   },
   "outputs": [],
   "source": [
    "pubmed_wiki_w2v_name = 'wikipedia-pubmed-and-PMC-w2v.bin'\n",
    "pubmed_wiki_w2v = Word2Vec.load_word2vec_format(pubmed_wiki_w2v_name, binary=True)"
   ]
  },
  {
   "cell_type": "code",
   "execution_count": 10,
   "metadata": {
    "collapsed": false
   },
   "outputs": [],
   "source": [
    "# Set options\n",
    "big_options_string = 'left_neighbors=3 right_neighbors=3 inside_paren pos chunk iob named_entity \\\n",
    "inside_paren_neighbors pos_neighbors chunk_neighbors iob_neighbors named_entity_neighbors \\\n",
    "chunk_end chunk_end_neighbors same_chunk_neighbors \\\n",
    "one_hot one_hot_neighbors w2v_model=pubmed w2v w2v_neighbors w2v_size=10 cosine_simil cosine_simil_neighbors \\\n",
    "isupper isupper_neighbors istitle istitle_neighbors'\n",
    "\n",
    "options_string = 'left_neighbors=3 right_neighbors=3 one_hot one_hot_neighbors \\\n",
    "inside_paren pos chunk iob named_entity \\\n",
    "inside_paren_neighbors pos_neighbors chunk_neighbors iob_neighbors named_entity_neighbors \\\n",
    "chunk_end chunk_end_neighbors same_chunk_neighbors \\\n",
    "w2v_model=pubmed_wiki w2v w2v_neighbors w2v_size=30 \\\n",
    "cosine_simil cosine_simil_neighbors \\\n",
    "isupper isupper_neighbors istitle istitle_neighbors'\n",
    "\n",
    "w2v= pubmed_wiki_w2v\n",
    "features_name = '3NeigSentBest8'"
   ]
  },
  {
   "cell_type": "code",
   "execution_count": 11,
   "metadata": {
    "collapsed": false
   },
   "outputs": [
    {
     "name": "stdout",
     "output_type": "stream",
     "text": [
      "38481: ['The', 'shorter', 'and']\n"
     ]
    }
   ],
   "source": [
    "# Compute features for train\n",
    "train_features = abstracts2features(train_tokens, train_genia_tags, w2v=w2v, options_string=options_string)"
   ]
  },
  {
   "cell_type": "code",
   "execution_count": 12,
   "metadata": {
    "collapsed": false
   },
   "outputs": [
    {
     "name": "stdout",
     "output_type": "stream",
     "text": [
      "10999: ['aureus', 'was', 'greater']\n"
     ]
    }
   ],
   "source": [
    "# Compute features for dev\n",
    "dev_features = abstracts2features(dev_tokens, dev_genia_tags, w2v=w2v, options_string=options_string)"
   ]
  },
  {
   "cell_type": "code",
   "execution_count": null,
   "metadata": {
    "collapsed": false
   },
   "outputs": [
    {
     "name": "stdout",
     "output_type": "stream",
     "text": [
      "5651: ['This', 'paper', 'outlines']\n"
     ]
    }
   ],
   "source": [
    "# Compute features for test\n",
    "test_features = abstracts2features(test_tokens, test_genia_tags, w2v=w2v, options_string=options_string)"
   ]
  },
  {
   "cell_type": "code",
   "execution_count": null,
   "metadata": {
    "collapsed": false
   },
   "outputs": [],
   "source": [
    "# For debug\n",
    "sanity_check(train_features)"
   ]
  },
  {
   "cell_type": "markdown",
   "metadata": {},
   "source": [
    "Grid search"
   ]
  },
  {
   "cell_type": "code",
   "execution_count": null,
   "metadata": {
    "collapsed": false
   },
   "outputs": [],
   "source": [
    "# # # Run grid search\n",
    "# grid_file_name = 'crf_results/{}_grid'.format(features_name)\n",
    "# num_iters = 100\n",
    "# l1_list = [ 0.0001, 0.001, 0.01, 0.1, 1]\n",
    "# l2_list = [ 0.0001, 0.001, 0.01, 0.1, 1]\n",
    "\n",
    "# start_time = time.time()\n",
    "# grid_search_result = grid_search(train_features, train_tags, dev_features, dev_tags,\\\n",
    "#                                  num_iters, l1_list, l2_list, eval_tags, file_name=grid_file_name, save=True)\n",
    "# print(\"--- %s seconds ---\" % (time.time() - start_time))\n",
    "\n",
    "# os.remove(grid_file_name + '.model')"
   ]
  },
  {
   "cell_type": "code",
   "execution_count": null,
   "metadata": {
    "collapsed": false,
    "scrolled": true
   },
   "outputs": [],
   "source": [
    "# # Sort result\n",
    "# sorted_result = sort_by_metric(grid_search_result, tag, metric='f1')\n",
    "# print_result(sorted_result)"
   ]
  },
  {
   "cell_type": "markdown",
   "metadata": {},
   "source": [
    "Run CRF"
   ]
  },
  {
   "cell_type": "code",
   "execution_count": null,
   "metadata": {
    "collapsed": true
   },
   "outputs": [],
   "source": [
    "# Set options\n",
    "num_iters = 200\n",
    "l1 = 1\n",
    "l2 = 0.01\n",
    "file_name = 'crf_results/{}'.format(features_name)"
   ]
  },
  {
   "cell_type": "code",
   "execution_count": null,
   "metadata": {
    "collapsed": false
   },
   "outputs": [],
   "source": [
    "# Run CRF\n",
    "start_time = time.time()\n",
    "crf_result = get_crf_results(train_features, train_tags, dev_features, dev_tags, num_iters, l1, l2, eval_tags,\n",
    "                             file_name=file_name, save=True)\n",
    "print(\"--- %s seconds ---\" % (time.time() - start_time))"
   ]
  },
  {
   "cell_type": "code",
   "execution_count": null,
   "metadata": {
    "collapsed": false
   },
   "outputs": [],
   "source": [
    "# Print result\n",
    "print_result(crf_result)"
   ]
  },
  {
   "cell_type": "markdown",
   "metadata": {},
   "source": [
    "Get model"
   ]
  },
  {
   "cell_type": "code",
   "execution_count": null,
   "metadata": {
    "collapsed": false
   },
   "outputs": [],
   "source": [
    "# Get model from file\n",
    "\n",
    "# features_name = 'Feat7OneNeg'\n",
    "# file_name = 'crf_results/{}'.format(features_name)\n",
    "tagger = get_tagger(file_name)"
   ]
  },
  {
   "cell_type": "code",
   "execution_count": null,
   "metadata": {
    "collapsed": false
   },
   "outputs": [],
   "source": [
    "# For debug\n",
    "print_model_info(tagger)"
   ]
  },
  {
   "cell_type": "markdown",
   "metadata": {},
   "source": [
    "Predict tags"
   ]
  },
  {
   "cell_type": "code",
   "execution_count": null,
   "metadata": {
    "collapsed": false
   },
   "outputs": [],
   "source": [
    "# Predict dev tags\n",
    "pred_dev_tags = predict_tags(tagger, dev_features)\n",
    "\n",
    "# Evaluate dev tags\n",
    "dev_result = evaluate_prediction(pred_dev_tags, dev_tags, eval_tags)\n",
    "print 'dev:'\n",
    "print_result(dev_result)\n",
    "sys.stdout.flush()\n",
    "\n",
    "# Predict train tags\n",
    "pred_train_tags = predict_tags(tagger, train_features)\n",
    "\n",
    "# Evaluate train tags\n",
    "train_result = evaluate_prediction(pred_train_tags, train_tags, eval_tags)\n",
    "print 'train:'\n",
    "print_result(train_result)\n",
    "sys.stdout.flush()\n",
    "\n",
    "# Predict test tags\n",
    "pred_test_tags = predict_tags(tagger, test_features)\n",
    "\n",
    "# Evaluate test tags\n",
    "test_result = evaluate_prediction(pred_test_tags, test_tags, eval_tags)\n",
    "print 'test:'\n",
    "print_result(test_result)\n",
    "sys.stdout.flush()"
   ]
  },
  {
   "cell_type": "markdown",
   "metadata": {},
   "source": [
    "K-fold evaluation"
   ]
  },
  {
   "cell_type": "code",
   "execution_count": 25,
   "metadata": {
    "collapsed": false
   },
   "outputs": [
    {
     "name": "stdout",
     "output_type": "stream",
     "text": [
      "On fold 0\n",
      "Adding data...\n",
      "Training model...\n",
      "Done!\n",
      "On fold 1\n",
      "Adding data...\n",
      "Training model...\n",
      "Done!\n",
      "On fold 2\n",
      "Adding data...\n",
      "Training model...\n",
      "Done!\n",
      "On fold 3\n",
      "Adding data...\n",
      "Training model...\n",
      "Done!\n",
      "On fold 4\n",
      "Adding data...\n",
      "Training model...\n",
      "Done!\n",
      "--- 162.671914816 seconds ---\n"
     ]
    }
   ],
   "source": [
    "# Run K-fold\n",
    "kfold_file_name = 'crf_results/{}_kfold'.format(features_name)\n",
    "\n",
    "start_time = time.time()\n",
    "kfold_result = get_kfold_results(train_features, train_tags, num_iters, l1, l2, eval_tags,\\\n",
    "                                 file_name=kfold_file_name, save=True)\n",
    "print(\"--- %s seconds ---\" % (time.time() - start_time))\n",
    "\n",
    "os.remove(kfold_file_name + '.model')"
   ]
  },
  {
   "cell_type": "code",
   "execution_count": 26,
   "metadata": {
    "collapsed": false,
    "scrolled": true
   },
   "outputs": [
    {
     "name": "stdout",
     "output_type": "stream",
     "text": [
      "Fold 0\n",
      "P: (0.743448275862069, 0.4230492510955589, 0.5392471549460169)\n",
      "Fold 1\n",
      "P: (0.7338930105427567, 0.4609724691887915, 0.5662636990170602)\n",
      "Fold 2\n",
      "P: (0.712115031613298, 0.4341311781162574, 0.5394152408172724)\n",
      "Fold 3\n",
      "P: (0.7171599922615592, 0.4529569892473118, 0.5552310342245188)\n",
      "Fold 4\n",
      "P: (0.7343669781291714, 0.46014282956958114, 0.565778023890515)\n",
      "Average\n",
      "P: (0.72819665768177089, 0.44625054344350013, 0.5531870305790767)\n"
     ]
    }
   ],
   "source": [
    "# Print all results\n",
    "print_result(kfold_result)"
   ]
  },
  {
   "cell_type": "code",
   "execution_count": 41,
   "metadata": {
    "collapsed": true
   },
   "outputs": [],
   "source": [
    "def print_with_spaces(l, spaces):\n",
    "    # This pads strings to be of space length and aligned left\n",
    "    formatter = lambda space: '{:' + str(space) + '}'\n",
    "    \n",
    "    for sublist in l:\n",
    "        print ''.join([formatter(space).format(string) for string, space in zip(sublist, spaces)])"
   ]
  },
  {
   "cell_type": "code",
   "execution_count": 55,
   "metadata": {
    "collapsed": false
   },
   "outputs": [
    {
     "name": "stdout",
     "output_type": "stream",
     "text": [
      "Netilmicin               None None \n",
      "in                       P    None \n",
      "the                      P    None \n",
      "neonate                  P    None \n",
      ":                        None None \n",
      "pharmacokinetic          None None \n",
      "analysis                 None None \n",
      "and                      None None \n",
      "influence                None None \n",
      "of                       None None \n",
      "parenteral               None None \n",
      "nutrition                None None \n",
      ".                        None None \n",
      "OBJECTIVE                None None \n",
      "The                      None None \n",
      "aim                      None None \n",
      "of                       None None \n",
      "this                     None None \n",
      "study                    None None \n",
      "was                      None None \n",
      "to                       None None \n",
      "investigate              None None \n",
      "the                      None None \n",
      "impact                   None None \n",
      "of                       None None \n",
      "parenteral               None None \n",
      "nutrition                None None \n",
      "on                       None None \n",
      "netilmicin               None None \n",
      "pharmacokinetics         None None \n",
      "in                       None None \n",
      "critically               P    P    \n",
      "ill                      P    P    \n",
      "neonates                 P    P    \n",
      "during                   P    P    \n",
      "the                      P    P    \n",
      "first                    P    P    \n",
      "week                     P    P    \n",
      "of                       P    P    \n",
      "life                     P    P    \n",
      ".                        None None \n",
      "METHOD                   None None \n",
      "A                        None None \n",
      "total                    None None \n",
      "of                       None None \n",
      "200                      P    None \n",
      "neonates                 P    None \n",
      "(                        P    None \n",
      "gestational              P    None \n",
      "ages                     P    None \n",
      "26.4-41                  P    None \n",
      "weeks                    P    None \n",
      ")                        P    None \n",
      "treated                  P    None \n",
      "with                     P    None \n",
      "netilmicin               P    None \n",
      "(                        P    None \n",
      "4-5                      P    None \n",
      "mg/kg                    P    None \n",
      "in                       P    None \n",
      "extended                 P    None \n",
      "dosing                   P    None \n",
      "intervals                P    None \n",
      ")                        P    None \n",
      "for                      P    None \n",
      "postnatal                P    None \n",
      "sepsis                   P    None \n",
      "in                       P    None \n",
      "the                      P    None \n",
      "first                    P    None \n",
      "week                     P    None \n",
      "of                       P    None \n",
      "life                     P    None \n",
      "received                 None None \n",
      "either                   None None \n",
      "fluid                    None None \n",
      "therapy                  None None \n",
      "or                       None None \n",
      "parenteral               None None \n",
      "nutrition.               None None \n",
      "Netilmicin               None None \n",
      "peak                     None None \n",
      "and                      None None \n",
      "trough                   None None \n",
      "serum                    None None \n",
      "concentrations           None None \n",
      "were                     None None \n",
      "monitored                None None \n",
      "and                      None None \n",
      "netilmicin               None None \n",
      "pharmacokinetic          None None \n",
      "parameters               None None \n",
      "were                     None None \n",
      "compared                 None None \n",
      "with                     None None \n",
      "and                      None None \n",
      "without                  None None \n",
      "parenteral               None None \n",
      "nutrition                None None \n",
      ".                        None None \n",
      "RESULTS                  None None \n",
      "There                    None None \n",
      "were                     None None \n",
      "no                       None None \n",
      "statistically            None None \n",
      "significant              None None \n",
      "differences              None None \n",
      "between                  None None \n",
      "the                      None None \n",
      "pharmacokinetic          None None \n",
      "parameters               None None \n",
      "of                       None None \n",
      "netilmicin               None None \n",
      "(                        None None \n",
      "volume                   None None \n",
      "of                       None None \n",
      "distribution             None None \n",
      ",                        None None \n",
      "elimination              None None \n",
      "half-life                None None \n",
      ",                        None None \n",
      "clearance                None None \n",
      ")                        None None \n",
      "in                       None None \n",
      "critically               P    P    \n",
      "ill                      P    P    \n",
      "neonates                 P    P    \n",
      ">                        P    P    \n",
      "32                       P    P    \n",
      "weeks                    P    P    \n",
      "during                   P    None \n",
      "the                      P    None \n",
      "first                    P    None \n",
      "week                     P    None \n",
      "of                       P    None \n",
      "life                     P    None \n",
      "that                     None None \n",
      "received                 None None \n",
      "either                   None None \n",
      "fluid                    None None \n",
      "therapy                  None None \n",
      "or                       None None \n",
      "parenteral               None None \n",
      "nutrition.               None None \n",
      "For                      None None \n",
      "neonates                 P    None \n",
      "<                        P    None \n",
      "32                       P    None \n",
      "weeks                    P    None \n",
      "this                     None None \n",
      "comparison               None None \n",
      "was                      None None \n",
      "not                      None None \n",
      "feasible                 None None \n",
      "as                       None None \n",
      "the                      None None \n",
      "majority                 None None \n",
      "were                     None None \n",
      "parenterally             None None \n",
      "fed                      None None \n",
      ".                        None None \n",
      "CONCLUSION               None None \n",
      "Provision                None None \n",
      "of                       None None \n",
      "parenteral               None None \n",
      "nutrition                None None \n",
      "(                        None None \n",
      "versus                   None None \n",
      "fluid                    None None \n",
      "therapy                  None None \n",
      ")                        None None \n",
      "in                       None None \n",
      "critically               P    P    \n",
      "ill                      P    P    \n",
      "neonates                 P    P    \n",
      ">                        P    P    \n",
      "32                       P    P    \n",
      "weeks                    P    P    \n",
      "did                      None None \n",
      "not                      None None \n",
      "significantly            None None \n",
      "affect                   None None \n",
      "netilmicin               None None \n",
      "pharmacokinetics         None None \n",
      "and                      None None \n",
      "therefore                None None \n",
      "does                     None None \n",
      "not                      None None \n",
      "require                  None None \n",
      "modification             None None \n",
      "of                       None None \n",
      "recommended              None None \n",
      "netilmicin               None None \n",
      "dosage                   None None \n",
      "regimens                 None None \n",
      ".                        None None \n"
     ]
    }
   ],
   "source": [
    "i = 2\n",
    "print_with_spaces(zip(dev_tokens[i], dev_tags[i], pred_dev_tags[i]), [25, 5, 5])"
   ]
  },
  {
   "cell_type": "code",
   "execution_count": null,
   "metadata": {
    "collapsed": true
   },
   "outputs": [],
   "source": []
  }
 ],
 "metadata": {
  "kernelspec": {
   "display_name": "Python 2",
   "language": "python",
   "name": "python2"
  },
  "language_info": {
   "codemirror_mode": {
    "name": "ipython",
    "version": 2
   },
   "file_extension": ".py",
   "mimetype": "text/x-python",
   "name": "python",
   "nbconvert_exporter": "python",
   "pygments_lexer": "ipython2",
   "version": "2.7.12"
  }
 },
 "nbformat": 4,
 "nbformat_minor": 0
}
