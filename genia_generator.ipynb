{
 "cells": [
  {
   "cell_type": "code",
   "execution_count": 7,
   "metadata": {
    "collapsed": false
   },
   "outputs": [],
   "source": [
    "import os, pickle\n",
    "from geniatagger import GeniaTagger"
   ]
  },
  {
   "cell_type": "code",
   "execution_count": 8,
   "metadata": {
    "collapsed": true
   },
   "outputs": [],
   "source": [
    "# Directory for annotations\n",
    "directory = 'PICO-annotations/batch5k'\n",
    "\n",
    "# Directory for geniatagger\n",
    "genia_directory = 'geniatagger-3.0.2/geniatagger'\n",
    "\n",
    "tagger = GeniaTagger(genia_directory)\n",
    "\n",
    "# Suffix for the generated files\n",
    "tokens_suffix = '_tokens.txt'\n",
    "genia_tags_suffix = '_genia.tag'"
   ]
  },
  {
   "cell_type": "code",
   "execution_count": 6,
   "metadata": {
    "collapsed": false
   },
   "outputs": [
    {
     "name": "stdout",
     "output_type": "stream",
     "text": [
      "Randomised, placebo-controlled, double-blind clinical trial of beta-sitosterol in patients with benign prostatic hyperplasia. Beta-sitosterol Study Group.\n",
      "\n",
      "Medical treatments have become available for benign hypertrophy of the prostate, including alpha-receptor blocking agents and 5-alpha-reductase inhibitors. Drugs derived from plants, for which no precise mechanism of action has been described, are widely used for this purpose in Europe. In a randomised, double-blind, placebo-controlled multicentre study, 200 patients (recruited between April and October 1993) with symptomatic benign prostatic hyperplasia were treated with either 20 mg beta-sitosterol (which contains a mixture of phytosterols) three times per day or placebo. Primary end-point was a difference of modified Boyarsky score between treatment groups after 6 months; secondary end-points were changes in International Prostate Symptom Score (IPSS), urine flow, and prostate volume. Modified Boyarsky score decreased significantly with a mean of -6.7 (SD 4.0) points in the beta-sitosterol-treated group versus -2.1 (3.2) points in the placebo group p < 0.01. There was a decrease in IPSS (-7.4 [3.8] points in the beta-sitosterol-treated group vs -2.1 [3.8] points in the placebo group) and changes in urine flow parameters: beta-sitosterol treatment resulted in increasing peak flow (15.2 [5.7] mL/s from 9.9 [2.5] mL/s), and decrease of mean residual urinary volume (30.4 [39.9] mL from 65.8 [20.8] mL). These parameters did not change in the placebo group (p < 0.01). No relevant reduction of prostatic volume was observed in either group. Significant improvement in symptoms and urinary flow parameters show the effectiveness of beta-sitosterol in the treatment of benign prostatic hyperplasia.\n",
      "\n",
      "\n",
      "[('Randomised', 'Randomise', 'VBN', 'B-NP', 'O'), (',', ',', ',', 'I-NP', 'O'), ('placebo-controlled', 'placebo-controlled', 'JJ', 'I-NP', 'O'), (',', ',', ',', 'I-NP', 'O'), ('double-blind', 'double-blind', 'JJ', 'I-NP', 'O'), ('clinical', 'clinical', 'JJ', 'I-NP', 'O'), ('trial', 'trial', 'NN', 'I-NP', 'O'), ('of', 'of', 'IN', 'B-PP', 'O'), ('beta-sitosterol', 'beta-sitosterol', 'NN', 'B-NP', 'O'), ('in', 'in', 'IN', 'B-PP', 'O'), ('patients', 'patient', 'NNS', 'B-NP', 'O'), ('with', 'with', 'IN', 'B-PP', 'O'), ('benign', 'benign', 'JJ', 'B-NP', 'O'), ('prostatic', 'prostatic', 'JJ', 'I-NP', 'O'), ('hyperplasia.', 'hyperplasia.', 'NN', 'I-NP', 'O'), ('Beta-sitosterol', 'Beta-sitosterol', 'NNP', 'I-NP', 'O'), ('Study', 'Study', 'NNP', 'I-NP', 'O'), ('Group', 'Group', 'NNP', 'I-NP', 'O'), ('.', '.', '.', 'O', 'O'), ('Medical', 'Medical', 'JJ', 'B-NP', 'O'), ('treatments', 'treatment', 'NNS', 'I-NP', 'O'), ('have', 'have', 'VBP', 'B-VP', 'O'), ('become', 'become', 'VBN', 'I-VP', 'O'), ('available', 'available', 'JJ', 'B-ADJP', 'O'), ('for', 'for', 'IN', 'B-PP', 'O'), ('benign', 'benign', 'JJ', 'B-NP', 'O'), ('hypertrophy', 'hypertrophy', 'NN', 'I-NP', 'O'), ('of', 'of', 'IN', 'B-PP', 'O'), ('the', 'the', 'DT', 'B-NP', 'O'), ('prostate', 'prostate', 'NN', 'I-NP', 'O'), (',', ',', ',', 'O', 'O'), ('including', 'include', 'VBG', 'B-PP', 'O'), ('alpha-receptor', 'alpha-receptor', 'NN', 'B-NP', 'B-protein'), ('blocking', 'block', 'VBG', 'B-VP', 'O'), ('agents', 'agent', 'NNS', 'B-NP', 'O'), ('and', 'and', 'CC', 'O', 'O'), ('5-alpha-reductase', '5-alpha-reductase', 'NN', 'B-NP', 'O'), ('inhibitors.', 'inhibitors.', 'NN', 'I-NP', 'O'), ('Drugs', 'Drug', 'NNS', 'I-NP', 'O'), ('derived', 'derive', 'VBN', 'B-VP', 'O'), ('from', 'from', 'IN', 'B-PP', 'O'), ('plants', 'plant', 'NNS', 'B-NP', 'O'), (',', ',', ',', 'O', 'O'), ('for', 'for', 'IN', 'B-PP', 'O'), ('which', 'which', 'WDT', 'B-NP', 'O'), ('no', 'no', 'DT', 'B-NP', 'O'), ('precise', 'precise', 'JJ', 'I-NP', 'O'), ('mechanism', 'mechanism', 'NN', 'I-NP', 'O'), ('of', 'of', 'IN', 'B-PP', 'O'), ('action', 'action', 'NN', 'B-NP', 'O'), ('has', 'have', 'VBZ', 'B-VP', 'O'), ('been', 'be', 'VBN', 'I-VP', 'O'), ('described', 'describe', 'VBN', 'I-VP', 'O'), (',', ',', ',', 'O', 'O'), ('are', 'be', 'VBP', 'B-VP', 'O'), ('widely', 'widely', 'RB', 'I-VP', 'O'), ('used', 'use', 'VBN', 'I-VP', 'O'), ('for', 'for', 'IN', 'B-PP', 'O'), ('this', 'this', 'DT', 'B-NP', 'O'), ('purpose', 'purpose', 'NN', 'I-NP', 'O'), ('in', 'in', 'IN', 'B-PP', 'O'), ('Europe.', 'Europe.', 'NNP', 'B-NP', 'O'), ('In', 'In', 'IN', 'B-PP', 'O'), ('a', 'a', 'DT', 'B-NP', 'O'), ('randomised', 'randomise', 'VBN', 'I-NP', 'O'), (',', ',', ',', 'I-NP', 'O'), ('double-blind', 'double-blind', 'JJ', 'I-NP', 'O'), (',', ',', ',', 'I-NP', 'O'), ('placebo-controlled', 'placebo-controlled', 'JJ', 'I-NP', 'O'), ('multicentre', 'multicentre', 'JJ', 'I-NP', 'O'), ('study', 'study', 'NN', 'I-NP', 'O'), (',', ',', ',', 'O', 'O'), ('200', '200', 'CD', 'B-NP', 'O'), ('patients', 'patient', 'NNS', 'I-NP', 'O'), ('(', '(', '(', 'O', 'O'), ('recruited', 'recruit', 'VBN', 'B-VP', 'O'), ('between', 'between', 'IN', 'B-PP', 'O'), ('April', 'April', 'NNP', 'B-NP', 'O'), ('and', 'and', 'CC', 'I-NP', 'O'), ('October', 'October', 'NNP', 'I-NP', 'O'), ('1993', '1993', 'CD', 'I-NP', 'O'), (')', ')', ')', 'O', 'O'), ('with', 'with', 'IN', 'B-PP', 'O'), ('symptomatic', 'symptomatic', 'JJ', 'B-NP', 'O'), ('benign', 'benign', 'JJ', 'I-NP', 'O'), ('prostatic', 'prostatic', 'JJ', 'I-NP', 'O'), ('hyperplasia', 'hyperplasia', 'NN', 'I-NP', 'O'), ('were', 'be', 'VBD', 'B-VP', 'O'), ('treated', 'treat', 'VBN', 'I-VP', 'O'), ('with', 'with', 'IN', 'B-PP', 'O'), ('either', 'either', 'CC', 'B-NP', 'O'), ('20', '20', 'CD', 'I-NP', 'O'), ('mg', 'mg', 'NN', 'I-NP', 'O'), ('beta-sitosterol', 'beta-sitosterol', 'NN', 'I-NP', 'O'), ('(', '(', '(', 'O', 'O'), ('which', 'which', 'WDT', 'B-NP', 'O'), ('contains', 'contain', 'VBZ', 'B-VP', 'O'), ('a', 'a', 'DT', 'B-NP', 'O'), ('mixture', 'mixture', 'NN', 'I-NP', 'O'), ('of', 'of', 'IN', 'B-PP', 'O'), ('phytosterols', 'phytosterol', 'NNS', 'B-NP', 'O'), (')', ')', ')', 'O', 'O'), ('three', 'three', 'CD', 'B-NP', 'O'), ('times', 'time', 'NNS', 'I-NP', 'O'), ('per', 'per', 'IN', 'B-PP', 'O'), ('day', 'day', 'NN', 'B-NP', 'O'), ('or', 'or', 'CC', 'O', 'O'), ('placebo.', 'placebo.', 'NN', 'B-NP', 'O'), ('Primary', 'Primary', 'JJ', 'I-NP', 'O'), ('end-point', 'end-point', 'NN', 'I-NP', 'O'), ('was', 'be', 'VBD', 'B-VP', 'O'), ('a', 'a', 'DT', 'B-NP', 'O'), ('difference', 'difference', 'NN', 'I-NP', 'O'), ('of', 'of', 'IN', 'B-PP', 'O'), ('modified', 'modify', 'VBN', 'B-NP', 'O'), ('Boyarsky', 'Boyarsky', 'NNP', 'I-NP', 'O'), ('score', 'score', 'NN', 'I-NP', 'O'), ('between', 'between', 'IN', 'B-PP', 'O'), ('treatment', 'treatment', 'NN', 'B-NP', 'O'), ('groups', 'group', 'NNS', 'I-NP', 'O'), ('after', 'after', 'IN', 'B-PP', 'O'), ('6', '6', 'CD', 'B-NP', 'O'), ('months', 'month', 'NNS', 'I-NP', 'O'), (';', ';', ':', 'O', 'O'), ('secondary', 'secondary', 'JJ', 'B-NP', 'O'), ('end-points', 'end-point', 'NNS', 'I-NP', 'O'), ('were', 'be', 'VBD', 'B-VP', 'O'), ('changes', 'change', 'NNS', 'B-NP', 'O'), ('in', 'in', 'IN', 'B-PP', 'O'), ('International', 'International', 'NNP', 'B-NP', 'O'), ('Prostate', 'Prostate', 'NNP', 'I-NP', 'O'), ('Symptom', 'Symptom', 'NNP', 'I-NP', 'O'), ('Score', 'Score', 'NN', 'I-NP', 'O'), ('(', '(', '(', 'O', 'O'), ('IPSS', 'IPSS', 'NN', 'B-NP', 'B-protein'), (')', ')', ')', 'O', 'O'), (',', ',', ',', 'O', 'O'), ('urine', 'urine', 'NN', 'B-NP', 'O'), ('flow', 'flow', 'NN', 'I-NP', 'O'), (',', ',', ',', 'O', 'O'), ('and', 'and', 'CC', 'O', 'O'), ('prostate', 'prostate', 'NN', 'B-NP', 'O'), ('volume.', 'volume.', 'NN', 'I-NP', 'O'), ('Modified', 'Modified', 'NNP', 'I-NP', 'O'), ('Boyarsky', 'Boyarsky', 'NNP', 'I-NP', 'O'), ('score', 'score', 'NN', 'I-NP', 'O'), ('decreased', 'decrease', 'VBD', 'B-VP', 'O'), ('significantly', 'significantly', 'RB', 'B-ADVP', 'O'), ('with', 'with', 'IN', 'B-PP', 'O'), ('a', 'a', 'DT', 'B-NP', 'O'), ('mean', 'mean', 'NN', 'I-NP', 'O'), ('of', 'of', 'IN', 'B-PP', 'O'), ('-6.7', '-6.7', 'CD', 'B-NP', 'O'), ('(', '(', '(', 'O', 'O'), ('SD', 'SD', 'NN', 'B-NP', 'O'), ('4.0', '4.0', 'CD', 'I-NP', 'O'), (')', ')', ')', 'O', 'O'), ('points', 'point', 'NNS', 'B-NP', 'O'), ('in', 'in', 'IN', 'B-PP', 'O'), ('the', 'the', 'DT', 'B-NP', 'O'), ('beta-sitosterol-treated', 'beta-sitosterol-treated', 'JJ', 'I-NP', 'O'), ('group', 'group', 'NN', 'I-NP', 'O'), ('versus', 'versus', 'IN', 'B-PP', 'O'), ('-2.1', '-2.1', 'CD', 'B-NP', 'O'), ('(', '(', '(', 'O', 'O'), ('3.2', '3.2', 'CD', 'B-NP', 'O'), (')', ')', ')', 'O', 'O'), ('points', 'point', 'NNS', 'B-NP', 'O'), ('in', 'in', 'IN', 'B-PP', 'O'), ('the', 'the', 'DT', 'B-NP', 'O'), ('placebo', 'placebo', 'NN', 'I-NP', 'O'), ('group', 'group', 'NN', 'I-NP', 'O'), ('p', 'p', 'NN', 'I-NP', 'O'), ('<', '<', 'SYM', 'B-NP', 'O'), ('0.01.', '0.01.', 'CD', 'I-NP', 'O'), ('There', 'There', 'EX', 'B-NP', 'O'), ('was', 'be', 'VBD', 'B-VP', 'O'), ('a', 'a', 'DT', 'B-NP', 'O'), ('decrease', 'decrease', 'NN', 'I-NP', 'O'), ('in', 'in', 'IN', 'B-PP', 'O'), ('IPSS', 'IPSS', 'NN', 'B-NP', 'O'), ('(', '(', '(', 'O', 'O'), ('-7.4', '-7.4', 'CD', 'B-NP', 'O'), ('[', '[', '(', 'O', 'O'), ('3.8', '3.8', 'CD', 'O', 'O'), (']', ']', ')', 'O', 'O'), ('points', 'point', 'NNS', 'B-NP', 'O'), ('in', 'in', 'IN', 'B-PP', 'O'), ('the', 'the', 'DT', 'B-NP', 'O'), ('beta-sitosterol-treated', 'beta-sitosterol-treated', 'JJ', 'I-NP', 'O'), ('group', 'group', 'NN', 'I-NP', 'O'), ('vs', 'vs', 'IN', 'B-PP', 'O'), ('-2.1', '-2.1', 'CD', 'B-NP', 'O'), ('[', '[', '(', 'O', 'O'), ('3.8', '3.8', 'CD', 'O', 'O'), (']', ']', ')', 'O', 'O'), ('points', 'point', 'NNS', 'B-NP', 'O'), ('in', 'in', 'IN', 'B-PP', 'O'), ('the', 'the', 'DT', 'B-NP', 'O'), ('placebo', 'placebo', 'NN', 'I-NP', 'O'), ('group', 'group', 'NN', 'I-NP', 'O'), (')', ')', ')', 'O', 'O'), ('and', 'and', 'CC', 'O', 'O'), ('changes', 'change', 'NNS', 'B-NP', 'O'), ('in', 'in', 'IN', 'B-PP', 'O'), ('urine', 'urine', 'NN', 'B-NP', 'O'), ('flow', 'flow', 'NN', 'I-NP', 'O'), ('parameters', 'parameter', 'NNS', 'I-NP', 'O'), (':', ':', ':', 'O', 'O'), ('beta-sitosterol', 'beta-sitosterol', 'NN', 'B-NP', 'O'), ('treatment', 'treatment', 'NN', 'I-NP', 'O'), ('resulted', 'result', 'VBD', 'B-VP', 'O'), ('in', 'in', 'IN', 'B-PP', 'O'), ('increasing', 'increase', 'VBG', 'B-VP', 'O'), ('peak', 'peak', 'JJ', 'B-NP', 'O'), ('flow', 'flow', 'NN', 'I-NP', 'O'), ('(', '(', '(', 'O', 'O'), ('15.2', '15.2', 'CD', 'B-NP', 'O'), ('[', '[', '(', 'O', 'O'), ('5.7', '5.7', 'CD', 'O', 'O'), (']', ']', ')', 'O', 'O'), ('mL/s', 'mL/', 'NNS', 'B-NP', 'O'), ('from', 'from', 'IN', 'B-PP', 'O'), ('9.9', '9.9', 'CD', 'B-NP', 'O'), ('[', '[', '(', 'O', 'O'), ('2.5', '2.5', 'CD', 'O', 'O'), (']', ']', ')', 'O', 'O'), ('mL/s', 'mL/', 'NNS', 'B-NP', 'O'), (')', ')', ')', 'O', 'O'), (',', ',', ',', 'O', 'O'), ('and', 'and', 'CC', 'O', 'O'), ('decrease', 'decrease', 'NN', 'B-NP', 'O'), ('of', 'of', 'IN', 'B-PP', 'O'), ('mean', 'mean', 'JJ', 'B-NP', 'O'), ('residual', 'residual', 'JJ', 'I-NP', 'O'), ('urinary', 'urinary', 'JJ', 'I-NP', 'O'), ('volume', 'volume', 'NN', 'I-NP', 'O'), ('(', '(', '(', 'O', 'O'), ('30.4', '30.4', 'CD', 'B-NP', 'O'), ('[', '[', '(', 'O', 'O'), ('39.9', '39.9', 'CD', 'O', 'O'), (']', ']', ')', 'O', 'O'), ('mL', 'mL', 'NN', 'B-NP', 'O'), ('from', 'from', 'IN', 'B-PP', 'O'), ('65.8', '65.8', 'CD', 'B-NP', 'O'), ('[', '[', '(', 'O', 'O'), ('20.8', '20.8', 'CD', 'O', 'O'), (']', ']', ')', 'O', 'O'), ('mL', 'mL', 'NN', 'B-NP', 'O'), (')', ')', ')', 'O', 'O'), ('.', '.', '.', 'O', 'O'), ('These', 'These', 'DT', 'B-NP', 'O'), ('parameters', 'parameter', 'NNS', 'I-NP', 'O'), ('did', 'do', 'VBD', 'B-VP', 'O'), ('not', 'not', 'RB', 'I-VP', 'O'), ('change', 'change', 'VB', 'I-VP', 'O'), ('in', 'in', 'IN', 'B-PP', 'O'), ('the', 'the', 'DT', 'B-NP', 'O'), ('placebo', 'placebo', 'NN', 'I-NP', 'O'), ('group', 'group', 'NN', 'I-NP', 'O'), ('(', '(', '(', 'O', 'O'), ('p', 'p', 'NN', 'B-NP', 'O'), ('<', '<', 'SYM', 'O', 'O'), ('0.01', '0.01', 'CD', 'B-NP', 'O'), (')', ')', ')', 'O', 'O'), ('.', '.', '.', 'O', 'O'), ('No', 'No', 'DT', 'B-NP', 'O'), ('relevant', 'relevant', 'JJ', 'I-NP', 'O'), ('reduction', 'reduction', 'NN', 'I-NP', 'O'), ('of', 'of', 'IN', 'B-PP', 'O'), ('prostatic', 'prostatic', 'JJ', 'B-NP', 'O'), ('volume', 'volume', 'NN', 'I-NP', 'O'), ('was', 'be', 'VBD', 'B-VP', 'O'), ('observed', 'observe', 'VBN', 'I-VP', 'O'), ('in', 'in', 'IN', 'B-PP', 'O'), ('either', 'either', 'CC', 'O', 'O'), ('group.', 'group.', 'NN', 'B-NP', 'O'), ('Significant', 'Significant', 'JJ', 'I-NP', 'O'), ('improvement', 'improvement', 'NN', 'I-NP', 'O'), ('in', 'in', 'IN', 'B-PP', 'O'), ('symptoms', 'symptom', 'NNS', 'B-NP', 'O'), ('and', 'and', 'CC', 'O', 'O'), ('urinary', 'urinary', 'JJ', 'B-NP', 'O'), ('flow', 'flow', 'NN', 'I-NP', 'O'), ('parameters', 'parameter', 'NNS', 'I-NP', 'O'), ('show', 'show', 'VBP', 'B-VP', 'O'), ('the', 'the', 'DT', 'B-NP', 'O'), ('effectiveness', 'effectiveness', 'NN', 'I-NP', 'O'), ('of', 'of', 'IN', 'B-PP', 'O'), ('beta-sitosterol', 'beta-sitosterol', 'NN', 'B-NP', 'O'), ('in', 'in', 'IN', 'B-PP', 'O'), ('the', 'the', 'DT', 'B-NP', 'O'), ('treatment', 'treatment', 'NN', 'I-NP', 'O'), ('of', 'of', 'IN', 'B-PP', 'O'), ('benign', 'benign', 'JJ', 'B-NP', 'O'), ('prostatic', 'prostatic', 'JJ', 'I-NP', 'O'), ('hyperplasia', 'hyperplasia', 'NN', 'I-NP', 'O'), ('.', '.', '.', 'O', 'O')]\n"
     ]
    }
   ],
   "source": [
    "DEBUG = True\n",
    "\n",
    "# For each subdirectory\n",
    "for subdir in os.listdir(directory):\n",
    "    subdir_path = directory + '/' + subdir\n",
    "    \n",
    "    # Not a directory\n",
    "    if not os.path.isdir(subdir_path):\n",
    "        continue\n",
    "    \n",
    "    # For each abstract in subdirectory\n",
    "    for abstract in os.listdir(subdir_path):\n",
    "        if abstract[-4:] == '.txt' and (not abstract[-10:] == input_suffix):\n",
    "            abstract_index = abstract[:-4]\n",
    "            \n",
    "            if DEBUG:\n",
    "                if abstract_index != '7540705':\n",
    "                    continue\n",
    "            \n",
    "            # First get the abstract text\n",
    "            abstract_file = open(subdir_path + '/' + abstract)\n",
    "            abstract_text = abstract_file.read()\n",
    "            abstract_file.close()\n",
    "            \n",
    "            if DEBUG:\n",
    "                print abstract_text\n",
    "            \n",
    "            # Get tags from genia tagger\n",
    "            # Format: [(Association, Association, NN, B-NP, O), ...]\n",
    "            # Visualization here: http://nactem7.mib.man.ac.uk/geniatagger/\n",
    "            genia_tags = tagger.parse(abstract_text)\n",
    "            \n",
    "            if DEBUG:\n",
    "                print genia_tags"
   ]
  },
  {
   "cell_type": "code",
   "execution_count": null,
   "metadata": {
    "collapsed": true
   },
   "outputs": [],
   "source": []
  }
 ],
 "metadata": {
  "kernelspec": {
   "display_name": "Python 2",
   "language": "python",
   "name": "python2"
  },
  "language_info": {
   "codemirror_mode": {
    "name": "ipython",
    "version": 2
   },
   "file_extension": ".py",
   "mimetype": "text/x-python",
   "name": "python",
   "nbconvert_exporter": "python",
   "pygments_lexer": "ipython2",
   "version": "2.7.11"
  }
 },
 "nbformat": 4,
 "nbformat_minor": 0
}
